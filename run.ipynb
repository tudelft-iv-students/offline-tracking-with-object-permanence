{
 "cells": [
  {
   "cell_type": "code",
   "execution_count": 2,
   "id": "0f5b63fd",
   "metadata": {},
   "outputs": [
    {
     "name": "stdout",
     "output_type": "stream",
     "text": [
      "2022-09-18 14:23:55.509048: I tensorflow/core/platform/cpu_feature_guard.cc:193] This TensorFlow binary is optimized with oneAPI Deep Neural Network Library (oneDNN) to use the following CPU instructions in performance-critical operations:  AVX2 FMA\n",
      "To enable them in other operations, rebuild TensorFlow with the appropriate compiler flags.\n",
      "2022-09-18 14:23:55.766655: E tensorflow/stream_executor/cuda/cuda_blas.cc:2981] Unable to register cuBLAS factory: Attempting to register factory for plugin cuBLAS when one has already been registered\n",
      "2022-09-18 14:23:56.643256: W tensorflow/stream_executor/platform/default/dso_loader.cc:64] Could not load dynamic library 'libnvinfer.so.7'; dlerror: libnvinfer.so.7: cannot open shared object file: No such file or directory; LD_LIBRARY_PATH: /home/stanliu/.local/lib/python3.7/site-packages/cv2/../../lib64:\n",
      "2022-09-18 14:23:56.643378: W tensorflow/stream_executor/platform/default/dso_loader.cc:64] Could not load dynamic library 'libnvinfer_plugin.so.7'; dlerror: libnvinfer_plugin.so.7: cannot open shared object file: No such file or directory; LD_LIBRARY_PATH: /home/stanliu/.local/lib/python3.7/site-packages/cv2/../../lib64:\n",
      "2022-09-18 14:23:56.643397: W tensorflow/compiler/tf2tensorrt/utils/py_utils.cc:38] TF-TRT Warning: Cannot dlopen some TensorRT libraries. If you would like to use Nvidia GPU with TensorRT, please make sure the missing libraries mentioned above are installed properly.\n",
      "2022-09-18 14:24:01,620\tINFO worker.py:1518 -- Started a local Ray instance.\n",
      "======\n",
      "Loading NuScenes tables for version v1.0-trainval...\n",
      "23 category,\n",
      "8 attribute,\n",
      "4 visibility,\n",
      "64386 instance,\n",
      "12 sensor,\n",
      "10200 calibrated_sensor,\n",
      "2631083 ego_pose,\n",
      "68 log,\n",
      "850 scene,\n",
      "34149 sample,\n",
      "2631083 sample_data,\n",
      "1166187 sample_annotation,\n",
      "4 map,\n",
      "Done loading in 41.106 seconds.\n",
      "======\n",
      "Reverse indexing ...\n",
      "Done reverse indexing in 10.9 seconds.\n",
      "======\n",
      "Evaluating: [                    ] 0.00 %  [                    ] 0.18 %  [                    ] 0.35 %  [                    ] 0.53 %  [                    ] 0.71 %  [                    ] 0.88 %  [                    ] 1.06 %  [                    ] 1.24 %  [                    ] 1.41 %  [                    ] 1.59 %  [                    ] 1.77 %  [                    ] 1.94 %  [                    ] 2.12 %  [                    ] 2.30 %  [                    ] 2.47 %  [                    ] 2.65 %  [                    ] 2.83 %  [                    ] 3.00 %  [                    ] 3.18 %  [                    ] 3.36 %  [                    ] 3.53 %  [                    ] 3.71 %  [                    ] 3.89 %  [                    ] 4.06 %  [                    ] 4.24 %  [                    ] 4.42 %  [                    ] 4.59 %  [                    ] 4.77 %  [                    ] 4.95 %  [=                   ] 5.12 %  [=                   ] 5.30 %  [=                   ] 5.48 %  [=                   ] 5.65 %  [=                   ] 5.83 %  [=                   ] 6.01 %  [=                   ] 6.18 %  [=                   ] 6.36 %  [=                   ] 6.54 %  [=                   ] 6.71 %  [=                   ] 6.89 %  [=                   ] 7.07 %  [=                   ] 7.24 %  [=                   ] 7.42 %  [=                   ] 7.60 %  [=                   ] 7.77 %  [=                   ] 7.95 %  [=                   ] 8.13 %  [=                   ] 8.30 %  [=                   ] 8.48 %  [=                   ] 8.66 %  [=                   ] 8.83 %  [=                   ] 9.01 %  [=                   ] 9.19 %  [=                   ] 9.36 %  [=                   ] 9.54 %  [=                   ] 9.72 %  [=                   ] 9.89 %  [==                  ] 10.07 %  [==                  ] 10.25 %  [==                  ] 10.42 %  [==                  ] 10.60 %  [==                  ] 10.78 %  [==                  ] 10.95 %  [==                  ] 11.13 %  [==                  ] 11.31 %  [==                  ] 11.48 %  [==                  ] 11.66 %  [==                  ] 11.84 %  [==                  ] 12.01 %  [==                  ] 12.19 %  [==                  ] 12.37 %  [==                  ] 12.54 %  [==                  ] 12.72 %  [==                  ] 12.90 %  [==                  ] 13.07 %  [==                  ] 13.25 %  [==                  ] 13.43 %  [==                  ] 13.60 %  [==                  ] 13.78 %  [==                  ] 13.96 %  [==                  ] 14.13 %  [==                  ] 14.31 %  [==                  ] 14.49 %  [==                  ] 14.66 %  [==                  ] 14.84 %  [===                 ] 15.02 %  [===                 ] 15.19 %  [===                 ] 15.37 %  [===                 ] 15.55 %  [===                 ] 15.72 %  [===                 ] 15.90 %  [===                 ] 16.08 %  [===                 ] 16.25 %  [===                 ] 16.43 %  [===                 ] 16.61 %  [===                 ] 16.78 %  [===                 ] 16.96 %  [===                 ] 17.14 %  [===                 ] 17.31 %  [===                 ] 17.49 %  [===                 ] 17.67 %  [===                 ] 17.84 %  [===                 ] 18.02 %  [===                 ] 18.20 %  [===                 ] 18.37 %  [===                 ] 18.55 %  [===                 ] 18.73 %  [===                 ] 18.90 %  [===                 ] 19.08 %  [===                 ] 19.26 %  [===                 ] 19.43 %  [===                 ] 19.61 %  [===                 ] 19.79 %  [===                 ] 19.96 %  [====                ] 20.14 %  [====                ] 20.32 %  [====                ] 20.49 %  [====                ] 20.67 %  [====                ] 20.85 %  [====                ] 21.02 %  [====                ] 21.20 %  [====                ] 21.38 %  [====                ] 21.55 %  [====                ] 21.73 %  [====                ] 21.91 %  [====                ] 22.08 %  [====                ] 22.26 %  [====                ] 22.44 %  [====                ] 22.61 %  [====                ] 22.79 %  [====                ] 22.97 %  [====                ] 23.14 %  [====                ] 23.32 %  [====                ] 23.50 %  [====                ] 23.67 %  [====                ] 23.85 %  [====                ] 24.03 %  [====                ] 24.20 %  [====                ] 24.38 %  [====                ] 24.56 %  [====                ] 24.73 %  [====                ] 24.91 %  [=====               ] 25.09 %  [=====               ] 25.27 %  [=====               ] 25.44 %  [=====               ] 25.62 %  [=====               ] 25.80 %  [=====               ] 25.97 %  [=====               ] 26.15 %  [=====               ] 26.33 %  [=====               ] 26.50 %  [=====               ] 26.68 %  [=====               ] 26.86 %  [=====               ] 27.03 %  [=====               ] 27.21 %  [=====               ] 27.39 %  [=====               ] 27.56 %  [=====               ] 27.74 % E0918 14:26:33.046812217   44703 chttp2_transport.cc:1103]   Received a GOAWAY with error code ENHANCE_YOUR_CALM and debug data equal to \"too_many_pings\"\n"
     ]
    },
    {
     "name": "stdout",
     "output_type": "stream",
     "text": [
      "Evaluating: [======              ] 34.45 %            ] 28.09 %  [=====               ] 28.27 %  [=====               ] 28.45 %  [=====               ] 28.62 %  [=====               ] 28.80 %  [=====               ] 28.98 %  [=====               ] 29.15 %  [=====               ] 29.33 %  [=====               ] 29.51 %  [=====               ] 29.68 %  [=====               ] 29.86 %  [======              ] 30.04 %  [======              ] 30.21 %  [======              ] 30.39 %  [======              ] 30.57 %  [======              ] 30.74 %  [======              ] 30.92 %  [======              ] 31.10 %  [======              ] 31.27 %  [======              ] 31.45 %  [======              ] 31.63 %  [======              ] 31.80 %  [======              ] 31.98 %  [======              ] 32.16 %  [======              ] 32.33 %  [======              ] 32.51 %  [======              ] 32.69 %  [======              ] 32.86 %  [======              ] 33.04 %  [======              ] 33.22 %  [======              ] 33.39 %  [======              ] 33.57 %  [======              ] 33.75 %  [======              ] 33.92 %  [======              ] 34.10 %  [======              ] 34.28 %  [======              ] 34.63 %  [======              ] 34.81 %  [======              ] 34.98 %  [=======             ] 35.16 %  [=======             ] 35.34 %  [=======             ] 35.51 %  [=======             ] 35.69 %  [=======             ] 35.87 %  [=======             ] 36.04 %  [=======             ] 36.22 %  [=======             ] 36.40 %  [=======             ] 36.57 %  [=======             ] 36.75 %  [=======             ] 36.93 %  [=======             ] 37.10 %  [=======             ] 37.28 %  [=======             ] 37.46 %  [=======             ] 37.63 %  [=======             ] 37.81 %  [=======             ] 37.99 %  [=======             ] 38.16 %  [=======             ] 38.34 %  [=======             ] 38.52 %  [=======             ] 38.69 %  [=======             ] 38.87 %  [=======             ] 39.05 %  [=======             ] 39.22 %  [=======             ] 39.40 %  [=======             ] 39.58 %  [=======             ] 39.75 %  [=======             ] 39.93 %  [========            ] 40.11 %  [========            ] 40.28 %  [========            ] 40.46 %  [========            ] 40.64 %  [========            ] 40.81 %  [========            ] 40.99 %  [========            ] 41.17 %  [========            ] 41.34 %  [========            ] 41.52 %  [========            ] 41.70 %  [========            ] 41.87 %  [========            ] 42.05 %  [========            ] 42.23 %  [========            ] 42.40 %  [========            ] 42.58 %  [========            ] 42.76 %  [========            ] 42.93 %  [========            ] 43.11 %  [========            ] 43.29 %  [========            ] 43.46 %  [========            ] 43.64 %  [========            ] 43.82 %  [========            ] 43.99 %  [========            ] 44.17 %  [========            ] 44.35 %  [========            ] 44.52 %  [========            ] 44.70 %  [========            ] 44.88 %  [=========           ] 45.05 %  [=========           ] 45.23 %  [=========           ] 45.41 %  [=========           ] 45.58 %  [=========           ] 45.76 %  [=========           ] 45.94 %  [=========           ] 46.11 %  [=========           ] 46.29 %  [=========           ] 46.47 %  [=========           ] 46.64 %  [=========           ] 46.82 %  [=========           ] 47.00 %  [=========           ] 47.17 %  [=========           ] 47.35 %  [=========           ] 47.53 %  [=========           ] 47.70 %  [=========           ] 47.88 %  [=========           ] 48.06 %  [=========           ] 48.23 %  [=========           ] 48.41 %  [=========           ] 48.59 %  [=========           ] 48.76 %  [=========           ] 48.94 %  [=========           ] 49.12 %  [=========           ] 49.29 %  [=========           ] 49.47 %  [=========           ] 49.65 %  [=========           ] 49.82 %  [==========          ] 50.00 %  [==========          ] 50.18 %  [==========          ] 50.35 %  [==========          ] 50.53 %  [==========          ] 50.71 %  [==========          ] 50.88 %  [==========          ] 51.06 %  [==========          ] 51.24 %  [==========          ] 51.41 %  [==========          ] 51.59 %  [==========          ] 51.77 %  [==========          ] 51.94 %  [==========          ] 52.12 %  [==========          ] 52.30 %  [==========          ] 52.47 %  [==========          ] 52.65 %  [==========          ] 52.83 %  [==========          ] 53.00 %  [==========          ] 53.18 %  [==========          ] 53.36 %  [==========          ] 53.53 %  [==========          ] 53.71 %  [==========          ] 53.89 %  [==========          ] 54.06 %  [==========          ] 54.24 %  [==========          ] 54.42 %  [==========          ] 54.59 %  [==========          ] 54.77 %  [==========          ] 54.95 %  [===========         ] 55.12 %  [===========         ] 55.30 %  [===========         ] 55.48 %  [===========         ] 55.65 %  [===========         ] 55.83 %  [===========         ] 56.01 %  [===========         ] 56.18 %  [===========         ] 56.36 %  [===========         ] 56.54 %  [===========         ] 56.71 %  [===========         ] 56.89 %  [===========         ] 57.07 %  [===========         ] 57.24 %  [===========         ] 57.42 %  [===========         ] 57.60 %  [===========         ] 57.77 %  [===========         ] 57.95 %  [===========         ] 58.13 %  [===========         ] 58.30 %  [===========         ] 58.48 %  [===========         ] 58.66 %  [===========         ] 58.83 %  [===========         ] 59.01 %  [===========         ] 59.19 %  [===========         ] 59.36 %  [===========         ] 59.54 %  [===========         ] 59.72 %  [===========         ] 59.89 %  [============        ] 60.07 %  [============        ] 60.25 %  [============        ] 60.42 %  [============        ] 60.60 %  [============        ] 60.78 %  [============        ] 60.95 %  [============        ] 61.13 %  [============        ] 61.31 %  [============        ] 61.48 %  [============        ] 61.66 %  [============        ] 61.84 %  [============        ] 62.01 %  [============        ] 62.19 %  [============        ] 62.37 %  [============        ] 62.54 %  [============        ] 62.72 %  [============        ] 62.90 %  [============        ] 63.07 %  [============        ] 63.25 %  [============        ] 63.43 %  [============        ] 63.60 %  [============        ] 63.78 %  [============        ] 63.96 %  [============        ] 64.13 %  [============        ] 64.31 %  [============        ] 64.49 %  [============        ] 64.66 %  [============        ] 64.84 %  [=============       ] 65.02 %  [=============       ] 65.19 %  [=============       ] 65.37 %  [=============       ] 65.55 %  [=============       ] 65.72 %  [=============       ] 65.90 %  [=============       ] 66.08 %  [=============       ] 66.25 %  [=============       ] 66.43 %  [=============       ] 66.61 %  [=============       ] 66.78 %  [=============       ] 66.96 %  [=============       ] 67.14 %  [=============       ] 67.31 %  [=============       ] 67.49 %  [=============       ] 67.67 %  [=============       ] 67.84 %  [=============       ] 68.02 %  [=============       ] 68.20 %  [=============       ] 68.37 %  [=============       ] 68.55 %  [=============       ] 68.73 %  [=============       ] 68.90 %  [=============       ] 69.08 %  [=============       ] 69.26 %  [=============       ] 69.43 %  [=============       ] 69.61 %  [=============       ] 69.79 %  [=============       ] 69.96 %  [==============      ] 70.14 %  [==============      ] 70.32 %  [==============      ] 70.49 %  [==============      ] 70.67 %  [==============      ] 70.85 %  [==============      ] 71.02 %  [==============      ] 71.20 %  [==============      ] 71.38 %  [==============      ] 71.55 %  [==============      ] 71.73 %  [==============      ] 71.91 %  [==============      ] 72.08 %  [==============      ] 72.26 %  [==============      ] 72.44 %  [==============      ] 72.61 %  [==============      ] 72.79 %  [==============      ] 72.97 %  [==============      ] 73.14 %  [==============      ] 73.32 % "
     ]
    },
    {
     "name": "stdout",
     "output_type": "stream",
     "text": [
      "Evaluating: [====================] 100.00 % [==============      ] 73.85 %  [==============      ] 74.03 %  [==============      ] 74.20 %  [==============      ] 74.38 %  [==============      ] 74.56 %  [==============      ] 74.73 %  [==============      ] 74.91 %  [===============     ] 75.09 %  [===============     ] 75.27 %  [===============     ] 75.44 %  [===============     ] 75.62 %  [===============     ] 75.80 %  [===============     ] 75.97 %  [===============     ] 76.15 %  [===============     ] 76.33 %  [===============     ] 76.50 %  [===============     ] 76.68 %  [===============     ] 76.86 %  [===============     ] 77.03 %  [===============     ] 77.21 %  [===============     ] 77.39 %  [===============     ] 77.56 %  [===============     ] 77.74 %  [===============     ] 77.92 %  [===============     ] 78.09 %  [===============     ] 78.27 %  [===============     ] 78.45 %  [===============     ] 78.62 %  [===============     ] 78.80 %  [===============     ] 78.98 %  [===============     ] 79.15 %  [===============     ] 79.33 %  [===============     ] 79.51 %  [===============     ] 79.68 %  [===============     ] 79.86 %  [================    ] 80.04 %  [================    ] 80.21 %  [================    ] 80.39 %  [================    ] 80.57 %  [================    ] 80.74 %  [================    ] 80.92 %  [================    ] 81.10 %  [================    ] 81.27 %  [================    ] 81.45 %  [================    ] 81.63 %  [================    ] 81.80 %  [================    ] 81.98 %  [================    ] 82.16 %  [================    ] 82.33 %  [================    ] 82.51 %  [================    ] 82.69 %  [================    ] 82.86 %  [================    ] 83.04 %  [================    ] 83.22 %  [================    ] 83.39 %  [================    ] 83.57 %  [================    ] 83.75 %  [================    ] 83.92 %  [================    ] 84.10 %  [================    ] 84.28 %  [================    ] 84.45 %  [================    ] 84.63 %  [================    ] 84.81 %  [================    ] 84.98 %  [=================   ] 85.16 %  [=================   ] 85.34 %  [=================   ] 85.51 %  [=================   ] 85.69 %  [=================   ] 85.87 %  [=================   ] 86.04 %  [=================   ] 86.22 %  [=================   ] 86.40 %  [=================   ] 86.57 %  [=================   ] 86.75 %  [=================   ] 86.93 %  [=================   ] 87.10 %  [=================   ] 87.28 %  [=================   ] 87.46 %  [=================   ] 87.63 %  [=================   ] 87.81 %  [=================   ] 87.99 %  [=================   ] 88.16 %  [=================   ] 88.34 %  [=================   ] 88.52 %  [=================   ] 88.69 %  [=================   ] 88.87 %  [=================   ] 89.05 %  [=================   ] 89.22 %  [=================   ] 89.40 %  [=================   ] 89.58 %  [=================   ] 89.75 %  [=================   ] 89.93 %  [==================  ] 90.11 %  [==================  ] 90.28 %  [==================  ] 90.46 %  [==================  ] 90.64 %  [==================  ] 90.81 %  [==================  ] 90.99 %  [==================  ] 91.17 %  [==================  ] 91.34 %  [==================  ] 91.52 %  [==================  ] 91.70 %  [==================  ] 91.87 %  [==================  ] 92.05 %  [==================  ] 92.23 %  [==================  ] 92.40 %  [==================  ] 92.58 %  [==================  ] 92.76 %  [==================  ] 92.93 %  [==================  ] 93.11 %  [==================  ] 93.29 %  [==================  ] 93.46 %  [==================  ] 93.64 %  [==================  ] 93.82 %  [==================  ] 93.99 %  [==================  ] 94.17 %  [==================  ] 94.35 %  [==================  ] 94.52 %  [==================  ] 94.70 %  [==================  ] 94.88 %  [=================== ] 95.05 %  [=================== ] 95.23 %  [=================== ] 95.41 %  [=================== ] 95.58 %  [=================== ] 95.76 %  [=================== ] 95.94 %  [=================== ] 96.11 %  [=================== ] 96.29 %  [=================== ] 96.47 %  [=================== ] 96.64 %  [=================== ] 96.82 %  [=================== ] 97.00 %  [=================== ] 97.17 %  [=================== ] 97.35 %  [=================== ] 97.53 %  [=================== ] 97.70 %  [=================== ] 97.88 %  [=================== ] 98.06 %  [=================== ] 98.23 %  [=================== ] 98.41 %  [=================== ] 98.59 %  [=================== ] 98.76 %  [=================== ] 98.94 %  [=================== ] 99.12 %  [=================== ] 99.29 %  [=================== ] 99.47 %  [=================== ] 99.65 %  [=================== ] 99.82 % \n",
      "min_ade_5: 1.27\n",
      "min_ade_10: 0.95\n",
      "miss_rate_5: 0.51\n",
      "miss_rate_10: 0.34\n",
      "pi_bc: 1.86\n",
      "\u001b[0mCPU times: user 10.5 s, sys: 1.71 s, total: 12.2 s\n",
      "Wall time: 6min 59s\n"
     ]
    }
   ],
   "source": [
    "%%time\n",
    "# ! python evaluate.py -c configs/pgp_gatx2_lvm_traversal.yml -r /home/stanliu/data/mnt/nuScenes/ -d /home/stanliu/code/pgp/PGP/preprocess -o /home/stanliu/code/pgp/PGP/output -w /home/stanliu/code/pgp/PGP/PGP_lr-scheduler.tar\n",
    "! python evaluate.py -c configs/pgp_gatx2_lvm_traversal.yml -r /home/stanliu/data/mnt/nuScenes/ -d /home/stanliu/code/pgp/PGP/preprocess -o /home/stanliu/code/pgp/PGP/output -w /home/stanliu/code/pgp/PGP/output/checkpoints/best.tar"
   ]
  },
  {
   "cell_type": "code",
   "execution_count": 4,
   "id": "054e2d69",
   "metadata": {},
   "outputs": [
    {
     "name": "stdout",
     "output_type": "stream",
     "text": [
      "2022-09-18 14:59:44.344562: I tensorflow/core/platform/cpu_feature_guard.cc:193] This TensorFlow binary is optimized with oneAPI Deep Neural Network Library (oneDNN) to use the following CPU instructions in performance-critical operations:  AVX2 FMA\n",
      "To enable them in other operations, rebuild TensorFlow with the appropriate compiler flags.\n",
      "2022-09-18 14:59:44.606683: E tensorflow/stream_executor/cuda/cuda_blas.cc:2981] Unable to register cuBLAS factory: Attempting to register factory for plugin cuBLAS when one has already been registered\n",
      "2022-09-18 14:59:45.549754: W tensorflow/stream_executor/platform/default/dso_loader.cc:64] Could not load dynamic library 'libnvinfer.so.7'; dlerror: libnvinfer.so.7: cannot open shared object file: No such file or directory; LD_LIBRARY_PATH: /home/stanliu/.local/lib/python3.7/site-packages/cv2/../../lib64:\n",
      "2022-09-18 14:59:45.549858: W tensorflow/stream_executor/platform/default/dso_loader.cc:64] Could not load dynamic library 'libnvinfer_plugin.so.7'; dlerror: libnvinfer_plugin.so.7: cannot open shared object file: No such file or directory; LD_LIBRARY_PATH: /home/stanliu/.local/lib/python3.7/site-packages/cv2/../../lib64:\n",
      "2022-09-18 14:59:45.549871: W tensorflow/compiler/tf2tensorrt/utils/py_utils.cc:38] TF-TRT Warning: Cannot dlopen some TensorRT libraries. If you would like to use Nvidia GPU with TensorRT, please make sure the missing libraries mentioned above are installed properly.\n",
      "2022-09-18 14:59:50,086\tINFO worker.py:1518 -- Started a local Ray instance.\n",
      "======\n",
      "Loading NuScenes tables for version v1.0-trainval...\n",
      "23 category,\n",
      "8 attribute,\n",
      "4 visibility,\n",
      "64386 instance,\n",
      "12 sensor,\n",
      "10200 calibrated_sensor,\n",
      "2631083 ego_pose,\n",
      "68 log,\n",
      "850 scene,\n",
      "34149 sample,\n",
      "2631083 sample_data,\n",
      "1166187 sample_annotation,\n",
      "4 map,\n",
      "Done loading in 40.997 seconds.\n",
      "======\n",
      "Reverse indexing ...\n",
      "Done reverse indexing in 11.4 seconds.\n",
      "======\n",
      "/home/stanliu/.local/lib/python3.7/site-packages/nuscenes/map_expansion/map_api.py:1823: ShapelyDeprecationWarning: Iteration over multi-part geometries is deprecated and will be removed in Shapely 2.0. Use the `geoms` property to access the constituent parts of a multi-part geometry.\n",
      "  exteriors = [int_coords(poly.exterior.coords) for poly in polygons]\n",
      "/home/stanliu/.local/lib/python3.7/site-packages/nuscenes/map_expansion/map_api.py:1824: ShapelyDeprecationWarning: Iteration over multi-part geometries is deprecated and will be removed in Shapely 2.0. Use the `geoms` property to access the constituent parts of a multi-part geometry.\n",
      "  interiors = [int_coords(pi.coords) for poly in polygons for pi in poly.interiors]\n",
      "/home/stanliu/.local/lib/python3.7/site-packages/nuscenes/map_expansion/map_api.py:1823: ShapelyDeprecationWarning: Iteration over multi-part geometries is deprecated and will be removed in Shapely 2.0. Use the `geoms` property to access the constituent parts of a multi-part geometry.\n",
      "  exteriors = [int_coords(poly.exterior.coords) for poly in polygons]\n",
      "/home/stanliu/.local/lib/python3.7/site-packages/nuscenes/map_expansion/map_api.py:1824: ShapelyDeprecationWarning: Iteration over multi-part geometries is deprecated and will be removed in Shapely 2.0. Use the `geoms` property to access the constituent parts of a multi-part geometry.\n",
      "  interiors = [int_coords(pi.coords) for poly in polygons for pi in poly.interiors]\n",
      "\u001b[0mCPU times: user 7.04 s, sys: 1.05 s, total: 8.09 s\n",
      "Wall time: 4min 44s\n"
     ]
    }
   ],
   "source": [
    "%%time\n",
    "! python visualize.py -c configs/pgp_gatx2_lvm_traversal.yml -r /home/stanliu/data/mnt/nuScenes/ -d /home/stanliu/code/pgp/PGP/preprocess -o /home/stanliu/code/pgp/PGP/output -w /home/stanliu/code/pgp/PGP/output/checkpoints/best.tar\n"
   ]
  },
  {
   "cell_type": "code",
   "execution_count": 3,
   "id": "cf6db696",
   "metadata": {},
   "outputs": [
    {
     "name": "stdout",
     "output_type": "stream",
     "text": [
      "2022-09-18 14:52:34.961391: I tensorflow/core/platform/cpu_feature_guard.cc:193] This TensorFlow binary is optimized with oneAPI Deep Neural Network Library (oneDNN) to use the following CPU instructions in performance-critical operations:  AVX2 FMA\n",
      "To enable them in other operations, rebuild TensorFlow with the appropriate compiler flags.\n",
      "2022-09-18 14:52:35.219999: E tensorflow/stream_executor/cuda/cuda_blas.cc:2981] Unable to register cuBLAS factory: Attempting to register factory for plugin cuBLAS when one has already been registered\n",
      "2022-09-18 14:52:36.115738: W tensorflow/stream_executor/platform/default/dso_loader.cc:64] Could not load dynamic library 'libnvinfer.so.7'; dlerror: libnvinfer.so.7: cannot open shared object file: No such file or directory; LD_LIBRARY_PATH: /home/stanliu/.local/lib/python3.7/site-packages/cv2/../../lib64:\n",
      "2022-09-18 14:52:36.115838: W tensorflow/stream_executor/platform/default/dso_loader.cc:64] Could not load dynamic library 'libnvinfer_plugin.so.7'; dlerror: libnvinfer_plugin.so.7: cannot open shared object file: No such file or directory; LD_LIBRARY_PATH: /home/stanliu/.local/lib/python3.7/site-packages/cv2/../../lib64:\n",
      "2022-09-18 14:52:36.115851: W tensorflow/compiler/tf2tensorrt/utils/py_utils.cc:38] TF-TRT Warning: Cannot dlopen some TensorRT libraries. If you would like to use Nvidia GPU with TensorRT, please make sure the missing libraries mentioned above are installed properly.\n",
      "2022-09-18 14:52:41,145\tINFO worker.py:1518 -- Started a local Ray instance.\n",
      "======\n",
      "Loading NuScenes tables for version v1.0-trainval...\n",
      "23 category,\n",
      "8 attribute,\n",
      "4 visibility,\n",
      "64386 instance,\n",
      "12 sensor,\n",
      "10200 calibrated_sensor,\n",
      "2631083 ego_pose,\n",
      "68 log,\n",
      "850 scene,\n",
      "34149 sample,\n",
      "2631083 sample_data,\n",
      "1166187 sample_annotation,\n",
      "4 map,\n",
      "Done loading in 40.683 seconds.\n",
      "======\n",
      "Reverse indexing ...\n",
      "Done reverse indexing in 10.9 seconds.\n",
      "======\n",
      "\n",
      "Loading checkpoint from /home/stanliu/code/pgp/PGP/output/checkpoints/best.tar ... Done\n",
      "\n",
      "Epoch (85/184)\n",
      "Training: [                    ] 0 %, ETA: 688s, Metrics: { min_ade_10: 0.92, miss_rate_10: 0.36, pi_bc: 1.56 } [                    ] 1 %, ETA: 504s, Metrics: { min_ade_10: 0.90, miss_rate_10: 0.35, pi_bc: 1.56 }^C\n",
      "CPU times: user 2.11 s, sys: 403 ms, total: 2.51 s\n",
      "Wall time: 1min 29s\n"
     ]
    }
   ],
   "source": [
    "%%time\n",
    "!python train.py -c configs/pgp_gatx2_lvm_traversal.yml -r /home/stanliu/data/mnt/nuScenes/ -d /home/stanliu/code/pgp/PGP/preprocess -o /home/stanliu/code/pgp/PGP/output -n 100 -w /home/stanliu/code/pgp/PGP/output/checkpoints/best.tar"
   ]
  },
  {
   "cell_type": "code",
   "execution_count": 4,
   "id": "a1671d53",
   "metadata": {},
   "outputs": [
    {
     "name": "stdout",
     "output_type": "stream",
     "text": [
      "Name: positional-encodings\r\n",
      "Version: 6.0.0\r\n",
      "Summary: 1D, 2D, and 3D Sinusodal Positional Encodings in PyTorch\r\n",
      "Home-page: https://github.com/tatp22/multidim-positional-encoding\r\n",
      "Author: Peter Tatkowski\r\n",
      "Author-email: tatp22@gmail.com\r\n",
      "License: UNKNOWN\r\n",
      "Location: /home/stanliu/.local/lib/python3.7/site-packages\r\n",
      "Requires: numpy\r\n",
      "Required-by: \r\n"
     ]
    }
   ],
   "source": [
    "!pip show positional_encodings"
   ]
  },
  {
   "cell_type": "code",
   "execution_count": 1,
   "id": "8c52894d",
   "metadata": {},
   "outputs": [],
   "source": [
    "!fuser -v /dev/nvidia*"
   ]
  },
  {
   "cell_type": "code",
   "execution_count": 3,
   "id": "aff64af2",
   "metadata": {},
   "outputs": [
    {
     "name": "stdout",
     "output_type": "stream",
     "text": [
      "True\n",
      "<torch.cuda.Stream device=cuda:0 cuda_stream=0x0>\n",
      "8\n"
     ]
    }
   ],
   "source": [
    "import torch\n",
    "print(torch.cuda.is_available())\n",
    "print(torch.cuda.current_stream())\n",
    "print(torch.cuda.device_count())"
   ]
  },
  {
   "cell_type": "code",
   "execution_count": 2,
   "id": "faf9d88c",
   "metadata": {},
   "outputs": [
    {
     "name": "stdout",
     "output_type": "stream",
     "text": [
      "Sun Sep 18 01:27:08 2022       \n",
      "+-----------------------------------------------------------------------------+\n",
      "| NVIDIA-SMI 470.57.02    Driver Version: 470.57.02    CUDA Version: 11.4     |\n",
      "|-------------------------------+----------------------+----------------------+\n",
      "| GPU  Name        Persistence-M| Bus-Id        Disp.A | Volatile Uncorr. ECC |\n",
      "| Fan  Temp  Perf  Pwr:Usage/Cap|         Memory-Usage | GPU-Util  Compute M. |\n",
      "|                               |                      |               MIG M. |\n",
      "|===============================+======================+======================|\n",
      "|   0  Tesla V100-SXM2...  Off  | 00000000:04:00.0 Off |                    0 |\n",
      "| N/A   36C    P0    44W / 300W |      0MiB / 32510MiB |      0%      Default |\n",
      "|                               |                      |                  N/A |\n",
      "+-------------------------------+----------------------+----------------------+\n",
      "|   1  Tesla V100-SXM2...  Off  | 00000000:05:00.0 Off |                    0 |\n",
      "| N/A   35C    P0    43W / 300W |      0MiB / 32510MiB |      0%      Default |\n",
      "|                               |                      |                  N/A |\n",
      "+-------------------------------+----------------------+----------------------+\n",
      "|   2  Tesla V100-SXM2...  Off  | 00000000:09:00.0 Off |                    0 |\n",
      "| N/A   33C    P0    43W / 300W |      0MiB / 32510MiB |      0%      Default |\n",
      "|                               |                      |                  N/A |\n",
      "+-------------------------------+----------------------+----------------------+\n",
      "|   3  Tesla V100-SXM2...  Off  | 00000000:0A:00.0 Off |                    0 |\n",
      "| N/A   49C    P0    88W / 300W |  20177MiB / 32510MiB |     92%      Default |\n",
      "|                               |                      |                  N/A |\n",
      "+-------------------------------+----------------------+----------------------+\n",
      "|   4  Tesla V100-SXM2...  Off  | 00000000:86:00.0 Off |                    0 |\n",
      "| N/A   46C    P0    72W / 300W |  20111MiB / 32510MiB |     55%      Default |\n",
      "|                               |                      |                  N/A |\n",
      "+-------------------------------+----------------------+----------------------+\n",
      "|   5  Tesla V100-SXM2...  Off  | 00000000:87:00.0 Off |                    0 |\n",
      "| N/A   45C    P0    77W / 300W |  19911MiB / 32510MiB |     37%      Default |\n",
      "|                               |                      |                  N/A |\n",
      "+-------------------------------+----------------------+----------------------+\n",
      "|   6  Tesla V100-SXM2...  Off  | 00000000:8A:00.0 Off |                    0 |\n",
      "| N/A   33C    P0    41W / 300W |      0MiB / 32510MiB |      0%      Default |\n",
      "|                               |                      |                  N/A |\n",
      "+-------------------------------+----------------------+----------------------+\n",
      "|   7  Tesla V100-SXM2...  Off  | 00000000:8B:00.0 Off |                    0 |\n",
      "| N/A   34C    P0    45W / 300W |      0MiB / 32510MiB |      0%      Default |\n",
      "|                               |                      |                  N/A |\n",
      "+-------------------------------+----------------------+----------------------+\n",
      "                                                                               \n",
      "+-----------------------------------------------------------------------------+\n",
      "| Processes:                                                                  |\n",
      "|  GPU   GI   CI        PID   Type   Process name                  GPU Memory |\n",
      "|        ID   ID                                                   Usage      |\n",
      "|=============================================================================|\n",
      "|    3   N/A  N/A     50589      C   ...vs/pytorch_env/bin/python    10131MiB |\n",
      "|    3   N/A  N/A     50749      C   ...vs/pytorch_env/bin/python    10043MiB |\n",
      "|    4   N/A  N/A     50098      C   ...vs/pytorch_env/bin/python    10015MiB |\n",
      "|    4   N/A  N/A     50468      C   ...vs/pytorch_env/bin/python    10093MiB |\n",
      "|    5   N/A  N/A     50186      C   ...vs/pytorch_env/bin/python     9819MiB |\n",
      "|    5   N/A  N/A     50263      C   ...vs/pytorch_env/bin/python    10089MiB |\n",
      "+-----------------------------------------------------------------------------+\n"
     ]
    }
   ],
   "source": [
    "!nvidia-smi"
   ]
  },
  {
   "cell_type": "code",
   "execution_count": 6,
   "id": "976d072a",
   "metadata": {},
   "outputs": [
    {
     "name": "stdout",
     "output_type": "stream",
     "text": [
      "TensorFlow installation not found - running with reduced feature set.\n",
      "\n",
      "NOTE: Using experimental fast data loading logic. To disable, pass\n",
      "    \"--load_fast=false\" and report issues on GitHub. More details:\n",
      "    https://github.com/tensorflow/tensorboard/issues/4784\n",
      "\n",
      "Serving TensorBoard on localhost; to expose to the network, use a proxy or pass --bind_all\n",
      "TensorBoard 2.9.1 at http://localhost:6006/ (Press CTRL+C to quit)\n",
      "^C\n"
     ]
    }
   ],
   "source": [
    "!tensorboard --logdir=/home/stanliu/code/pgp/PGP/output/tensorboard_logs"
   ]
  },
  {
   "cell_type": "code",
   "execution_count": null,
   "id": "8e8e2444",
   "metadata": {},
   "outputs": [],
   "source": []
  }
 ],
 "metadata": {
  "kernelspec": {
   "display_name": "Python 3 (ipykernel)",
   "language": "python",
   "name": "python3"
  },
  "language_info": {
   "codemirror_mode": {
    "name": "ipython",
    "version": 3
   },
   "file_extension": ".py",
   "mimetype": "text/x-python",
   "name": "python",
   "nbconvert_exporter": "python",
   "pygments_lexer": "ipython3",
   "version": "3.7.13"
  }
 },
 "nbformat": 4,
 "nbformat_minor": 5
}
