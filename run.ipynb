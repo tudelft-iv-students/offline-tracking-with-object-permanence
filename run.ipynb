{
 "cells": [
  {
   "cell_type": "code",
   "execution_count": null,
   "id": "0f5b63fd",
   "metadata": {},
   "outputs": [],
   "source": [
    "%%time\n",
    "# ! python evaluate.py -c configs/pgp_gatx2_lvm_traversal.yml -r /home/stanliu/data/mnt/nuScenes/ -d /home/stanliu/code/pgp/PGP/preprocess -o /home/stanliu/code/pgp/PGP/output -w /home/stanliu/code/pgp/PGP/PGP_lr-scheduler.tar\n",
    "! python evaluate.py -c configs/pgp_gatx2_lvm_traversal.yml -r /home/stanliu/data/mnt/nuScenes/ -d /home/stanliu/code/pgp/PGP/preprocess -o /home/stanliu/code/pgp/PGP/output -w /home/stanliu/code/pgp/PGP/output/checkpoints/100.tar"
   ]
  },
  {
   "cell_type": "code",
   "execution_count": null,
   "id": "054e2d69",
   "metadata": {},
   "outputs": [],
   "source": [
    "%%time\n",
    "! python visualize.py -c configs/pgp_gatx2_lvm_traversal.yml -r /home/stanliu/data/mnt/nuScenes/ -d /home/stanliu/code/pgp/PGP/preprocess -o /home/stanliu/code/pgp/PGP/output -w /home/stanliu/code/pgp/PGP/output/checkpoints/best.tar\n"
   ]
  },
  {
   "cell_type": "code",
   "execution_count": null,
   "id": "cf6db696",
   "metadata": {},
   "outputs": [],
   "source": [
    "%%time\n",
    "!python train.py -c configs/pgp_gatx2_lvm_traversal.yml -r /home/stanliu/data/mnt/nuScenes/ -d /home/stanliu/code/pgp/PGP/preprocess -o /home/stanliu/code/pgp/PGP/output -n 100 -w /home/stanliu/code/pgp/PGP/output/checkpoints/best.tar"
   ]
  },
  {
   "cell_type": "code",
   "execution_count": null,
   "id": "590dc67e",
   "metadata": {},
   "outputs": [],
   "source": [
    "CUDA_VISIBLE_DEVICES=1 python train.py -c configs/raster.yml -r /home/stanliu/data/mnt/nuScenes/ -d /home/stanliu/code/pgp/PGP/preprocess_raster -o /home/stanliu/code/pgp/PGP/output/test_home -n 10 -w /home/stanliu/code/pgp/PGP/output/test/checkpoints/1.tar"
   ]
  },
  {
   "cell_type": "code",
   "execution_count": null,
   "id": "a1671d53",
   "metadata": {},
   "outputs": [],
   "source": [
    "!CUDA_VISIBLE_DEVICES=0 python train.py -c configs/raster.yml -r /home/stanliu/data/mnt/nuScenes/ -d /home/stanliu/code/pgp/PGP/preprocess_raster -o /home/stanliu/code/pgp/PGP/output/test -n 1"
   ]
  },
  {
   "cell_type": "code",
   "execution_count": null,
   "id": "d8ca8450",
   "metadata": {},
   "outputs": [],
   "source": [
    "\n",
    "!\n",
    "CUDA_VISIBLE_DEVICES=0 python train.py -c configs/raster_home.yml -r /home/stanliu/data/mnt/nuScenes/ -d /home/stanliu/code/pgp/PGP/preprocess_raster -o /home/stanliu/code/pgp/PGP/output/test -n 1"
   ]
  },
  {
   "cell_type": "code",
   "execution_count": null,
   "id": "7f4b6815",
   "metadata": {},
   "outputs": [],
   "source": [
    "!CUDA_VISIBLE_DEVICES=0 python train.py -c configs/raster.yml -r /home/stanliu/data/mnt/nuScenes/ -d /home/stanliu/code/pgp/PGP/preprocess_raster -o /home/stanliu/code/pgp/PGP/output/test -n 1"
   ]
  },
  {
   "cell_type": "code",
   "execution_count": null,
   "id": "8c52894d",
   "metadata": {},
   "outputs": [],
   "source": [
    "!fuser -v /dev/nvidia*"
   ]
  },
  {
   "cell_type": "code",
   "execution_count": null,
   "id": "aff64af2",
   "metadata": {},
   "outputs": [],
   "source": [
    "import torch\n",
    "print(torch.cuda.is_available())\n",
    "print(torch.cuda.current_stream())\n",
    "print(torch.cuda.device_count())"
   ]
  },
  {
   "cell_type": "code",
   "execution_count": null,
   "id": "faf9d88c",
   "metadata": {},
   "outputs": [],
   "source": [
    "!nvidia-smi"
   ]
  },
  {
   "cell_type": "code",
   "execution_count": null,
   "id": "976d072a",
   "metadata": {},
   "outputs": [],
   "source": [
    "!tensorboard --logdir=/home/stanliu/code/pgp/PGP/output/tensorboard_logs"
   ]
  },
  {
   "cell_type": "code",
   "execution_count": null,
   "id": "8e8e2444",
   "metadata": {},
   "outputs": [],
   "source": []
  }
 ],
 "metadata": {
  "kernelspec": {
   "display_name": "Python 3.7.13 ('pgp')",
   "language": "python",
   "name": "python3"
  },
  "language_info": {
   "codemirror_mode": {
    "name": "ipython",
    "version": 3
   },
   "file_extension": ".py",
   "mimetype": "text/x-python",
   "name": "python",
   "nbconvert_exporter": "python",
   "pygments_lexer": "ipython3",
   "version": "3.7.15"
  },
  "vscode": {
   "interpreter": {
    "hash": "593542b65644041049b318720dfeebe70f9074a000f082b969de259755a1a643"
   }
  }
 },
 "nbformat": 4,
 "nbformat_minor": 5
}
