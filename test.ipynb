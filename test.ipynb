{
 "cells": [
  {
   "cell_type": "code",
   "execution_count": 1,
   "metadata": {},
   "outputs": [
    {
     "name": "stderr",
     "output_type": "stream",
     "text": [
      "2023-02-10 00:27:53,869\tINFO worker.py:1518 -- Started a local Ray instance.\n"
     ]
    }
   ],
   "source": [
    "\n",
    "import yaml\n",
    "from train_eval.trainer import Trainer\n",
    "import torch\n",
    "import torch.nn as nn\n",
    "import os\n",
    "os.environ['CUDA_DEVICE_ORDER'] = 'PCI_BUS_ID'\n",
    "os.environ['CUDA_VISIBLE_DEVICES'] = \"0\"\n",
    "os.environ[\"MKL_NUM_THREADS\"] = \"4\"\n",
    "os.environ[\"NUMEXPR_NUM_THREADS\"] = \"4\"\n",
    "os.environ[\"OMP_NUM_THREADS\"] = \"4\"\n"
   ]
  },
  {
   "cell_type": "code",
   "execution_count": 2,
   "metadata": {},
   "outputs": [
    {
     "ename": "NameError",
     "evalue": "name 'op' is not defined",
     "output_type": "error",
     "traceback": [
      "\u001b[0;31m---------------------------------------------------------------------------\u001b[0m",
      "\u001b[0;31mNameError\u001b[0m                                 Traceback (most recent call last)",
      "\u001b[0;32m/tmp/ipykernel_36308/1121195827.py\u001b[0m in \u001b[0;36m<module>\u001b[0;34m\u001b[0m\n\u001b[1;32m     14\u001b[0m         \u001b[0mtarget_feat\u001b[0m\u001b[0;34m.\u001b[0m\u001b[0mappend\u001b[0m\u001b[0;34m(\u001b[0m\u001b[0munfolded_feature\u001b[0m\u001b[0;34m[\u001b[0m\u001b[0midx\u001b[0m\u001b[0;34m]\u001b[0m\u001b[0;34m[\u001b[0m\u001b[0mmask\u001b[0m\u001b[0;34m[\u001b[0m\u001b[0midx\u001b[0m\u001b[0;34m]\u001b[0m\u001b[0;34m]\u001b[0m\u001b[0;34m)\u001b[0m\u001b[0;34m\u001b[0m\u001b[0;34m\u001b[0m\u001b[0m\n\u001b[1;32m     15\u001b[0m     \u001b[0;32mreturn\u001b[0m \u001b[0msource_feat\u001b[0m\u001b[0;34m,\u001b[0m\u001b[0mtarget_feat\u001b[0m\u001b[0;34m\u001b[0m\u001b[0;34m\u001b[0m\u001b[0m\n\u001b[0;32m---> 16\u001b[0;31m \u001b[0msource_feat\u001b[0m\u001b[0;34m,\u001b[0m\u001b[0mtarget_feat\u001b[0m\u001b[0;34m=\u001b[0m\u001b[0mget_unfolded_feature\u001b[0m\u001b[0;34m(\u001b[0m\u001b[0mop\u001b[0m\u001b[0;34m,\u001b[0m\u001b[0;36m15\u001b[0m\u001b[0;34m,\u001b[0m\u001b[0mmask_map\u001b[0m\u001b[0;34m)\u001b[0m\u001b[0;34m\u001b[0m\u001b[0;34m\u001b[0m\u001b[0m\n\u001b[0m",
      "\u001b[0;31mNameError\u001b[0m: name 'op' is not defined"
     ]
    }
   ],
   "source": [
    "def get_unfolded_feature(feature,kernel,mask):\n",
    "    ## Input shape B,C,H,W\n",
    "    channel=feature.shape[1]\n",
    "    unfold = nn.Unfold(kernel_size=(kernel, kernel), dilation=1, padding=kernel//2, stride=(1, 1))\n",
    "    unfolded_feature=unfold(feature).permute(0,2,1) ## B,Number of slided window, channel*Number of elements in every window\n",
    "    # unfolded_feature=unfolded_feature.view(unfolded_feature.shape[0],unfolded_feature.shape[1],channel,kernel**2)\n",
    "    current_node_feat=feature.view(feature.shape[0],channel,-1).permute(0,2,1)## B,Number of slided window, channel\n",
    "    # unfolded_feature=(unfolded_feature*mask.unsqueeze(-1)).to_sparse()\n",
    "    # current_node_feat=(current_node_feat*mask.unsqueeze(-1)).to_sparse()\n",
    "    target_feat=[]\n",
    "    source_feat=[]\n",
    "    for idx,batch in enumerate(current_node_feat):\n",
    "        source_feat.append(batch[mask[idx]])\n",
    "        target_feat.append(unfolded_feature[idx][mask[idx]])\n",
    "    return source_feat,target_feat\n",
    "source_feat,target_feat=get_unfolded_feature(op,15,mask_map)"
   ]
  },
  {
   "cell_type": "code",
   "execution_count": null,
   "metadata": {},
   "outputs": [],
   "source": [
    "x_coord,y_coord=torch.meshgrid(torch.arange(15//2,-((15//2)+1),-1),\n",
    "                                torch.arange(-(15//2),((15//2)+1),1))\n",
    "diff=torch.cat([x_coord.unsqueeze(0),y_coord.unsqueeze(0)],dim=0)\n",
    "diff=diff.view(2,-1).T\n",
    "# diff"
   ]
  },
  {
   "cell_type": "code",
   "execution_count": 2,
   "metadata": {},
   "outputs": [],
   "source": [
    "with open(\"/home/stanliu/code/pgp/PGP/configs/raster.yml\", 'r') as yaml_file:\n",
    "    cfg = yaml.safe_load(yaml_file)"
   ]
  },
  {
   "cell_type": "code",
   "execution_count": null,
   "metadata": {},
   "outputs": [],
   "source": [
    "ds_type = cfg['dataset'] + '_' + cfg['agent_setting'] + '_' + cfg['input_representation']\n",
    "# cfg\n",
    "# cfg['encoder_args']\n",
    "# cfg.keys()"
   ]
  },
  {
   "cell_type": "code",
   "execution_count": 3,
   "metadata": {},
   "outputs": [
    {
     "name": "stdout",
     "output_type": "stream",
     "text": [
      "======\n",
      "Loading NuScenes tables for version v1.0-trainval...\n",
      "23 category,\n",
      "8 attribute,\n",
      "4 visibility,\n",
      "64386 instance,\n",
      "12 sensor,\n",
      "10200 calibrated_sensor,\n",
      "2631083 ego_pose,\n",
      "68 log,\n",
      "850 scene,\n",
      "34149 sample,\n",
      "2631083 sample_data,\n",
      "1166187 sample_annotation,\n",
      "4 map,\n",
      "Done loading in 38.524 seconds.\n",
      "======\n",
      "Reverse indexing ...\n",
      "Done reverse indexing in 10.3 seconds.\n",
      "======\n"
     ]
    }
   ],
   "source": [
    "from train_eval.trainer import Trainer\n",
    "# from torch.utils.tensorboard import SummaryWriter\n",
    "# import os\n",
    "# writer = SummaryWriter(log_dir=os.path.join('/home/stanliu/code/pgp/PGP/output/test_ram', 'tensorboard_logs'))\n",
    "trainer = Trainer(cfg, \"/home/stanliu/data/mnt/nuScenes/\", \"/home/stanliu/code/pgp/PGP/preprocess_raster\")\n",
    "# trainer = Trainer(cfg, \"/home/stanliu/data/mnt/nuScenes/\", \"/home/stanliu/code/pgp/PGP/preprocess_raster\",checkpoint_path='/home/stanliu/code/pgp/PGP/output/test_ram/checkpoints/8.tar')"
   ]
  },
  {
   "cell_type": "code",
   "execution_count": 4,
   "metadata": {},
   "outputs": [],
   "source": [
    "import train_eval.utils as u\n",
    "for i,data in enumerate(trainer.tr_dl):\n",
    "    torch.cuda.empty_cache()\n",
    "    # Load data\n",
    "    data = u.send_to_device(u.convert_double_to_float(data))\n",
    "    data_test=data['inputs']\n",
    "    gt_test=data['ground_truth']\n",
    "    break\n"
   ]
  },
  {
   "cell_type": "code",
   "execution_count": 6,
   "metadata": {},
   "outputs": [
    {
     "name": "stdout",
     "output_type": "stream",
     "text": [
      "Validating: [                    ] 0 %, ETA: 83153s, Metrics: { focal_loss: nan, min_ade_loss: 5.71, miss_rate_10: 1.00, min_ade_loss: 5.71, miss_rate_5: 1.00, min_fde_10: 4.47 }"
     ]
    },
    {
     "ename": "AttributeError",
     "evalue": "'NoneType' object has no attribute 'add_scalar'",
     "output_type": "error",
     "traceback": [
      "\u001b[0;31m---------------------------------------------------------------------------\u001b[0m",
      "\u001b[0;31mAttributeError\u001b[0m                            Traceback (most recent call last)",
      "\u001b[0;32m/tmp/ipykernel_26928/3669868755.py\u001b[0m in \u001b[0;36m<module>\u001b[0;34m\u001b[0m\n\u001b[1;32m     39\u001b[0m     \u001b[0;31m# Log val metrics for the complete epoch to tensorboard\u001b[0m\u001b[0;34m\u001b[0m\u001b[0;34m\u001b[0m\u001b[0;34m\u001b[0m\u001b[0m\n\u001b[1;32m     40\u001b[0m     \u001b[0;32mif\u001b[0m \u001b[0mmode\u001b[0m \u001b[0;34m==\u001b[0m \u001b[0;34m'val'\u001b[0m\u001b[0;34m:\u001b[0m\u001b[0;34m\u001b[0m\u001b[0;34m\u001b[0m\u001b[0m\n\u001b[0;32m---> 41\u001b[0;31m         \u001b[0mtrainer\u001b[0m\u001b[0;34m.\u001b[0m\u001b[0mlog_tensorboard_val\u001b[0m\u001b[0;34m(\u001b[0m\u001b[0mepoch_metrics\u001b[0m\u001b[0;34m)\u001b[0m\u001b[0;34m\u001b[0m\u001b[0;34m\u001b[0m\u001b[0m\n\u001b[0m",
      "\u001b[0;32m~/code/pgp/PGP/train_eval/trainer.py\u001b[0m in \u001b[0;36mlog_tensorboard_val\u001b[0;34m(self, epoch_metrics)\u001b[0m\n\u001b[1;32m    426\u001b[0m             \u001b[0;32mif\u001b[0m \u001b[0mmetric_name\u001b[0m \u001b[0;34m!=\u001b[0m \u001b[0;34m'minibatch_count'\u001b[0m \u001b[0;32mand\u001b[0m \u001b[0mmetric_name\u001b[0m \u001b[0;34m!=\u001b[0m \u001b[0;34m'time_elapsed'\u001b[0m\u001b[0;34m:\u001b[0m\u001b[0;34m\u001b[0m\u001b[0;34m\u001b[0m\u001b[0m\n\u001b[1;32m    427\u001b[0m                 \u001b[0mmetric_val\u001b[0m \u001b[0;34m/=\u001b[0m \u001b[0mepoch_metrics\u001b[0m\u001b[0;34m[\u001b[0m\u001b[0;34m'minibatch_count'\u001b[0m\u001b[0;34m]\u001b[0m\u001b[0;34m\u001b[0m\u001b[0;34m\u001b[0m\u001b[0m\n\u001b[0;32m--> 428\u001b[0;31m                 \u001b[0mself\u001b[0m\u001b[0;34m.\u001b[0m\u001b[0mwriter\u001b[0m\u001b[0;34m.\u001b[0m\u001b[0madd_scalar\u001b[0m\u001b[0;34m(\u001b[0m\u001b[0;34m'val/'\u001b[0m \u001b[0;34m+\u001b[0m \u001b[0mmetric_name\u001b[0m\u001b[0;34m,\u001b[0m \u001b[0mmetric_val\u001b[0m\u001b[0;34m,\u001b[0m \u001b[0mself\u001b[0m\u001b[0;34m.\u001b[0m\u001b[0mtb_iters\u001b[0m\u001b[0;34m)\u001b[0m\u001b[0;34m\u001b[0m\u001b[0;34m\u001b[0m\u001b[0m\n\u001b[0m",
      "\u001b[0;31mAttributeError\u001b[0m: 'NoneType' object has no attribute 'add_scalar'"
     ]
    }
   ],
   "source": [
    "import time\n",
    "import train_eval.utils as u\n",
    "mode = 'val'\n",
    "with torch.no_grad():\n",
    "    if mode == 'val':\n",
    "        trainer.model.eval()\n",
    "\n",
    "    # Initialize epoch metrics\n",
    "    epoch_metrics = trainer.initialize_metrics_for_epoch(mode)\n",
    "\n",
    "    # Main loop\n",
    "    st_time = time.time()\n",
    "    for i, data in enumerate(trainer.tr_dl):\n",
    "        torch.cuda.empty_cache()\n",
    "        # Load data\n",
    "        data = u.send_to_device(u.convert_double_to_float(data))\n",
    "        data['inputs']['gt_traj']= None\n",
    "        # Forward pass\n",
    "        predictions = trainer.model(data['inputs'])\n",
    "\n",
    "\n",
    "        # Compute loss and backprop if training\n",
    "\n",
    "        # Keep time\n",
    "        minibatch_time = time.time() - st_time\n",
    "        st_time = time.time()\n",
    "\n",
    "        # Aggregate metrics\n",
    "        minibatch_metrics, epoch_metrics = trainer.aggregate_metrics(epoch_metrics, minibatch_time,\n",
    "                                                                    predictions, data['ground_truth'], mode)\n",
    "\n",
    "\n",
    "\n",
    "        # Display metrics at a predefined frequency\n",
    "        # if i % trainer.log_period == trainer.log_period - 1:\n",
    "        trainer.print_metrics(epoch_metrics, trainer.tr_dl, mode)\n",
    "        break\n",
    "\n",
    "    # Log val metrics for the complete epoch to tensorboard\n",
    "    if mode == 'val':\n",
    "        trainer.log_tensorboard_val(epoch_metrics)\n"
   ]
  },
  {
   "cell_type": "code",
   "execution_count": 5,
   "metadata": {},
   "outputs": [],
   "source": [
    "focal=trainer.losses[0]\n",
    "ade=trainer.losses[1]\n",
    "# dri_loss=trainer.losses[1]\n"
   ]
  },
  {
   "cell_type": "code",
   "execution_count": 6,
   "metadata": {},
   "outputs": [],
   "source": [
    "data_test['gt_traj']=data['ground_truth']['traj']\n",
    "data_test['gt_traj']=None"
   ]
  },
  {
   "cell_type": "code",
   "execution_count": 8,
   "metadata": {},
   "outputs": [
    {
     "data": {
      "text/plain": [
       "torch.Size([4, 488, 488])"
      ]
     },
     "execution_count": 8,
     "metadata": {},
     "output_type": "execute_result"
    }
   ],
   "source": [
    "# data['ground_truth']['traj']\n",
    "map_representation = data_test['map_representation'][0]\n",
    "mask=data_test['map_representation'][1]\n",
    "\n",
    "\n",
    "mask.shape"
   ]
  },
  {
   "cell_type": "code",
   "execution_count": null,
   "metadata": {},
   "outputs": [],
   "source": [
    "import torch.nn as nn\n",
    "unfold = nn.Unfold(kernel_size=(7, 7), dilation=1, padding=7//2, stride=(1, 1))\n",
    "unfold(mask.unsqueeze(1)).shape"
   ]
  },
  {
   "cell_type": "code",
   "execution_count": null,
   "metadata": {},
   "outputs": [],
   "source": [
    "from models.library.RasterSampler import *\n",
    "sampler = Sampler(cfg['aggregator_args'],resolution=1.0,apply_mask=True)\n",
    "nodes_2D=sampler.sample_goals(mask)\n",
    "mask_under=sampler.sample_mask(mask)"
   ]
  },
  {
   "cell_type": "code",
   "execution_count": 9,
   "metadata": {},
   "outputs": [
    {
     "data": {
      "image/png": "[encoded data removed]",
      "text/plain": [
       "<Figure size 432x288 with 1 Axes>"
      ]
     },
     "metadata": {
      "needs_background": "light"
     },
     "output_type": "display_data"
    },
    {
     "data": {
      "image/png": "[encoded data removed]",
      "text/plain": [
       "<Figure size 432x288 with 1 Axes>"
      ]
     },
     "metadata": {
      "needs_background": "light"
     },
     "output_type": "display_data"
    }
   ],
   "source": [
    "import matplotlib.pyplot as plt\n",
    "\n",
    "plt.imshow(map_representation[0].permute(1,2,0))\n",
    "plt.show()\n",
    "plt.imshow(mask[0])\n",
    "plt.show()"
   ]
  },
  {
   "cell_type": "code",
   "execution_count": 3,
   "metadata": {},
   "outputs": [
    {
     "data": {
      "text/plain": [
       "tensor([[[[0.0019, 0.0201, 0.0439, 0.0201, 0.0019],\n",
       "          [0.0201, 0.2096, 0.4578, 0.2096, 0.0201],\n",
       "          [0.0439, 0.4578, 1.0000, 0.4578, 0.0439],\n",
       "          [0.0201, 0.2096, 0.4578, 0.2096, 0.0201],\n",
       "          [0.0019, 0.0201, 0.0439, 0.0201, 0.0019]]]])"
      ]
     },
     "execution_count": 3,
     "metadata": {},
     "output_type": "execute_result"
    }
   ],
   "source": [
    "import torch\n",
    "from math import exp\n",
    "from torch.autograd import Variable\n",
    "import torch.nn.functional as F\n",
    "def gaussian(window_size, sigma):\n",
    "    gauss = torch.Tensor([exp(-(x - window_size//2)**2/float(2*sigma**2)) for x in range(window_size)])\n",
    "    return gauss#/gauss.sum()\n",
    "def create_window(window_size, channel):\n",
    "    _1D_window = gaussian(window_size, 0.8).unsqueeze(1)\n",
    "    _2D_window = _1D_window.mm(_1D_window.t()).float().unsqueeze(0).unsqueeze(0)\n",
    "    window = Variable(_2D_window.expand(channel, 1, window_size, window_size).contiguous())\n",
    "    return window\n",
    "window=create_window(5, 1)\n",
    "window\n"
   ]
  },
  {
   "cell_type": "code",
   "execution_count": null,
   "metadata": {},
   "outputs": [],
   "source": [
    "import matplotlib.pyplot as plt\n",
    "plt.imshow(data_test['surrounding_agent_representation'][4,:3].permute(1,2,0))\n",
    "plt.show()\n",
    "# plt.imshow(test_heatmap[0,0])\n",
    "# plt.show()\n",
    "# data['ground_truth']['traj']"
   ]
  },
  {
   "cell_type": "code",
   "execution_count": null,
   "metadata": {},
   "outputs": [],
   "source": [
    "data_test['map_representation'].keys()"
   ]
  },
  {
   "cell_type": "code",
   "execution_count": null,
   "metadata": {},
   "outputs": [],
   "source": [
    "print('lane_node_feats has shape of ',data_test['map_representation']['lane_node_feats'].shape)\n",
    "print('lane_node_masks has shape of ',data_test['map_representation']['lane_node_masks'].shape)\n",
    "print('s_next has shape of ',data_test['map_representation']['s_next'].shape)\n",
    "print('edge_type has shape of ',data_test['map_representation']['edge_type'].shape)"
   ]
  },
  {
   "cell_type": "code",
   "execution_count": 7,
   "metadata": {},
   "outputs": [
    {
     "name": "stdout",
     "output_type": "stream",
     "text": [
      "---------------------------------  ------------  ------------  ------------  ------------  ------------  ------------  ------------  ------------  ------------  ------------  \n",
      "                             Name    Self CPU %      Self CPU   CPU total %     CPU total  CPU time avg       CPU Mem  Self CPU Mem      CUDA Mem  Self CUDA Mem    # of Calls  \n",
      "---------------------------------  ------------  ------------  ------------  ------------  ------------  ------------  ------------  ------------  ------------  ------------  \n",
      "                      aten::empty         3.58%      10.397ms         3.58%      10.397ms      58.410us           0 b           0 b     849.36 Mb     849.36 Mb           178  \n",
      "                    aten::resize_         0.20%     588.359us         0.20%     588.359us      11.315us           0 b           0 b     176.06 Mb     176.06 Mb            52  \n",
      "              aten::empty_strided         0.48%       1.397ms         0.48%       1.397ms     279.439us       1.82 Mb       1.82 Mb      88.00 Mb      88.00 Mb             5  \n",
      "                         aten::to         0.04%     126.285us         2.11%       6.132ms     681.328us       1.82 Mb           0 b      88.00 Mb           0 b             9  \n",
      "                      aten::copy_         1.61%       4.688ms         1.61%       4.688ms     585.956us           0 b           0 b           0 b           0 b             8  \n",
      "                        aten::cat         0.01%      43.125us         0.30%     860.626us     286.875us           0 b           0 b      88.03 Mb           0 b             3  \n",
      "                       aten::_cat         0.09%     260.440us         0.28%     817.501us     272.500us           0 b           0 b      88.03 Mb           0 b             3  \n",
      "                     aten::stride         0.02%      67.433us         0.02%      67.433us       0.453us           0 b           0 b           0 b           0 b           149  \n",
      "                     aten::narrow         0.00%      14.340us         0.01%      40.203us      20.102us           0 b           0 b           0 b           0 b             2  \n",
      "                      aten::slice         0.02%      60.907us         0.03%      80.551us       8.055us           0 b           0 b           0 b           0 b            10  \n",
      "---------------------------------  ------------  ------------  ------------  ------------  ------------  ------------  ------------  ------------  ------------  ------------  \n",
      "Self CPU time total: 290.427ms\n",
      "\n"
     ]
    }
   ],
   "source": [
    "from torch.autograd.profiler import profile, record_function\n",
    "with profile( profile_memory=True, record_shapes=True) as prof:\n",
    "    encodings=trainer.model.encoder(data_test)\n",
    "print(prof.key_averages().table(sort_by=\"self_cuda_memory_usage\", row_limit=10))"
   ]
  },
  {
   "cell_type": "code",
   "execution_count": 8,
   "metadata": {},
   "outputs": [
    {
     "name": "stdout",
     "output_type": "stream",
     "text": [
      "--------------------------------  ------------  ------------  ------------  ------------  ------------  ------------  ------------  ------------  ------------  ------------  \n",
      "                            Name    Self CPU %      Self CPU   CPU total %     CPU total  CPU time avg       CPU Mem  Self CPU Mem      CUDA Mem  Self CUDA Mem    # of Calls  \n",
      "--------------------------------  ------------  ------------  ------------  ------------  ------------  ------------  ------------  ------------  ------------  ------------  \n",
      "                     aten::empty        61.46%      15.274ms        61.46%      15.274ms     227.969us           0 b           0 b       9.57 Gb       9.57 Gb            67  \n",
      "                   aten::resize_         3.08%     765.613us         3.08%     765.613us      42.534us     234.47 Kb     234.47 Kb     309.74 Mb     309.74 Mb            18  \n",
      "             aten::empty_strided         0.28%      68.526us         0.28%      68.526us      17.131us     116.28 Kb     116.28 Kb       1.25 Mb       1.25 Mb             4  \n",
      "                        aten::to         0.26%      63.558us         2.30%     572.548us      81.793us     116.28 Kb           0 b       1.25 Mb           0 b             7  \n",
      "                 aten::unsqueeze         0.67%     166.376us         0.75%     186.496us      46.624us           0 b           0 b           0 b           0 b             4  \n",
      "                aten::as_strided         0.60%     149.208us         0.60%     149.208us       2.446us           0 b           0 b           0 b           0 b            61  \n",
      "                    aten::repeat         0.52%     128.714us         2.28%     565.755us     282.878us           0 b           0 b       2.25 Mb           0 b             2  \n",
      "                    aten::expand         0.22%      55.223us         0.28%      70.821us      10.117us           0 b           0 b           0 b           0 b             7  \n",
      "                     aten::alias         0.06%      15.533us         0.06%      15.533us       7.767us           0 b           0 b           0 b           0 b             2  \n",
      "                    aten::unfold         0.48%     118.938us         0.68%     168.016us      24.002us           0 b           0 b           0 b           0 b             7  \n",
      "--------------------------------  ------------  ------------  ------------  ------------  ------------  ------------  ------------  ------------  ------------  ------------  \n",
      "Self CPU time total: 24.851ms\n",
      "\n"
     ]
    }
   ],
   "source": [
    "torch.cuda.empty_cache()\n",
    "with profile( profile_memory=True, record_shapes=True) as prof:\n",
    "    agg_feat=trainer.model.aggregator(encodings)\n",
    "print(prof.key_averages().table(sort_by=\"self_cuda_memory_usage\", row_limit=10))\n",
    "\n",
    "# connectivities=agg_feat['node_connectivity']\n",
    "# mask_map=agg_feat['under_sampled_mask']\n",
    "# init=agg_feat['initial_states']\n",
    "# print(connectivities.requires_grad)\n",
    "# print(mask_map.requires_grad)"
   ]
  },
  {
   "cell_type": "code",
   "execution_count": 9,
   "metadata": {},
   "outputs": [
    {
     "name": "stdout",
     "output_type": "stream",
     "text": [
      "dict_keys(['node_connectivity', 'under_sampled_mask', 'feature', 'target_encodings'])\n",
      "torch.Size([16646, 625])\n"
     ]
    }
   ],
   "source": [
    "print(agg_feat.keys())\n",
    "print(agg_feat['node_connectivity'][0].shape)\n",
    "# inputs=agg_feat\n",
    "# attn_output_weights = inputs['node_connectivity']\n",
    "# print(attn_output_weights[0].shape)\n",
    "# init_states=inputs['initial_states']\n",
    "# target_encodings = inputs['target_encodings']\n",
    "# map_feature=inputs['feature'].permute(0,2,3,1) \n",
    "# mask=inputs['under_sampled_mask']  \n",
    "      \n",
    "# print(agg_feat['node_connectivity'].shape)\n",
    "# print((agg_feat['initial_states'].indices().nelement() * agg_feat['initial_states'].indices().element_size() + agg_feat['initial_states'].values().nelement() *agg_feat['initial_states'].values().element_size()) / 1024**2)"
   ]
  },
  {
   "cell_type": "code",
   "execution_count": 22,
   "metadata": {},
   "outputs": [],
   "source": [
    "from models.decoders.ram_decoder import get_index\n",
    "self=trainer.model.aggregator\n",
    "init_states=torch.zeros(1,self.H,self.W)\n",
    "init_states[:,self.compensation.long()]=1\n",
    "init_states=init_states[:,self.source_row-self.center_row:][agg_feat['under_sampled_mask'].view(1,self.H,self.W)[:,self.source_row-self.center_row:]]"
   ]
  },
  {
   "cell_type": "code",
   "execution_count": 21,
   "metadata": {},
   "outputs": [
    {
     "data": {
      "text/plain": [
       "torch.Size([16646])"
      ]
     },
     "execution_count": 21,
     "metadata": {},
     "output_type": "execute_result"
    }
   ],
   "source": [
    "indices=get_index()"
   ]
  },
  {
   "cell_type": "code",
   "execution_count": 10,
   "metadata": {},
   "outputs": [],
   "source": [
    "# test_feat=op.view(op.shape[0],op.shape[1],-1).permute(0,2,1)\n",
    "torch.cuda.empty_cache()\n"
   ]
  },
  {
   "cell_type": "code",
   "execution_count": 9,
   "metadata": {},
   "outputs": [
    {
     "name": "stdout",
     "output_type": "stream",
     "text": [
      "-----------------------------  ------------  ------------  ------------  ------------  ------------  ------------  ------------  ------------  ------------  ------------  \n",
      "                         Name    Self CPU %      Self CPU   CPU total %     CPU total  CPU time avg       CPU Mem  Self CPU Mem      CUDA Mem  Self CUDA Mem    # of Calls  \n",
      "-----------------------------  ------------  ------------  ------------  ------------  ------------  ------------  ------------  ------------  ------------  ------------  \n",
      "                  aten::empty         3.99%       7.977ms         3.99%       7.977ms       3.963us         640 b         640 b      45.74 Mb      45.74 Mb          2013  \n",
      "                aten::resize_         2.37%       4.731ms         2.37%       4.731ms       3.571us     235.09 Kb     235.09 Kb      13.21 Mb      13.21 Mb          1325  \n",
      "          aten::empty_strided         0.04%      88.297us         0.04%      88.297us       8.027us           0 b           0 b     268.00 Kb     268.00 Kb            11  \n",
      "                 aten::conv2d         0.03%      62.755us         0.62%       1.234ms     411.285us           0 b           0 b      21.80 Mb           0 b             3  \n",
      "            aten::convolution         0.02%      45.584us         0.59%       1.171ms     390.367us           0 b           0 b      21.80 Mb           0 b             3  \n",
      "           aten::_convolution         0.06%     112.926us         0.56%       1.126ms     375.172us           0 b           0 b      21.80 Mb           0 b             3  \n",
      "             aten::contiguous         0.90%       1.795ms         3.10%       6.196ms       7.631us           0 b           0 b      80.00 Kb           0 b           812  \n",
      "                 aten::stride         0.14%     287.968us         0.14%     287.968us       0.415us           0 b           0 b           0 b           0 b           694  \n",
      "             aten::leaky_relu         0.10%     200.884us         0.12%     231.834us     115.917us           0 b           0 b      16.35 Mb           0 b             2  \n",
      "                   aten::view         0.36%     717.005us         0.36%     717.005us       3.567us           0 b           0 b           0 b           0 b           201  \n",
      "-----------------------------  ------------  ------------  ------------  ------------  ------------  ------------  ------------  ------------  ------------  ------------  \n",
      "Self CPU time total: 199.852ms\n",
      "\n"
     ]
    }
   ],
   "source": [
    "\n",
    "with profile( profile_memory=True, record_shapes=True) as prof:\n",
    "    predictions=trainer.model.decoder(agg_feat)\n",
    "print(prof.key_averages().table(sort_by=\"self_cuda_memory_usage\", row_limit=10))\n",
    "# print(predictions['pred'].element_size() * predictions['pred'].nelement()/ 1024**2)\n",
    "# pred=predictions['pred'].to_sparse()\n",
    "# print(pred.element_size() * pred.nelement()/ 1024**2)\n",
    "\n",
    "# print((pred.indices().nelement() * pred.indices().element_size() + pred.values().nelement() * pred.values().element_size()) / 1024**2)"
   ]
  },
  {
   "cell_type": "code",
   "execution_count": 13,
   "metadata": {},
   "outputs": [
    {
     "name": "stdout",
     "output_type": "stream",
     "text": [
      "tensor([[[0.3582],\n",
      "         [0.1584],\n",
      "         [0.1020],\n",
      "         [0.0510],\n",
      "         [0.0437],\n",
      "         [0.0325],\n",
      "         [0.0227],\n",
      "         [0.0179],\n",
      "         [0.0186],\n",
      "         [0.0184],\n",
      "         [0.0178],\n",
      "         [0.0173]],\n",
      "\n",
      "        [[0.4303],\n",
      "         [0.2177],\n",
      "         [0.1216],\n",
      "         [0.0792],\n",
      "         [0.0687],\n",
      "         [0.0575],\n",
      "         [0.0365],\n",
      "         [0.0202],\n",
      "         [0.0148],\n",
      "         [0.0130],\n",
      "         [0.0120],\n",
      "         [0.0108]],\n",
      "\n",
      "        [[0.3556],\n",
      "         [0.1934],\n",
      "         [0.1086],\n",
      "         [0.0768],\n",
      "         [0.0568],\n",
      "         [0.0367],\n",
      "         [0.0304],\n",
      "         [0.0190],\n",
      "         [0.0181],\n",
      "         [0.0163],\n",
      "         [0.0147],\n",
      "         [0.0136]],\n",
      "\n",
      "        [[0.2583],\n",
      "         [0.1629],\n",
      "         [0.1187],\n",
      "         [0.0900],\n",
      "         [0.0696],\n",
      "         [0.0543],\n",
      "         [0.0454],\n",
      "         [0.0435],\n",
      "         [0.0425],\n",
      "         [0.0421],\n",
      "         [0.0419],\n",
      "         [0.0417]]], device='cuda:0', grad_fn=<MaxBackward0>)\n",
      "tensor([[[1.],\n",
      "         [1.],\n",
      "         [1.],\n",
      "         [1.],\n",
      "         [1.],\n",
      "         [1.],\n",
      "         [1.],\n",
      "         [1.],\n",
      "         [1.],\n",
      "         [1.],\n",
      "         [1.],\n",
      "         [1.]],\n",
      "\n",
      "        [[1.],\n",
      "         [1.],\n",
      "         [1.],\n",
      "         [1.],\n",
      "         [1.],\n",
      "         [1.],\n",
      "         [1.],\n",
      "         [1.],\n",
      "         [1.],\n",
      "         [1.],\n",
      "         [1.],\n",
      "         [1.]],\n",
      "\n",
      "        [[1.],\n",
      "         [1.],\n",
      "         [1.],\n",
      "         [1.],\n",
      "         [1.],\n",
      "         [1.],\n",
      "         [1.],\n",
      "         [1.],\n",
      "         [1.],\n",
      "         [1.],\n",
      "         [1.],\n",
      "         [1.]],\n",
      "\n",
      "        [[1.],\n",
      "         [1.],\n",
      "         [1.],\n",
      "         [1.],\n",
      "         [1.],\n",
      "         [1.],\n",
      "         [1.],\n",
      "         [1.],\n",
      "         [1.],\n",
      "         [1.],\n",
      "         [1.],\n",
      "         [1.]]], device='cuda:0', grad_fn=<MaxBackward0>)\n"
     ]
    }
   ],
   "source": [
    "# print(predictions['pred'].shape)\n",
    "normalized_pred=predictions['pred']/(torch.max(predictions['pred'],dim=-1,keepdim=True)[0])\n",
    "print(torch.max(predictions['pred'],dim=-1,keepdim=True)[0])\n",
    "print(torch.max(normalized_pred,dim=-1,keepdim=True)[0])"
   ]
  },
  {
   "cell_type": "code",
   "execution_count": 60,
   "metadata": {},
   "outputs": [],
   "source": [
    "focal=trainer.losses[0]\n",
    "focal.horizon=12"
   ]
  },
  {
   "cell_type": "code",
   "execution_count": 30,
   "metadata": {},
   "outputs": [
    {
     "name": "stderr",
     "output_type": "stream",
     "text": [
      "Clipping input data to the valid range for imshow with RGB data ([0..1] for floats or [0..255] for integers).\n"
     ]
    },
    {
     "data": {
      "image/png": "[encoded data removed]",
      "text/plain": [
       "<Figure size 432x288 with 1 Axes>"
      ]
     },
     "metadata": {
      "needs_background": "light"
     },
     "output_type": "display_data"
    }
   ],
   "source": [
    "traj_idx=0\n",
    "idx=2\n",
    "import matplotlib.pyplot as plt\n",
    "from models.decoders.ram_decoder import get_index,get_dense\n",
    "gt_map=trainer.losses[0].generate_gtmap(predictions['traj'][:,traj_idx].view(predictions['traj'].shape[0],-1,predictions['traj'].shape[-1]).clone().detach(),predictions['mask'],visualize=True)\n",
    "gt_map=torch.clamp(torch.sum(gt_map,dim=1,keepdim=True),0.0,1.0)\n",
    "mask_map=gt_map.clone()\n",
    "mask_map[predictions['mask'].view(gt_map.shape)]=0.005\n",
    "gt_map+=mask_map\n",
    "gt_map=gt_map.repeat(1,3,1,1)\n",
    "gt_map*=127\n",
    "endpoints=predictions['endpoints']\n",
    "for batch in range(gt_map.shape[0]):\n",
    "    for i,point in enumerate(endpoints[batch]):\n",
    "        if i== traj_idx:\n",
    "            x,y=point\n",
    "            gt_map[batch,-1,max(0,x-2):min(x+3,trainer.losses[0].H),max(0,y-2):min(trainer.losses[0].W,y+3)]=255\n",
    "            gt_map[batch,:-1,max(0,x-2):min(x+3,trainer.losses[0].H),max(0,y-2):min(trainer.losses[0].W,y+3)]=0\n",
    "        else:\n",
    "            x,y=point\n",
    "            gt_map[batch,0,max(0,x-1):min(x+1,trainer.losses[0].H),max(0,y-1):min(trainer.losses[0].W,y+1)]=255\n",
    "            gt_map[batch,1:,max(0,x-1):min(x+3,trainer.losses[0].H),max(0,y-1):min(trainer.losses[0].W,y+1)]=0\n",
    "\n",
    "gt_map=gt_map.permute(0,2,3,1)\n",
    "# normalize_factor,_=torch.max(dense_pred.view(dense_pred.shape[0],-1),dim=-1)\n",
    "plt.imshow(gt_map[idx].cpu())\n",
    "plt.show()\n",
    "# plt.imshow(mask[idx])\n",
    "# plt.show()\n",
    "# gt_map.shape"
   ]
  },
  {
   "cell_type": "code",
   "execution_count": 31,
   "metadata": {},
   "outputs": [
    {
     "data": {
      "image/png": "[encoded data removed]",
      "text/plain": [
       "<Figure size 432x288 with 1 Axes>"
      ]
     },
     "metadata": {
      "needs_background": "light"
     },
     "output_type": "display_data"
    }
   ],
   "source": [
    "# idx=3\n",
    "# traj_idx=0\n",
    "import matplotlib.pyplot as plt\n",
    "from models.decoders.ram_decoder import get_index,get_dense\n",
    "gt_map=trainer.losses[0].generate_gtmap(data['ground_truth']['traj'],predictions['mask'],visualize=True)\n",
    "gt_map=torch.sum(gt_map,dim=1,keepdim=True)\n",
    "mask_map=torch.zeros_like(gt_map)\n",
    "mask_map[predictions['mask'].view(gt_map.shape)]=1\n",
    "gt_map+=mask_map\n",
    "# gt_map=gt_map.permute(0,2,3,1)\n",
    "# normalize_factor,_=torch.max(dense_pred.view(dense_pred.shape[0],-1),dim=-1)\n",
    "plt.imshow(gt_map[idx].squeeze(0).cpu())\n",
    "plt.show()"
   ]
  },
  {
   "cell_type": "code",
   "execution_count": 32,
   "metadata": {},
   "outputs": [],
   "source": [
    "loss=ade.compute(predictions,gt_test)"
   ]
  },
  {
   "cell_type": "code",
   "execution_count": 44,
   "metadata": {},
   "outputs": [
    {
     "name": "stdout",
     "output_type": "stream",
     "text": [
      "tensor([[True, True, True],\n",
      "        [True, True, True],\n",
      "        [True, True, True]], device='cuda:0')\n"
     ]
    }
   ],
   "source": [
    "sum=predictions['init_states'].view(predictions['init_states'].shape[0],-1).sum(dim=-1)\n",
    "corrupt_idx=torch.argmin(sum).item()\n",
    "corrupt_map=predictions['mask'][corrupt_idx].view(trainer.model.decoder.H,trainer.model.decoder.W)\n",
    "print(corrupt_map[trainer.model.decoder.compensation[0]-1:trainer.model.decoder.compensation[0]+2,trainer.model.decoder.compensation[1]-1:trainer.model.decoder.compensation[1]+2])"
   ]
  },
  {
   "cell_type": "code",
   "execution_count": 19,
   "metadata": {},
   "outputs": [],
   "source": [
    "init_pos=torch.zeros([122,122],device=predictions['mask'].device)\n",
    "init_pos[trainer.model.decoder.compensation[0],trainer.model.decoder.compensation[1]]=1\n",
    "mask_local=(predictions['mask'][0].view(122,122))[trainer.model.decoder.compensation[0]-1:trainer.model.decoder.compensation[0]+2,trainer.model.decoder.compensation[1]-1:trainer.model.decoder.compensation[1]+2]\n",
    "valid_node_num=mask_local.float().sum()\n",
    "init_pos[trainer.model.decoder.compensation[0]-1:trainer.model.decoder.compensation[0]+2,trainer.model.decoder.compensation[1]-1:trainer.model.decoder.compensation[1]+2]=1/valid_node_num.item()"
   ]
  },
  {
   "cell_type": "code",
   "execution_count": 20,
   "metadata": {},
   "outputs": [
    {
     "data": {
      "text/plain": [
       "tensor([[0.1111, 0.1111, 0.1111],\n",
       "        [0.1111, 0.1111, 0.1111],\n",
       "        [0.1111, 0.1111, 0.1111]], device='cuda:0')"
      ]
     },
     "execution_count": 20,
     "metadata": {},
     "output_type": "execute_result"
    }
   ],
   "source": [
    "init_pos[trainer.model.decoder.compensation[0]-1:trainer.model.decoder.compensation[0]+2,trainer.model.decoder.compensation[1]-1:trainer.model.decoder.compensation[1]+2]"
   ]
  },
  {
   "cell_type": "code",
   "execution_count": 22,
   "metadata": {},
   "outputs": [
    {
     "data": {
      "text/plain": [
       "tensor(1., device='cuda:0')"
      ]
     },
     "execution_count": 22,
     "metadata": {},
     "output_type": "execute_result"
    }
   ],
   "source": [
    "((init_pos.view(-1))[predictions['mask'][0]]).sum()"
   ]
  },
  {
   "cell_type": "code",
   "execution_count": 11,
   "metadata": {},
   "outputs": [],
   "source": [
    "loss+=ade.compute(predictions,gt_test)"
   ]
  },
  {
   "cell_type": "code",
   "execution_count": 17,
   "metadata": {},
   "outputs": [],
   "source": [
    "torch.cuda.empty_cache()"
   ]
  },
  {
   "cell_type": "code",
   "execution_count": 12,
   "metadata": {},
   "outputs": [],
   "source": [
    "loss.backward()"
   ]
  },
  {
   "cell_type": "code",
   "execution_count": 12,
   "metadata": {},
   "outputs": [
    {
     "data": {
      "text/plain": [
       "tensor([14016, 10258], device='cuda:0')"
      ]
     },
     "execution_count": 12,
     "metadata": {},
     "output_type": "execute_result"
    }
   ],
   "source": [
    "predictions['mask'].sum(-1)\n"
   ]
  },
  {
   "cell_type": "code",
   "execution_count": null,
   "metadata": {},
   "outputs": [],
   "source": [
    "inputs = agg_feat\n",
    "attn_output_weights = inputs['node_connectivity']\n",
    "init_states=inputs['initial_states']\n",
    "\n",
    "\n",
    "mask=inputs['under_sampled_mask']\n",
    "target_encodings = inputs['target_encodings']\n",
    "map_feature=inputs['feature'].permute(0,2,3,1)"
   ]
  },
  {
   "cell_type": "code",
   "execution_count": null,
   "metadata": {},
   "outputs": [],
   "source": [
    "torch.cuda.empty_cache()\n",
    "predictions=torch.empty([init_states.shape[0],0,init_states.shape[-1]],device=attn_output_weights.device)\n",
    "prev_states=init_states.unsqueeze(1).to_dense()\n",
    "\n",
    "for step in range(12):\n",
    "    predictions=torch.cat((predictions,torch.bmm(prev_states,attn_output_weights)),dim=1)\n",
    "    prev_states=predictions[:,step].unsqueeze(1)\n",
    "\n",
    "torch.cuda.empty_cache()"
   ]
  },
  {
   "cell_type": "code",
   "execution_count": null,
   "metadata": {},
   "outputs": [],
   "source": [
    "map_extent= [-61, 61, -22, 100]\n",
    "from models.decoders.ram_decoder import get_dense,get_index\n",
    "nodes_2D=get_index(predictions[:,-1].unsqueeze(1),mask)\n",
    "dense_pred=get_dense(predictions[:,-1].unsqueeze(1),nodes_2D,122,122)\n",
    "endpoints,confidences = trainer.model.decoder.endpoint_sampler(dense_pred)\n",
    "endpoints=endpoints.long()\n",
    "concat_feature=torch.empty([0,12,90],device=attn_output_weights.device)\n",
    "x_coord,y_coord=torch.meshgrid(torch.arange(map_extent[-1],map_extent[-2],-1), ##### SHould be changed when image size changes\n",
    "                                torch.arange(map_extent[0],map_extent[1],1))\n",
    "indices=torch.cat([x_coord.unsqueeze(-1),y_coord.unsqueeze(-1)],dim=-1).to(attn_output_weights.device)\n",
    "for batch_idx in range(len(dense_pred)):\n",
    "    map_feat = (map_feature[batch_idx])[endpoints[batch_idx,:,0],endpoints[batch_idx,:,1]]\n",
    "    diff = indices[endpoints[batch_idx,:,0],endpoints[batch_idx,:,1]].float()\n",
    "\n",
    "    feature=torch.cat([map_feat,trainer.model.decoder.diff_encoder(diff),target_encodings[batch_idx].repeat(trainer.model.decoder.endpoint_sampler._n_targets,1)],dim=-1).unsqueeze(0)\n",
    "    concat_feature=torch.cat([concat_feature,feature],dim=0)"
   ]
  },
  {
   "cell_type": "code",
   "execution_count": null,
   "metadata": {},
   "outputs": [],
   "source": [
    "print(torch.cuda.memory_summary(0))"
   ]
  },
  {
   "cell_type": "code",
   "execution_count": null,
   "metadata": {},
   "outputs": [],
   "source": [
    "pred=predictions['pred']\n",
    "mask=predictions['mask']\n",
    "traj_gt = gt_test['traj']"
   ]
  },
  {
   "cell_type": "code",
   "execution_count": null,
   "metadata": {},
   "outputs": [],
   "source": [
    "import torch.nn.functional as F\n",
    "with profile( profile_memory=True, record_shapes=True) as prof:\n",
    "    swapped=torch.zeros_like(traj_gt).to(pred.device)\n",
    "    swapped[:,:,0],swapped[:,:,1]=-traj_gt[:,:,1],traj_gt[:,:,0]\n",
    "    coord=torch.round(swapped/trainer.losses[0].resolution+trainer.losses[0].compensation).int()\n",
    "    coord=torch.clamp(coord,0,122)\n",
    "    gt_map=torch.zeros([6,12,122,122],device=pred.device)\n",
    "    for batch in range(6):\n",
    "        for t in range(12):\n",
    "            x,y=coord[batch,t]\n",
    "            gt_map[batch,t,x,y]=1##Only one ground truth in each heatmap layer\n",
    "    gs_map=F.conv2d(gt_map, trainer.losses[0].window, padding = trainer.losses[0].window_size//2, groups = trainer.losses[0].horizon)\n",
    "print(prof.key_averages().table(sort_by=\"self_cuda_memory_usage\", row_limit=10))"
   ]
  },
  {
   "cell_type": "code",
   "execution_count": null,
   "metadata": {},
   "outputs": [],
   "source": [
    "with profile( profile_memory=True, record_shapes=True) as prof:\n",
    "    loss_mask = (reduced_gts == 1).float()\n",
    "    pred_heatmap = torch.clamp(pred, min=1e-4)\n",
    "print(prof.key_averages().table(sort_by=\"self_cuda_memory_usage\", row_limit=10))"
   ]
  },
  {
   "cell_type": "code",
   "execution_count": null,
   "metadata": {},
   "outputs": [],
   "source": [
    "with profile( profile_memory=True, record_shapes=True) as prof:\n",
    "    loss=-torch.sum(\n",
    "                    torch.pow(pred_heatmap - reduced_maps, 2) * (\n",
    "                    loss_mask * torch.log(pred_heatmap)\n",
    "                    +\n",
    "                    (1-loss_mask) * (torch.pow(1 - reduced_maps, 4) * torch.log(1 - pred_heatmap))\n",
    "                )\n",
    "            )\n",
    "    loss.backward()\n",
    "print(prof.key_averages().table(sort_by=\"self_cuda_memory_usage\", row_limit=10))"
   ]
  },
  {
   "cell_type": "code",
   "execution_count": null,
   "metadata": {},
   "outputs": [],
   "source": [
    "torch.cuda.empty_cache()\n",
    "with profile( profile_memory=True, record_shapes=True) as prof:\n",
    "    trainer.optimizer.step()\n",
    "print(prof.key_averages().table(sort_by=\"self_cuda_memory_usage\", row_limit=10))\n"
   ]
  },
  {
   "cell_type": "code",
   "execution_count": null,
   "metadata": {},
   "outputs": [],
   "source": [
    "with profile( profile_memory=True, record_shapes=True) as prof:\n",
    "    gs_map=gs_map.view([6,12,-1])\n",
    "    gt_map=gt_map.view([6,12,-1])\n",
    "    max_num=max(mask.sum(dim=1))\n",
    "    reduced_maps=[]\n",
    "    reduced_gts=[]\n",
    "    for i,batch in enumerate(gs_map):\n",
    "        reduced_map=batch[mask[i].repeat(12,1)].view(12,-1)\n",
    "        reduced_gt=gt_map[i][mask[i].repeat(12,1)].view(12,-1)\n",
    "        aug_map=torch.cat((reduced_map, torch.zeros(12,max_num - reduced_map.size(1),device=pred.device)), -1)\n",
    "        aug_gt=torch.cat((reduced_gt, torch.zeros(12,max_num - reduced_map.size(1),device=pred.device)), -1)\n",
    "        reduced_maps.append(aug_map.unsqueeze(0))\n",
    "        reduced_gts.append(aug_gt.unsqueeze(0))\n",
    "    reduced_maps=torch.cat(reduced_maps,dim=0).to(pred.device)\n",
    "    reduced_gts=torch.cat(reduced_gts,dim=0).to(pred.device)\n",
    "print(prof.key_averages().table(sort_by=\"self_cuda_memory_usage\", row_limit=10))"
   ]
  },
  {
   "cell_type": "code",
   "execution_count": null,
   "metadata": {},
   "outputs": [],
   "source": [
    "reduced_gts.sum()"
   ]
  },
  {
   "cell_type": "code",
   "execution_count": null,
   "metadata": {},
   "outputs": [],
   "source": [
    "def get_index(pred,mask):\n",
    "    x_coord,y_coord=torch.meshgrid(torch.arange(0,122,1),\n",
    "                                torch.arange(0,122,1))\n",
    "    nodes_candidates=torch.cat((x_coord.unsqueeze(0),y_coord.unsqueeze(0)),dim=0).view(2,-1).T\n",
    "    nodes_2D=torch.zeros([mask.shape[0],pred.shape[-1],2])\n",
    "    for i in range(mask.shape[0]):\n",
    "        nodes_batch=nodes_candidates[mask[i]]\n",
    "        nodes_2D[i,:nodes_batch.shape[0]]=nodes_batch\n",
    "    return nodes_2D.int().permute(0,2,1).to(pred.device)\n",
    "nodes_2D=get_index(pred,mask)\n",
    "nodes_2D.shape"
   ]
  },
  {
   "cell_type": "code",
   "execution_count": null,
   "metadata": {},
   "outputs": [],
   "source": [
    "def get_dense(pred,nodes_2D,H,W):\n",
    "    dense_rep=torch.empty(0,pred.shape[1],H,W,device=pred.device)\n",
    "    for batch in range(pred.shape[0]):\n",
    "        batch_heatmap=torch.empty(0,H,W,device=pred.device)\n",
    "        for step in range(pred.shape[1]):\n",
    "            heatmap=torch.sparse_coo_tensor(nodes_2D[batch],pred[batch,step],(122,122))\n",
    "            batch_heatmap=torch.cat((batch_heatmap,heatmap.to_dense().unsqueeze(0)),dim=0)\n",
    "        dense_rep=torch.cat((dense_rep,batch_heatmap.unsqueeze(0)),dim=0)\n",
    "    return dense_rep\n",
    "dense_rep=get_dense(pred,nodes_2D,122,122)"
   ]
  },
  {
   "cell_type": "code",
   "execution_count": null,
   "metadata": {},
   "outputs": [],
   "source": [
    "predictions['probs']=predictions['prob']"
   ]
  },
  {
   "cell_type": "code",
   "execution_count": null,
   "metadata": {},
   "outputs": [],
   "source": [
    "\n",
    "\n",
    "with profile( profile_memory=True, record_shapes=True) as prof:\n",
    "\n",
    "# loss=pred.sum()\n",
    "    loss=focal.compute(predictions,gt_test)\n",
    "    loss+=ade.compute(predictions,gt_test)\n",
    "    loss.backward()\n",
    "print(prof.key_averages().table(sort_by=\"self_cuda_memory_usage\", row_limit=10))"
   ]
  },
  {
   "cell_type": "code",
   "execution_count": null,
   "metadata": {},
   "outputs": [],
   "source": [
    "trainer.model.aggregator"
   ]
  },
  {
   "cell_type": "code",
   "execution_count": null,
   "metadata": {},
   "outputs": [],
   "source": [
    "pred = predictions['pred']\n",
    "mask_da = predictions['mask'].view(-1,pred.shape[-2],pred.shape[-1]).unsqueeze(1)\n",
    "ground_truth = gt_test\n",
    "traj_gt = ground_truth['traj'] if type(ground_truth) == dict else ground_truth\n",
    "true_heatmap,gs_map = focal.generate_gtmap(traj_gt,pred.shape)\n",
    "gs_map=gs_map*mask_da\n",
    "mask = (true_heatmap == 1).float()\n",
    "pred_heatmap = torch.clamp(pred, min=1e-4)"
   ]
  },
  {
   "cell_type": "code",
   "execution_count": null,
   "metadata": {},
   "outputs": [],
   "source": [
    "loss= focal()"
   ]
  },
  {
   "cell_type": "code",
   "execution_count": null,
   "metadata": {},
   "outputs": [],
   "source": [
    "loss.backward()"
   ]
  },
  {
   "cell_type": "code",
   "execution_count": null,
   "metadata": {},
   "outputs": [],
   "source": [
    "pred = predictions['pred']\n",
    "mask = predictions['mask'].view(-1,pred.shape[-2],pred.shape[-1]).unsqueeze(1)\n",
    "non_drivable_area_mask=~mask"
   ]
  },
  {
   "cell_type": "code",
   "execution_count": null,
   "metadata": {},
   "outputs": [],
   "source": [
    "import matplotlib.pyplot as plt\n",
    "plt.imshow(non_drivable_area_mask[0,0].cpu())\n",
    "plt.show()\n",
    "plt.imshow(torch.zeros_like(non_drivable_area_mask[0,0].cpu()))\n",
    "plt.show()"
   ]
  },
  {
   "cell_type": "code",
   "execution_count": null,
   "metadata": {},
   "outputs": [],
   "source": [
    "from nuscenes.prediction import PredictHelper\n",
    "from nuscenes.prediction.input_representation.static_layers import StaticLayerRasterizer\n",
    "from nuscenes.nuscenes import NuScenes\n",
    "map_extent=[ -50, 50, -20, 80 ]\n",
    "img_size=[400,400]\n",
    "resolution = (map_extent[1] - map_extent[0]) /  img_size[1]\n",
    "nusc = NuScenes(version='v1.0-trainval', dataroot=\"/home/stanliu/data/mnt/nuScenes/\", verbose=True)\n",
    "helper=PredictHelper(nusc)\n",
    "map_rasterizer = StaticLayerRasterizer(helper,\n",
    "                                        resolution=resolution,\n",
    "                                        meters_ahead=map_extent[3],\n",
    "                                        meters_behind=-map_extent[2],\n",
    "                                        meters_left=-map_extent[0],\n",
    "                                        meters_right=map_extent[1])"
   ]
  },
  {
   "cell_type": "code",
   "execution_count": null,
   "metadata": {},
   "outputs": [],
   "source": [
    "import torch\n",
    "target_agent_representation = data_test['target_agent_representation']\n",
    "surrounding_agent_representation = data_test['surrounding_agent_representation']\n",
    "map_representation = data_test['map_representation'][0]\n",
    "mask= data_test['map_representation'][1].type(torch.bool)\n",
    "mask.shape"
   ]
  },
  {
   "cell_type": "code",
   "execution_count": null,
   "metadata": {},
   "outputs": [],
   "source": [
    "idx=10\n",
    "import matplotlib.pyplot as plt\n",
    "import numpy as np\n",
    "\n",
    "plt.imshow(np.array(mask[idx]))\n",
    "plt.show()\n",
    "plt.imshow(np.array(map_representation[idx]).transpose(1,2,0))"
   ]
  },
  {
   "cell_type": "code",
   "execution_count": null,
   "metadata": {},
   "outputs": [],
   "source": [
    "\n",
    "from torchvision.models import resnet34\n",
    "# input = torch.cat((map_representation, surrounding_agent_representation), dim=1)\n",
    "# resnet_model = resnet34(pretrained=False)\n",
    "# conv1_new = nn.Conv2d(6, 64, kernel_size=(7, 7), stride=(2, 2), padding=(3, 3), bias=False)\n",
    "# modules = list(resnet_model.children())[:-2]\n",
    "\n",
    "# modules[0] = conv1_new\n",
    "# backbone = nn.Sequential(*modules)\n",
    "# data_test['target_agent_representation'].float().dtype"
   ]
  },
  {
   "cell_type": "code",
   "execution_count": null,
   "metadata": {},
   "outputs": [],
   "source": [
    "from models.encoders.raster_encoder import *\n",
    "encoder=RasterEncoder(cfg['encoder_args'])\n",
    "# encodings=encoder.forward(data_test)"
   ]
  },
  {
   "cell_type": "code",
   "execution_count": null,
   "metadata": {},
   "outputs": [],
   "source": [
    "encodings['context_encoding'][\"combined\"].shape"
   ]
  },
  {
   "cell_type": "code",
   "execution_count": null,
   "metadata": {},
   "outputs": [],
   "source": [
    "import torch\n",
    "import torch.nn.modules as nn\n",
    "fake_map_encodings=torch.randn(32, 512, 16,16)\n",
    "fake_agent_input=torch.randn(32, 32).unsqueeze(2).unsqueeze(3).repeat(1,1,16,16)"
   ]
  },
  {
   "cell_type": "code",
   "execution_count": null,
   "metadata": {},
   "outputs": [],
   "source": [
    "concatenated_encodings=torch.cat([fake_map_encodings,fake_agent_input],dim=1)\n",
    "conv1d1=nn.Conv2d(544, 528, kernel_size=1, stride=1, bias=False)\n",
    "conv1d2=nn.Conv2d(528, 512, kernel_size=1, stride=1, bias=False)\n",
    "test_dim_reduction=nn.Sequential(conv1d1,nn.BatchNorm2d(528),nn.ReLU(),conv1d2,nn.BatchNorm2d(512),nn.ReLU())\n",
    "fake_feature=test_dim_reduction(concatenated_encodings)\n",
    "fake_feature=fake_feature.view(fake_feature.shape[0], fake_feature.shape[1], -1).permute(0, 2, 1)\n",
    "\n",
    "fake_feature.shape"
   ]
  },
  {
   "cell_type": "code",
   "execution_count": null,
   "metadata": {},
   "outputs": [],
   "source": [
    "upsampled_test=final_convs(transpose_convs(fake_feature))\n",
    "# augmented_mask=mask.unsqueeze(-1)\n",
    "print(upsampled_test[:,:,::2,::2].shape)\n"
   ]
  },
  {
   "cell_type": "code",
   "execution_count": null,
   "metadata": {},
   "outputs": [],
   "source": [
    "import numpy as np\n",
    "\n",
    "\n",
    "import torch\n",
    "from torch import nn\n",
    "\n",
    "# from model.decode import generic_decode\n",
    "\n",
    "# from utils.image import gaussian_radius, draw_umich_gaussian\n",
    "\n",
    "# from model.ConvGRU import ConvGRU\n",
    "\n",
    "from einops import rearrange as rearr, repeat\n",
    "\n",
    "from spatial_correlation_sampler import spatial_correlation_sample\n",
    "\n",
    "\n",
    "class LocalWalk(nn.Module):\n",
    "    def __init__(self, topk=0, radius=0.05, temp=0.05, pad_value=0,\n",
    "            broadcast_val=False, corr_module=True):\n",
    "        super(LocalWalk, self).__init__()\n",
    "\n",
    "        self.topk = topk\n",
    "        self.radius = radius\n",
    "        self.vals = {}\n",
    "        self.idxmaps = {}\n",
    "        self.temp = temp\n",
    "        self.pad_value = pad_value\n",
    "\n",
    "        self.broadcast_val = broadcast_val\n",
    "\n",
    "        self.corr_module = corr_module\n",
    "\n",
    "    def get_identity_label(self, keys):\n",
    "        '''\n",
    "        returns 1 x H*W x H x W as reshaped H*W x H*W identity matrix\n",
    "        '''\n",
    "        B, C, H, W = keys.shape\n",
    "        name = f\"{H}_{W}\"\n",
    "        if name not in self.vals:\n",
    "            vals = self.distance_field(H, W).flatten(0, 1)\n",
    "            vals = (vals == 0).float() ##Returns an identity matrix, which is composed of multiple matrices.\n",
    "            # The i th matrix has an element 1 at the i ith position, the rest places are all zeros.\n",
    "            vals = repeat(vals, 'n h w -> b n h w', b=B if not self.broadcast_val else 1)## Repeat for batch number times\n",
    "            self.vals[name] = vals.to(keys.device)\n",
    "            print('created vals')\n",
    "\n",
    "        return self.vals[name]\n",
    "\n",
    "    def knn(self, A):\n",
    "        if self.pad_value == 0 or self.topk > 0:\n",
    "            with torch.no_grad():\n",
    "                mask = (A == self.pad_value)\n",
    "                if self.topk > 0:\n",
    "                  mask |= (A < A.topk(k=self.topk, dim=-1)[0].min(-1, keepdim=True)[0])\n",
    "            A[mask] = -10\n",
    "\n",
    "        return A\n",
    "\n",
    "    def distance_field(self, H, W, p=2):\n",
    "        gx, gy = torch.meshgrid(torch.arange(0, H), torch.arange(0, W))\n",
    "        D = ( (gx[None, None, :, :] - gx[:, :, None, None]).abs()**p + (gy[None, None, :, :] - gy[:, :, None, None]).abs()**p ).float() #** (1/p)\n",
    "        return D\n",
    "\n",
    "    def make_scatter_map(self, keys, kH, kW):\n",
    "        B, C, H, W = keys.shape\n",
    "        name = f\"{H}_{W}_{kH}_{kW}\"\n",
    "        if name not in self.idxmaps:\n",
    "            idx_map = torch.arange(H*W).view(H, W)[None, None].float()\n",
    "            idx_map = torch.nn.functional.unfold(idx_map, kernel_size=(kH, kW), stride=1, padding=(kH//2, kW//2))\n",
    "            idx_map = rearr(idx_map, 'b n hw -> b hw n')\n",
    "            idx_map = idx_map.clamp(min=0).long()\n",
    "            self.idxmaps[name] = idx_map.to(keys.device)\n",
    "            print('created idx map')\n",
    "\n",
    "        return self.idxmaps[name]\n",
    "\n",
    "    def forward(self, query, keys, val=None):\n",
    "        '''\n",
    "        assumes q, k, v: B D N\n",
    "        '''\n",
    "\n",
    "        B, C, H, W = keys.shape\n",
    "        kW = kH = int(H * self.radius) * 2 + 1\n",
    "\n",
    "        val = self.make_scatter_map(keys, kH, kW)## Returns the indices of elements inside the sliding windows of all steps\n",
    "        ## The sliding window has size (kH,kW), the input is keys.\n",
    "        # out = self.get_identity_label(keys) * 0##Why all zeros?\n",
    "        out = torch.zeros([B,H*W,H,W]).float()\n",
    "        out = repeat(out, '1 n h w -> b (h w) n', b=B) if out.shape[0] == 1 else \\\n",
    "              rearr(out, 'b n h w -> b (h w) n') ##Repeat for batch number\n",
    "\n",
    "        if self.corr_module:\n",
    "            att = spatial_correlation_sample(query,\n",
    "                               keys,\n",
    "                               kernel_size=1,\n",
    "                               patch_size=kH,\n",
    "                               stride=1,\n",
    "                               padding=0,\n",
    "                               dilation=1,\n",
    "                               dilation_patch=1) / self.temp\n",
    "            att = rearr(att, 'b p1 p2 h w -> b h w (p1 p2)')##Local connectivity, for each node (pixel)\n",
    "            ## calculate its node similarity with nearby nodes\n",
    "\n",
    "        A = self.knn(att)\n",
    "\n",
    "        A = torch.exp(rearr(A, 'b h w n -> b (h w) n'))\n",
    "        out.scatter_add_(2, val.to(A.device).expand_as(A), A)\n",
    "        val = rearr(out, 'b (h w) n -> b n h w', h=H)\n",
    "\n",
    "        return val"
   ]
  },
  {
   "cell_type": "code",
   "execution_count": null,
   "metadata": {},
   "outputs": [],
   "source": [
    "test_tensor=torch.randn([32,20,100,100])\n",
    "test_walker=LocalWalk(radius=0.2)\n",
    "test_walker.forward(test_tensor,test_tensor).shape"
   ]
  },
  {
   "cell_type": "code",
   "execution_count": null,
   "metadata": {},
   "outputs": [],
   "source": [
    "from models.library.RasterSampler import *\n",
    "sampler=Sampler(cfg['train_set_args'],1)"
   ]
  },
  {
   "cell_type": "code",
   "execution_count": null,
   "metadata": {},
   "outputs": [],
   "source": [
    "fake_mask=torch.randn([32,488,488]).ge(0)\n",
    "nodes_2D=sampler.sample_goals().repeat(32,1,1).type(torch.float32)\n",
    "mask_under=(sampler.sample_mask(mask))\n",
    "attn_mask=~mask_under.unsqueeze(-1).repeat(2,1,256)\n",
    "print(attn_mask.shape)\n",
    "print(mask.shape)\n",
    "print(nodes_2D.shape)\n"
   ]
  },
  {
   "cell_type": "code",
   "execution_count": null,
   "metadata": {},
   "outputs": [],
   "source": [
    "import matplotlib.pyplot as plt\n",
    "plt.imshow(np.array(mask[0]))\n",
    "plt.show()\n",
    "plt.imshow(np.array(~mask_under[0].view(122,122)))\n",
    "plt.show()"
   ]
  },
  {
   "cell_type": "code",
   "execution_count": null,
   "metadata": {},
   "outputs": [],
   "source": [
    "with open(\"/home/stanliu/code/pgp/PGP/configs/preprocess_nuscenes.yml\", 'r') as yaml_file:\n",
    "    cfg = yaml.safe_load(yaml_file)"
   ]
  },
  {
   "cell_type": "code",
   "execution_count": null,
   "metadata": {},
   "outputs": [],
   "source": [
    "from datasets.nuScenes.nuScenes_graphs import NuScenesGraphs\n",
    "from nuscenes.nuscenes import NuScenes\n",
    "nusc = NuScenes(version='v1.0-trainval', dataroot=\"/home/stanliu/data/mnt/nuScenes/\", verbose=True)\n"
   ]
  },
  {
   "cell_type": "code",
   "execution_count": null,
   "metadata": {},
   "outputs": [],
   "source": [
    "from nuscenes.prediction import PredictHelper\n",
    "helper=PredictHelper(nusc)\n",
    "graph_extractor=NuScenesGraphs('extract_data','/home/stanliu/code/pgp/PGP/preprocess',cfg['train_set_args'],helper)"
   ]
  },
  {
   "cell_type": "code",
   "execution_count": null,
   "metadata": {},
   "outputs": [],
   "source": [
    "graph_extractor.max_nodes"
   ]
  },
  {
   "cell_type": "code",
   "execution_count": null,
   "metadata": {},
   "outputs": [],
   "source": [
    "idx=0\n",
    "i_t, s_t = graph_extractor.token_list[idx].split(\"_\")\n",
    "map_name = graph_extractor.helper.get_map_name_from_sample_token(s_t)\n",
    "map_api = graph_extractor.maps[map_name]\n",
    "\n",
    "# Get agent representation in global co-ordinates\n",
    "global_pose = graph_extractor.get_target_agent_global_pose(idx)\n",
    "\n",
    "# Get lanes around agent within map_extent\n",
    "lanes = graph_extractor.get_lanes_around_agent(global_pose, map_api)\n",
    "\n",
    "# Get relevant polygon layers from the map_api\n",
    "polygons = graph_extractor.get_polygons_around_agent(global_pose, map_api)\n",
    "\n",
    "# Get vectorized representation of lanes\n",
    "lane_node_feats, lane_ids = graph_extractor.get_lane_node_feats(global_pose, lanes, polygons)\n"
   ]
  },
  {
   "cell_type": "code",
   "execution_count": null,
   "metadata": {},
   "outputs": [],
   "source": [
    "polygons"
   ]
  },
  {
   "cell_type": "code",
   "execution_count": null,
   "metadata": {},
   "outputs": [],
   "source": [
    "lane_node_feats, lane_ids = graph_extractor.discard_poses_outside_extent(lane_node_feats, lane_ids)"
   ]
  },
  {
   "cell_type": "code",
   "execution_count": null,
   "metadata": {},
   "outputs": [],
   "source": [
    "e_succ = graph_extractor.get_successor_edges(lane_ids, map_api)\n",
    "e_prox = graph_extractor.get_proximal_edges(lane_node_feats, e_succ)"
   ]
  },
  {
   "cell_type": "code",
   "execution_count": null,
   "metadata": {},
   "outputs": [],
   "source": [
    "\n",
    "num_nbrs = [len(e_succ[i]) + len(e_prox[i]) for i in range(len(e_succ))]\n",
    "max_nbrs = max(num_nbrs) if len(num_nbrs) > 0 else 0\n",
    "num_nodes = len(lane_node_feats)\n"
   ]
  },
  {
   "cell_type": "code",
   "execution_count": null,
   "metadata": {},
   "outputs": [],
   "source": [
    "print('num_nbrs',(num_nbrs))\n",
    "print('max_nbrs',max_nbrs)\n",
    "print('num_nodes',num_nodes)"
   ]
  },
  {
   "cell_type": "code",
   "execution_count": null,
   "metadata": {},
   "outputs": [],
   "source": [
    "s_next, edge_type = graph_extractor.get_edge_lookup(e_succ, e_prox)"
   ]
  },
  {
   "cell_type": "code",
   "execution_count": null,
   "metadata": {},
   "outputs": [],
   "source": [
    "from numpy import linalg as LA\n",
    "lengths=[]\n",
    "segment_lengths=[]\n",
    "for idx in range(len(lane_node_feats)):\n",
    "    lengths.append(LA.norm(lane_node_feats[idx][1:,:2]-lane_node_feats[idx][:-1,:2],axis=1).sum())\n",
    "    segment_lengths.append(LA.norm(lane_node_feats[idx][1:,:2]-lane_node_feats[idx][:-1,:2],axis=1)[0])\n",
    "print(lengths)\n",
    "print(segment_lengths)"
   ]
  },
  {
   "cell_type": "code",
   "execution_count": null,
   "metadata": {},
   "outputs": [],
   "source": [
    "import numpy as np\n",
    "prev_feat=np.empty([0,5])\n",
    "for feat in lane_node_feats[:2]:\n",
    "    prev_feat=np.r_[prev_feat,feat]\n",
    "idx=-10\n",
    "import matplotlib.pyplot as plt\n",
    "x=prev_feat[:,0]\n",
    "y=prev_feat[:,1]\n",
    "plt.scatter(x,y,s=2)"
   ]
  }
 ],
 "metadata": {
  "kernelspec": {
   "display_name": "Python 3.7.13 ('pgp')",
   "language": "python",
   "name": "python3"
  },
  "language_info": {
   "codemirror_mode": {
    "name": "ipython",
    "version": 3
   },
   "file_extension": ".py",
   "mimetype": "text/x-python",
   "name": "python",
   "nbconvert_exporter": "python",
   "pygments_lexer": "ipython3",
   "version": "3.7.15"
  },
  "orig_nbformat": 4,
  "vscode": {
   "interpreter": {
    "hash": "593542b65644041049b318720dfeebe70f9074a000f082b969de259755a1a643"
   }
  }
 },
 "nbformat": 4,
 "nbformat_minor": 2
}
