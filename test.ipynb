{
 "cells": [
  {
   "cell_type": "code",
   "execution_count": 1,
   "metadata": {},
   "outputs": [
    {
     "name": "stderr",
     "output_type": "stream",
     "text": [
      "2022-12-11 22:56:19,756\tINFO worker.py:1518 -- Started a local Ray instance.\n"
     ]
    }
   ],
   "source": [
    "\n",
    "import yaml\n",
    "from train_eval.trainer import Trainer\n",
    "import torch\n",
    "# import os\n",
    "# os.environ['CUDA_DEVICE_ORDER'] = 'PCI_BUS_ID'\n",
    "# os.environ['CUDA_VISIBLE_DEVICES'] = \"0\"\n"
   ]
  },
  {
   "cell_type": "code",
   "execution_count": 2,
   "metadata": {},
   "outputs": [],
   "source": [
    "with open(\"/home/stanliu/code/pgp/PGP/configs/raster.yml\", 'r') as yaml_file:\n",
    "    cfg = yaml.safe_load(yaml_file)"
   ]
  },
  {
   "cell_type": "code",
   "execution_count": 29,
   "metadata": {},
   "outputs": [],
   "source": [
    "ds_type = cfg['dataset'] + '_' + cfg['agent_setting'] + '_' + cfg['input_representation']\n",
    "# cfg\n",
    "# cfg['encoder_args']"
   ]
  },
  {
   "cell_type": "code",
   "execution_count": 3,
   "metadata": {},
   "outputs": [
    {
     "name": "stdout",
     "output_type": "stream",
     "text": [
      "======\n",
      "Loading NuScenes tables for version v1.0-trainval...\n",
      "23 category,\n",
      "8 attribute,\n",
      "4 visibility,\n",
      "64386 instance,\n",
      "12 sensor,\n",
      "10200 calibrated_sensor,\n",
      "2631083 ego_pose,\n",
      "68 log,\n",
      "850 scene,\n",
      "34149 sample,\n",
      "2631083 sample_data,\n",
      "1166187 sample_annotation,\n",
      "4 map,\n",
      "Done loading in 36.460 seconds.\n",
      "======\n",
      "Reverse indexing ...\n",
      "Done reverse indexing in 8.9 seconds.\n",
      "======\n"
     ]
    }
   ],
   "source": [
    "trainer = Trainer(cfg, \"/home/stanliu/data/mnt/nuScenes/\", \"/home/stanliu/code/pgp/PGP/preprocess_raster\")"
   ]
  },
  {
   "cell_type": "code",
   "execution_count": 5,
   "metadata": {},
   "outputs": [],
   "source": [
    "for i,data in enumerate(trainer.tr_dl):\n",
    "    data_test=data['inputs']\n",
    "    gt_test=data['ground_truth']\n",
    "    break\n"
   ]
  },
  {
   "cell_type": "code",
   "execution_count": 12,
   "metadata": {},
   "outputs": [],
   "source": [
    "data['ground_truth']['traj']\n",
    "compensation=trainer.model.decoder.compensation\n",
    "def generate_gtmap( traj_gt: torch.Tensor,shape) -> torch.Tensor:\n",
    "    swapped=torch.zeros_like(traj_gt)\n",
    "    swapped[:,:,0],swapped[:,:,1]=-traj_gt[:,:,1],traj_gt[:,:,0]\n",
    "    coord=torch.round(swapped/1+compensation).int()\n",
    "    coord=torch.clamp(coord,0,shape[-1])\n",
    "    gt_map=torch.zeros(shape)\n",
    "    for batch in range(shape[0]):\n",
    "        for t in range(shape[1]):\n",
    "            x,y=coord[batch,t]\n",
    "            gt_map[batch,t,x,y]=1\n",
    "    return gt_map\n",
    "shape=torch.zeros([32,12,122,122]).shape\n",
    "test_htmap=generate_gtmap(data['ground_truth']['traj'],shape)"
   ]
  },
  {
   "cell_type": "code",
   "execution_count": 32,
   "metadata": {},
   "outputs": [
    {
     "data": {
      "image/png": "[encoded data removed]",
      "text/plain": [
       "<Figure size 432x288 with 1 Axes>"
      ]
     },
     "metadata": {
      "needs_background": "light"
     },
     "output_type": "display_data"
    },
    {
     "data": {
      "image/png": "[encoded data removed]",
      "text/plain": [
       "<Figure size 432x288 with 1 Axes>"
      ]
     },
     "metadata": {
      "needs_background": "light"
     },
     "output_type": "display_data"
    },
    {
     "data": {
      "text/plain": [
       "tensor([[[ 3.3505e-01,  5.5447e+00],\n",
       "         [ 4.6407e-01,  1.0795e+01],\n",
       "         [ 5.9309e-01,  1.6045e+01],\n",
       "         [ 7.2212e-01,  2.1295e+01],\n",
       "         [ 8.5061e-01,  2.6551e+01],\n",
       "         [ 1.0057e+00,  3.1443e+01],\n",
       "         [ 1.1607e+00,  3.6339e+01],\n",
       "         [ 1.3158e+00,  4.1231e+01],\n",
       "         [ 1.4708e+00,  4.6124e+01],\n",
       "         [ 1.7595e+00,  5.0565e+01],\n",
       "         [ 2.0480e+00,  5.5007e+01],\n",
       "         [ 2.2973e+00,  5.9124e+01]],\n",
       "\n",
       "        [[-4.6973e-02,  3.0115e+00],\n",
       "         [-2.1886e-01,  6.5671e+00],\n",
       "         [-3.9117e-01,  1.0127e+01],\n",
       "         [-6.4876e-01,  1.4125e+01],\n",
       "         [-7.0240e-01,  1.8302e+01],\n",
       "         [-8.2073e-01,  2.2131e+01],\n",
       "         [-9.6629e-01,  2.6526e+01],\n",
       "         [-1.1127e+00,  3.0919e+01],\n",
       "         [-1.2583e+00,  3.5314e+01],\n",
       "         [-1.3916e+00,  3.9542e+01],\n",
       "         [-1.6728e+00,  4.3758e+01],\n",
       "         [-2.1003e+00,  4.7962e+01]],\n",
       "\n",
       "        [[-2.0975e-02,  1.2222e+00],\n",
       "         [-1.2848e-01,  2.5633e+00],\n",
       "         [-3.0373e-01,  3.7743e+00],\n",
       "         [-9.8477e-01,  5.3605e+00],\n",
       "         [-1.8965e+00,  6.8278e+00],\n",
       "         [-3.3730e+00,  8.4343e+00],\n",
       "         [-5.1478e+00,  9.6911e+00],\n",
       "         [-6.8827e+00,  1.0881e+01],\n",
       "         [-8.7140e+00,  1.1914e+01],\n",
       "         [-1.1255e+01,  1.2841e+01],\n",
       "         [-1.3870e+01,  1.3545e+01],\n",
       "         [-1.6990e+01,  1.4402e+01]],\n",
       "\n",
       "        [[ 8.3355e-03,  3.2566e+00],\n",
       "         [ 7.1224e-03,  6.2845e+00],\n",
       "         [ 6.1469e-03,  9.3138e+00],\n",
       "         [ 5.6464e-03,  1.2346e+01],\n",
       "         [ 9.3897e-02,  1.4400e+01],\n",
       "         [ 1.7327e-01,  1.6251e+01],\n",
       "         [ 2.1981e-01,  1.7863e+01],\n",
       "         [ 3.2561e-01,  1.9469e+01],\n",
       "         [ 4.9303e-01,  2.1074e+01],\n",
       "         [ 7.4726e-01,  2.2836e+01],\n",
       "         [ 1.0412e+00,  2.4422e+01],\n",
       "         [ 1.4382e+00,  2.6129e+01]],\n",
       "\n",
       "        [[ 1.3936e-02,  4.1650e+00],\n",
       "         [ 1.2706e-01,  9.0084e+00],\n",
       "         [ 3.6828e-01,  1.3782e+01],\n",
       "         [ 8.3033e-01,  1.8278e+01],\n",
       "         [ 1.5333e+00,  2.2913e+01],\n",
       "         [ 2.4857e+00,  2.7592e+01],\n",
       "         [ 3.4381e+00,  3.2272e+01],\n",
       "         [ 4.4495e+00,  3.6939e+01],\n",
       "         [ 5.6191e+00,  4.1900e+01],\n",
       "         [ 6.7862e+00,  4.6856e+01],\n",
       "         [ 7.9551e+00,  5.1819e+01],\n",
       "         [ 9.0623e+00,  5.6678e+01]],\n",
       "\n",
       "        [[ 9.7778e-05, -2.8267e-03],\n",
       "         [-6.0935e-03,  1.2525e-02],\n",
       "         [-1.2285e-02,  2.7876e-02],\n",
       "         [-3.5092e-02,  4.6222e-01],\n",
       "         [-2.0502e-02,  1.2063e+00],\n",
       "         [-5.2363e-03,  2.4627e+00],\n",
       "         [ 9.3472e-03,  3.7184e+00],\n",
       "         [ 3.0898e-02,  5.4476e+00],\n",
       "         [ 5.3277e-02,  7.1734e+00],\n",
       "         [ 2.4201e-01,  9.2239e+00],\n",
       "         [ 5.3948e-01,  1.1199e+01],\n",
       "         [ 1.2461e+00,  1.3211e+01]],\n",
       "\n",
       "        [[-4.9094e-03,  2.5277e+00],\n",
       "         [-9.4429e-03,  5.0581e+00],\n",
       "         [-1.3976e-02,  7.5886e+00],\n",
       "         [-1.8741e-02,  1.0123e+01],\n",
       "         [-1.9286e-01,  1.2139e+01],\n",
       "         [-4.4225e-01,  1.4349e+01],\n",
       "         [-7.8582e-01,  1.6229e+01],\n",
       "         [-1.4133e+00,  1.7631e+01],\n",
       "         [-2.2301e+00,  1.8930e+01],\n",
       "         [-2.8951e+00,  1.9934e+01],\n",
       "         [-3.9484e+00,  2.0959e+01],\n",
       "         [-5.0906e+00,  2.1656e+01]],\n",
       "\n",
       "        [[ 8.7484e-02,  4.8187e+00],\n",
       "         [ 1.7547e-01,  9.6431e+00],\n",
       "         [ 1.7656e-01,  1.4680e+01],\n",
       "         [ 1.7803e-01,  1.9722e+01],\n",
       "         [ 1.7913e-01,  2.4759e+01],\n",
       "         [ 1.8126e-01,  2.8792e+01],\n",
       "         [ 1.8185e-01,  3.3823e+01],\n",
       "         [ 1.0957e-01,  3.8866e+01],\n",
       "         [ 3.7292e-02,  4.3908e+01],\n",
       "         [-1.3179e-01,  4.8835e+01],\n",
       "         [-3.0152e-01,  5.3764e+01],\n",
       "         [-4.5429e-01,  5.8435e+01]],\n",
       "\n",
       "        [[ 2.5628e-02,  1.5326e+00],\n",
       "         [ 5.2184e-02,  3.0655e+00],\n",
       "         [ 7.8739e-02,  4.5984e+00],\n",
       "         [ 1.0437e-01,  6.1310e+00],\n",
       "         [ 1.4542e-01,  7.6493e+00],\n",
       "         [ 1.8740e-01,  9.1679e+00],\n",
       "         [ 1.8889e-01,  1.0430e+01],\n",
       "         [ 1.9002e-01,  1.1693e+01],\n",
       "         [ 1.2869e-01,  1.2782e+01],\n",
       "         [ 1.6988e-01,  1.3595e+01],\n",
       "         [ 2.1200e-01,  1.4409e+01],\n",
       "         [ 2.6796e-01,  1.5098e+01]],\n",
       "\n",
       "        [[ 1.8547e-01,  2.6739e+00],\n",
       "         [ 1.4402e+00,  5.2631e+00],\n",
       "         [ 3.3231e+00,  8.7768e+00],\n",
       "         [ 5.7677e+00,  1.1461e+01],\n",
       "         [ 8.4204e+00,  1.3872e+01],\n",
       "         [ 1.1076e+01,  1.6286e+01],\n",
       "         [ 1.3727e+01,  1.8698e+01],\n",
       "         [ 1.6382e+01,  2.1111e+01],\n",
       "         [ 1.9038e+01,  2.3526e+01],\n",
       "         [ 2.1425e+01,  2.5698e+01],\n",
       "         [ 2.4339e+01,  2.8347e+01],\n",
       "         [ 2.6991e+01,  3.0758e+01]],\n",
       "\n",
       "        [[-1.1122e-01,  1.2833e+00],\n",
       "         [ 1.3095e-01,  2.4481e+00],\n",
       "         [ 5.3072e-01,  3.8042e+00],\n",
       "         [ 1.0807e+00,  5.1054e+00],\n",
       "         [ 1.8479e+00,  6.6524e+00],\n",
       "         [ 2.9529e+00,  8.0109e+00],\n",
       "         [ 4.3540e+00,  9.1187e+00],\n",
       "         [ 5.6271e+00,  1.0254e+01],\n",
       "         [ 7.0573e+00,  1.1184e+01],\n",
       "         [ 8.6273e+00,  1.2038e+01],\n",
       "         [ 1.0694e+01,  1.2411e+01],\n",
       "         [ 1.2910e+01,  1.2801e+01]],\n",
       "\n",
       "        [[-2.7301e-02,  5.4148e+00],\n",
       "         [-5.4602e-02,  1.0830e+01],\n",
       "         [-3.6312e-01,  1.6141e+01],\n",
       "         [-5.4189e-01,  2.0970e+01],\n",
       "         [-7.1962e-01,  2.5767e+01],\n",
       "         [-8.4161e-01,  3.0597e+01],\n",
       "         [-9.5189e-01,  3.4941e+01],\n",
       "         [-9.5568e-01,  3.9669e+01],\n",
       "         [-9.5989e-01,  4.4395e+01],\n",
       "         [-8.8096e-01,  4.8787e+01],\n",
       "         [-7.9415e-01,  5.3622e+01],\n",
       "         [-6.8087e-01,  5.8380e+01]],\n",
       "\n",
       "        [[-5.4587e-02, -5.0884e-04],\n",
       "         [-1.8714e-01,  4.4734e-01],\n",
       "         [-1.8127e-01,  3.3971e-01],\n",
       "         [-1.5388e-01,  3.3773e-01],\n",
       "         [-2.3630e-01,  1.4443e+00],\n",
       "         [-1.8704e-01,  1.5288e+00],\n",
       "         [-1.5907e-01,  2.2461e+00],\n",
       "         [-1.0380e-01,  2.9637e+00],\n",
       "         [-9.7194e-02,  4.0396e+00],\n",
       "         [-8.8522e-02,  5.2790e+00],\n",
       "         [-5.1396e-02,  6.8736e+00],\n",
       "         [ 1.6576e-02,  8.1503e+00]],\n",
       "\n",
       "        [[ 5.4860e-02,  6.2931e-01],\n",
       "         [ 7.5296e-02,  1.4434e+00],\n",
       "         [ 9.7962e-02,  2.1993e+00],\n",
       "         [ 2.9308e-01,  3.5726e+00],\n",
       "         [ 7.6605e-01,  4.8770e+00],\n",
       "         [ 1.5413e+00,  6.3577e+00],\n",
       "         [ 2.5515e+00,  7.8600e+00],\n",
       "         [ 4.1827e+00,  9.2505e+00],\n",
       "         [ 6.0411e+00,  1.0122e+01],\n",
       "         [ 8.1671e+00,  1.0702e+01],\n",
       "         [ 1.0852e+01,  1.1001e+01],\n",
       "         [ 1.3923e+01,  1.1320e+01]],\n",
       "\n",
       "        [[-4.9029e-01,  5.6531e+00],\n",
       "         [-9.3190e-01,  1.0737e+01],\n",
       "         [-1.4219e+00,  1.6384e+01],\n",
       "         [-1.5191e+00,  2.1950e+01],\n",
       "         [-1.6164e+00,  2.7516e+01],\n",
       "         [-1.4836e+00,  3.3088e+01],\n",
       "         [-1.2189e+00,  3.8800e+01],\n",
       "         [-7.2384e-01,  4.4499e+01],\n",
       "         [-5.9546e-04,  5.0166e+01],\n",
       "         [ 1.0911e+00,  5.5959e+01],\n",
       "         [ 2.1837e+00,  6.1752e+01],\n",
       "         [ 3.2756e+00,  6.7544e+01]],\n",
       "\n",
       "        [[-1.3318e-01,  4.9567e+00],\n",
       "         [-4.1229e-01,  1.0416e+01],\n",
       "         [-9.6418e-01,  1.5856e+01],\n",
       "         [-1.7663e+00,  2.1614e+01],\n",
       "         [-2.8626e+00,  2.7813e+01],\n",
       "         [-4.0846e+00,  3.3393e+01],\n",
       "         [-5.4206e+00,  3.8354e+01],\n",
       "         [-7.0276e+00,  4.3320e+01],\n",
       "         [-9.0172e+00,  4.8672e+01],\n",
       "         [-1.1320e+01,  5.3896e+01],\n",
       "         [-1.3866e+01,  5.8943e+01],\n",
       "         [-1.6587e+01,  6.3898e+01]],\n",
       "\n",
       "        [[ 7.1489e-02,  2.4129e+00],\n",
       "         [ 1.4319e-01,  4.8223e+00],\n",
       "         [ 2.1529e-01,  7.2344e+00],\n",
       "         [ 2.5217e-01,  1.0397e+01],\n",
       "         [ 2.1472e-01,  1.2982e+01],\n",
       "         [ 2.5009e-01,  1.6031e+01],\n",
       "         [ 2.8998e-01,  1.9381e+01],\n",
       "         [ 3.2576e-01,  2.2428e+01],\n",
       "         [ 3.6134e-01,  2.5473e+01],\n",
       "         [ 4.7172e-01,  2.8662e+01],\n",
       "         [ 5.8267e-01,  3.1854e+01],\n",
       "         [ 6.9165e-01,  3.5043e+01]],\n",
       "\n",
       "        [[-3.8416e-02,  3.6969e+00],\n",
       "         [-8.2792e-02,  8.1338e+00],\n",
       "         [-1.2035e-01,  1.1835e+01],\n",
       "         [-1.5785e-01,  1.5543e+01],\n",
       "         [-1.9540e-01,  1.9244e+01],\n",
       "         [-2.3293e-01,  2.2949e+01],\n",
       "         [-2.7046e-01,  2.6654e+01],\n",
       "         [-3.0798e-01,  3.0358e+01],\n",
       "         [-3.4551e-01,  3.4063e+01],\n",
       "         [-3.8306e-01,  3.7764e+01],\n",
       "         [-4.2145e-01,  4.1464e+01],\n",
       "         [-4.5846e-01,  4.5165e+01]],\n",
       "\n",
       "        [[ 2.4338e-01,  3.2142e+00],\n",
       "         [ 9.9914e-01,  7.4056e+00],\n",
       "         [ 1.8466e+00,  1.1071e+01],\n",
       "         [ 2.8168e+00,  1.5240e+01],\n",
       "         [ 3.9139e+00,  1.9113e+01],\n",
       "         [ 4.9759e+00,  2.2726e+01],\n",
       "         [ 5.8084e+00,  2.5674e+01],\n",
       "         [ 6.6417e+00,  2.8730e+01],\n",
       "         [ 7.3462e+00,  3.1767e+01],\n",
       "         [ 7.9619e+00,  3.4826e+01],\n",
       "         [ 8.5777e+00,  3.7884e+01],\n",
       "         [ 9.0382e+00,  4.0899e+01]],\n",
       "\n",
       "        [[ 1.3288e-01,  3.7337e+00],\n",
       "         [ 2.6558e-01,  7.4724e+00],\n",
       "         [ 3.2615e-01,  1.1127e+01],\n",
       "         [ 3.5715e-01,  1.4108e+01],\n",
       "         [ 5.9486e-01,  1.7547e+01],\n",
       "         [ 9.4269e-01,  2.0931e+01],\n",
       "         [ 1.4763e+00,  2.3722e+01],\n",
       "         [ 2.3539e+00,  2.6423e+01],\n",
       "         [ 3.9039e+00,  3.0008e+01],\n",
       "         [ 6.0999e+00,  3.2124e+01],\n",
       "         [ 8.6443e+00,  3.4076e+01],\n",
       "         [ 1.1464e+01,  3.5436e+01]],\n",
       "\n",
       "        [[-1.1089e-03, -4.8755e-03],\n",
       "         [-2.2177e-03, -9.7510e-03],\n",
       "         [-2.6796e-03, -1.5389e-02],\n",
       "         [ 2.0702e-02,  4.7791e-01],\n",
       "         [ 4.4846e-02,  9.7185e-01],\n",
       "         [ 6.8875e-02,  1.4644e+00],\n",
       "         [ 9.2257e-02,  1.9577e+00],\n",
       "         [ 1.2079e-01,  2.5485e+00],\n",
       "         [ 1.4482e-01,  3.0410e+00],\n",
       "         [ 1.6717e-01,  5.1846e+00],\n",
       "         [ 2.5724e-01,  6.8991e+00],\n",
       "         [ 2.0283e-01,  9.0498e+00]],\n",
       "\n",
       "        [[ 8.6237e-02,  7.1270e+00],\n",
       "         [-1.1767e-01,  1.3171e+01],\n",
       "         [-1.4361e-01,  2.0116e+01],\n",
       "         [-2.1639e-01,  2.7261e+01],\n",
       "         [-3.1834e-01,  3.4407e+01],\n",
       "         [-4.8092e-01,  4.1461e+01],\n",
       "         [-6.1328e-01,  4.8507e+01],\n",
       "         [-7.2484e-01,  5.5553e+01],\n",
       "         [-8.9742e-01,  6.2599e+01],\n",
       "         [-1.0700e+00,  6.9644e+01],\n",
       "         [-1.2398e+00,  7.6295e+01],\n",
       "         [-1.2935e+00,  8.3241e+01]],\n",
       "\n",
       "        [[-9.4517e-03,  8.5255e-01],\n",
       "         [-2.0924e-02,  2.0705e+00],\n",
       "         [-3.1405e-02,  3.7381e+00],\n",
       "         [-4.2351e-02,  5.5908e+00],\n",
       "         [ 1.6667e-02,  7.1217e+00],\n",
       "         [ 7.6014e-02,  8.6569e+00],\n",
       "         [ 1.4118e-01,  1.0158e+01],\n",
       "         [ 1.9567e-01,  1.1385e+01],\n",
       "         [ 2.5481e-01,  1.2717e+01],\n",
       "         [ 3.1396e-01,  1.4049e+01],\n",
       "         [ 3.7324e-01,  1.5092e+01],\n",
       "         [ 4.4183e-01,  1.5890e+01]],\n",
       "\n",
       "        [[ 9.3512e-04,  4.6548e-01],\n",
       "         [ 1.8702e-03,  9.3096e-01],\n",
       "         [ 3.1967e-03,  1.3955e+00],\n",
       "         [ 3.8709e-03,  1.9076e+00],\n",
       "         [ 5.1974e-03,  2.3722e+00],\n",
       "         [-1.2787e-02,  2.8796e+00],\n",
       "         [-3.0381e-02,  3.3861e+00],\n",
       "         [-4.8894e-02,  3.8922e+00],\n",
       "         [-6.6879e-02,  4.3996e+00],\n",
       "         [-8.5001e-02,  4.9048e+00],\n",
       "         [-1.0213e-01,  5.3898e+00],\n",
       "         [-1.1887e-01,  5.8738e+00]],\n",
       "\n",
       "        [[-3.1318e-01,  2.9581e+00],\n",
       "         [-9.0822e-01,  5.3617e+00],\n",
       "         [-2.0689e+00,  8.5246e+00],\n",
       "         [-3.6222e+00,  1.1652e+01],\n",
       "         [-5.0988e+00,  1.4268e+01],\n",
       "         [-7.0882e+00,  1.7537e+01],\n",
       "         [-9.1907e+00,  2.0735e+01],\n",
       "         [-1.1553e+01,  2.4151e+01],\n",
       "         [-1.3873e+01,  2.7506e+01],\n",
       "         [-1.6192e+01,  3.0861e+01],\n",
       "         [-1.8758e+01,  3.4537e+01],\n",
       "         [-2.0932e+01,  3.7678e+01]],\n",
       "\n",
       "        [[ 1.9192e-01,  1.7268e+00],\n",
       "         [ 3.7829e-01,  3.4814e+00],\n",
       "         [ 8.4062e-01,  5.4890e+00],\n",
       "         [ 1.4599e+00,  7.4594e+00],\n",
       "         [ 2.3979e+00,  9.6242e+00],\n",
       "         [ 3.7002e+00,  1.1751e+01],\n",
       "         [ 5.2894e+00,  1.3692e+01],\n",
       "         [ 7.7433e+00,  1.5538e+01],\n",
       "         [ 1.0474e+01,  1.6859e+01],\n",
       "         [ 1.3535e+01,  1.7882e+01],\n",
       "         [ 1.6826e+01,  1.8365e+01],\n",
       "         [ 2.0250e+01,  1.8602e+01]],\n",
       "\n",
       "        [[-6.8607e-02,  4.4181e+00],\n",
       "         [-1.4006e-01,  9.0801e+00],\n",
       "         [-2.4606e-01,  1.3753e+01],\n",
       "         [-3.5348e-01,  1.8426e+01],\n",
       "         [-4.6090e-01,  2.3099e+01],\n",
       "         [-6.1995e-01,  2.7770e+01],\n",
       "         [-7.7899e-01,  3.2443e+01],\n",
       "         [-1.0774e+00,  3.7110e+01],\n",
       "         [-1.2917e+00,  4.1363e+01],\n",
       "         [-1.4998e+00,  4.5268e+01],\n",
       "         [-1.7079e+00,  4.9173e+01],\n",
       "         [-1.7742e+00,  5.2222e+01]],\n",
       "\n",
       "        [[-2.1684e-02,  3.4119e+00],\n",
       "         [-4.3041e-02,  6.8253e+00],\n",
       "         [-6.4726e-02,  1.0237e+01],\n",
       "         [-8.6083e-02,  1.3651e+01],\n",
       "         [-1.0466e-01,  1.6727e+01],\n",
       "         [-1.2120e-01,  2.0457e+01],\n",
       "         [-1.3688e-01,  2.4187e+01],\n",
       "         [-1.5290e-01,  2.7916e+01],\n",
       "         [-2.0708e-01,  3.2001e+01],\n",
       "         [-2.6165e-01,  3.6090e+01],\n",
       "         [-4.2269e-01,  4.0297e+01],\n",
       "         [-5.8373e-01,  4.4504e+01]],\n",
       "\n",
       "        [[ 4.2403e-03,  1.9842e+00],\n",
       "         [ 8.0055e-03,  3.5083e+00],\n",
       "         [ 1.2754e-02,  5.0315e+00],\n",
       "         [ 1.6536e-02,  6.5566e+00],\n",
       "         [ 1.6680e-02,  7.6117e+00],\n",
       "         [ 1.5174e-02,  8.6269e+00],\n",
       "         [ 1.4874e-02,  9.4700e+00],\n",
       "         [ 1.4589e-02,  1.0314e+01],\n",
       "         [ 1.3091e-02,  1.1391e+01],\n",
       "         [ 1.2295e-02,  1.2943e+01],\n",
       "         [ 1.2017e-02,  1.4772e+01],\n",
       "         [ 1.0899e-02,  1.6980e+01]],\n",
       "\n",
       "        [[ 3.9500e-01,  2.8243e+00],\n",
       "         [ 7.8955e-01,  5.6496e+00],\n",
       "         [ 1.1846e+00,  8.4739e+00],\n",
       "         [ 1.5796e+00,  1.1298e+01],\n",
       "         [ 1.9746e+00,  1.4123e+01],\n",
       "         [ 2.2976e+00,  1.6248e+01],\n",
       "         [ 2.8414e+00,  1.8328e+01],\n",
       "         [ 3.6000e+00,  2.0339e+01],\n",
       "         [ 4.5644e+00,  2.2260e+01],\n",
       "         [ 5.7238e+00,  2.4070e+01],\n",
       "         [ 6.4740e+00,  2.6060e+01],\n",
       "         [ 8.2979e+00,  2.6927e+01]],\n",
       "\n",
       "        [[-6.4511e-01,  1.6916e+00],\n",
       "         [-1.2890e+00,  3.3815e+00],\n",
       "         [-1.2961e+00,  4.4366e+00],\n",
       "         [-1.3028e+00,  5.2806e+00],\n",
       "         [-1.3105e+00,  6.3364e+00],\n",
       "         [-1.3187e+00,  6.7565e+00],\n",
       "         [-1.2629e+00,  7.5591e+00],\n",
       "         [-1.2065e+00,  8.3609e+00],\n",
       "         [-1.1427e+00,  9.8532e+00],\n",
       "         [-9.8297e-01,  1.1338e+01],\n",
       "         [-6.6934e-01,  1.3188e+01],\n",
       "         [-2.3584e-01,  1.5011e+01]],\n",
       "\n",
       "        [[ 5.1155e-02,  2.8771e+00],\n",
       "         [ 1.0283e-01,  5.7556e+00],\n",
       "         [ 1.5490e-01,  8.6331e+00],\n",
       "         [ 2.6442e-01,  1.1529e+01],\n",
       "         [ 3.6240e-01,  1.4134e+01],\n",
       "         [ 4.7164e-01,  1.7033e+01],\n",
       "         [ 5.8116e-01,  1.9929e+01],\n",
       "         [ 3.5130e-01,  2.2275e+01],\n",
       "         [ 1.2143e-01,  2.4621e+01],\n",
       "         [ 2.6990e-01,  2.6850e+01],\n",
       "         [ 3.5887e-01,  2.8797e+01],\n",
       "         [ 4.6061e-01,  3.0950e+01]]], dtype=torch.float64)"
      ]
     },
     "execution_count": 32,
     "metadata": {},
     "output_type": "execute_result"
    }
   ],
   "source": [
    "import matplotlib.pyplot as plt\n",
    "plt.imshow(test_htmap[0,:3].permute(1,2,0))\n",
    "plt.show()\n",
    "plt.imshow(test_htmap[0,0])\n",
    "plt.show()\n",
    "data['ground_truth']['traj']"
   ]
  },
  {
   "cell_type": "code",
   "execution_count": 27,
   "metadata": {},
   "outputs": [],
   "source": [
    "from math import exp\n",
    "from torch.autograd import Variable\n",
    "import torch.nn.functional as F\n",
    "def gaussian(window_size, sigma):\n",
    "    gauss = torch.Tensor([exp(-(x - window_size//2)**2/float(2*sigma**2)) for x in range(window_size)])\n",
    "    return gauss/gauss.sum()\n",
    "def create_window(window_size, channel):\n",
    "    _1D_window = gaussian(window_size, 1.5).unsqueeze(1)\n",
    "    _2D_window = _1D_window.mm(_1D_window.t()).float().unsqueeze(0).unsqueeze(0)\n",
    "    window = Variable(_2D_window.expand(channel, 1, window_size, window_size).contiguous())\n",
    "    return window\n",
    "window=create_window(7, 1).repeat(12,1,1,1)\n",
    "# window.shape\n",
    "test_heatmap=F.conv2d(test_htmap, window, padding = 7//2, groups = 12)"
   ]
  },
  {
   "cell_type": "code",
   "execution_count": 30,
   "metadata": {},
   "outputs": [
    {
     "name": "stderr",
     "output_type": "stream",
     "text": [
      "Clipping input data to the valid range for imshow with RGB data ([0..1] for floats or [0..255] for integers).\n"
     ]
    },
    {
     "data": {
      "image/png": "[encoded data removed]",
      "text/plain": [
       "<Figure size 432x288 with 1 Axes>"
      ]
     },
     "metadata": {
      "needs_background": "light"
     },
     "output_type": "display_data"
    },
    {
     "data": {
      "image/png": "[encoded data removed]",
      "text/plain": [
       "<Figure size 432x288 with 1 Axes>"
      ]
     },
     "metadata": {
      "needs_background": "light"
     },
     "output_type": "display_data"
    },
    {
     "data": {
      "text/plain": [
       "tensor([[[ 3.3505e-01,  5.5447e+00],\n",
       "         [ 4.6407e-01,  1.0795e+01],\n",
       "         [ 5.9309e-01,  1.6045e+01],\n",
       "         [ 7.2212e-01,  2.1295e+01],\n",
       "         [ 8.5061e-01,  2.6551e+01],\n",
       "         [ 1.0057e+00,  3.1443e+01],\n",
       "         [ 1.1607e+00,  3.6339e+01],\n",
       "         [ 1.3158e+00,  4.1231e+01],\n",
       "         [ 1.4708e+00,  4.6124e+01],\n",
       "         [ 1.7595e+00,  5.0565e+01],\n",
       "         [ 2.0480e+00,  5.5007e+01],\n",
       "         [ 2.2973e+00,  5.9124e+01]],\n",
       "\n",
       "        [[-4.6973e-02,  3.0115e+00],\n",
       "         [-2.1886e-01,  6.5671e+00],\n",
       "         [-3.9117e-01,  1.0127e+01],\n",
       "         [-6.4876e-01,  1.4125e+01],\n",
       "         [-7.0240e-01,  1.8302e+01],\n",
       "         [-8.2073e-01,  2.2131e+01],\n",
       "         [-9.6629e-01,  2.6526e+01],\n",
       "         [-1.1127e+00,  3.0919e+01],\n",
       "         [-1.2583e+00,  3.5314e+01],\n",
       "         [-1.3916e+00,  3.9542e+01],\n",
       "         [-1.6728e+00,  4.3758e+01],\n",
       "         [-2.1003e+00,  4.7962e+01]],\n",
       "\n",
       "        [[-2.0975e-02,  1.2222e+00],\n",
       "         [-1.2848e-01,  2.5633e+00],\n",
       "         [-3.0373e-01,  3.7743e+00],\n",
       "         [-9.8477e-01,  5.3605e+00],\n",
       "         [-1.8965e+00,  6.8278e+00],\n",
       "         [-3.3730e+00,  8.4343e+00],\n",
       "         [-5.1478e+00,  9.6911e+00],\n",
       "         [-6.8827e+00,  1.0881e+01],\n",
       "         [-8.7140e+00,  1.1914e+01],\n",
       "         [-1.1255e+01,  1.2841e+01],\n",
       "         [-1.3870e+01,  1.3545e+01],\n",
       "         [-1.6990e+01,  1.4402e+01]],\n",
       "\n",
       "        [[ 8.3355e-03,  3.2566e+00],\n",
       "         [ 7.1224e-03,  6.2845e+00],\n",
       "         [ 6.1469e-03,  9.3138e+00],\n",
       "         [ 5.6464e-03,  1.2346e+01],\n",
       "         [ 9.3897e-02,  1.4400e+01],\n",
       "         [ 1.7327e-01,  1.6251e+01],\n",
       "         [ 2.1981e-01,  1.7863e+01],\n",
       "         [ 3.2561e-01,  1.9469e+01],\n",
       "         [ 4.9303e-01,  2.1074e+01],\n",
       "         [ 7.4726e-01,  2.2836e+01],\n",
       "         [ 1.0412e+00,  2.4422e+01],\n",
       "         [ 1.4382e+00,  2.6129e+01]],\n",
       "\n",
       "        [[ 1.3936e-02,  4.1650e+00],\n",
       "         [ 1.2706e-01,  9.0084e+00],\n",
       "         [ 3.6828e-01,  1.3782e+01],\n",
       "         [ 8.3033e-01,  1.8278e+01],\n",
       "         [ 1.5333e+00,  2.2913e+01],\n",
       "         [ 2.4857e+00,  2.7592e+01],\n",
       "         [ 3.4381e+00,  3.2272e+01],\n",
       "         [ 4.4495e+00,  3.6939e+01],\n",
       "         [ 5.6191e+00,  4.1900e+01],\n",
       "         [ 6.7862e+00,  4.6856e+01],\n",
       "         [ 7.9551e+00,  5.1819e+01],\n",
       "         [ 9.0623e+00,  5.6678e+01]],\n",
       "\n",
       "        [[ 9.7778e-05, -2.8267e-03],\n",
       "         [-6.0935e-03,  1.2525e-02],\n",
       "         [-1.2285e-02,  2.7876e-02],\n",
       "         [-3.5092e-02,  4.6222e-01],\n",
       "         [-2.0502e-02,  1.2063e+00],\n",
       "         [-5.2363e-03,  2.4627e+00],\n",
       "         [ 9.3472e-03,  3.7184e+00],\n",
       "         [ 3.0898e-02,  5.4476e+00],\n",
       "         [ 5.3277e-02,  7.1734e+00],\n",
       "         [ 2.4201e-01,  9.2239e+00],\n",
       "         [ 5.3948e-01,  1.1199e+01],\n",
       "         [ 1.2461e+00,  1.3211e+01]],\n",
       "\n",
       "        [[-4.9094e-03,  2.5277e+00],\n",
       "         [-9.4429e-03,  5.0581e+00],\n",
       "         [-1.3976e-02,  7.5886e+00],\n",
       "         [-1.8741e-02,  1.0123e+01],\n",
       "         [-1.9286e-01,  1.2139e+01],\n",
       "         [-4.4225e-01,  1.4349e+01],\n",
       "         [-7.8582e-01,  1.6229e+01],\n",
       "         [-1.4133e+00,  1.7631e+01],\n",
       "         [-2.2301e+00,  1.8930e+01],\n",
       "         [-2.8951e+00,  1.9934e+01],\n",
       "         [-3.9484e+00,  2.0959e+01],\n",
       "         [-5.0906e+00,  2.1656e+01]],\n",
       "\n",
       "        [[ 8.7484e-02,  4.8187e+00],\n",
       "         [ 1.7547e-01,  9.6431e+00],\n",
       "         [ 1.7656e-01,  1.4680e+01],\n",
       "         [ 1.7803e-01,  1.9722e+01],\n",
       "         [ 1.7913e-01,  2.4759e+01],\n",
       "         [ 1.8126e-01,  2.8792e+01],\n",
       "         [ 1.8185e-01,  3.3823e+01],\n",
       "         [ 1.0957e-01,  3.8866e+01],\n",
       "         [ 3.7292e-02,  4.3908e+01],\n",
       "         [-1.3179e-01,  4.8835e+01],\n",
       "         [-3.0152e-01,  5.3764e+01],\n",
       "         [-4.5429e-01,  5.8435e+01]],\n",
       "\n",
       "        [[ 2.5628e-02,  1.5326e+00],\n",
       "         [ 5.2184e-02,  3.0655e+00],\n",
       "         [ 7.8739e-02,  4.5984e+00],\n",
       "         [ 1.0437e-01,  6.1310e+00],\n",
       "         [ 1.4542e-01,  7.6493e+00],\n",
       "         [ 1.8740e-01,  9.1679e+00],\n",
       "         [ 1.8889e-01,  1.0430e+01],\n",
       "         [ 1.9002e-01,  1.1693e+01],\n",
       "         [ 1.2869e-01,  1.2782e+01],\n",
       "         [ 1.6988e-01,  1.3595e+01],\n",
       "         [ 2.1200e-01,  1.4409e+01],\n",
       "         [ 2.6796e-01,  1.5098e+01]],\n",
       "\n",
       "        [[ 1.8547e-01,  2.6739e+00],\n",
       "         [ 1.4402e+00,  5.2631e+00],\n",
       "         [ 3.3231e+00,  8.7768e+00],\n",
       "         [ 5.7677e+00,  1.1461e+01],\n",
       "         [ 8.4204e+00,  1.3872e+01],\n",
       "         [ 1.1076e+01,  1.6286e+01],\n",
       "         [ 1.3727e+01,  1.8698e+01],\n",
       "         [ 1.6382e+01,  2.1111e+01],\n",
       "         [ 1.9038e+01,  2.3526e+01],\n",
       "         [ 2.1425e+01,  2.5698e+01],\n",
       "         [ 2.4339e+01,  2.8347e+01],\n",
       "         [ 2.6991e+01,  3.0758e+01]],\n",
       "\n",
       "        [[-1.1122e-01,  1.2833e+00],\n",
       "         [ 1.3095e-01,  2.4481e+00],\n",
       "         [ 5.3072e-01,  3.8042e+00],\n",
       "         [ 1.0807e+00,  5.1054e+00],\n",
       "         [ 1.8479e+00,  6.6524e+00],\n",
       "         [ 2.9529e+00,  8.0109e+00],\n",
       "         [ 4.3540e+00,  9.1187e+00],\n",
       "         [ 5.6271e+00,  1.0254e+01],\n",
       "         [ 7.0573e+00,  1.1184e+01],\n",
       "         [ 8.6273e+00,  1.2038e+01],\n",
       "         [ 1.0694e+01,  1.2411e+01],\n",
       "         [ 1.2910e+01,  1.2801e+01]],\n",
       "\n",
       "        [[-2.7301e-02,  5.4148e+00],\n",
       "         [-5.4602e-02,  1.0830e+01],\n",
       "         [-3.6312e-01,  1.6141e+01],\n",
       "         [-5.4189e-01,  2.0970e+01],\n",
       "         [-7.1962e-01,  2.5767e+01],\n",
       "         [-8.4161e-01,  3.0597e+01],\n",
       "         [-9.5189e-01,  3.4941e+01],\n",
       "         [-9.5568e-01,  3.9669e+01],\n",
       "         [-9.5989e-01,  4.4395e+01],\n",
       "         [-8.8096e-01,  4.8787e+01],\n",
       "         [-7.9415e-01,  5.3622e+01],\n",
       "         [-6.8087e-01,  5.8380e+01]],\n",
       "\n",
       "        [[-5.4587e-02, -5.0884e-04],\n",
       "         [-1.8714e-01,  4.4734e-01],\n",
       "         [-1.8127e-01,  3.3971e-01],\n",
       "         [-1.5388e-01,  3.3773e-01],\n",
       "         [-2.3630e-01,  1.4443e+00],\n",
       "         [-1.8704e-01,  1.5288e+00],\n",
       "         [-1.5907e-01,  2.2461e+00],\n",
       "         [-1.0380e-01,  2.9637e+00],\n",
       "         [-9.7194e-02,  4.0396e+00],\n",
       "         [-8.8522e-02,  5.2790e+00],\n",
       "         [-5.1396e-02,  6.8736e+00],\n",
       "         [ 1.6576e-02,  8.1503e+00]],\n",
       "\n",
       "        [[ 5.4860e-02,  6.2931e-01],\n",
       "         [ 7.5296e-02,  1.4434e+00],\n",
       "         [ 9.7962e-02,  2.1993e+00],\n",
       "         [ 2.9308e-01,  3.5726e+00],\n",
       "         [ 7.6605e-01,  4.8770e+00],\n",
       "         [ 1.5413e+00,  6.3577e+00],\n",
       "         [ 2.5515e+00,  7.8600e+00],\n",
       "         [ 4.1827e+00,  9.2505e+00],\n",
       "         [ 6.0411e+00,  1.0122e+01],\n",
       "         [ 8.1671e+00,  1.0702e+01],\n",
       "         [ 1.0852e+01,  1.1001e+01],\n",
       "         [ 1.3923e+01,  1.1320e+01]],\n",
       "\n",
       "        [[-4.9029e-01,  5.6531e+00],\n",
       "         [-9.3190e-01,  1.0737e+01],\n",
       "         [-1.4219e+00,  1.6384e+01],\n",
       "         [-1.5191e+00,  2.1950e+01],\n",
       "         [-1.6164e+00,  2.7516e+01],\n",
       "         [-1.4836e+00,  3.3088e+01],\n",
       "         [-1.2189e+00,  3.8800e+01],\n",
       "         [-7.2384e-01,  4.4499e+01],\n",
       "         [-5.9546e-04,  5.0166e+01],\n",
       "         [ 1.0911e+00,  5.5959e+01],\n",
       "         [ 2.1837e+00,  6.1752e+01],\n",
       "         [ 3.2756e+00,  6.7544e+01]],\n",
       "\n",
       "        [[-1.3318e-01,  4.9567e+00],\n",
       "         [-4.1229e-01,  1.0416e+01],\n",
       "         [-9.6418e-01,  1.5856e+01],\n",
       "         [-1.7663e+00,  2.1614e+01],\n",
       "         [-2.8626e+00,  2.7813e+01],\n",
       "         [-4.0846e+00,  3.3393e+01],\n",
       "         [-5.4206e+00,  3.8354e+01],\n",
       "         [-7.0276e+00,  4.3320e+01],\n",
       "         [-9.0172e+00,  4.8672e+01],\n",
       "         [-1.1320e+01,  5.3896e+01],\n",
       "         [-1.3866e+01,  5.8943e+01],\n",
       "         [-1.6587e+01,  6.3898e+01]],\n",
       "\n",
       "        [[ 7.1489e-02,  2.4129e+00],\n",
       "         [ 1.4319e-01,  4.8223e+00],\n",
       "         [ 2.1529e-01,  7.2344e+00],\n",
       "         [ 2.5217e-01,  1.0397e+01],\n",
       "         [ 2.1472e-01,  1.2982e+01],\n",
       "         [ 2.5009e-01,  1.6031e+01],\n",
       "         [ 2.8998e-01,  1.9381e+01],\n",
       "         [ 3.2576e-01,  2.2428e+01],\n",
       "         [ 3.6134e-01,  2.5473e+01],\n",
       "         [ 4.7172e-01,  2.8662e+01],\n",
       "         [ 5.8267e-01,  3.1854e+01],\n",
       "         [ 6.9165e-01,  3.5043e+01]],\n",
       "\n",
       "        [[-3.8416e-02,  3.6969e+00],\n",
       "         [-8.2792e-02,  8.1338e+00],\n",
       "         [-1.2035e-01,  1.1835e+01],\n",
       "         [-1.5785e-01,  1.5543e+01],\n",
       "         [-1.9540e-01,  1.9244e+01],\n",
       "         [-2.3293e-01,  2.2949e+01],\n",
       "         [-2.7046e-01,  2.6654e+01],\n",
       "         [-3.0798e-01,  3.0358e+01],\n",
       "         [-3.4551e-01,  3.4063e+01],\n",
       "         [-3.8306e-01,  3.7764e+01],\n",
       "         [-4.2145e-01,  4.1464e+01],\n",
       "         [-4.5846e-01,  4.5165e+01]],\n",
       "\n",
       "        [[ 2.4338e-01,  3.2142e+00],\n",
       "         [ 9.9914e-01,  7.4056e+00],\n",
       "         [ 1.8466e+00,  1.1071e+01],\n",
       "         [ 2.8168e+00,  1.5240e+01],\n",
       "         [ 3.9139e+00,  1.9113e+01],\n",
       "         [ 4.9759e+00,  2.2726e+01],\n",
       "         [ 5.8084e+00,  2.5674e+01],\n",
       "         [ 6.6417e+00,  2.8730e+01],\n",
       "         [ 7.3462e+00,  3.1767e+01],\n",
       "         [ 7.9619e+00,  3.4826e+01],\n",
       "         [ 8.5777e+00,  3.7884e+01],\n",
       "         [ 9.0382e+00,  4.0899e+01]],\n",
       "\n",
       "        [[ 1.3288e-01,  3.7337e+00],\n",
       "         [ 2.6558e-01,  7.4724e+00],\n",
       "         [ 3.2615e-01,  1.1127e+01],\n",
       "         [ 3.5715e-01,  1.4108e+01],\n",
       "         [ 5.9486e-01,  1.7547e+01],\n",
       "         [ 9.4269e-01,  2.0931e+01],\n",
       "         [ 1.4763e+00,  2.3722e+01],\n",
       "         [ 2.3539e+00,  2.6423e+01],\n",
       "         [ 3.9039e+00,  3.0008e+01],\n",
       "         [ 6.0999e+00,  3.2124e+01],\n",
       "         [ 8.6443e+00,  3.4076e+01],\n",
       "         [ 1.1464e+01,  3.5436e+01]],\n",
       "\n",
       "        [[-1.1089e-03, -4.8755e-03],\n",
       "         [-2.2177e-03, -9.7510e-03],\n",
       "         [-2.6796e-03, -1.5389e-02],\n",
       "         [ 2.0702e-02,  4.7791e-01],\n",
       "         [ 4.4846e-02,  9.7185e-01],\n",
       "         [ 6.8875e-02,  1.4644e+00],\n",
       "         [ 9.2257e-02,  1.9577e+00],\n",
       "         [ 1.2079e-01,  2.5485e+00],\n",
       "         [ 1.4482e-01,  3.0410e+00],\n",
       "         [ 1.6717e-01,  5.1846e+00],\n",
       "         [ 2.5724e-01,  6.8991e+00],\n",
       "         [ 2.0283e-01,  9.0498e+00]],\n",
       "\n",
       "        [[ 8.6237e-02,  7.1270e+00],\n",
       "         [-1.1767e-01,  1.3171e+01],\n",
       "         [-1.4361e-01,  2.0116e+01],\n",
       "         [-2.1639e-01,  2.7261e+01],\n",
       "         [-3.1834e-01,  3.4407e+01],\n",
       "         [-4.8092e-01,  4.1461e+01],\n",
       "         [-6.1328e-01,  4.8507e+01],\n",
       "         [-7.2484e-01,  5.5553e+01],\n",
       "         [-8.9742e-01,  6.2599e+01],\n",
       "         [-1.0700e+00,  6.9644e+01],\n",
       "         [-1.2398e+00,  7.6295e+01],\n",
       "         [-1.2935e+00,  8.3241e+01]],\n",
       "\n",
       "        [[-9.4517e-03,  8.5255e-01],\n",
       "         [-2.0924e-02,  2.0705e+00],\n",
       "         [-3.1405e-02,  3.7381e+00],\n",
       "         [-4.2351e-02,  5.5908e+00],\n",
       "         [ 1.6667e-02,  7.1217e+00],\n",
       "         [ 7.6014e-02,  8.6569e+00],\n",
       "         [ 1.4118e-01,  1.0158e+01],\n",
       "         [ 1.9567e-01,  1.1385e+01],\n",
       "         [ 2.5481e-01,  1.2717e+01],\n",
       "         [ 3.1396e-01,  1.4049e+01],\n",
       "         [ 3.7324e-01,  1.5092e+01],\n",
       "         [ 4.4183e-01,  1.5890e+01]],\n",
       "\n",
       "        [[ 9.3512e-04,  4.6548e-01],\n",
       "         [ 1.8702e-03,  9.3096e-01],\n",
       "         [ 3.1967e-03,  1.3955e+00],\n",
       "         [ 3.8709e-03,  1.9076e+00],\n",
       "         [ 5.1974e-03,  2.3722e+00],\n",
       "         [-1.2787e-02,  2.8796e+00],\n",
       "         [-3.0381e-02,  3.3861e+00],\n",
       "         [-4.8894e-02,  3.8922e+00],\n",
       "         [-6.6879e-02,  4.3996e+00],\n",
       "         [-8.5001e-02,  4.9048e+00],\n",
       "         [-1.0213e-01,  5.3898e+00],\n",
       "         [-1.1887e-01,  5.8738e+00]],\n",
       "\n",
       "        [[-3.1318e-01,  2.9581e+00],\n",
       "         [-9.0822e-01,  5.3617e+00],\n",
       "         [-2.0689e+00,  8.5246e+00],\n",
       "         [-3.6222e+00,  1.1652e+01],\n",
       "         [-5.0988e+00,  1.4268e+01],\n",
       "         [-7.0882e+00,  1.7537e+01],\n",
       "         [-9.1907e+00,  2.0735e+01],\n",
       "         [-1.1553e+01,  2.4151e+01],\n",
       "         [-1.3873e+01,  2.7506e+01],\n",
       "         [-1.6192e+01,  3.0861e+01],\n",
       "         [-1.8758e+01,  3.4537e+01],\n",
       "         [-2.0932e+01,  3.7678e+01]],\n",
       "\n",
       "        [[ 1.9192e-01,  1.7268e+00],\n",
       "         [ 3.7829e-01,  3.4814e+00],\n",
       "         [ 8.4062e-01,  5.4890e+00],\n",
       "         [ 1.4599e+00,  7.4594e+00],\n",
       "         [ 2.3979e+00,  9.6242e+00],\n",
       "         [ 3.7002e+00,  1.1751e+01],\n",
       "         [ 5.2894e+00,  1.3692e+01],\n",
       "         [ 7.7433e+00,  1.5538e+01],\n",
       "         [ 1.0474e+01,  1.6859e+01],\n",
       "         [ 1.3535e+01,  1.7882e+01],\n",
       "         [ 1.6826e+01,  1.8365e+01],\n",
       "         [ 2.0250e+01,  1.8602e+01]],\n",
       "\n",
       "        [[-6.8607e-02,  4.4181e+00],\n",
       "         [-1.4006e-01,  9.0801e+00],\n",
       "         [-2.4606e-01,  1.3753e+01],\n",
       "         [-3.5348e-01,  1.8426e+01],\n",
       "         [-4.6090e-01,  2.3099e+01],\n",
       "         [-6.1995e-01,  2.7770e+01],\n",
       "         [-7.7899e-01,  3.2443e+01],\n",
       "         [-1.0774e+00,  3.7110e+01],\n",
       "         [-1.2917e+00,  4.1363e+01],\n",
       "         [-1.4998e+00,  4.5268e+01],\n",
       "         [-1.7079e+00,  4.9173e+01],\n",
       "         [-1.7742e+00,  5.2222e+01]],\n",
       "\n",
       "        [[-2.1684e-02,  3.4119e+00],\n",
       "         [-4.3041e-02,  6.8253e+00],\n",
       "         [-6.4726e-02,  1.0237e+01],\n",
       "         [-8.6083e-02,  1.3651e+01],\n",
       "         [-1.0466e-01,  1.6727e+01],\n",
       "         [-1.2120e-01,  2.0457e+01],\n",
       "         [-1.3688e-01,  2.4187e+01],\n",
       "         [-1.5290e-01,  2.7916e+01],\n",
       "         [-2.0708e-01,  3.2001e+01],\n",
       "         [-2.6165e-01,  3.6090e+01],\n",
       "         [-4.2269e-01,  4.0297e+01],\n",
       "         [-5.8373e-01,  4.4504e+01]],\n",
       "\n",
       "        [[ 4.2403e-03,  1.9842e+00],\n",
       "         [ 8.0055e-03,  3.5083e+00],\n",
       "         [ 1.2754e-02,  5.0315e+00],\n",
       "         [ 1.6536e-02,  6.5566e+00],\n",
       "         [ 1.6680e-02,  7.6117e+00],\n",
       "         [ 1.5174e-02,  8.6269e+00],\n",
       "         [ 1.4874e-02,  9.4700e+00],\n",
       "         [ 1.4589e-02,  1.0314e+01],\n",
       "         [ 1.3091e-02,  1.1391e+01],\n",
       "         [ 1.2295e-02,  1.2943e+01],\n",
       "         [ 1.2017e-02,  1.4772e+01],\n",
       "         [ 1.0899e-02,  1.6980e+01]],\n",
       "\n",
       "        [[ 3.9500e-01,  2.8243e+00],\n",
       "         [ 7.8955e-01,  5.6496e+00],\n",
       "         [ 1.1846e+00,  8.4739e+00],\n",
       "         [ 1.5796e+00,  1.1298e+01],\n",
       "         [ 1.9746e+00,  1.4123e+01],\n",
       "         [ 2.2976e+00,  1.6248e+01],\n",
       "         [ 2.8414e+00,  1.8328e+01],\n",
       "         [ 3.6000e+00,  2.0339e+01],\n",
       "         [ 4.5644e+00,  2.2260e+01],\n",
       "         [ 5.7238e+00,  2.4070e+01],\n",
       "         [ 6.4740e+00,  2.6060e+01],\n",
       "         [ 8.2979e+00,  2.6927e+01]],\n",
       "\n",
       "        [[-6.4511e-01,  1.6916e+00],\n",
       "         [-1.2890e+00,  3.3815e+00],\n",
       "         [-1.2961e+00,  4.4366e+00],\n",
       "         [-1.3028e+00,  5.2806e+00],\n",
       "         [-1.3105e+00,  6.3364e+00],\n",
       "         [-1.3187e+00,  6.7565e+00],\n",
       "         [-1.2629e+00,  7.5591e+00],\n",
       "         [-1.2065e+00,  8.3609e+00],\n",
       "         [-1.1427e+00,  9.8532e+00],\n",
       "         [-9.8297e-01,  1.1338e+01],\n",
       "         [-6.6934e-01,  1.3188e+01],\n",
       "         [-2.3584e-01,  1.5011e+01]],\n",
       "\n",
       "        [[ 5.1155e-02,  2.8771e+00],\n",
       "         [ 1.0283e-01,  5.7556e+00],\n",
       "         [ 1.5490e-01,  8.6331e+00],\n",
       "         [ 2.6442e-01,  1.1529e+01],\n",
       "         [ 3.6240e-01,  1.4134e+01],\n",
       "         [ 4.7164e-01,  1.7033e+01],\n",
       "         [ 5.8116e-01,  1.9929e+01],\n",
       "         [ 3.5130e-01,  2.2275e+01],\n",
       "         [ 1.2143e-01,  2.4621e+01],\n",
       "         [ 2.6990e-01,  2.6850e+01],\n",
       "         [ 3.5887e-01,  2.8797e+01],\n",
       "         [ 4.6061e-01,  3.0950e+01]]], dtype=torch.float64)"
      ]
     },
     "execution_count": 30,
     "metadata": {},
     "output_type": "execute_result"
    }
   ],
   "source": [
    "import matplotlib.pyplot as plt\n",
    "plt.imshow(255*test_heatmap[0,:3].permute(1,2,0))\n",
    "plt.show()\n",
    "plt.imshow(test_heatmap[0,0])\n",
    "plt.show()\n",
    "data['ground_truth']['traj']"
   ]
  },
  {
   "cell_type": "code",
   "execution_count": 9,
   "metadata": {},
   "outputs": [],
   "source": [
    "encodings=trainer.model.encoder(data_test)\n"
   ]
  },
  {
   "cell_type": "code",
   "execution_count": 63,
   "metadata": {},
   "outputs": [
    {
     "name": "stdout",
     "output_type": "stream",
     "text": [
      "True\n",
      "False\n"
     ]
    }
   ],
   "source": [
    "agg_feat=trainer.model.aggregator(encodings)\n",
    "combined_encodings=agg_feat['agg_encoding']\n",
    "mask=agg_feat['under_sampled_mask']\n",
    "print(combined_encodings.requires_grad)\n",
    "print(mask.requires_grad)"
   ]
  },
  {
   "cell_type": "code",
   "execution_count": 47,
   "metadata": {},
   "outputs": [
    {
     "data": {
      "text/plain": [
       "[Conv2d(64, 32, kernel_size=(1, 1), stride=(1, 1), bias=False),\n",
       " LeakyReLU(negative_slope=0.01),\n",
       " Conv2d(32, 16, kernel_size=(1, 1), stride=(1, 1), bias=False),\n",
       " LeakyReLU(negative_slope=0.01),\n",
       " Conv2d(16, 12, kernel_size=(1, 1), stride=(1, 1), bias=False)]"
      ]
     },
     "execution_count": 47,
     "metadata": {},
     "output_type": "execute_result"
    }
   ],
   "source": [
    "from models.library.blocks import *\n",
    "transpose_convs = nn.ModuleList([\n",
    "            TransposeCNNBlock(in_channels=64, out_channels=32, kernel_size=3, stride=2, padding=1, output_padding=0),\n",
    "            TransposeCNNBlock(in_channels=32, out_channels=16, kernel_size=3, stride=2, padding=0, output_padding=0)\n",
    "        ]).to('cuda:0')\n",
    "conv1=trainer.model.decoder.layers\n",
    "conv1"
   ]
  },
  {
   "cell_type": "code",
   "execution_count": 61,
   "metadata": {},
   "outputs": [
    {
     "data": {
      "text/plain": [
       "True"
      ]
     },
     "execution_count": 61,
     "metadata": {},
     "output_type": "execute_result"
    }
   ],
   "source": [
    "x=combined_encodings\n",
    "test_sftmx=nn.Softmax(dim=-1)\n",
    "for layer in conv1:\n",
    "    x=layer(x)\n",
    "predictions=x.view(x.shape[0],x.shape[1],-1)\n",
    "predictions=test_sftmx(predictions).view(x.shape)\n",
    "predictions.requires_grad"
   ]
  },
  {
   "cell_type": "code",
   "execution_count": 40,
   "metadata": {},
   "outputs": [
    {
     "data": {
      "text/plain": [
       "torch.Size([32, 16, 487, 487])"
      ]
     },
     "execution_count": 40,
     "metadata": {},
     "output_type": "execute_result"
    }
   ],
   "source": [
    "x=combined_encodings\n",
    "for layer in transpose_convs:\n",
    "    x=layer(x)\n",
    "x.shape\n"
   ]
  },
  {
   "cell_type": "code",
   "execution_count": null,
   "metadata": {},
   "outputs": [
    {
     "name": "stdout",
     "output_type": "stream",
     "text": [
      "======\n",
      "Loading NuScenes tables for version v1.0-trainval...\n",
      "23 category,\n",
      "8 attribute,\n",
      "4 visibility,\n",
      "64386 instance,\n",
      "12 sensor,\n",
      "10200 calibrated_sensor,\n",
      "2631083 ego_pose,\n",
      "68 log,\n",
      "850 scene,\n",
      "34149 sample,\n",
      "2631083 sample_data,\n",
      "1166187 sample_annotation,\n",
      "4 map,\n",
      "Done loading in 57.369 seconds.\n",
      "======\n",
      "Reverse indexing ...\n",
      "Done reverse indexing in 12.1 seconds.\n",
      "======\n"
     ]
    }
   ],
   "source": [
    "from nuscenes.prediction import PredictHelper\n",
    "from nuscenes.prediction.input_representation.static_layers import StaticLayerRasterizer\n",
    "from nuscenes.nuscenes import NuScenes\n",
    "map_extent=[ -50, 50, -20, 80 ]\n",
    "img_size=[400,400]\n",
    "resolution = (map_extent[1] - map_extent[0]) /  img_size[1]\n",
    "nusc = NuScenes(version='v1.0-trainval', dataroot=\"/home/stanliu/data/mnt/nuScenes/\", verbose=True)\n",
    "helper=PredictHelper(nusc)\n",
    "map_rasterizer = StaticLayerRasterizer(helper,\n",
    "                                        resolution=resolution,\n",
    "                                        meters_ahead=map_extent[3],\n",
    "                                        meters_behind=-map_extent[2],\n",
    "                                        meters_left=-map_extent[0],\n",
    "                                        meters_right=map_extent[1])"
   ]
  },
  {
   "cell_type": "code",
   "execution_count": null,
   "metadata": {},
   "outputs": [
    {
     "name": "stderr",
     "output_type": "stream",
     "text": [
      "/home/stanliu/.local/lib/python3.7/site-packages/nuscenes/map_expansion/map_api.py:1823: ShapelyDeprecationWarning: Iteration over multi-part geometries is deprecated and will be removed in Shapely 2.0. Use the `geoms` property to access the constituent parts of a multi-part geometry.\n",
      "  exteriors = [int_coords(poly.exterior.coords) for poly in polygons]\n",
      "/home/stanliu/.local/lib/python3.7/site-packages/nuscenes/map_expansion/map_api.py:1824: ShapelyDeprecationWarning: Iteration over multi-part geometries is deprecated and will be removed in Shapely 2.0. Use the `geoms` property to access the constituent parts of a multi-part geometry.\n",
      "  interiors = [int_coords(pi.coords) for poly in polygons for pi in poly.interiors]\n"
     ]
    }
   ],
   "source": [
    "from nuscenes.prediction.input_representation.static_layers import *\n",
    "import matplotlib.pyplot as plt\n",
    "import numpy as np\n",
    "idx=1\n",
    "instance_token=data_test['instance_token'][idx]\n",
    "sample_token = data_test['sample_token'][idx]\n",
    "\n",
    "\n",
    "\n",
    "sample_annotation = map_rasterizer.helper.get_sample_annotation(instance_token, sample_token)\n",
    "map_name = map_rasterizer.helper.get_map_name_from_sample_token(sample_token)\n",
    "\n",
    "x, y = sample_annotation['translation'][:2]\n",
    "\n",
    "yaw = quaternion_yaw(Quaternion(sample_annotation['rotation']))\n",
    "\n",
    "yaw_corrected = correct_yaw(yaw)\n",
    "\n",
    "image_side_length = 2 * max(map_rasterizer.meters_ahead, map_rasterizer.meters_behind,\n",
    "                            map_rasterizer.meters_left, map_rasterizer.meters_right)\n",
    "image_side_length_pixels = int(image_side_length / map_rasterizer.resolution)\n",
    "   \n",
    "patchbox = get_patchbox(x, y, image_side_length)\n",
    "\n",
    "angle_in_degrees = angle_of_rotation(yaw_corrected) * 180 / np.pi\n",
    "\n",
    "canvas_size = (image_side_length_pixels, image_side_length_pixels)\n",
    "\n",
    "masks = map_rasterizer.maps[map_name].get_map_mask(patchbox, angle_in_degrees, map_rasterizer.layer_names, canvas_size=canvas_size)\n",
    "## Get drivable area mask\n",
    "mask_drivable_area=masks[0]\n",
    "\n",
    "images = []\n",
    "for mask, color in zip(masks, map_rasterizer.colors):\n",
    "    images.append(change_color_of_binary_mask(np.repeat(mask[::-1, :, np.newaxis], 3, 2), color))\n",
    "\n",
    "lanes = draw_lanes_in_agent_frame(image_side_length_pixels, x, y, yaw, radius=50,\n",
    "                                    image_resolution=map_rasterizer.resolution, discretization_resolution_meters=1,\n",
    "                                    map_api=map_rasterizer.maps[map_name])\n",
    "\n",
    "images.append(lanes)\n",
    "\n",
    "image = map_rasterizer.combinator.combine(images)\n",
    "\n",
    "row_crop, col_crop = get_crops(map_rasterizer.meters_ahead, map_rasterizer.meters_behind, map_rasterizer.meters_left,\n",
    "                                map_rasterizer.meters_right, map_rasterizer.resolution,\n",
    "                                int(image_side_length / map_rasterizer.resolution))"
   ]
  },
  {
   "cell_type": "code",
   "execution_count": null,
   "metadata": {},
   "outputs": [
    {
     "data": {
      "text/plain": [
       "(slice(0, 400, None), slice(120, 520, None))"
      ]
     },
     "execution_count": 10,
     "metadata": {},
     "output_type": "execute_result"
    }
   ],
   "source": [
    "row_crop, col_crop"
   ]
  },
  {
   "cell_type": "code",
   "execution_count": null,
   "metadata": {},
   "outputs": [],
   "source": [
    "plt.imshow(images[0][row_crop, col_crop, :])\n",
    "plt.show()\n",
    "plt.imshow(lanes[row_crop, col_crop, :])\n",
    "plt.show()\n",
    "plt.imshow(image[row_crop, col_crop, :])\n",
    "plt.show()\n",
    "plt.imshow(images[0][row_crop, col_crop, 2]/255)\n"
   ]
  },
  {
   "cell_type": "code",
   "execution_count": null,
   "metadata": {},
   "outputs": [],
   "source": [
    "data_test['map_representation'][0].dtype"
   ]
  },
  {
   "cell_type": "code",
   "execution_count": null,
   "metadata": {},
   "outputs": [
    {
     "data": {
      "text/plain": [
       "torch.Size([32, 488, 488])"
      ]
     },
     "execution_count": 61,
     "metadata": {},
     "output_type": "execute_result"
    }
   ],
   "source": [
    "import torch\n",
    "target_agent_representation = data_test['target_agent_representation']\n",
    "surrounding_agent_representation = data_test['surrounding_agent_representation']\n",
    "map_representation = data_test['map_representation'][0]\n",
    "mask= data_test['map_representation'][1].type(torch.bool)\n",
    "mask.shape"
   ]
  },
  {
   "cell_type": "code",
   "execution_count": null,
   "metadata": {},
   "outputs": [
    {
     "data": {
      "image/png": "[encoded data removed]",
      "text/plain": [
       "<Figure size 432x288 with 1 Axes>"
      ]
     },
     "metadata": {
      "needs_background": "light"
     },
     "output_type": "display_data"
    },
    {
     "data": {
      "text/plain": [
       "<matplotlib.image.AxesImage at 0x7f4cf97aecd0>"
      ]
     },
     "execution_count": 34,
     "metadata": {},
     "output_type": "execute_result"
    },
    {
     "data": {
      "image/png": "[encoded data removed]",
      "text/plain": [
       "<Figure size 432x288 with 1 Axes>"
      ]
     },
     "metadata": {
      "needs_background": "light"
     },
     "output_type": "display_data"
    }
   ],
   "source": [
    "idx=10\n",
    "import matplotlib.pyplot as plt\n",
    "import numpy as np\n",
    "\n",
    "plt.imshow(np.array(mask[idx]))\n",
    "plt.show()\n",
    "plt.imshow(np.array(map_representation[idx]).transpose(1,2,0))"
   ]
  },
  {
   "cell_type": "code",
   "execution_count": null,
   "metadata": {},
   "outputs": [],
   "source": [
    "\n",
    "from torchvision.models import resnet34\n",
    "# input = torch.cat((map_representation, surrounding_agent_representation), dim=1)\n",
    "# resnet_model = resnet34(pretrained=False)\n",
    "# conv1_new = nn.Conv2d(6, 64, kernel_size=(7, 7), stride=(2, 2), padding=(3, 3), bias=False)\n",
    "# modules = list(resnet_model.children())[:-2]\n",
    "\n",
    "# modules[0] = conv1_new\n",
    "# backbone = nn.Sequential(*modules)\n",
    "# data_test['target_agent_representation'].float().dtype"
   ]
  },
  {
   "cell_type": "code",
   "execution_count": null,
   "metadata": {},
   "outputs": [
    {
     "ename": "NameError",
     "evalue": "name 'cfg' is not defined",
     "output_type": "error",
     "traceback": [
      "\u001b[0;31m---------------------------------------------------------------------------\u001b[0m",
      "\u001b[0;31mNameError\u001b[0m                                 Traceback (most recent call last)",
      "\u001b[0;32m/tmp/ipykernel_14767/3982908673.py\u001b[0m in \u001b[0;36m<module>\u001b[0;34m\u001b[0m\n\u001b[1;32m      1\u001b[0m \u001b[0;32mfrom\u001b[0m \u001b[0mmodels\u001b[0m\u001b[0;34m.\u001b[0m\u001b[0mencoders\u001b[0m\u001b[0;34m.\u001b[0m\u001b[0mraster_encoder\u001b[0m \u001b[0;32mimport\u001b[0m \u001b[0;34m*\u001b[0m\u001b[0;34m\u001b[0m\u001b[0;34m\u001b[0m\u001b[0m\n\u001b[0;32m----> 2\u001b[0;31m \u001b[0mencoder\u001b[0m\u001b[0;34m=\u001b[0m\u001b[0mRasterEncoder\u001b[0m\u001b[0;34m(\u001b[0m\u001b[0mcfg\u001b[0m\u001b[0;34m[\u001b[0m\u001b[0;34m'encoder_args'\u001b[0m\u001b[0;34m]\u001b[0m\u001b[0;34m)\u001b[0m\u001b[0;34m\u001b[0m\u001b[0;34m\u001b[0m\u001b[0m\n\u001b[0m\u001b[1;32m      3\u001b[0m \u001b[0;31m# encodings=encoder.forward(data_test)\u001b[0m\u001b[0;34m\u001b[0m\u001b[0;34m\u001b[0m\u001b[0;34m\u001b[0m\u001b[0m\n",
      "\u001b[0;31mNameError\u001b[0m: name 'cfg' is not defined"
     ]
    }
   ],
   "source": [
    "from models.encoders.raster_encoder import *\n",
    "encoder=RasterEncoder(cfg['encoder_args'])\n",
    "# encodings=encoder.forward(data_test)"
   ]
  },
  {
   "cell_type": "code",
   "execution_count": null,
   "metadata": {},
   "outputs": [
    {
     "data": {
      "text/plain": [
       "torch.Size([32, 256, 512])"
      ]
     },
     "execution_count": 17,
     "metadata": {},
     "output_type": "execute_result"
    }
   ],
   "source": [
    "encodings['context_encoding'][\"combined\"].shape"
   ]
  },
  {
   "cell_type": "code",
   "execution_count": null,
   "metadata": {},
   "outputs": [],
   "source": [
    "import torch\n",
    "import torch.nn.modules as nn\n",
    "fake_map_encodings=torch.randn(32, 512, 16,16)\n",
    "fake_agent_input=torch.randn(32, 32).unsqueeze(2).unsqueeze(3).repeat(1,1,16,16)"
   ]
  },
  {
   "cell_type": "code",
   "execution_count": null,
   "metadata": {},
   "outputs": [
    {
     "data": {
      "text/plain": [
       "torch.Size([32, 256, 512])"
      ]
     },
     "execution_count": 2,
     "metadata": {},
     "output_type": "execute_result"
    }
   ],
   "source": [
    "concatenated_encodings=torch.cat([fake_map_encodings,fake_agent_input],dim=1)\n",
    "conv1d1=nn.Conv2d(544, 528, kernel_size=1, stride=1, bias=False)\n",
    "conv1d2=nn.Conv2d(528, 512, kernel_size=1, stride=1, bias=False)\n",
    "test_dim_reduction=nn.Sequential(conv1d1,nn.BatchNorm2d(528),nn.ReLU(),conv1d2,nn.BatchNorm2d(512),nn.ReLU())\n",
    "fake_feature=test_dim_reduction(concatenated_encodings)\n",
    "fake_feature=fake_feature.view(fake_feature.shape[0], fake_feature.shape[1], -1).permute(0, 2, 1)\n",
    "\n",
    "fake_feature.shape"
   ]
  },
  {
   "cell_type": "code",
   "execution_count": null,
   "metadata": {},
   "outputs": [
    {
     "name": "stdout",
     "output_type": "stream",
     "text": [
      "torch.Size([32, 20, 244, 244])\n"
     ]
    }
   ],
   "source": [
    "upsampled_test=final_convs(transpose_convs(fake_feature))\n",
    "# augmented_mask=mask.unsqueeze(-1)\n",
    "print(upsampled_test[:,:,::2,::2].shape)\n"
   ]
  },
  {
   "cell_type": "code",
   "execution_count": null,
   "metadata": {},
   "outputs": [],
   "source": [
    "import numpy as np\n",
    "\n",
    "\n",
    "import torch\n",
    "from torch import nn\n",
    "\n",
    "# from model.decode import generic_decode\n",
    "\n",
    "# from utils.image import gaussian_radius, draw_umich_gaussian\n",
    "\n",
    "# from model.ConvGRU import ConvGRU\n",
    "\n",
    "from einops import rearrange as rearr, repeat\n",
    "\n",
    "from spatial_correlation_sampler import spatial_correlation_sample\n",
    "\n",
    "\n",
    "class LocalWalk(nn.Module):\n",
    "    def __init__(self, topk=0, radius=0.05, temp=0.05, pad_value=0,\n",
    "            broadcast_val=False, corr_module=True):\n",
    "        super(LocalWalk, self).__init__()\n",
    "\n",
    "        self.topk = topk\n",
    "        self.radius = radius\n",
    "        self.vals = {}\n",
    "        self.idxmaps = {}\n",
    "        self.temp = temp\n",
    "        self.pad_value = pad_value\n",
    "\n",
    "        self.broadcast_val = broadcast_val\n",
    "\n",
    "        self.corr_module = corr_module\n",
    "\n",
    "    def get_identity_label(self, keys):\n",
    "        '''\n",
    "        returns 1 x H*W x H x W as reshaped H*W x H*W identity matrix\n",
    "        '''\n",
    "        B, C, H, W = keys.shape\n",
    "        name = f\"{H}_{W}\"\n",
    "        if name not in self.vals:\n",
    "            vals = self.distance_field(H, W).flatten(0, 1)\n",
    "            vals = (vals == 0).float() ##Returns an identity matrix, which is composed of multiple matrices.\n",
    "            # The i th matrix has an element 1 at the i ith position, the rest places are all zeros.\n",
    "            vals = repeat(vals, 'n h w -> b n h w', b=B if not self.broadcast_val else 1)## Repeat for batch number times\n",
    "            self.vals[name] = vals.to(keys.device)\n",
    "            print('created vals')\n",
    "\n",
    "        return self.vals[name]\n",
    "\n",
    "    def knn(self, A):\n",
    "        if self.pad_value == 0 or self.topk > 0:\n",
    "            with torch.no_grad():\n",
    "                mask = (A == self.pad_value)\n",
    "                if self.topk > 0:\n",
    "                  mask |= (A < A.topk(k=self.topk, dim=-1)[0].min(-1, keepdim=True)[0])\n",
    "            A[mask] = -10\n",
    "\n",
    "        return A\n",
    "\n",
    "    def distance_field(self, H, W, p=2):\n",
    "        gx, gy = torch.meshgrid(torch.arange(0, H), torch.arange(0, W))\n",
    "        D = ( (gx[None, None, :, :] - gx[:, :, None, None]).abs()**p + (gy[None, None, :, :] - gy[:, :, None, None]).abs()**p ).float() #** (1/p)\n",
    "        return D\n",
    "\n",
    "    def make_scatter_map(self, keys, kH, kW):\n",
    "        B, C, H, W = keys.shape\n",
    "        name = f\"{H}_{W}_{kH}_{kW}\"\n",
    "        if name not in self.idxmaps:\n",
    "            idx_map = torch.arange(H*W).view(H, W)[None, None].float()\n",
    "            idx_map = torch.nn.functional.unfold(idx_map, kernel_size=(kH, kW), stride=1, padding=(kH//2, kW//2))\n",
    "            idx_map = rearr(idx_map, 'b n hw -> b hw n')\n",
    "            idx_map = idx_map.clamp(min=0).long()\n",
    "            self.idxmaps[name] = idx_map.to(keys.device)\n",
    "            print('created idx map')\n",
    "\n",
    "        return self.idxmaps[name]\n",
    "\n",
    "    def forward(self, query, keys, val=None):\n",
    "        '''\n",
    "        assumes q, k, v: B D N\n",
    "        '''\n",
    "\n",
    "        B, C, H, W = keys.shape\n",
    "        kW = kH = int(H * self.radius) * 2 + 1\n",
    "\n",
    "        val = self.make_scatter_map(keys, kH, kW)## Returns the indices of elements inside the sliding windows of all steps\n",
    "        ## The sliding window has size (kH,kW), the input is keys.\n",
    "        # out = self.get_identity_label(keys) * 0##Why all zeros?\n",
    "        out = torch.zeros([B,H*W,H,W]).float()\n",
    "        out = repeat(out, '1 n h w -> b (h w) n', b=B) if out.shape[0] == 1 else \\\n",
    "              rearr(out, 'b n h w -> b (h w) n') ##Repeat for batch number\n",
    "\n",
    "        if self.corr_module:\n",
    "            att = spatial_correlation_sample(query,\n",
    "                               keys,\n",
    "                               kernel_size=1,\n",
    "                               patch_size=kH,\n",
    "                               stride=1,\n",
    "                               padding=0,\n",
    "                               dilation=1,\n",
    "                               dilation_patch=1) / self.temp\n",
    "            att = rearr(att, 'b p1 p2 h w -> b h w (p1 p2)')##Local connectivity, for each node (pixel)\n",
    "            ## calculate its node similarity with nearby nodes\n",
    "\n",
    "        A = self.knn(att)\n",
    "\n",
    "        A = torch.exp(rearr(A, 'b h w n -> b (h w) n'))\n",
    "        out.scatter_add_(2, val.to(A.device).expand_as(A), A)\n",
    "        val = rearr(out, 'b (h w) n -> b n h w', h=H)\n",
    "\n",
    "        return val"
   ]
  },
  {
   "cell_type": "code",
   "execution_count": null,
   "metadata": {},
   "outputs": [
    {
     "name": "stdout",
     "output_type": "stream",
     "text": [
      "created idx map\n"
     ]
    },
    {
     "data": {
      "text/plain": [
       "torch.Size([32, 10000, 100, 100])"
      ]
     },
     "execution_count": 23,
     "metadata": {},
     "output_type": "execute_result"
    }
   ],
   "source": [
    "test_tensor=torch.randn([32,20,100,100])\n",
    "test_walker=LocalWalk(radius=0.2)\n",
    "test_walker.forward(test_tensor,test_tensor).shape"
   ]
  },
  {
   "cell_type": "code",
   "execution_count": null,
   "metadata": {},
   "outputs": [],
   "source": [
    "from models.library.RasterSampler import *\n",
    "sampler=Sampler(cfg['train_set_args'],1)"
   ]
  },
  {
   "cell_type": "code",
   "execution_count": null,
   "metadata": {},
   "outputs": [
    {
     "name": "stdout",
     "output_type": "stream",
     "text": [
      "torch.Size([64, 14884, 256])\n",
      "torch.Size([32, 488, 488])\n",
      "torch.Size([32, 14884, 2])\n"
     ]
    }
   ],
   "source": [
    "fake_mask=torch.randn([32,488,488]).ge(0)\n",
    "nodes_2D=sampler.sample_goals().repeat(32,1,1).type(torch.float32)\n",
    "mask_under=(sampler.sample_mask(mask))\n",
    "attn_mask=~mask_under.unsqueeze(-1).repeat(2,1,256)\n",
    "print(attn_mask.shape)\n",
    "print(mask.shape)\n",
    "print(nodes_2D.shape)\n"
   ]
  },
  {
   "cell_type": "code",
   "execution_count": null,
   "metadata": {},
   "outputs": [
    {
     "data": {
      "image/png": "[encoded data removed]",
      "text/plain": [
       "<Figure size 432x288 with 1 Axes>"
      ]
     },
     "metadata": {},
     "output_type": "display_data"
    },
    {
     "data": {
      "image/png": "[encoded data removed]",
      "text/plain": [
       "<Figure size 432x288 with 1 Axes>"
      ]
     },
     "metadata": {},
     "output_type": "display_data"
    }
   ],
   "source": [
    "import matplotlib.pyplot as plt\n",
    "plt.imshow(np.array(mask[0]))\n",
    "plt.show()\n",
    "plt.imshow(np.array(~mask_under[0].view(122,122)))\n",
    "plt.show()"
   ]
  },
  {
   "cell_type": "code",
   "execution_count": null,
   "metadata": {},
   "outputs": [
    {
     "name": "stdout",
     "output_type": "stream",
     "text": [
      "torch.Size([32, 14884, 128])\n",
      "torch.Size([32, 256, 128])\n",
      "torch.Size([64, 14884, 256])\n"
     ]
    }
   ],
   "source": [
    "fake_feature.shape\n",
    "lin1=nn.Linear(2, 128)\n",
    "lin2=nn.Linear(512, 128)\n",
    "print(lin1(nodes_2D.type(torch.float32)).shape)\n",
    "print(lin2(fake_feature.type(torch.float32)).shape)\n",
    "print(attn_mask.shape)\n"
   ]
  },
  {
   "cell_type": "code",
   "execution_count": null,
   "metadata": {},
   "outputs": [],
   "source": [
    "class Attention():\n",
    "    \"\"\"\n",
    "    Test fusing 2D goal encodings and map encodings with attention mechanism. \n",
    "    \"\"\"\n",
    "\n",
    "    def __init__(self):\n",
    "\n",
    "        \"\"\"\n",
    "        args to include\n",
    "\n",
    "        enc_size: int Dimension of encodings generated by encoder\n",
    "        emb_size: int Size of embeddings used for queries, keys and values\n",
    "        num_heads: int Number of attention heads\n",
    "\n",
    "        \"\"\"\n",
    "        self.query_emb = nn.Linear(2, 128)\n",
    "        self.key_emb = nn.Linear(512, 128)\n",
    "        self.val_emb = nn.Linear(512, 128)\n",
    "        self.mha = nn.MultiheadAttention(128, 2)\n",
    "\n",
    "    def forward(self, query_goals, map_features, attn_mask) -> torch.Tensor:\n",
    "        \"\"\"\n",
    "        Forward pass for attention aggregator\n",
    "        \"\"\"\n",
    "\n",
    "        query = self.query_emb(query_goals).permute(1,0,2)\n",
    "        keys = self.key_emb(map_features).permute(1,0,2)\n",
    "        vals = self.val_emb(map_features).permute(1,0,2)\n",
    "        op, _ = self.mha(query, keys, vals, attn_mask=attn_mask)\n",
    "        # op = op.squeeze(0)\n",
    "        # op = torch.cat((target_agent_enc, op), dim=-1)\n",
    "\n",
    "        return op"
   ]
  },
  {
   "cell_type": "code",
   "execution_count": null,
   "metadata": {},
   "outputs": [
    {
     "data": {
      "text/plain": [
       "torch.Size([14884, 32, 128])"
      ]
     },
     "execution_count": 70,
     "metadata": {},
     "output_type": "execute_result"
    }
   ],
   "source": [
    "test_attention= Attention()\n",
    "test_attn_feat=test_attention.forward(query_goals=nodes_2D, map_features=fake_feature, attn_mask=attn_mask)\n",
    "test_attn_feat.shape\n"
   ]
  }
 ],
 "metadata": {
  "kernelspec": {
   "display_name": "Python 3.7.13 ('pgp')",
   "language": "python",
   "name": "python3"
  },
  "language_info": {
   "codemirror_mode": {
    "name": "ipython",
    "version": 3
   },
   "file_extension": ".py",
   "mimetype": "text/x-python",
   "name": "python",
   "nbconvert_exporter": "python",
   "pygments_lexer": "ipython3",
   "version": "3.7.13"
  },
  "orig_nbformat": 4,
  "vscode": {
   "interpreter": {
    "hash": "593542b65644041049b318720dfeebe70f9074a000f082b969de259755a1a643"
   }
  }
 },
 "nbformat": 4,
 "nbformat_minor": 2
}
