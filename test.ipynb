{
 "cells": [
  {
   "cell_type": "code",
   "execution_count": 1,
   "metadata": {},
   "outputs": [],
   "source": [
    "\n",
    "import yaml\n",
    "import matplotlib.pyplot as plt\n",
    "# from train_eval.trainer import Trainer\n",
    "import torch\n",
    "import torch.nn as nn\n",
    "import os\n",
    "os.environ['CUDA_DEVICE_ORDER'] = 'PCI_BUS_ID'\n",
    "os.environ['CUDA_VISIBLE_DEVICES'] = \"5\"\n",
    "os.environ[\"MKL_NUM_THREADS\"] = \"4\"\n",
    "os.environ[\"NUMEXPR_NUM_THREADS\"] = \"4\"\n",
    "os.environ[\"OMP_NUM_THREADS\"] = \"4\"\n"
   ]
  },
  {
   "cell_type": "code",
   "execution_count": 69,
   "metadata": {},
   "outputs": [
    {
     "data": {
      "text/plain": [
       "torch.Size([1, 27, 25])"
      ]
     },
     "execution_count": 69,
     "metadata": {},
     "output_type": "execute_result"
    }
   ],
   "source": [
    "unfold = nn.Unfold(kernel_size=(3, 3), dilation=1, padding=3//2, stride=(1, 1))\n",
    "unfolded=unfold(test)\n",
    "unfolded.shape"
   ]
  },
  {
   "cell_type": "code",
   "execution_count": 77,
   "metadata": {},
   "outputs": [
    {
     "data": {
      "text/plain": [
       "torch.Size([1, 5, 5, 3, 9])"
      ]
     },
     "execution_count": 77,
     "metadata": {},
     "output_type": "execute_result"
    }
   ],
   "source": [
    "unfolded.permute(0,2,1).view(1,5,5,-1,9).shape"
   ]
  },
  {
   "cell_type": "code",
   "execution_count": 20,
   "metadata": {},
   "outputs": [
    {
     "data": {
      "text/plain": [
       "tensor([[[[4.0000, 6.0000, 6.0000, 6.0000, 4.0000],\n",
       "          [6.0000, 9.0000, 9.0000, 9.0000, 6.0000],\n",
       "          [6.0000, 9.0000, 9.0000, 9.0000, 6.0000],\n",
       "          [6.0000, 9.0000, 9.0000, 9.0000, 6.0000],\n",
       "          [4.0000, 6.0000, 6.0000, 6.0000, 4.0000]],\n",
       "\n",
       "         [[4.0000, 6.0000, 6.0000, 6.0000, 4.0000],\n",
       "          [6.0000, 9.0000, 9.0000, 9.0000, 6.0000],\n",
       "          [6.0000, 9.0000, 9.0000, 9.0000, 6.0000],\n",
       "          [6.0000, 9.0000, 9.0000, 9.0000, 6.0000],\n",
       "          [4.0000, 6.0000, 6.0000, 6.0000, 4.0000]]]])"
      ]
     },
     "execution_count": 20,
     "metadata": {},
     "output_type": "execute_result"
    }
   ],
   "source": [
    "fold=nn.Fold(output_size=(5, 5), kernel_size=(3, 3), padding=3//2, dilation=1, stride=(1, 1))\n",
    "fold(unfolded)/test"
   ]
  },
  {
   "cell_type": "code",
   "execution_count": null,
   "metadata": {},
   "outputs": [],
   "source": [
    "def get_unfolded_feature(feature,kernel,mask):\n",
    "    ## Input shape B,C,H,W\n",
    "    channel=feature.shape[1]\n",
    "    unfold = nn.Unfold(kernel_size=(kernel, kernel), dilation=1, padding=kernel//2, stride=(1, 1))\n",
    "    unfolded_feature=unfold(feature).permute(0,2,1) ## B,Number of slided window, channel*Number of elements in every window\n",
    "    # unfolded_feature=unfolded_feature.view(unfolded_feature.shape[0],unfolded_feature.shape[1],channel,kernel**2)\n",
    "    current_node_feat=feature.view(feature.shape[0],channel,-1).permute(0,2,1)## B,Number of slided window, channel\n",
    "    # unfolded_feature=(unfolded_feature*mask.unsqueeze(-1)).to_sparse()\n",
    "    # current_node_feat=(current_node_feat*mask.unsqueeze(-1)).to_sparse()\n",
    "    target_feat=[]\n",
    "    source_feat=[]\n",
    "    for idx,batch in enumerate(current_node_feat):\n",
    "        source_feat.append(batch[mask[idx]])\n",
    "        target_feat.append(unfolded_feature[idx][mask[idx]])\n",
    "    return source_feat,target_feat\n",
    "source_feat,target_feat=get_unfolded_feature(op,15,mask_map)"
   ]
  },
  {
   "cell_type": "code",
   "execution_count": 2,
   "metadata": {},
   "outputs": [],
   "source": [
    "# with open(\"configs/pgp_gatx2_lvm_traversal_debug.yml\", 'r') as yaml_file:\n",
    "with open(\"configs/pgp_gatx2_lvm_traversal_debug.yml\", 'r') as yaml_file:\n",
    "    cfg = yaml.safe_load(yaml_file)"
   ]
  },
  {
   "cell_type": "code",
   "execution_count": 3,
   "metadata": {},
   "outputs": [],
   "source": [
    "from train_eval.trainer import Trainer\n",
    "from train_eval.visualizer import Visualizer\n",
    "# from torch.utils.tensorboard import SummaryWriter\n",
    "# import os\n",
    "# writer = SummaryWriter(log_dir=os.path.join('/home/stanliu/code/pgp/PGP/output/test_ram', 'tensorboard_logs'))\n",
    "# trainer = Trainer(cfg, \"/home/stanliu/data/mnt/nuScenes/\", \"/home/stanliu/code/pgp/PGP/preprocess_home\",\"output/test_home_original_9/checkpoints/7.tar\")\n",
    "# visualizer = Visualizer(cfg, \"/home/stanliu/data/mnt/nuScenes/\", \"/home/stanliu/code/pgp/PGP/preprocess_home\",\"output/test_home_original_7/checkpoints/7.tar\")\n",
    "trainer = Trainer(cfg, \"/home/stanliu/data/mnt/nuScenes/\", \"preprocess_graph_mini_test/\")\n",
    "# \n",
    "# trainer = Trainer(cfg, \"/home/stanliu/data/mnt/nuScenes/\", \"/home/stanliu/code/pgp/PGP/preprocess\")"
   ]
  },
  {
   "cell_type": "code",
   "execution_count": 6,
   "metadata": {},
   "outputs": [],
   "source": [
    "from train_eval.initialization import initialize_prediction_model, initialize_dataset, get_specific_args\n",
    "from nuscenes.eval.prediction.splits import get_prediction_challenge_split\n",
    "from nuscenes.prediction.input_representation.static_layers import StaticLayerRasterizer\n",
    "from nuscenes.prediction.input_representation.agents import AgentBoxesWithFadedHistory\n",
    "from nuscenes.prediction.input_representation.interface import InputRepresentation\n",
    "from nuscenes.prediction.input_representation.combinators import Rasterizer\n",
    "import train_eval.utils as u\n",
    "# self=visualizer\n",
    "# index_list = self.get_vis_idcs_nuscenes()\n",
    "\n"
   ]
  },
  {
   "cell_type": "code",
   "execution_count": 28,
   "metadata": {},
   "outputs": [
    {
     "data": {
      "text/plain": [
       "<All keys matched successfully>"
      ]
     },
     "execution_count": 28,
     "metadata": {},
     "output_type": "execute_result"
    }
   ],
   "source": [
    "checkpoint = torch.load(\"output/test_home_original_10/checkpoints/12.tar\",map_location='cuda:0')\n",
    "self.model.load_state_dict(checkpoint['model_state_dict'])"
   ]
  },
  {
   "cell_type": "code",
   "execution_count": null,
   "metadata": {},
   "outputs": [],
   "source": [
    "idcs=index_list[7]\n",
    "import numpy as np\n",
    "with torch.no_grad():\n",
    "    map_extent = self.ds.map_extent\n",
    "    resolution = 0.1\n",
    "    static_layer_rasterizer = StaticLayerRasterizer(self.ds.helper,\n",
    "                                                    resolution=resolution,\n",
    "                                                    meters_ahead=map_extent[3],\n",
    "                                                    meters_behind=-map_extent[2],\n",
    "                                                    meters_left=-map_extent[0],\n",
    "                                                    meters_right=map_extent[1])\n",
    "\n",
    "    agent_rasterizer = AgentBoxesWithFadedHistory(self.ds.helper, seconds_of_history=1,\n",
    "                                                    resolution=resolution,\n",
    "                                                    meters_ahead=map_extent[3],\n",
    "                                                    meters_behind=-map_extent[2],\n",
    "                                                    meters_left=-map_extent[0],\n",
    "                                                    meters_right=map_extent[1])\n",
    "\n",
    "    raster_maps = InputRepresentation(static_layer_rasterizer, agent_rasterizer, Rasterizer())\n",
    "\n",
    "    imgs = []\n",
    "    for idx in idcs:\n",
    "\n",
    "        # Load data\n",
    "        data = self.ds[idx]\n",
    "        data = u.send_to_device(u.convert_double_to_float(u.convert2tensors(data)))\n",
    "        data['inputs']['gt_traj']= None\n",
    "        i_t = data['inputs']['instance_token']\n",
    "        s_t = data['inputs']['sample_token']\n",
    "\n",
    "        # Get raster map\n",
    "        hd_map = raster_maps.make_input_representation(i_t, s_t)\n",
    "        r, g, b = hd_map[:, :, 0] / 255, hd_map[:, :, 1] / 255, hd_map[:, :, 2] / 255\n",
    "        hd_map_gray = 0.2989 * r + 0.5870 * g + 0.1140 * b\n",
    "\n",
    "        # Predict\n",
    "        predictions = self.model(data['inputs'])\n",
    "        mask_map=predictions['mask'].unsqueeze(1).clone().detach().float()\n",
    "        prob=predictions['pred'][:,-1].clone().detach().unsqueeze(1)*50\n",
    "        heatmap=torch.cat((prob,torch.zeros_like(prob),mask_map*10),dim=1)\n",
    "        origin=torch.round(torch.Tensor([400,244])).int()\n",
    "        heatmap[:,:,origin[0]-3:origin[0]+4,origin[1]-3:origin[1]+4]=torch.Tensor([[255,0,0]]).unsqueeze(-1).unsqueeze(-1).repeat(1,1,7,7)\n",
    "        endpoints=predictions['endpoints'].squeeze(0)\n",
    "        for point in endpoints:\n",
    "            heatmap[:,:,point[0]-1:point[0]+2,point[1]-1:point[1]+2]=60\n",
    "        fig, ax = plt.subplots(2, 2, figsize=(20, 20))\n",
    "        ax[0,0].imshow(hd_map, extent=self.ds.map_extent)\n",
    "        ax[0,1].imshow(hd_map_gray, cmap='gist_gray', extent=self.ds.map_extent)\n",
    "        ax[1,0].imshow(heatmap.squeeze(0).permute(1,2,0).cpu(), cmap='gist_gray', extent=self.ds.map_extent)\n",
    "        ax[1,1].imshow(hd_map_gray, cmap='gist_gray', extent=self.ds.map_extent)\n",
    "        for n, traj in enumerate(predictions['traj'][0]):\n",
    "            ax[0,1].plot(traj[:, 0].detach().cpu().numpy(), traj[:, 1].detach().cpu().numpy(), lw=4,\n",
    "                        color='r', alpha=0.8)\n",
    "            ax[0,1].scatter(traj[-1, 0].detach().cpu().numpy(), traj[-1, 1].detach().cpu().numpy(), 60,\n",
    "                            color='r', alpha=0.8)\n",
    "\n",
    "        traj_gt = data['ground_truth']['traj'][0]\n",
    "        ax[1,1].plot(traj_gt[:, 0].detach().cpu().numpy(), traj_gt[:, 1].detach().cpu().numpy(), lw=12, color='g')\n",
    "        ax[1,1].scatter(traj_gt[-1, 0].detach().cpu().numpy(), traj_gt[-1, 1].detach().cpu().numpy(), 80, color='g')\n",
    "\n",
    "        ax[0,0].axis('off')\n",
    "        ax[0,1].axis('off')\n",
    "        ax[1,0].axis('off')\n",
    "        ax[1,1].axis('off')\n",
    "        fig.tight_layout(pad=0)\n",
    "        ax[0,0].margins(0)\n",
    "        ax[0,1].margins(0)\n",
    "        ax[1,0].margins(0)\n",
    "        ax[1,1].margins(0)\n",
    "\n",
    "        fig.canvas.draw()\n",
    "        image_from_plot = np.frombuffer(fig.canvas.tostring_rgb(), dtype=np.uint8)\n",
    "        image_from_plot = image_from_plot.reshape(fig.canvas.get_width_height()[::-1] + (3,))\n",
    "        # break"
   ]
  },
  {
   "cell_type": "code",
   "execution_count": null,
   "metadata": {},
   "outputs": [],
   "source": [
    "# self = trainer\n",
    "# self.add_img=False\n",
    "# with torch.no_grad():\n",
    "#     val_epoch_metrics = self.run_epoch('val', self.val_dl)\n",
    "# self.print_metrics(val_epoch_metrics, self.val_dl, mode='val')"
   ]
  },
  {
   "cell_type": "code",
   "execution_count": 8,
   "metadata": {},
   "outputs": [
    {
     "data": {
      "text/plain": [
       "32186"
      ]
     },
     "execution_count": 8,
     "metadata": {},
     "output_type": "execute_result"
    }
   ],
   "source": [
    "len(trainer.tr_dl.dataset)"
   ]
  },
  {
   "cell_type": "code",
   "execution_count": 4,
   "metadata": {},
   "outputs": [],
   "source": [
    "indices =  list(range(30312,32186))  # select your indices here as a list  \n",
    "subset = torch.utils.data.Subset(trainer.tr_dl.dataset, indices)\n",
    "trainloader = torch.utils.data.DataLoader(subset , batch_size =  36  , shuffle =False,num_workers=6, pin_memory=True) #set shuffle to False \n",
    "\n"
   ]
  },
  {
   "cell_type": "code",
   "execution_count": 4,
   "metadata": {},
   "outputs": [],
   "source": [
    "import train_eval.utils as u\n",
    "for i,data in enumerate(trainer.tr_dl):\n",
    "    # torch.cuda.empty_cache()\n",
    "    # Load data\n",
    "\n",
    "    data = u.send_to_device(u.convert_double_to_float(data))\n",
    "    data_test=data['inputs']\n",
    "    gt_test=data['ground_truth']\n",
    "\n",
    "    break\n"
   ]
  },
  {
   "cell_type": "code",
   "execution_count": 9,
   "metadata": {},
   "outputs": [
    {
     "data": {
      "text/plain": [
       "2"
      ]
     },
     "execution_count": 9,
     "metadata": {},
     "output_type": "execute_result"
    }
   ],
   "source": [
    "len(predictions['traj'])"
   ]
  },
  {
   "cell_type": "code",
   "execution_count": 30,
   "metadata": {},
   "outputs": [
    {
     "data": {
      "text/plain": [
       "torch.Size([2, 5, 4])"
      ]
     },
     "execution_count": 30,
     "metadata": {},
     "output_type": "execute_result"
    }
   ],
   "source": [
    "data_test['target_agent_representation']['future'].keys()\n",
    "data_test['target_agent_representation']['future']['mask'].shape"
   ]
  },
  {
   "cell_type": "code",
   "execution_count": 12,
   "metadata": {},
   "outputs": [
    {
     "data": {
      "text/plain": [
       "10.000834465026855"
      ]
     },
     "execution_count": 12,
     "metadata": {},
     "output_type": "execute_result"
    }
   ],
   "source": [
    "import numpy as np\n",
    "from datasets.nuScenes.prediction import PredictHelper_occ\n",
    "sample_id=0\n",
    "instance_token=data_test['instance_token'][sample_id]\n",
    "sample_token=data_test['sample_token'][sample_id]\n",
    "helper=PredictHelper_occ(trainer.tr_dl.dataset.helper.data)\n",
    "future=data_test['target_agent_representation']['future']['traj'][sample_id]\n",
    "mask=data_test['target_agent_representation']['future']['mask'][sample_id]\n",
    "hist=data_test['target_agent_representation']['history']['traj'][sample_id]\n",
    "mask_hist=data_test['target_agent_representation']['history']['mask'][sample_id]\n",
    "nearest_idx=np.where(mask[:, 0].cpu() == 0)[0][-1]\n",
    "prediction_horizon=future[nearest_idx,-1]\n",
    "prediction_horizon.item()"
   ]
  },
  {
   "cell_type": "code",
   "execution_count": 14,
   "metadata": {},
   "outputs": [
    {
     "data": {
      "text/plain": [
       "tensor([[-1.7549e+01,  6.7560e+01, -2.9283e+00,  1.7549e+01, -6.7560e+01,\n",
       "         -2.9283e+00],\n",
       "        [-3.6829e+01,  6.1092e+01, -2.5970e+00,  3.6829e+01, -6.1092e+01,\n",
       "         -2.6144e+00],\n",
       "        [ 1.1627e+01,  5.8110e+00,  2.0403e+00, -1.1627e+01, -5.8110e+00,\n",
       "          2.0228e+00],\n",
       "        [-8.1122e-03, -7.3143e+00, -0.0000e+00,  8.1122e-03,  7.3143e+00,\n",
       "         -0.0000e+00],\n",
       "        [-7.1221e+00,  3.5933e+01, -3.0053e+00,  7.1221e+00, -3.5933e+01,\n",
       "         -3.0053e+00],\n",
       "        [-2.1370e-01, -1.0081e+01,  8.7266e-03,  2.1370e-01,  1.0081e+01,\n",
       "         -8.7266e-03],\n",
       "        [-7.4344e-01, -2.6780e+01, -0.0000e+00,  7.4344e-01,  2.6780e+01,\n",
       "         -0.0000e+00],\n",
       "        [ 4.6063e+01,  6.3917e+01,  2.5137e+00, -4.6063e+01, -6.3917e+01,\n",
       "          2.5137e+00],\n",
       "        [ 7.5189e+01, -7.0781e+01,  8.6871e-01, -7.5189e+01,  7.0781e+01,\n",
       "          7.9889e-01],\n",
       "        [ 3.7578e+00, -3.8763e+01,  1.0141e-01, -3.7578e+00,  3.8763e+01,\n",
       "          9.9005e-02],\n",
       "        [ 2.4214e-02, -3.2854e+01, -0.0000e+00, -2.4214e-02,  3.2854e+01,\n",
       "         -0.0000e+00],\n",
       "        [ 2.2781e-02, -4.0582e+00, -0.0000e+00, -2.2781e-02,  4.0582e+00,\n",
       "         -0.0000e+00],\n",
       "        [ 3.2649e+00, -7.6821e-01,  1.3632e+00, -3.2649e+00,  7.6821e-01,\n",
       "          1.3632e+00],\n",
       "        [ 8.5269e+00,  2.9954e+00,  1.4575e+00, -8.5269e+00, -2.9954e+00,\n",
       "          2.4054e+00],\n",
       "        [-1.5906e-02, -1.3384e+01, -0.0000e+00,  1.5906e-02,  1.3384e+01,\n",
       "         -0.0000e+00],\n",
       "        [ 6.1199e+00, -1.6715e+01, -6.2833e-01, -6.1199e+00,  1.6715e+01,\n",
       "          6.2833e-01]], device='cuda:0')"
      ]
     },
     "execution_count": 14,
     "metadata": {},
     "output_type": "execute_result"
    }
   ],
   "source": [
    "gt_test['endpoints']"
   ]
  },
  {
   "cell_type": "code",
   "execution_count": 15,
   "metadata": {},
   "outputs": [
    {
     "data": {
      "text/plain": [
       "tensor([[-21.7295,  85.7982,  -2.9283,  -1.4996],\n",
       "        [-20.3765,  79.9045,  -2.9283,  -0.9997],\n",
       "        [-18.9626,  73.7314,  -2.9283,  -0.4998],\n",
       "        [-17.5490,  67.5598,  -2.9283,   0.0000],\n",
       "        [  0.0000,   0.0000,   0.0000,   0.0000]], device='cuda:0')"
      ]
     },
     "execution_count": 15,
     "metadata": {},
     "output_type": "execute_result"
    }
   ],
   "source": [
    "hist"
   ]
  },
  {
   "cell_type": "code",
   "execution_count": 16,
   "metadata": {},
   "outputs": [
    {
     "data": {
      "text/plain": [
       "tensor([[ 24.7887, -96.0610,  -2.9283,  11.9506],\n",
       "        [ 21.1309, -81.3907,  -2.9283,  10.9508],\n",
       "        [ 17.5490, -67.5598,  -2.9283,  10.0008],\n",
       "        [  0.0000,   0.0000,   0.0000,   0.0000],\n",
       "        [  0.0000,   0.0000,   0.0000,   0.0000]], device='cuda:0')"
      ]
     },
     "execution_count": 16,
     "metadata": {},
     "output_type": "execute_result"
    }
   ],
   "source": [
    "future"
   ]
  },
  {
   "cell_type": "code",
   "execution_count": 40,
   "metadata": {},
   "outputs": [],
   "source": [
    "from nuscenes.prediction.input_representation.static_layers import correct_yaw\n",
    "from pyquaternion import Quaternion\n",
    "from nuscenes.eval.common.utils import quaternion_yaw\n",
    "from numpy import linalg as LA\n",
    "sample_annotation = helper.get_sample_annotation(instance_token, sample_token)\n",
    "map_name = helper.get_map_name_from_sample_token(sample_token)\n",
    "\n",
    "x, y = sample_annotation['translation'][:2]\n",
    "yaw = quaternion_yaw(Quaternion(sample_annotation['rotation']))\n",
    "yaw_corrected = correct_yaw(yaw)\n",
    "global_pose=(x,y,yaw_corrected)\n",
    "if 'origin' in data_test:\n",
    "    origin=(data_test['origin'][0][sample_id].item(),data_test['origin'][1][sample_id].item(),data_test['origin'][2][sample_id].item())\n",
    "else:\n",
    "    coords_fut,global_yaw_fut,time_fut = helper.get_future_for_agent(instance_token, sample_token, seconds=2+prediction_horizon, in_agent_frame=False,add_yaw_and_time=True)\n",
    "\n",
    "    sep_idx= np.searchsorted(time_fut, (prediction_horizon-0.001).item())\n",
    "    origin_fut=coords_fut[sep_idx][0],coords_fut[sep_idx][1],correct_yaw(quaternion_yaw(Quaternion(global_yaw_fut[sep_idx])))\n",
    "    origin=tuple((np.asarray(global_pose)+np.asarray(origin_fut))/2)\n",
    "\n",
    "dist=LA.norm(future[0,:2].cpu(),ord=2)"
   ]
  },
  {
   "cell_type": "code",
   "execution_count": 41,
   "metadata": {},
   "outputs": [
    {
     "data": {
      "text/plain": [
       "(1816.5205, 2549.4880000000003, 0.46821818977979)"
      ]
     },
     "execution_count": 41,
     "metadata": {},
     "output_type": "execute_result"
    }
   ],
   "source": [
    "origin"
   ]
  },
  {
   "cell_type": "code",
   "execution_count": 42,
   "metadata": {},
   "outputs": [
    {
     "name": "stderr",
     "output_type": "stream",
     "text": [
      "/home/stanliu/.local/lib/python3.7/site-packages/nuscenes/map_expansion/map_api.py:1823: ShapelyDeprecationWarning: Iteration over multi-part geometries is deprecated and will be removed in Shapely 2.0. Use the `geoms` property to access the constituent parts of a multi-part geometry.\n",
      "  exteriors = [int_coords(poly.exterior.coords) for poly in polygons]\n",
      "/home/stanliu/.local/lib/python3.7/site-packages/nuscenes/map_expansion/map_api.py:1824: ShapelyDeprecationWarning: Iteration over multi-part geometries is deprecated and will be removed in Shapely 2.0. Use the `geoms` property to access the constituent parts of a multi-part geometry.\n",
      "  interiors = [int_coords(pi.coords) for poly in polygons for pi in poly.interiors]\n"
     ]
    },
    {
     "data": {
      "image/png": "[encoded data removed]",
      "text/plain": [
       "<Figure size 720x720 with 1 Axes>"
      ]
     },
     "metadata": {},
     "output_type": "display_data"
    }
   ],
   "source": [
    "@torch.no_grad()\n",
    "def local_pose_to_image(local_poses,pose_mask,resolution,img_size,arror_length=None):\n",
    "    '''local_poses: [T,4] \n",
    "    mask: [T]\n",
    "    '''\n",
    "    if arror_length is None:\n",
    "        arror_length=8\n",
    "    y_m=np.asarray(local_poses[:,1][pose_mask].cpu())\n",
    "    x_m=np.asarray(local_poses[:,0][pose_mask].cpu())\n",
    "    img_origin=np.round(np.asarray(img_size)/2).astype(np.int)\n",
    "    x=img_origin[1]+x_m*resolution\n",
    "    y=img_origin[0]-y_m*resolution\n",
    "    yaw=np.asarray((local_poses[:,2][pose_mask]).cpu())\n",
    "    dy=-np.sin(yaw+np.pi/2)*arror_length\n",
    "    dx=np.cos(yaw+np.pi/2)*arror_length\n",
    "    return x,y,dx,dy\n",
    "\n",
    "from nuscenes.prediction.input_representation.static_layers import *\n",
    "from nuscenes.prediction.input_representation.combinators import Rasterizer\n",
    "\n",
    "image_side_length = 2 * max(30,dist+20)\n",
    "image_side_length_pixels = 400\n",
    "resolution=image_side_length_pixels/image_side_length\n",
    "patchbox = get_patchbox(origin[0], origin[1], image_side_length)\n",
    "\n",
    "angle_in_degrees = angle_of_rotation(origin[2]) * 180 / np.pi\n",
    "\n",
    "canvas_size = (image_side_length_pixels, image_side_length_pixels)\n",
    "maps= load_all_maps(helper)\n",
    "layer_names = ['drivable_area', 'ped_crossing']\n",
    "masks = maps[map_name].get_map_mask(patchbox, angle_in_degrees, layer_names, canvas_size=canvas_size)\n",
    "colors = [(255, 255, 255), (119, 136, 153)]\n",
    "images = []\n",
    "for mask, color in zip(masks, colors):\n",
    "    images.append(change_color_of_binary_mask(np.repeat(mask[::-1, :, np.newaxis], 3, 2), color))\n",
    "\n",
    "\n",
    "lanes=data_test['map_representation']['lane_node_feats'][sample_id].flatten(0,1).clone()\n",
    "# submask=torch.zeros_like(data_test['map_representation']['lane_node_feats'][sample_id])\n",
    "# for i in data_test['map_representation']['s_next'][sample_id,0,:-1]:\n",
    "#     # print(i)\n",
    "#     submask[0]=1\n",
    "# lanes*=submask.flatten(0,1)\n",
    "lanes_mask=data_test['map_representation']['lane_node_feats'][sample_id].flatten(0,1)[:,0].bool()\n",
    "image = Rasterizer().combine(images)\n",
    "pose_future_mask=~data_test['target_agent_representation']['future']['mask'][sample_id][:,0].bool()\n",
    "pose_hist_mask=~data_test['target_agent_representation']['history']['mask'][sample_id][:,0].bool()\n",
    "xs, ys, dxs, dys=local_pose_to_image(future,pose_future_mask,resolution,canvas_size)\n",
    "xsh, ysh, dxsh, dysh=local_pose_to_image(hist,pose_hist_mask,resolution,canvas_size)\n",
    "xsl, ysl, dxsl, dysl=local_pose_to_image(lanes,lanes_mask,resolution,canvas_size,5)\n",
    "# plt.imshow(image)\n",
    "fig = plt.figure(figsize = (10,10))\n",
    "ax = fig.add_subplot(1,1,1) \n",
    "ax.imshow(image)\n",
    "for x, y, dx, dy in zip(xs, ys, dxs, dys):\n",
    "    ax.arrow(x, y, dx, dy, width=1.5)\n",
    "for x, y, dx, dy in zip(xsh, ysh, dxsh, dysh):\n",
    "    ax.arrow(x, y, dx, dy, width=1.5)\n",
    "for x, y, dx, dy in zip(xsl, ysl, dxsl, dysl):\n",
    "    ax.arrow(x, y, dx, dy, width=0.5, color=(1,0.5,0,0.3))\n",
    "fig.canvas.draw()\n",
    "# image_from_plot = np.frombuffer(fig.canvas.tostring_rgb(), dtype=np.uint8)\n",
    "# image_from_plot = image_from_plot.reshape(fig.canvas.get_width_height()[::-1] + (3,))\n",
    "# plt.close(fig)\n",
    "# import matplotlib.image\n",
    "# matplotlib.image.imsave('train_eval/test/name.png', image_from_plot)\n",
    "\n"
   ]
  },
  {
   "cell_type": "code",
   "execution_count": 37,
   "metadata": {},
   "outputs": [
    {
     "name": "stderr",
     "output_type": "stream",
     "text": [
      "/home/stanliu/.local/lib/python3.7/site-packages/nuscenes/map_expansion/map_api.py:1823: ShapelyDeprecationWarning: Iteration over multi-part geometries is deprecated and will be removed in Shapely 2.0. Use the `geoms` property to access the constituent parts of a multi-part geometry.\n",
      "  exteriors = [int_coords(poly.exterior.coords) for poly in polygons]\n",
      "/home/stanliu/.local/lib/python3.7/site-packages/nuscenes/map_expansion/map_api.py:1824: ShapelyDeprecationWarning: Iteration over multi-part geometries is deprecated and will be removed in Shapely 2.0. Use the `geoms` property to access the constituent parts of a multi-part geometry.\n",
      "  interiors = [int_coords(pi.coords) for poly in polygons for pi in poly.interiors]\n"
     ]
    },
    {
     "data": {
      "image/png": "[encoded data removed]",
      "text/plain": [
       "<Figure size 720x720 with 1 Axes>"
      ]
     },
     "metadata": {},
     "output_type": "display_data"
    }
   ],
   "source": [
    "with torch.no_grad():\n",
    "    predictions=trainer.model(data_test)\n",
    "    resolution=0.5\n",
    "    image_side_length = 2 * max(30,dist+20)\n",
    "    image_side_length_pixels = 400\n",
    "    resolution=image_side_length_pixels/image_side_length\n",
    "    patchbox = get_patchbox(origin[0], origin[1], image_side_length)\n",
    "\n",
    "    angle_in_degrees = angle_of_rotation(origin[2]) * 180 / np.pi\n",
    "\n",
    "    canvas_size = (image_side_length_pixels, image_side_length_pixels)\n",
    "    maps= load_all_maps(helper)\n",
    "    layer_names = ['drivable_area', 'ped_crossing']\n",
    "    masks = maps[map_name].get_map_mask(patchbox, angle_in_degrees, layer_names, canvas_size=canvas_size)\n",
    "    colors = [(255, 255, 255), (119, 136, 153)]\n",
    "    images = []\n",
    "    for mask, color in zip(masks, colors):\n",
    "        images.append(change_color_of_binary_mask(np.repeat(mask[::-1, :, np.newaxis], 3, 2), color))\n",
    "\n",
    "    traj = predictions['refined_traj'][sample_id].squeeze(0)\n",
    "    yaw = predictions['refined_yaw'][sample_id]\n",
    "    pred = torch.cat((traj,yaw),-1)\n",
    "    pose_pred_mask=~(predictions['mask'][sample_id]).bool()\n",
    "    gt = gt_test['traj'][sample_id]\n",
    "    image = Rasterizer().combine(images)\n",
    "    pose_future_mask=~data_test['target_agent_representation']['future']['mask'][sample_id][:,0].bool()\n",
    "    pose_hist_mask=~data_test['target_agent_representation']['history']['mask'][sample_id][:,0].bool()\n",
    "    xs, ys, dxs, dys=local_pose_to_image(future,pose_future_mask,resolution,canvas_size)\n",
    "    xsh, ysh, dxsh, dysh=local_pose_to_image(hist,pose_hist_mask,resolution,canvas_size)\n",
    "    xsp, ysp, dxsp, dysp=local_pose_to_image(pred,pose_pred_mask,resolution,canvas_size)\n",
    "    xsg, ysg, dxsg, dysg=local_pose_to_image(gt,pose_pred_mask,resolution,canvas_size)\n",
    "    # plt.imshow(image)\n",
    "    fig = plt.figure(figsize = (10,10))\n",
    "    ax = fig.add_subplot(1,1,1) \n",
    "    # ax.imshow(image)\n",
    "    for x, y, dx, dy in zip(xs, ys, dxs, dys):\n",
    "        ax.arrow(x, y, dx, dy, width=1.5, color=(1,0,0,1))\n",
    "    for x, y, dx, dy in zip(xsh, ysh, dxsh, dysh):\n",
    "        ax.arrow(x, y, dx, dy, width=1.5, color=(0,1,0,1))\n",
    "    for x, y, dx, dy in zip(xsp, ysp, dxsp, dysp):\n",
    "        ax.arrow(x, y, dx, dy, width=1.0, color=(0,0.0,1,1))\n",
    "    for x, y, dx, dy in zip(xsg, ysg, dxsg, dysg):\n",
    "        ax.arrow(x, y, dx, dy, width=1.0, color=(1,0,1,0.3))\n",
    "    ax.imshow(image)"
   ]
  },
  {
   "cell_type": "code",
   "execution_count": 16,
   "metadata": {},
   "outputs": [
    {
     "data": {
      "image/png": "[encoded data removed]",
      "text/plain": [
       "<Figure size 720x720 with 1 Axes>"
      ]
     },
     "metadata": {},
     "output_type": "display_data"
    }
   ],
   "source": [
    "with torch.no_grad():\n",
    "\n",
    "    resolution=0.5\n",
    "    image_side_length = 2 * max(30,dist+20)\n",
    "    image_side_length_pixels = 400\n",
    "    resolution=image_side_length_pixels/image_side_length\n",
    "    patchbox = get_patchbox(origin[0], origin[1], image_side_length)\n",
    "\n",
    "    angle_in_degrees = angle_of_rotation(origin[2]) * 180 / np.pi\n",
    "\n",
    "    canvas_size = (image_side_length_pixels, image_side_length_pixels)\n",
    "    maps= load_all_maps(helper)\n",
    "    layer_names = ['drivable_area', 'ped_crossing']\n",
    "    masks = maps[map_name].get_map_mask(patchbox, angle_in_degrees, layer_names, canvas_size=canvas_size)\n",
    "    colors = [(255, 255, 255), (119, 136, 153)]\n",
    "    images = []\n",
    "    for mask, color in zip(masks, colors):\n",
    "        images.append(change_color_of_binary_mask(np.repeat(mask[::-1, :, np.newaxis], 3, 2), color))\n",
    "\n",
    "    ref_traj = predictions['refined_traj'][sample_id].squeeze(0)\n",
    "    ref_yaw = predictions['yaw'][sample_id]\n",
    "    ref_pred = torch.cat((ref_traj,ref_yaw),-1)\n",
    "    traj = predictions['traj'][sample_id].squeeze(0)\n",
    "    yaw = predictions['yaw'][sample_id]\n",
    "    pred = torch.cat((traj,yaw),-1)\n",
    "    pose_pred_mask=~(predictions['mask'][sample_id]).bool()\n",
    "    # gt = gt_test['traj'][sample_id]\n",
    "    image = Rasterizer().combine(images)\n",
    "    pose_future_mask=~data_test['target_agent_representation']['future']['mask'][sample_id][:,0].bool()\n",
    "    pose_hist_mask=~data_test['target_agent_representation']['history']['mask'][sample_id][:,0].bool()\n",
    "\n",
    "    xsp, ysp, dxsp, dysp=local_pose_to_image(ref_pred ,pose_pred_mask,resolution,canvas_size)\n",
    "    xsg, ysg, dxsg, dysg=local_pose_to_image(pred,pose_pred_mask,resolution,canvas_size)\n",
    "    # plt.imshow(image)\n",
    "    fig = plt.figure(figsize = (10,10))\n",
    "    ax = fig.add_subplot(1,1,1) \n",
    "    # ax.imshow(image)\n",
    "    for x, y, dx, dy in zip(xsp, ysp, dxsp, dysp):\n",
    "        ax.arrow(x, y, dx, dy, width=1.0, color=(0,0.0,1,1))\n",
    "    for x, y, dx, dy in zip(xsg, ysg, dxsg, dysg):\n",
    "        ax.arrow(x, y, dx, dy, width=1.0, color=(1,0,1,0.5))\n",
    "    ax.imshow(image)"
   ]
  },
  {
   "cell_type": "code",
   "execution_count": 46,
   "metadata": {},
   "outputs": [
    {
     "data": {
      "text/plain": [
       "torch.Size([34, 3])"
      ]
     },
     "execution_count": 46,
     "metadata": {},
     "output_type": "execute_result"
    }
   ],
   "source": [
    "gt_test['traj'][sample_id].shape"
   ]
  },
  {
   "cell_type": "code",
   "execution_count": 5,
   "metadata": {},
   "outputs": [
    {
     "name": "stdout",
     "output_type": "stream",
     "text": [
      "processing  895/895\r"
     ]
    }
   ],
   "source": [
    "import sys\n",
    "dists=torch.empty(0)\n",
    "import train_eval.utils as u\n",
    "for i,data in enumerate(trainer.tr_dl):\n",
    "    # torch.cuda.empty_cache()\n",
    "    # Load data\n",
    "    sys.stdout.write('processing  %d/%d\\r' % (i+1, len(trainer.tr_dl)))\n",
    "    sys.stdout.flush()\n",
    "    data = u.send_to_device(u.convert_double_to_float(data))\n",
    "    data_test=data['inputs']\n",
    "    traj=data_test['target_agent_representation']['future']['traj'][:,0,:2]\n",
    "    dist=torch.norm(traj,dim=-1).cpu()\n",
    "    dists=torch.cat((dists,dist),dim=0)\n",
    "    # break"
   ]
  },
  {
   "cell_type": "code",
   "execution_count": 6,
   "metadata": {},
   "outputs": [
    {
     "name": "stdout",
     "output_type": "stream",
     "text": [
      "tensor(322.3613)\n"
     ]
    },
    {
     "data": {
      "image/png": "[encoded data removed]",
      "text/plain": [
       "<Figure size 432x288 with 1 Axes>"
      ]
     },
     "metadata": {},
     "output_type": "display_data"
    }
   ],
   "source": [
    "plt.hist(dists,bins=400)\n",
    "print(torch.max(dists))"
   ]
  },
  {
   "cell_type": "code",
   "execution_count": 5,
   "metadata": {},
   "outputs": [
    {
     "data": {
      "text/plain": [
       "dict_keys(['instance_token', 'sample_token', 'map_representation', 'surrounding_agent_representation', 'target_agent_representation', 'agent_node_masks'])"
      ]
     },
     "execution_count": 5,
     "metadata": {},
     "output_type": "execute_result"
    }
   ],
   "source": [
    "data_test.keys()"
   ]
  },
  {
   "cell_type": "code",
   "execution_count": 32,
   "metadata": {},
   "outputs": [
    {
     "data": {
      "text/plain": [
       "torch.Size([36, 329, 20, 6])"
      ]
     },
     "execution_count": 32,
     "metadata": {},
     "output_type": "execute_result"
    }
   ],
   "source": [
    "data_test['map_representation']['lane_node_masks'].shape"
   ]
  },
  {
   "cell_type": "code",
   "execution_count": 66,
   "metadata": {},
   "outputs": [
    {
     "name": "stdout",
     "output_type": "stream",
     "text": [
      "history\n",
      "future\n",
      "concat_motion\n",
      "time_query\n"
     ]
    }
   ],
   "source": [
    "for k,v in data_test['target_agent_representation'].items():\n",
    "    try:\n",
    "        print(k)\n",
    "    except:\n",
    "        for key,val in v.items():\n",
    "            print(val.shape)"
   ]
  },
  {
   "cell_type": "code",
   "execution_count": 13,
   "metadata": {},
   "outputs": [
    {
     "data": {
      "text/plain": [
       "torch.Size([36, 34, 2])"
      ]
     },
     "execution_count": 13,
     "metadata": {},
     "output_type": "execute_result"
    }
   ],
   "source": [
    "data_test['target_agent_representation']['time_query']['query'].shape"
   ]
  },
  {
   "cell_type": "code",
   "execution_count": 9,
   "metadata": {},
   "outputs": [],
   "source": [
    "focal=trainer.losses[0]\n",
    "ade=trainer.losses[1]\n",
    "# dri_loss=trainer.losses[1]\n"
   ]
  },
  {
   "cell_type": "code",
   "execution_count": 6,
   "metadata": {},
   "outputs": [],
   "source": [
    "if trainer.use_teacher_force:\n",
    "    trainer.model.aggregator.teacher_force=True\n",
    "    trainer.model.decoder.teacher_force=True\n",
    "    data_test['gt_traj']=data['ground_truth']['traj']\n",
    "else:\n",
    "    trainer.model.aggregator.teacher_force=False\n",
    "    trainer.model.decoder.teacher_force=False\n",
    "    data_test['gt_traj']=None"
   ]
  },
  {
   "cell_type": "code",
   "execution_count": 14,
   "metadata": {},
   "outputs": [],
   "source": [
    "if trainer.pretrain_mlp:\n",
    "    data_test['gt_traj']=data['ground_truth']['traj']\n",
    "else:\n",
    "    data_test['gt_traj']=None   "
   ]
  },
  {
   "cell_type": "code",
   "execution_count": 5,
   "metadata": {},
   "outputs": [
    {
     "data": {
      "text/plain": [
       "torch.Size([16, 218, 48])"
      ]
     },
     "execution_count": 5,
     "metadata": {},
     "output_type": "execute_result"
    }
   ],
   "source": [
    "inputs=data_test\n",
    "self=trainer.model.encoder\n",
    "torch.cuda.empty_cache()\n",
    "lane_node_feats = inputs['map_representation']['lane_node_feats']\n",
    "lane_node_masks = inputs['map_representation']['lane_node_masks']\n",
    "lane_node_embedding = self.leaky_relu(self.node_emb(lane_node_feats))\n",
    "lane_node_enc = self.variable_size_gru_encode(lane_node_embedding, lane_node_masks, self.node_encoder)\n",
    "lane_node_enc.shape\n"
   ]
  },
  {
   "cell_type": "code",
   "execution_count": 6,
   "metadata": {},
   "outputs": [],
   "source": [
    "# test_tensor=torch.arange(10).unsqueeze(0).unsqueeze(-1).repeat(12,1,3)\n",
    "# start=torch.zeros_like(hist_seq_length)\n",
    "\n",
    "def get_bidirec_data(input_tensor, start_indices, end_indices, max_length=5):\n",
    "    \"\"\"\n",
    "    Extracts data from a 3D tensor according to start and end indices.\n",
    "\n",
    "    :param input_tensor: the input tensor of shape (B, T, C)\n",
    "    :param start_indices: a tensor of shape (B,) containing the start indices for each mini-batch\n",
    "    :param end_indices: a tensor of shape (B,) containing the end indices for each mini-batch\n",
    "    :param max_length: the maximum length of the extracted data\n",
    "    :return: a tensor of shape (B, Q, C), where Q is the maximum length\n",
    "    \"\"\"\n",
    "    # Create a tensor to hold the extracted data\n",
    "    B, T, C = input_tensor.shape\n",
    "    Q = max_length\n",
    "    extracted_data = torch.zeros((B, Q, C), dtype=input_tensor.dtype, device=input_tensor.device)\n",
    "\n",
    "    # Iterate over each mini-batch and extract the data\n",
    "    for b in range(B):\n",
    "        start_index = int(start_indices[b])\n",
    "        end_index = int(end_indices[b])\n",
    "        length = end_index - start_index\n",
    "\n",
    "        # Ensure the length is not greater than the maximum length\n",
    "        if length > Q:\n",
    "            length = Q\n",
    "\n",
    "        # Extract the data\n",
    "        if length > 0:\n",
    "            extracted_data[b, :length] = extracted_data[b, :length]+input_tensor[b, start_index:end_index]\n",
    "\n",
    "    return extracted_data"
   ]
  },
  {
   "cell_type": "code",
   "execution_count": 18,
   "metadata": {},
   "outputs": [],
   "source": [
    "target_agent_representation=inputs['target_agent_representation']\n",
    "hist=target_agent_representation['history']['traj']\n",
    "hist_mask=target_agent_representation['history']['mask']\n",
    "future=target_agent_representation['future']['traj']\n",
    "future_mask=target_agent_representation['future']['mask']\n",
    "concat=target_agent_representation['concat_motion']['traj']\n",
    "concat_mask=target_agent_representation['concat_motion']['mask']\n",
    "target_concat_embedding = self.leaky_relu(self.target_concat_emb(concat))\n",
    "hist_unpacked,future_unpacked=self.get_ugru_enc(concat_mask,target_concat_embedding,hist_mask,future_mask)\n",
    "target_past_embedding = self.leaky_relu(self.target_past_emb(hist))\n",
    "target_future_embedding = self.leaky_relu(self.target_fut_emb(future))\n",
    "# concatenate bi-gru output with original feature \n",
    "past_feature=torch.cat((target_past_embedding,hist_unpacked),dim=-1).unsqueeze(1)\n",
    "future_feature=torch.cat((target_future_embedding,future_unpacked),dim=-1).unsqueeze(1)\n",
    "target_past_encdoings = self.variable_size_gru_encode(past_feature, hist_mask.unsqueeze(1), self.target_past_enc)\n",
    "target_future_encdoings = self.variable_size_gru_encode(future_feature, future_mask.unsqueeze(1), self.target_fut_enc)"
   ]
  },
  {
   "cell_type": "code",
   "execution_count": 9,
   "metadata": {},
   "outputs": [
    {
     "data": {
      "text/plain": [
       "tensor([[[37.0878, 39.8689, -0.7563,  9.8991],\n",
       "         [33.3429, 36.0024, -0.7563,  9.3992],\n",
       "         [29.7169, 32.2359, -0.7563,  8.8993],\n",
       "         [26.0879, 28.4644, -0.7563,  8.3989],\n",
       "         [ 0.0000,  0.0000,  0.0000,  0.0000]],\n",
       "\n",
       "        [[ 0.9533,  2.1810, -0.5935,  4.5011],\n",
       "         [ 0.8033,  1.7644, -0.5892,  4.0006],\n",
       "         [ 0.6380,  1.3070, -0.5844,  3.4504],\n",
       "         [ 0.4762,  1.0205, -0.5801,  2.9494],\n",
       "         [ 0.3145,  0.7340, -0.5758,  2.4490]],\n",
       "\n",
       "        [[10.6328, 12.1947, -0.8110,  6.5520],\n",
       "         [ 7.7385,  9.5716, -0.8110,  5.0021],\n",
       "         [ 6.8040,  8.7254, -0.8110,  4.5017],\n",
       "         [ 0.0000,  0.0000,  0.0000,  0.0000],\n",
       "         [ 0.0000,  0.0000,  0.0000,  0.0000]],\n",
       "\n",
       "        [[ 9.2306, 23.3531, -0.3450,  6.0013],\n",
       "         [ 7.9353, 19.8809, -0.3537,  5.5014],\n",
       "         [ 6.6392, 16.4046, -0.3625,  5.0010],\n",
       "         [ 5.4644, 13.4010, -0.3756,  4.5012],\n",
       "         [ 4.2886, 10.3973, -0.3887,  4.0012]]], device='cuda:0')"
      ]
     },
     "execution_count": 9,
     "metadata": {},
     "output_type": "execute_result"
    }
   ],
   "source": [
    "future"
   ]
  },
  {
   "cell_type": "code",
   "execution_count": 12,
   "metadata": {},
   "outputs": [
    {
     "data": {
      "text/plain": [
       "tensor([[[-31.5411, -33.6220,  -0.7738,  -1.9995],\n",
       "         [-30.6037, -32.8892,  -0.7563,  -1.4996],\n",
       "         [-29.0822, -31.3574,  -0.7650,  -0.9998],\n",
       "         [-27.5222, -29.8670,  -0.7738,  -0.4999],\n",
       "         [  0.0000,   0.0000,   0.0000,   0.0000]],\n",
       "\n",
       "        [[ -0.4176,  -0.8511,  -0.5439,  -2.0001],\n",
       "         [ -0.3924,  -0.8223,  -0.5471,  -1.5002],\n",
       "         [ -0.3661,  -0.7925,  -0.5503,  -0.9997],\n",
       "         [ -0.3408,  -0.7638,  -0.5535,  -0.4999],\n",
       "         [  0.0000,   0.0000,   0.0000,   0.0000]],\n",
       "\n",
       "        [[-19.7126, -20.8194,  -0.8459,  -1.9497],\n",
       "         [-15.8182, -17.4355,  -0.8459,  -1.4499],\n",
       "         [-12.1664, -14.2673,  -0.8459,  -0.9500],\n",
       "         [ -9.1222, -11.6300,  -0.8459,  -0.4999],\n",
       "         [  0.0000,   0.0000,   0.0000,   0.0000]],\n",
       "\n",
       "        [[ -8.3237, -15.6913,  -1.0928,  -2.0482],\n",
       "         [ -7.1268, -14.6498,  -0.9472,  -1.4951],\n",
       "         [ -5.9987, -13.4049,  -0.7781,  -0.9997],\n",
       "         [ -5.2174, -12.0321,  -0.6074,  -0.4999],\n",
       "         [  0.0000,   0.0000,   0.0000,   0.0000]]], device='cuda:0')"
      ]
     },
     "execution_count": 12,
     "metadata": {},
     "output_type": "execute_result"
    }
   ],
   "source": [
    "hist"
   ]
  },
  {
   "cell_type": "code",
   "execution_count": 13,
   "metadata": {},
   "outputs": [],
   "source": [
    "nbr_vehicle_feats = inputs['surrounding_agent_representation']['vehicles']\n",
    "nbr_vehicle_feats = torch.cat((nbr_vehicle_feats, torch.zeros_like(nbr_vehicle_feats[:, :, :, 0:1])), dim=-1)\n",
    "nbr_vehicle_masks = inputs['surrounding_agent_representation']['vehicle_masks']\n",
    "nbr_vehicle_embedding = self.leaky_relu(self.nbr_emb(nbr_vehicle_feats))\n",
    "nbr_vehicle_enc = self.variable_size_gru_encode(nbr_vehicle_embedding, nbr_vehicle_masks, self.nbr_enc)\n",
    "nbr_ped_feats = inputs['surrounding_agent_representation']['pedestrians']\n",
    "nbr_ped_feats = torch.cat((nbr_ped_feats, torch.ones_like(nbr_ped_feats[:, :, :, 0:1])), dim=-1)\n",
    "nbr_ped_masks = inputs['surrounding_agent_representation']['pedestrian_masks']\n",
    "nbr_ped_embedding = self.leaky_relu(self.nbr_emb(nbr_ped_feats))\n",
    "nbr_ped_enc = self.variable_size_gru_encode(nbr_ped_embedding, nbr_ped_masks, self.nbr_enc)"
   ]
  },
  {
   "cell_type": "code",
   "execution_count": 60,
   "metadata": {},
   "outputs": [
    {
     "data": {
      "text/plain": [
       "torch.Size([16, 218, 98])"
      ]
     },
     "execution_count": 60,
     "metadata": {},
     "output_type": "execute_result"
    }
   ],
   "source": [
    "\n",
    "# Agent-node attention\n",
    "nbr_encodings = torch.cat((nbr_vehicle_enc, nbr_ped_enc), dim=1)\n",
    "queries = self.query_emb(lane_node_enc).permute(1, 0, 2)\n",
    "keys = self.key_emb(nbr_encodings).permute(1, 0, 2)\n",
    "vals = self.val_emb(nbr_encodings).permute(1, 0, 2)\n",
    "attn_masks = torch.cat((inputs['agent_node_masks']['agent']['vehicles'],\n",
    "                        inputs['agent_node_masks']['agent']['pedestrians']), dim=2)\n",
    "attn_masks.shape"
   ]
  },
  {
   "cell_type": "code",
   "execution_count": null,
   "metadata": {},
   "outputs": [],
   "source": [
    "att_op, _ = self.a_n_att(queries, keys, vals, attn_mask=attn_masks.bool())\n",
    "att_op = att_op.permute(1, 0, 2)\n",
    "lane_node_enc"
   ]
  },
  {
   "cell_type": "code",
   "execution_count": 41,
   "metadata": {},
   "outputs": [],
   "source": [
    "indication_mask = (~attn_masks.bool())\n",
    "for i,(mask,output) in enumerate(zip(indication_mask,att_op)):\n",
    "    if mask.any():\n",
    "        lane_node_enc[i] = lane_node_enc[i] + output"
   ]
  },
  {
   "cell_type": "code",
   "execution_count": 43,
   "metadata": {},
   "outputs": [
    {
     "data": {
      "text/plain": [
       "tensor(0, device='cuda:0')"
      ]
     },
     "execution_count": 43,
     "metadata": {},
     "output_type": "execute_result"
    }
   ],
   "source": [
    "torch.isnan(lane_node_enc).sum()"
   ]
  },
  {
   "cell_type": "code",
   "execution_count": null,
   "metadata": {},
   "outputs": [],
   "source": [
    "\n",
    "# att_op[torch.isnan(att_op)]=0\n",
    "# Concatenate with original node encodings and 1x1 conv\n",
    "lane_node_enc = self.leaky_relu(self.mix(torch.cat((lane_node_enc, att_op), dim=2)))\n",
    "\n",
    "# GAT layers\n",
    "adj_mat = self.build_adj_mat(inputs['map_representation']['s_next'], inputs['map_representation']['edge_type'])\n",
    "for gat_layer in self.gat:\n",
    "    lane_node_enc += gat_layer(lane_node_enc, adj_mat)"
   ]
  },
  {
   "cell_type": "code",
   "execution_count": 64,
   "metadata": {},
   "outputs": [],
   "source": [
    "from models.library.blocks import leaky_MLP\n",
    "args={'node_enc_size':32,'target_agent_enc_size':32}\n",
    "self.nd_key_emb = nn.Linear(args['node_enc_size'], args['target_agent_enc_size']).cuda()\n",
    "self.nd_val_emb = nn.Linear(args['node_enc_size'], args['target_agent_enc_size']).cuda()\n",
    "self.t_n_att = nn.MultiheadAttention(args['target_agent_enc_size'], num_heads=1).cuda()\n",
    "self.past_mix = leaky_MLP(args['target_agent_enc_size']*2, args['target_agent_enc_size']).cuda()\n",
    "self.future_mix = leaky_MLP(args['target_agent_enc_size']*2, args['target_agent_enc_size']).cuda()"
   ]
  },
  {
   "cell_type": "code",
   "execution_count": 18,
   "metadata": {},
   "outputs": [
    {
     "data": {
      "text/plain": [
       "torch.Size([12, 112, 93])"
      ]
     },
     "execution_count": 18,
     "metadata": {},
     "output_type": "execute_result"
    }
   ],
   "source": [
    "attn_masks.shape"
   ]
  },
  {
   "cell_type": "code",
   "execution_count": 15,
   "metadata": {},
   "outputs": [],
   "source": [
    "tgt_queries = torch.cat((target_past_encdoings, target_future_encdoings), dim=1).permute(1, 0, 2)\n",
    "nd_keys = self.leaky_relu(self.nd_key_emb(lane_node_enc)).permute(1, 0, 2)\n",
    "nd_vals = self.leaky_relu(self.nd_val_emb(lane_node_enc)).permute(1, 0, 2)\n",
    "t_n_attn_masks = inputs['agent_node_masks']['target']\n",
    "t_n_att_op, _ = self.t_n_att(tgt_queries, nd_keys, nd_vals, attn_mask=t_n_attn_masks.bool())\n",
    "t_n_att_op = t_n_att_op.permute(1, 0, 2)\n",
    "t_n_att_op[torch.isnan(t_n_att_op)]=0\n",
    "aug_past_enc=self.mix(torch.cat((target_past_encdoings,t_n_att_op[:,0].unsqueeze(1)),dim=2))\n",
    "aug_future_enc=self.mix(torch.cat((target_future_encdoings,t_n_att_op[:,1].unsqueeze(1)),dim=2))\n"
   ]
  },
  {
   "cell_type": "code",
   "execution_count": 55,
   "metadata": {},
   "outputs": [],
   "source": [
    "\n",
    "# Concatenate with original node encodings and 1x1 conv\n",
    "# lane_node_enc = self.leaky_relu(self.mix(torch.cat((target_past_encdoings, t_n_att_op[:,0]), dim=2)))"
   ]
  },
  {
   "cell_type": "code",
   "execution_count": 16,
   "metadata": {},
   "outputs": [
    {
     "data": {
      "text/plain": [
       "torch.Size([8, 488, 488])"
      ]
     },
     "execution_count": 16,
     "metadata": {},
     "output_type": "execute_result"
    }
   ],
   "source": [
    "# data['ground_truth']['traj']\n",
    "map_representation = data_test['map_representation']['image']\n",
    "mask=data_test['map_representation']['mask']\n",
    "\n",
    "\n",
    "mask.shape"
   ]
  },
  {
   "cell_type": "code",
   "execution_count": 9,
   "metadata": {},
   "outputs": [
    {
     "data": {
      "text/plain": [
       "torch.Size([12, 3, 488, 488])"
      ]
     },
     "execution_count": 9,
     "metadata": {},
     "output_type": "execute_result"
    }
   ],
   "source": [
    "data_test['map_representation']['image'].shape"
   ]
  },
  {
   "cell_type": "code",
   "execution_count": 12,
   "metadata": {},
   "outputs": [],
   "source": [
    "traj_hist=data_test['target_agent_representation']"
   ]
  },
  {
   "cell_type": "code",
   "execution_count": null,
   "metadata": {},
   "outputs": [],
   "source": [
    "from models.library.RasterSampler import *\n",
    "sampler = Sampler(cfg['aggregator_args'],resolution=1.0,apply_mask=True)\n",
    "nodes_2D=sampler.sample_goals(mask)\n",
    "mask_under=sampler.sample_mask(mask)"
   ]
  },
  {
   "cell_type": "code",
   "execution_count": null,
   "metadata": {},
   "outputs": [],
   "source": [
    "import matplotlib.pyplot as plt\n",
    "for idx in range(8):\n",
    "    surrounding_agents=data_test['surrounding_agent_representation']['image'][idx]\n",
    "    plt.imshow(map_representation[idx].permute(1,2,0).cpu())\n",
    "    plt.show()\n",
    "    # plt.imshow(gs_map[idx,0].cpu())\n",
    "    # plt.show()\n",
    "    plt.imshow(surrounding_agents.permute(1,2,0).cpu())\n",
    "    plt.show()\n",
    "    # plt.imshow(mask[idx].cpu())\n",
    "    # plt.show()"
   ]
  },
  {
   "cell_type": "code",
   "execution_count": 3,
   "metadata": {},
   "outputs": [
    {
     "data": {
      "text/plain": [
       "tensor([[[[0.0019, 0.0201, 0.0439, 0.0201, 0.0019],\n",
       "          [0.0201, 0.2096, 0.4578, 0.2096, 0.0201],\n",
       "          [0.0439, 0.4578, 1.0000, 0.4578, 0.0439],\n",
       "          [0.0201, 0.2096, 0.4578, 0.2096, 0.0201],\n",
       "          [0.0019, 0.0201, 0.0439, 0.0201, 0.0019]]]])"
      ]
     },
     "execution_count": 3,
     "metadata": {},
     "output_type": "execute_result"
    }
   ],
   "source": [
    "import torch\n",
    "from math import exp\n",
    "from torch.autograd import Variable\n",
    "import torch.nn.functional as F\n",
    "def gaussian(window_size, sigma):\n",
    "    gauss = torch.Tensor([exp(-(x - window_size//2)**2/float(2*sigma**2)) for x in range(window_size)])\n",
    "    return gauss#/gauss.sum()\n",
    "def create_window(window_size, channel):\n",
    "    _1D_window = gaussian(window_size, 0.8).unsqueeze(1)\n",
    "    _2D_window = _1D_window.mm(_1D_window.t()).float().unsqueeze(0).unsqueeze(0)\n",
    "    window = Variable(_2D_window.expand(channel, 1, window_size, window_size).contiguous())\n",
    "    return window\n",
    "window=create_window(5, 1)\n",
    "window\n"
   ]
  },
  {
   "cell_type": "code",
   "execution_count": null,
   "metadata": {},
   "outputs": [],
   "source": [
    "import matplotlib.pyplot as plt\n",
    "plt.imshow(data_test['surrounding_agent_representation'][4,:3].permute(1,2,0))\n",
    "plt.show()\n",
    "# plt.imshow(test_heatmap[0,0])\n",
    "# plt.show()\n",
    "# data['ground_truth']['traj']"
   ]
  },
  {
   "cell_type": "code",
   "execution_count": 5,
   "metadata": {},
   "outputs": [
    {
     "data": {
      "text/plain": [
       "torch.Size([36, 276, 20, 6])"
      ]
     },
     "execution_count": 5,
     "metadata": {},
     "output_type": "execute_result"
    }
   ],
   "source": [
    "data_test['map_representation']['lane_node_feats'].shape"
   ]
  },
  {
   "cell_type": "code",
   "execution_count": null,
   "metadata": {},
   "outputs": [],
   "source": [
    "print('lane_node_feats has shape of ',data_test['map_representation']['lane_node_feats'].shape)\n",
    "print('lane_node_masks has shape of ',data_test['map_representation']['lane_node_masks'].shape)\n",
    "print('s_next has shape of ',data_test['map_representation']['s_next'].shape)\n",
    "print('edge_type has shape of ',data_test['map_representation']['edge_type'].shape)"
   ]
  },
  {
   "cell_type": "code",
   "execution_count": 34,
   "metadata": {},
   "outputs": [
    {
     "data": {
      "text/plain": [
       "dict_keys(['instance_token', 'sample_token', 'map_representation', 'surrounding_agent_representation', 'target_agent_representation', 'agent_node_masks'])"
      ]
     },
     "execution_count": 34,
     "metadata": {},
     "output_type": "execute_result"
    }
   ],
   "source": [
    "inputs=data_test\n",
    "data_test.keys()"
   ]
  },
  {
   "cell_type": "code",
   "execution_count": null,
   "metadata": {},
   "outputs": [],
   "source": [
    "data_test['surrounding_agent_representation']['pedestrians'][-1]"
   ]
  },
  {
   "cell_type": "code",
   "execution_count": 25,
   "metadata": {},
   "outputs": [
    {
     "name": "stdout",
     "output_type": "stream",
     "text": [
      "<class 'torch.nn.parameter.Parameter'> torch.Size([384, 128])\n",
      "<class 'torch.nn.parameter.Parameter'> torch.Size([384])\n",
      "<class 'torch.nn.parameter.Parameter'> torch.Size([128, 128])\n"
     ]
    }
   ],
   "source": [
    "total_norm=0\n",
    "for p in trainer.model.parameters():\n",
    "    \n",
    "    param_norm = p.grad.data.norm(2)\n",
    "    if torch.isnan(param_norm):\n",
    "        print(type(p),p.size())\n",
    "    total_norm += param_norm.item() ** 2\n",
    "total_norm = total_norm ** (1. / 2)"
   ]
  },
  {
   "cell_type": "code",
   "execution_count": 8,
   "metadata": {},
   "outputs": [],
   "source": [
    "trainer.model.encoder.nd_tgt_emb=nn.Linear(32, 36).cuda()"
   ]
  },
  {
   "cell_type": "code",
   "execution_count": 7,
   "metadata": {},
   "outputs": [
    {
     "name": "stdout",
     "output_type": "stream",
     "text": [
      "-------------------------------  ------------  ------------  ------------  ------------  ------------  ------------  ------------  ------------  ------------  ------------  ------------  ------------  ------------  ------------  \n",
      "                           Name    Self CPU %      Self CPU   CPU total %     CPU total  CPU time avg     Self CUDA   Self CUDA %    CUDA total  CUDA time avg       CPU Mem  Self CPU Mem      CUDA Mem  Self CUDA Mem    # of Calls  \n",
      "-------------------------------  ------------  ------------  ------------  ------------  ------------  ------------  ------------  ------------  ------------  ------------  ------------  ------------  ------------  ------------  \n",
      "    aten::_pack_padded_sequence         1.71%       1.482ms         7.62%       6.603ms     943.264us       2.364ms         2.90%       6.601ms     942.958us         712 b           0 b       1.12 Mb      -1.13 Mb             7  \n",
      "                      aten::gru         0.38%     333.747us         5.42%       4.696ms     782.600us     363.498us         0.45%       4.691ms     781.823us           0 b           0 b      22.49 Mb           0 b             6  \n",
      "               aten::_cudnn_rnn         4.01%       3.479ms         4.78%       4.147ms     691.103us       4.115ms         5.05%       4.147ms     691.199us           0 b           0 b      22.49 Mb      -9.40 Mb             6  \n",
      "            aten::masked_select         0.71%     611.971us         3.85%       3.337ms     667.319us     745.467us         0.91%       3.338ms     667.650us           0 b           0 b       2.27 Mb     -14.85 Mb             5  \n",
      "     aten::_pad_packed_sequence         0.20%     171.717us         1.07%     924.083us     462.041us     506.891us         0.62%     921.602us     460.801us         256 b           0 b      25.00 Kb           0 b             2  \n",
      "           aten::masked_scatter         0.11%      96.998us         2.39%       2.069ms     413.774us      96.244us         0.12%       2.067ms     413.490us           0 b           0 b     854.00 Kb           0 b             5  \n",
      "          aten::masked_scatter_         0.89%     773.856us         1.61%       1.399ms     279.868us     772.070us         0.95%       1.400ms     279.962us           0 b           0 b           0 b      -2.50 Kb             5  \n",
      "                      aten::mul         0.16%     140.321us         0.90%     776.264us     258.755us     774.145us         0.95%     774.145us     258.048us           0 b           0 b       1.92 Mb           0 b             3  \n",
      "                   aten::matmul         0.97%     840.123us        10.19%       8.835ms     220.878us       1.343ms         1.65%       8.804ms     220.095us           0 b           0 b      27.39 Mb           0 b            40  \n",
      "                    aten::relu_         0.36%     313.758us         2.93%       2.537ms     211.428us     293.898us         0.36%       2.530ms     210.858us           0 b           0 b           0 b           0 b            12  \n",
      "-------------------------------  ------------  ------------  ------------  ------------  ------------  ------------  ------------  ------------  ------------  ------------  ------------  ------------  ------------  ------------  \n",
      "Self CPU time total: 86.707ms\n",
      "CUDA time total: 81.538ms\n",
      "\n"
     ]
    }
   ],
   "source": [
    "from torch.autograd.profiler import profile\n",
    "with profile( profile_memory=True, record_shapes=True, use_cuda=True) as prof:\n",
    "    encodings=trainer.model.encoder(data_test)\n",
    "print(prof.key_averages().table(sort_by='cpu_time', row_limit=10))"
   ]
  },
  {
   "cell_type": "code",
   "execution_count": 6,
   "metadata": {},
   "outputs": [
    {
     "data": {
      "text/plain": [
       "dict_keys(['target_agent_encoding', 'context_encoding'])"
      ]
     },
     "execution_count": 6,
     "metadata": {},
     "output_type": "execute_result"
    }
   ],
   "source": [
    "encodings.keys()"
   ]
  },
  {
   "cell_type": "code",
   "execution_count": 8,
   "metadata": {},
   "outputs": [],
   "source": [
    "inputs=data_test\n",
    "self=trainer.model.encoder\n",
    "target_agent_representation=inputs['target_agent_representation']\n",
    "hist=target_agent_representation['history']['traj']\n",
    "hist_mask=target_agent_representation['history']['mask']\n",
    "future=target_agent_representation['future']['traj']\n",
    "future_mask=target_agent_representation['future']['mask']\n",
    "concat=target_agent_representation['concat_motion']['traj']\n",
    "concat_mask=target_agent_representation['concat_motion']['mask']\n",
    "# concat_indicator = torch.cat((torch.zeros([concat.shape[0],hist.shape[1],1]),torch.ones([concat.shape[0],future.shape[1],1])),1).cuda()\n",
    "\n",
    "target_past_embedding = self.leaky_relu(self.target_past_emb(hist))\n",
    "target_future_embedding = self.leaky_relu(self.target_fut_emb(future))\n",
    "\n",
    "## U-GRU method\n",
    "if self.motion_enc_type == 'ugru':\n",
    "    target_concat_embedding = self.leaky_relu(self.target_concat_emb(concat))\n",
    "    hist_unpacked,future_unpacked=self.get_ugru_enc(concat_mask,target_concat_embedding,hist_mask,future_mask)\n",
    "    # concatenate bi-gru output with original feature \n",
    "    past_feature=torch.cat((target_past_embedding,hist_unpacked),dim=-1).unsqueeze(1)\n",
    "    future_feature=torch.cat((target_future_embedding,future_unpacked),dim=-1).unsqueeze(1)\n",
    "    target_past_encdoings = self.variable_size_gru_encode(past_feature, hist_mask.unsqueeze(1), self.target_past_enc)\n",
    "    target_future_encdoings = self.variable_size_gru_encode(future_feature, future_mask.unsqueeze(1), self.target_fut_enc)\n",
    "else:\n",
    "## Baseline method\n",
    "    target_past_encdoings = self.variable_size_gru_encode(target_past_embedding.unsqueeze(1), hist_mask.unsqueeze(1), self.target_past_enc)\n",
    "    target_future_encdoings = self.variable_size_gru_encode(target_future_embedding.unsqueeze(1), future_mask.unsqueeze(1), self.target_fut_enc)\n",
    "if self.map_aggregation:\n",
    "    # Encode lane nodes\n",
    "    lane_node_feats = inputs['map_representation']['lane_node_feats']\n",
    "    lane_node_masks = inputs['map_representation']['lane_node_masks']\n",
    "    lane_node_embedding = self.leaky_relu(self.node_emb(lane_node_feats))\n",
    "    lane_node_enc = self.variable_size_gru_encode(lane_node_embedding, lane_node_masks, self.node_encoder)\n",
    "\n",
    "    # Encode surrounding agents\n",
    "    nbr_vehicle_feats = inputs['surrounding_agent_representation']['vehicles']\n",
    "    nbr_vehicle_feats = torch.cat((nbr_vehicle_feats, torch.zeros_like(nbr_vehicle_feats[:, :, :, 0:1])), dim=-1)\n",
    "    nbr_vehicle_masks = inputs['surrounding_agent_representation']['vehicle_masks']\n",
    "    nbr_vehicle_embedding = self.leaky_relu(self.nbr_emb(nbr_vehicle_feats))\n",
    "    nbr_vehicle_enc = self.variable_size_gru_encode(nbr_vehicle_embedding, nbr_vehicle_masks, self.nbr_enc)\n",
    "    nbr_ped_feats = inputs['surrounding_agent_representation']['pedestrians']\n",
    "    nbr_ped_feats = torch.cat((nbr_ped_feats, torch.ones_like(nbr_ped_feats[:, :, :, 0:1])), dim=-1)\n",
    "    nbr_ped_masks = inputs['surrounding_agent_representation']['pedestrian_masks']\n",
    "    nbr_ped_embedding = self.leaky_relu(self.nbr_emb(nbr_ped_feats))\n",
    "    nbr_ped_enc = self.variable_size_gru_encode(nbr_ped_embedding, nbr_ped_masks, self.nbr_enc)\n",
    "\n",
    "    # Agent-node attention\n",
    "    nbr_encodings = torch.cat((nbr_vehicle_enc, nbr_ped_enc), dim=1)\n",
    "    queries = self.query_emb(lane_node_enc).permute(1, 0, 2)\n",
    "    keys = self.key_emb(nbr_encodings).permute(1, 0, 2)\n",
    "    vals = self.val_emb(nbr_encodings).permute(1, 0, 2)\n",
    "    attn_masks = torch.cat((inputs['agent_node_masks']['agent']['vehicles'],\n",
    "                            inputs['agent_node_masks']['agent']['pedestrians']), dim=2)\n",
    "\n",
    "    att_op, _ = self.a_n_att(queries, keys, vals, attn_mask=attn_masks.bool())\n",
    "    att_op = att_op.permute(1, 0, 2)\n",
    "    indication_mask = (~attn_masks.bool())\n",
    "    nbr_attn_enc=torch.empty([0,lane_node_enc.shape[1],lane_node_enc.shape[2]]).cuda()\n",
    "    for i,mask in enumerate(indication_mask):\n",
    "        if mask.any():\n",
    "            nbr_attn_enc = torch.cat((nbr_attn_enc,att_op[i].unsqueeze(0)),dim=0)\n",
    "        else:\n",
    "            nbr_attn_enc = torch.cat((nbr_attn_enc,torch.zeros_like(att_op[i]).unsqueeze(0)),dim=0)\n",
    "    lane_node_enc=nbr_attn_enc+lane_node_enc"
   ]
  },
  {
   "cell_type": "code",
   "execution_count": 11,
   "metadata": {},
   "outputs": [
    {
     "data": {
      "text/plain": [
       "tensor([[[ 1.2993e-01,  2.6521e+01,  2.0554e-03,  3.3996e+00],\n",
       "         [ 1.0115e-01,  2.2675e+01,  2.0554e-03,  2.9003e+00],\n",
       "         [ 7.2017e-02,  1.8825e+01,  2.0554e-03,  2.4004e+00],\n",
       "         [ 4.8416e-02,  1.5741e+01,  2.0554e-03,  2.0001e+00],\n",
       "         [ 1.9278e-02,  1.1890e+01,  2.0554e-03,  1.5002e+00]],\n",
       "\n",
       "        [[ 1.5213e+00,  8.6999e+01,  1.0844e-02,  1.0501e+01],\n",
       "         [ 1.5385e+00,  8.4194e+01,  2.0477e-02,  1.0100e+01],\n",
       "         [ 1.5643e+00,  7.9993e+01,  3.4907e-02,  9.5007e+00],\n",
       "         [ 1.3732e+00,  7.5335e+01,  3.4907e-02,  8.9994e+00],\n",
       "         [ 1.1634e+00,  7.0223e+01,  1.7453e-02,  8.4492e+00]],\n",
       "\n",
       "        [[ 1.5276e+00,  8.2230e+01,  1.0844e-02,  9.9002e+00],\n",
       "         [ 1.5707e+00,  7.5224e+01,  3.4907e-02,  8.9002e+00],\n",
       "         [ 1.3795e+00,  7.0566e+01,  3.4907e-02,  8.3989e+00],\n",
       "         [ 0.0000e+00,  0.0000e+00,  0.0000e+00,  0.0000e+00],\n",
       "         [ 0.0000e+00,  0.0000e+00,  0.0000e+00,  0.0000e+00]],\n",
       "\n",
       "        [[ 3.8879e-01,  3.5573e+01, -3.4939e-03,  4.4005e+00],\n",
       "         [ 3.4925e-01,  3.1566e+01, -0.0000e+00,  3.9000e+00],\n",
       "         [ 2.8166e-01,  2.6948e+01, -0.0000e+00,  3.3996e+00],\n",
       "         [ 2.1416e-01,  2.2340e+01, -0.0000e+00,  2.9003e+00],\n",
       "         [ 1.7711e-01,  1.8490e+01, -0.0000e+00,  2.4004e+00]],\n",
       "\n",
       "        [[ 5.0751e-01,  4.7735e+01, -1.7453e-02,  5.9001e+00],\n",
       "         [ 4.6835e-01,  4.3732e+01, -1.3963e-02,  5.4002e+00],\n",
       "         [ 4.2891e-01,  3.9733e+01, -1.0477e-02,  4.9009e+00],\n",
       "         [ 3.9014e-01,  3.5726e+01, -6.9836e-03,  4.4004e+00],\n",
       "         [ 3.5174e-01,  3.1723e+01, -3.4939e-03,  3.9006e+00]],\n",
       "\n",
       "        [[ 1.3179e+00,  5.9667e+01,  3.4907e-02,  6.9994e+00],\n",
       "         [ 1.1081e+00,  5.4554e+01,  1.7453e-02,  6.4492e+00],\n",
       "         [ 0.0000e+00,  0.0000e+00,  0.0000e+00,  0.0000e+00],\n",
       "         [ 0.0000e+00,  0.0000e+00,  0.0000e+00,  0.0000e+00],\n",
       "         [ 0.0000e+00,  0.0000e+00,  0.0000e+00,  0.0000e+00]],\n",
       "\n",
       "        [[ 4.0136e-01,  3.6797e+01, -1.3963e-02,  4.5000e+00],\n",
       "         [ 3.2315e-01,  2.8792e+01, -6.9836e-03,  3.5002e+00],\n",
       "         [ 2.8475e-01,  2.4789e+01, -3.4939e-03,  3.0004e+00],\n",
       "         [ 2.4521e-01,  2.0781e+01, -0.0000e+00,  2.4999e+00],\n",
       "         [ 0.0000e+00,  0.0000e+00,  0.0000e+00,  0.0000e+00]],\n",
       "\n",
       "        [[ 4.0384e-01,  3.6955e+01, -1.7453e-02,  4.5005e+00],\n",
       "         [ 3.6468e-01,  3.2951e+01, -1.3963e-02,  4.0007e+00],\n",
       "         [ 3.2524e-01,  2.8953e+01, -1.0477e-02,  3.5013e+00],\n",
       "         [ 2.8647e-01,  2.4945e+01, -6.9836e-03,  3.0009e+00],\n",
       "         [ 2.4807e-01,  2.0943e+01, -3.4939e-03,  2.5011e+00]],\n",
       "\n",
       "        [[ 1.3559e+00,  5.9775e+01,  1.0844e-02,  7.0005e+00],\n",
       "         [ 1.3732e+00,  5.6970e+01,  2.0477e-02,  6.6001e+00],\n",
       "         [ 1.3990e+00,  5.2769e+01,  3.4907e-02,  6.0005e+00],\n",
       "         [ 1.2078e+00,  4.8111e+01,  3.4907e-02,  5.4992e+00],\n",
       "         [ 9.9800e-01,  4.2999e+01,  1.7453e-02,  4.9490e+00]],\n",
       "\n",
       "        [[ 2.9124e-01,  2.5242e+01, -1.3963e-02,  2.9998e+00],\n",
       "         [ 2.5180e-01,  2.1243e+01, -1.0477e-02,  2.5005e+00],\n",
       "         [ 1.7463e-01,  1.3233e+01, -3.4939e-03,  1.5002e+00],\n",
       "         [ 0.0000e+00,  0.0000e+00,  0.0000e+00,  0.0000e+00],\n",
       "         [ 0.0000e+00,  0.0000e+00,  0.0000e+00,  0.0000e+00]],\n",
       "\n",
       "        [[ 1.2513e+00,  5.1317e+01,  1.0844e-02,  6.0013e+00],\n",
       "         [ 1.2686e+00,  4.8512e+01,  2.0477e-02,  5.6009e+00],\n",
       "         [ 1.2944e+00,  4.4311e+01,  3.4907e-02,  5.0013e+00],\n",
       "         [ 8.9345e-01,  3.4540e+01,  1.7453e-02,  3.9498e+00],\n",
       "         [ 0.0000e+00,  0.0000e+00,  0.0000e+00,  0.0000e+00]],\n",
       "\n",
       "        [[-7.2560e-01,  5.3798e+00,  1.3963e-01,  5.0013e+00],\n",
       "         [-6.9569e-01,  5.1692e+00,  1.3963e-01,  4.5000e+00],\n",
       "         [-6.2531e-01,  4.6664e+00,  1.3963e-01,  3.9498e+00],\n",
       "         [-5.9055e-01,  4.4217e+00,  1.3963e-01,  3.4510e+00],\n",
       "         [-5.1260e-01,  3.8701e+00,  1.3963e-01,  3.0004e+00]],\n",
       "\n",
       "        [[-3.9633e-01,  4.7744e+00,  9.7733e-02,  5.1005e+00],\n",
       "         [-3.6699e-01,  4.6670e+00,  8.7267e-02,  4.5008e+00],\n",
       "         [-3.4813e-01,  4.4552e+00,  8.7267e-02,  3.9996e+00],\n",
       "         [-3.0417e-01,  3.9494e+00,  8.7267e-02,  3.4494e+00],\n",
       "         [-2.8226e-01,  3.7032e+00,  8.7267e-02,  2.9506e+00]],\n",
       "\n",
       "        [[-3.2798e-01,  4.1226e+00,  2.6180e-02,  9.4998e+00],\n",
       "         [-2.6837e-01,  4.1998e+00,  1.7453e-02,  9.0000e+00],\n",
       "         [-1.7844e-01,  4.2314e+00,  1.7453e-02,  8.5007e+00],\n",
       "         [-1.4956e-01,  4.3233e+00,  1.7453e-02,  7.4511e+00],\n",
       "         [ 0.0000e+00,  0.0000e+00,  0.0000e+00,  0.0000e+00]],\n",
       "\n",
       "        [[-1.1444e-01,  1.3593e+00,  6.9813e-02,  3.9498e+00],\n",
       "         [-1.0447e-01,  6.5773e-01,  5.2360e-02,  3.0004e+00],\n",
       "         [-4.4155e-02,  3.2884e-01,  6.9813e-02,  2.5005e+00],\n",
       "         [ 3.2001e-02,  2.2885e-01,  5.2360e-02,  2.0012e+00],\n",
       "         [ 0.0000e+00,  0.0000e+00,  0.0000e+00,  0.0000e+00]],\n",
       "\n",
       "        [[-1.6257e-01,  1.7199e+00,  6.9813e-02,  3.9996e+00],\n",
       "         [-1.0475e-01,  5.7696e-01,  5.2360e-02,  2.4999e+00],\n",
       "         [-4.4439e-02,  2.4806e-01,  6.9813e-02,  2.0001e+00],\n",
       "         [ 0.0000e+00,  0.0000e+00,  0.0000e+00,  0.0000e+00],\n",
       "         [ 0.0000e+00,  0.0000e+00,  0.0000e+00,  0.0000e+00]],\n",
       "\n",
       "        [[-5.6529e+00,  5.4626e+00,  1.5882e+00,  8.0008e+00],\n",
       "         [-4.7826e+00,  5.7255e+00,  1.3265e+00,  7.4511e+00],\n",
       "         [-3.7504e+00,  5.7018e+00,  1.1170e+00,  6.9512e+00],\n",
       "         [-2.7081e+00,  5.5767e+00,  8.7266e-01,  6.4508e+00],\n",
       "         [ 0.0000e+00,  0.0000e+00,  0.0000e+00,  0.0000e+00]],\n",
       "\n",
       "        [[-1.9895e-01,  2.2573e+00,  1.3182e-01,  3.5005e+00],\n",
       "         [-6.9331e-02,  1.5743e+00,  5.2360e-02,  2.9993e+00],\n",
       "         [ 7.1612e-03,  7.3128e-01,  5.2360e-02,  1.9503e+00],\n",
       "         [ 0.0000e+00,  0.0000e+00,  0.0000e+00,  0.0000e+00],\n",
       "         [ 0.0000e+00,  0.0000e+00,  0.0000e+00,  0.0000e+00]],\n",
       "\n",
       "        [[-1.1511e+00,  4.2730e+00,  4.5379e-01,  4.4508e+00],\n",
       "         [-7.2303e-01,  3.6627e+00,  3.1514e-01,  4.0001e+00],\n",
       "         [-4.1586e-01,  3.0760e+00,  1.9199e-01,  3.5998e+00],\n",
       "         [-2.1746e-01,  2.2671e+00,  9.6917e-02,  3.0001e+00],\n",
       "         [-1.1176e-01,  1.5799e+00,  1.7453e-02,  2.4989e+00]],\n",
       "\n",
       "        [[-1.0073e+00,  4.1874e+00,  4.3633e-01,  3.9515e+00],\n",
       "         [-5.9000e-01,  3.5697e+00,  2.9769e-01,  3.5008e+00],\n",
       "         [-1.0887e-01,  2.1654e+00,  7.9464e-02,  2.5008e+00],\n",
       "         [-1.5173e-02,  1.4765e+00, -0.0000e+00,  1.9995e+00],\n",
       "         [ 0.0000e+00,  0.0000e+00,  0.0000e+00,  0.0000e+00]],\n",
       "\n",
       "        [[-5.9785e+00,  4.8758e+00,  1.7628e+00,  6.5012e+00],\n",
       "         [-5.2807e+00,  5.2509e+00,  1.5359e+00,  6.0014e+00],\n",
       "         [-4.3978e+00,  5.4679e+00,  1.2741e+00,  5.4516e+00],\n",
       "         [-2.3339e+00,  5.2107e+00,  8.2030e-01,  4.4514e+00],\n",
       "         [ 0.0000e+00,  0.0000e+00,  0.0000e+00,  0.0000e+00]],\n",
       "\n",
       "        [[-1.0244e+00,  3.5567e+00,  4.3633e-01,  3.0009e+00],\n",
       "         [-6.0710e-01,  2.9390e+00,  2.9769e-01,  2.5503e+00],\n",
       "         [-3.1021e-01,  2.3471e+00,  1.7453e-01,  2.1499e+00],\n",
       "         [-1.2596e-01,  1.5348e+00,  7.9464e-02,  1.5502e+00],\n",
       "         [ 0.0000e+00,  0.0000e+00,  0.0000e+00,  0.0000e+00]],\n",
       "\n",
       "        [[-5.9314e+00,  4.2788e+00,  1.7453e+00,  5.5518e+00],\n",
       "         [-5.2272e+00,  4.6417e+00,  1.5184e+00,  5.0519e+00],\n",
       "         [-4.3406e+00,  4.8432e+00,  1.2566e+00,  4.5022e+00],\n",
       "         [-2.2816e+00,  4.5501e+00,  8.0285e-01,  3.5019e+00],\n",
       "         [ 0.0000e+00,  0.0000e+00,  0.0000e+00,  0.0000e+00]],\n",
       "\n",
       "        [[ 1.6390e+00,  1.2112e+02, -3.4907e-02,  1.7951e+01],\n",
       "         [ 1.4661e+00,  1.1510e+02, -3.4907e-02,  1.7001e+01],\n",
       "         [ 1.1827e+00,  1.0881e+02, -3.4907e-02,  1.6000e+01],\n",
       "         [ 0.0000e+00,  0.0000e+00,  0.0000e+00,  0.0000e+00],\n",
       "         [ 0.0000e+00,  0.0000e+00,  0.0000e+00,  0.0000e+00]],\n",
       "\n",
       "        [[ 1.8342e+00,  1.2007e+02, -1.7453e-02,  1.7951e+01],\n",
       "         [ 1.6545e+00,  1.1717e+02, -3.4907e-02,  1.7451e+01],\n",
       "         [ 1.5669e+00,  1.1400e+02, -1.7453e-02,  1.6951e+01],\n",
       "         [ 1.4816e+00,  1.1115e+02, -3.4907e-02,  1.6501e+01],\n",
       "         [ 1.2441e+00,  1.0785e+02, -1.7453e-02,  1.6001e+01]],\n",
       "\n",
       "        [[-3.8636e-01,  1.1028e+02, -0.0000e+00,  1.6451e+01],\n",
       "         [-4.2184e-01,  1.0743e+02, -1.7453e-02,  1.6001e+01],\n",
       "         [-6.0162e-01,  1.0412e+02, -0.0000e+00,  1.5501e+01],\n",
       "         [ 0.0000e+00,  0.0000e+00,  0.0000e+00,  0.0000e+00],\n",
       "         [ 0.0000e+00,  0.0000e+00,  0.0000e+00,  0.0000e+00]],\n",
       "\n",
       "        [[-2.4504e-01,  1.0880e+02, -0.0000e+00,  1.6451e+01],\n",
       "         [-3.7419e-01,  1.0590e+02, -1.7453e-02,  1.5951e+01],\n",
       "         [-4.0655e-01,  1.0273e+02, -0.0000e+00,  1.5451e+01],\n",
       "         [-6.2181e-01,  9.6571e+01, -0.0000e+00,  1.4501e+01],\n",
       "         [ 0.0000e+00,  0.0000e+00,  0.0000e+00,  0.0000e+00]],\n",
       "\n",
       "        [[-2.0756e+00,  1.0407e+02,  1.7453e-02,  1.5850e+01],\n",
       "         [-2.1542e+00,  1.0117e+02, -0.0000e+00,  1.5350e+01],\n",
       "         [-2.1313e+00,  9.8000e+01,  1.7453e-02,  1.4850e+01],\n",
       "         [-2.2390e+00,  9.1835e+01,  1.7453e-02,  1.3900e+01],\n",
       "         [ 0.0000e+00,  0.0000e+00,  0.0000e+00,  0.0000e+00]],\n",
       "\n",
       "        [[ 1.2987e+00,  9.6541e+01, -1.7453e-02,  1.4851e+01],\n",
       "         [ 1.1189e+00,  9.3644e+01, -3.4907e-02,  1.4351e+01],\n",
       "         [ 1.0313e+00,  9.0479e+01, -1.7453e-02,  1.3851e+01],\n",
       "         [ 9.4607e-01,  8.7628e+01, -3.4907e-02,  1.3401e+01],\n",
       "         [ 7.0854e-01,  8.4322e+01, -1.7453e-02,  1.2901e+01]],\n",
       "\n",
       "        [[-3.5196e-01,  8.7245e+01, -1.7453e-02,  1.3451e+01],\n",
       "         [-4.1980e-01,  8.1227e+01, -1.7453e-02,  1.2501e+01],\n",
       "         [-5.9958e-01,  7.7917e+01, -0.0000e+00,  1.2001e+01],\n",
       "         [ 0.0000e+00,  0.0000e+00,  0.0000e+00,  0.0000e+00],\n",
       "         [ 0.0000e+00,  0.0000e+00,  0.0000e+00,  0.0000e+00]],\n",
       "\n",
       "        [[-2.5556e-01,  8.6944e+01, -0.0000e+00,  1.3501e+01],\n",
       "         [-3.8472e-01,  8.4044e+01, -1.7453e-02,  1.3001e+01],\n",
       "         [-4.1708e-01,  8.0878e+01, -0.0000e+00,  1.2501e+01],\n",
       "         [-6.3234e-01,  7.4716e+01, -0.0000e+00,  1.1551e+01],\n",
       "         [ 0.0000e+00,  0.0000e+00,  0.0000e+00,  0.0000e+00]],\n",
       "\n",
       "        [[-1.8369e-01,  8.2823e+01, -0.0000e+00,  1.2950e+01],\n",
       "         [-3.1284e-01,  7.9923e+01, -1.7453e-02,  1.2450e+01],\n",
       "         [-3.4520e-01,  7.6757e+01, -0.0000e+00,  1.1951e+01],\n",
       "         [-3.8068e-01,  7.3905e+01, -1.7453e-02,  1.1500e+01],\n",
       "         [-5.6046e-01,  7.0595e+01, -0.0000e+00,  1.1001e+01]],\n",
       "\n",
       "        [[ 1.0679e+00,  6.9476e+01, -1.7453e-02,  1.0950e+01],\n",
       "         [ 9.8261e-01,  6.6625e+01, -3.4907e-02,  1.0500e+01],\n",
       "         [ 7.4508e-01,  6.3318e+01, -1.7453e-02,  1.0000e+01],\n",
       "         [ 0.0000e+00,  0.0000e+00,  0.0000e+00,  0.0000e+00],\n",
       "         [ 0.0000e+00,  0.0000e+00,  0.0000e+00,  0.0000e+00]],\n",
       "\n",
       "        [[ 1.3818e+00,  7.2346e+01, -1.7453e-02,  1.1450e+01],\n",
       "         [ 1.1145e+00,  6.6284e+01, -1.7453e-02,  1.0450e+01],\n",
       "         [ 7.9173e-01,  6.0126e+01, -1.7453e-02,  9.4999e+00],\n",
       "         [ 0.0000e+00,  0.0000e+00,  0.0000e+00,  0.0000e+00],\n",
       "         [ 0.0000e+00,  0.0000e+00,  0.0000e+00,  0.0000e+00]],\n",
       "\n",
       "        [[ 1.5270e+00,  6.5786e+01, -1.7453e-02,  1.0449e+01],\n",
       "         [ 1.3473e+00,  6.2889e+01, -3.4907e-02,  9.9494e+00],\n",
       "         [ 1.2597e+00,  5.9724e+01, -1.7453e-02,  9.4496e+00],\n",
       "         [ 1.1744e+00,  5.6873e+01, -3.4907e-02,  8.9994e+00],\n",
       "         [ 9.3689e-01,  5.3566e+01, -1.7453e-02,  8.4996e+00]],\n",
       "\n",
       "        [[ 2.4937e-01,  2.2024e+01, -3.4907e-02,  3.4980e+00],\n",
       "         [ 1.6566e-01,  1.8834e+01, -3.4907e-02,  2.9981e+00],\n",
       "         [ 6.7836e-02,  1.5433e+01, -3.4907e-02,  2.4983e+00],\n",
       "         [-2.4753e-02,  1.2316e+01, -1.7453e-02,  1.9984e+00],\n",
       "         [-7.4741e-02,  9.2716e+00, -1.7453e-02,  1.4985e+00]]],\n",
       "       device='cuda:0')"
      ]
     },
     "execution_count": 11,
     "metadata": {},
     "output_type": "execute_result"
    }
   ],
   "source": [
    "future"
   ]
  },
  {
   "cell_type": "code",
   "execution_count": null,
   "metadata": {},
   "outputs": [],
   "source": [
    "bool_indicartor=(~inputs['agent_node_masks']['target'].bool()).any(dim=-1)\n",
    "bool_indicartor\n"
   ]
  },
  {
   "cell_type": "code",
   "execution_count": 15,
   "metadata": {},
   "outputs": [
    {
     "data": {
      "text/plain": [
       "tensor([[ 1.3818e+00,  7.2346e+01, -1.7453e-02,  1.1450e+01],\n",
       "        [ 1.1145e+00,  6.6284e+01, -1.7453e-02,  1.0450e+01],\n",
       "        [ 7.9173e-01,  6.0126e+01, -1.7453e-02,  9.4999e+00],\n",
       "        [ 0.0000e+00,  0.0000e+00,  0.0000e+00,  0.0000e+00],\n",
       "        [ 0.0000e+00,  0.0000e+00,  0.0000e+00,  0.0000e+00]], device='cuda:0')"
      ]
     },
     "execution_count": 15,
     "metadata": {},
     "output_type": "execute_result"
    }
   ],
   "source": [
    "future[-3]"
   ]
  },
  {
   "cell_type": "code",
   "execution_count": 11,
   "metadata": {},
   "outputs": [
    {
     "name": "stdout",
     "output_type": "stream",
     "text": [
      "hist\n",
      "  torch.Size([12, 1, 32])\n",
      "future\n",
      "  torch.Size([12, 1, 32])\n",
      "time_query\n",
      "query\n",
      "  torch.Size([12, 34, 2])\n",
      "mask\n",
      "  torch.Size([12, 34, 2])\n"
     ]
    }
   ],
   "source": [
    "for k,v in encodings['target_agent_encoding'].items():\n",
    "    try:\n",
    "        print(k)\n",
    "        print(' ',v.shape)\n",
    "    except:\n",
    "        for key,val in v.items():\n",
    "            print(key)\n",
    "            print(' ',val.shape)"
   ]
  },
  {
   "cell_type": "code",
   "execution_count": 23,
   "metadata": {},
   "outputs": [],
   "source": [
    "self=trainer.model.aggregator\n",
    "time_dim=32\n",
    "self.tq_embder=nn.Sequential(nn.Linear(2,time_dim),\n",
    "                               nn.LeakyReLU()).cuda()\n",
    "self.tq_attn=nn.MultiheadAttention(time_dim, num_heads=1).cuda()\n",
    "target_representation=encodings['target_agent_encoding']\n",
    "target_hist=target_representation['hist']\n",
    "target_future=target_representation['future']\n",
    "time_query=target_representation['time_query']['query']\n",
    "mask=target_representation['time_query']['mask']\n",
    "q_t_attn_masks = mask.bool()\n",
    "query_emb=self.tq_embder(time_query).permute(1,0,2)\n",
    "concat_kv=torch.cat((target_hist,target_future),dim=1).permute(1,0,2)\n",
    "t_q_att_op, _ = self.tq_attn(query_emb, concat_kv, concat_kv, attn_mask=q_t_attn_masks.bool())\n",
    "t_q_att_op[torch.isnan(t_q_att_op)]=0"
   ]
  },
  {
   "cell_type": "code",
   "execution_count": 25,
   "metadata": {},
   "outputs": [
    {
     "data": {
      "text/plain": [
       "torch.Size([12, 34, 32])"
      ]
     },
     "execution_count": 25,
     "metadata": {},
     "output_type": "execute_result"
    }
   ],
   "source": [
    "t_q_att_op=t_q_att_op.transpose(0,1)\n",
    "t_q_att_op.shape"
   ]
  },
  {
   "cell_type": "code",
   "execution_count": 15,
   "metadata": {},
   "outputs": [
    {
     "data": {
      "text/plain": [
       "dict_keys(['target_agent_encoding', 'context_encoding'])"
      ]
     },
     "execution_count": 15,
     "metadata": {},
     "output_type": "execute_result"
    }
   ],
   "source": [
    "encodings.keys()"
   ]
  },
  {
   "cell_type": "code",
   "execution_count": 8,
   "metadata": {},
   "outputs": [
    {
     "name": "stdout",
     "output_type": "stream",
     "text": [
      "-----------------------  ------------  ------------  ------------  ------------  ------------  ------------  ------------  ------------  ------------  ------------  ------------  ------------  ------------  ------------  \n",
      "                   Name    Self CPU %      Self CPU   CPU total %     CPU total  CPU time avg     Self CUDA   Self CUDA %    CUDA total  CUDA time avg       CPU Mem  Self CPU Mem      CUDA Mem  Self CUDA Mem    # of Calls  \n",
      "-----------------------  ------------  ------------  ------------  ------------  ------------  ------------  ------------  ------------  ------------  ------------  ------------  ------------  ------------  ------------  \n",
      "           aten::repeat         4.24%     124.743us        12.77%     376.010us     188.005us     148.479us         5.24%     376.832us     188.416us           0 b           0 b     144.00 Kb           0 b             2  \n",
      "           aten::matmul         3.64%     107.113us        19.01%     559.574us     139.894us     186.562us         6.59%     560.384us     140.096us           0 b           0 b     135.00 Kb           0 b             4  \n",
      "              aten::pow         4.42%     130.080us         8.69%     255.706us     127.853us     162.817us         5.75%     254.976us     127.488us           0 b           0 b     108.00 Kb           0 b             2  \n",
      "              aten::cat         3.77%     110.878us        12.04%     354.419us      88.605us     105.471us         3.72%     352.256us      88.064us           0 b           0 b     179.00 Kb           0 b             4  \n",
      "               aten::mm        10.15%     298.613us        12.03%     353.954us      88.489us     355.007us        12.53%     355.007us      88.752us           0 b           0 b     135.00 Kb           0 b             4  \n",
      "             aten::_cat         5.85%     172.139us         8.27%     243.541us      60.885us     246.784us         8.71%     246.784us      61.696us           0 b           0 b     179.00 Kb           0 b             4  \n",
      "       aten::leaky_relu         6.30%     185.315us         7.63%     224.560us      56.140us     221.183us         7.81%     221.183us      55.296us           0 b           0 b     135.00 Kb           0 b             4  \n",
      "             aten::mean         6.32%     186.131us         7.36%     216.541us      54.135us     210.944us         7.45%     210.944us      52.736us           0 b           0 b       6.00 Kb           0 b             4  \n",
      "              aten::mul         3.06%      90.026us         3.61%     106.125us      53.062us     106.497us         3.76%     106.497us      53.248us           0 b           0 b     108.00 Kb           0 b             2  \n",
      "              aten::div         3.02%      88.807us         3.52%     103.582us      51.791us     103.423us         3.65%     103.423us      51.712us           0 b           0 b     108.00 Kb           0 b             2  \n",
      "-----------------------  ------------  ------------  ------------  ------------  ------------  ------------  ------------  ------------  ------------  ------------  ------------  ------------  ------------  ------------  \n",
      "Self CPU time total: 2.943ms\n",
      "CUDA time total: 2.833ms\n",
      "\n"
     ]
    }
   ],
   "source": [
    "torch.cuda.empty_cache()\n",
    "with profile( profile_memory=True, record_shapes=True, use_cuda=True) as prof:\n",
    "    agg_feat=trainer.model.aggregator(encodings)\n",
    "print(prof.key_averages().table(sort_by=\"cpu_time\", row_limit=10))\n",
    "torch.cuda.empty_cache()\n",
    "# connectivities=agg_feat['node_connectivity']\n",
    "# mask_map=agg_feat['under_sampled_mask']\n",
    "# init=agg_feat['initial_states']\n",
    "# print(connectivities.requires_grad)\n",
    "# print(mask_map.requires_grad)"
   ]
  },
  {
   "cell_type": "code",
   "execution_count": 18,
   "metadata": {},
   "outputs": [],
   "source": [
    "agg_encoding=agg_feat\n",
    "self=trainer.model.decoder\n",
    "query=agg_encoding['query']\n",
    "traj=self.traj_decoder(query).unsqueeze(1)\n",
    "yaw=self.yaw_decoder(query)\n",
    "mask=agg_encoding['mask'][:,:,0]\n",
    "predictions = {'traj': traj, 'yaw': yaw, 'mask': mask}\n",
    "if 'endpoints' in agg_encoding:\n",
    "    endpoints_query=agg_encoding['endpoints']\n",
    "    endpoints_coords=self.traj_decoder(endpoints_query).unsqueeze(1)\n",
    "    endpoints_yaw=self.yaw_decoder(endpoints_query)\n",
    "    predictions['endpoint_traj']=endpoints_coords\n",
    "    predictions['endpoint_yaw']=endpoints_yaw\n",
    "if 'refine_input' in agg_encoding:\n",
    "    base_info=agg_encoding['refine_input']['traj'].clone()\n",
    "    refine_mask=agg_encoding['refine_input']['mask']\n",
    "    fill_in_mask=torch.isinf(base_info)\n",
    "    fill_in_vals=torch.cat((traj.clone().squeeze(1),yaw),-1)\n",
    "    extract_mask=(1-(mask.clone().unsqueeze(-1).repeat(1,1,3))).bool()\n",
    "    base_info[fill_in_mask]=fill_in_vals[extract_mask]\n",
    "    "
   ]
  },
  {
   "cell_type": "code",
   "execution_count": 26,
   "metadata": {},
   "outputs": [
    {
     "data": {
      "text/plain": [
       "torch.Size([16, 44, 2])"
      ]
     },
     "execution_count": 26,
     "metadata": {},
     "output_type": "execute_result"
    }
   ],
   "source": [
    "traj_ctrs=base_info[:,:,:2]\n",
    "traj_ctrs.shape"
   ]
  },
  {
   "cell_type": "code",
   "execution_count": 28,
   "metadata": {},
   "outputs": [
    {
     "data": {
      "text/plain": [
       "tensor([[0., 0., 0., 0., 0., 0., 0., 0., 0., 0., 0., 0., 0., 0., 0., 0., 0., 0.,\n",
       "         0., 0., 0., 0., 0., 0., 0., 0., 1., 1., 1., 1., 1., 1., 1., 1.],\n",
       "        [0., 0., 0., 0., 0., 0., 0., 0., 0., 0., 0., 0., 0., 0., 0., 0., 0., 0.,\n",
       "         1., 1., 1., 1., 1., 1., 1., 1., 1., 1., 1., 1., 1., 1., 1., 1.],\n",
       "        [0., 0., 0., 0., 0., 0., 0., 0., 0., 0., 0., 0., 0., 0., 0., 0., 0., 0.,\n",
       "         0., 0., 0., 0., 0., 0., 0., 0., 0., 0., 1., 1., 1., 1., 1., 1.],\n",
       "        [0., 0., 0., 0., 0., 0., 0., 0., 0., 0., 0., 0., 0., 0., 0., 0., 0., 0.,\n",
       "         1., 1., 1., 1., 1., 1., 1., 1., 1., 1., 1., 1., 1., 1., 1., 1.],\n",
       "        [0., 0., 0., 0., 0., 0., 0., 0., 0., 0., 0., 0., 0., 0., 0., 0., 0., 0.,\n",
       "         0., 0., 0., 1., 1., 1., 1., 1., 1., 1., 1., 1., 1., 1., 1., 1.],\n",
       "        [0., 0., 0., 1., 1., 1., 1., 1., 1., 1., 1., 1., 1., 1., 1., 1., 1., 1.,\n",
       "         1., 1., 1., 1., 1., 1., 1., 1., 1., 1., 1., 1., 1., 1., 1., 1.],\n",
       "        [0., 0., 0., 0., 0., 0., 0., 0., 0., 0., 0., 0., 0., 0., 0., 0., 0., 0.,\n",
       "         0., 0., 0., 0., 0., 0., 0., 1., 1., 1., 1., 1., 1., 1., 1., 1.],\n",
       "        [0., 0., 0., 0., 0., 0., 0., 0., 0., 0., 0., 0., 0., 1., 1., 1., 1., 1.,\n",
       "         1., 1., 1., 1., 1., 1., 1., 1., 1., 1., 1., 1., 1., 1., 1., 1.],\n",
       "        [0., 0., 0., 0., 0., 0., 0., 0., 0., 0., 0., 0., 0., 0., 0., 0., 0., 0.,\n",
       "         1., 1., 1., 1., 1., 1., 1., 1., 1., 1., 1., 1., 1., 1., 1., 1.],\n",
       "        [0., 0., 0., 0., 0., 0., 1., 1., 1., 1., 1., 1., 1., 1., 1., 1., 1., 1.,\n",
       "         1., 1., 1., 1., 1., 1., 1., 1., 1., 1., 1., 1., 1., 1., 1., 1.],\n",
       "        [0., 0., 0., 0., 0., 0., 0., 0., 0., 0., 0., 0., 0., 0., 0., 0., 0., 0.,\n",
       "         0., 0., 0., 0., 0., 0., 0., 0., 0., 0., 1., 1., 1., 1., 1., 1.],\n",
       "        [0., 0., 0., 0., 0., 1., 1., 1., 1., 1., 1., 1., 1., 1., 1., 1., 1., 1.,\n",
       "         1., 1., 1., 1., 1., 1., 1., 1., 1., 1., 1., 1., 1., 1., 1., 1.],\n",
       "        [0., 0., 0., 0., 0., 0., 0., 0., 0., 0., 0., 0., 0., 0., 0., 0., 0., 0.,\n",
       "         0., 0., 0., 0., 0., 0., 0., 0., 1., 1., 1., 1., 1., 1., 1., 1.],\n",
       "        [0., 0., 0., 0., 0., 1., 1., 1., 1., 1., 1., 1., 1., 1., 1., 1., 1., 1.,\n",
       "         1., 1., 1., 1., 1., 1., 1., 1., 1., 1., 1., 1., 1., 1., 1., 1.],\n",
       "        [0., 0., 0., 0., 0., 0., 0., 0., 0., 0., 0., 0., 0., 0., 0., 0., 0., 0.,\n",
       "         0., 0., 0., 0., 0., 0., 0., 0., 0., 0., 0., 1., 1., 1., 1., 1.],\n",
       "        [0., 0., 0., 0., 0., 0., 0., 0., 0., 0., 0., 0., 0., 0., 0., 0., 0., 0.,\n",
       "         0., 0., 0., 0., 0., 0., 0., 0., 0., 0., 1., 1., 1., 1., 1., 1.]],\n",
       "       device='cuda:0')"
      ]
     },
     "execution_count": 28,
     "metadata": {},
     "output_type": "execute_result"
    }
   ],
   "source": [
    "mask"
   ]
  },
  {
   "cell_type": "code",
   "execution_count": 7,
   "metadata": {},
   "outputs": [],
   "source": [
    "self=trainer.model.decoder\n",
    "agg_encoding=agg_feat\n",
    "query=agg_encoding['query']\n",
    "traj=self.traj_decoder(query).unsqueeze(1)\n",
    "yaw=self.yaw_decoder(query)"
   ]
  },
  {
   "cell_type": "code",
   "execution_count": 7,
   "metadata": {},
   "outputs": [],
   "source": [
    "tq_self_attn = nn.MultiheadAttention(48, 1).cuda()\n",
    "query_emb = nn.Linear(48, 48).cuda()\n",
    "key_emb = nn.Linear(48, 48).cuda()\n",
    "val_emb = nn.Linear(48, 48).cuda()\n",
    "\n"
   ]
  },
  {
   "cell_type": "code",
   "execution_count": 8,
   "metadata": {},
   "outputs": [],
   "source": [
    "agg_encoding=agg_feat\n",
    "attn_mask=agg_encoding['mask'][:,:,0].unsqueeze(-1).transpose(1,2).repeat(1,agg_encoding['mask'].shape[1],1).bool()\n",
    "query=query_emb(agg_encoding['query']).transpose(0,1)\n",
    "key=key_emb(agg_encoding['query']).transpose(0,1)\n",
    "val=val_emb(agg_encoding['query']).transpose(0,1)\n",
    "att_op, _ = tq_self_attn(query, key, val, attn_mask=attn_mask.bool())\n",
    "att_op=att_op.transpose(0,1)\n",
    "\n",
    "aug_query=torch.cat((agg_encoding['query'],att_op),dim=-1)"
   ]
  },
  {
   "cell_type": "code",
   "execution_count": 9,
   "metadata": {},
   "outputs": [],
   "source": [
    "from models.library.blocks import *\n",
    "traj_decoder=nn.Sequential(leaky_MLP(96,48),\n",
    "                            nn.Linear(48,2)).cuda()\n",
    "yaw_decoder=nn.Sequential(leaky_MLP(96,48),\n",
    "                            nn.Linear(48,1)).cuda()\n",
    "\n",
    "traj=traj_decoder(aug_query).unsqueeze(1)\n",
    "yaw=yaw_decoder(aug_query)\n",
    "mask=agg_encoding['mask'][:,:,0]\n",
    "\n",
    "predictions = {'traj': traj, 'yaw': yaw, 'mask': mask}"
   ]
  },
  {
   "cell_type": "code",
   "execution_count": 8,
   "metadata": {},
   "outputs": [
    {
     "name": "stdout",
     "output_type": "stream",
     "text": [
      "dict_keys(['query', 'mask'])\n"
     ]
    }
   ],
   "source": [
    "print(agg_feat.keys())\n",
    "# print(agg_feat['node_connectivity'].shape)\n",
    "# inputs=agg_feat\n",
    "# attn_output_weights = inputs['node_connectivity']\n",
    "# print(attn_output_weights[0].shape)\n",
    "# init_states=inputs['initial_states']\n",
    "# target_encodings = inputs['target_encodings']\n",
    "# map_feature=inputs['feature'].permute(0,2,3,1) \n",
    "# mask=inputs['under_sampled_mask']  \n",
    "\n",
    "# print(agg_feat['node_connectivity'].shape)\n",
    "# print((agg_feat['initial_states'].indices().nelement() * agg_feat['initial_states'].indices().element_size() + agg_feat['initial_states'].values().nelement() *agg_feat['initial_states'].values().element_size()) / 1024**2)"
   ]
  },
  {
   "cell_type": "code",
   "execution_count": null,
   "metadata": {},
   "outputs": [],
   "source": [
    "(~data_test['agent_node_masks']['target'].bool()).any(-1)"
   ]
  },
  {
   "cell_type": "code",
   "execution_count": 9,
   "metadata": {},
   "outputs": [
    {
     "name": "stdout",
     "output_type": "stream",
     "text": [
      "-------------------------------  ------------  ------------  ------------  ------------  ------------  ------------  ------------  ------------  ------------  ------------  ------------  ------------  ------------  ------------  \n",
      "                           Name    Self CPU %      Self CPU   CPU total %     CPU total  CPU time avg     Self CUDA   Self CUDA %    CUDA total  CUDA time avg       CPU Mem  Self CPU Mem      CUDA Mem  Self CUDA Mem    # of Calls  \n",
      "-------------------------------  ------------  ------------  ------------  ------------  ------------  ------------  ------------  ------------  ------------  ------------  ------------  ------------  ------------  ------------  \n",
      "    aten::_pack_padded_sequence         6.21%       4.390ms         7.57%       5.356ms       5.356ms       4.607ms         6.77%       5.357ms       5.357ms         264 b           0 b     116.00 Kb    -117.50 Kb             1  \n",
      "                      aten::gru         0.23%     161.235us         3.69%       2.608ms       2.608ms     174.062us         0.26%       2.606ms       2.606ms           0 b           0 b     817.50 Kb           0 b             1  \n",
      "               aten::_cudnn_rnn         3.20%       2.265ms         3.33%       2.353ms       2.353ms       2.344ms         3.45%       2.353ms       2.353ms           0 b           0 b     817.50 Kb    -777.50 Kb             1  \n",
      "     aten::_pad_packed_sequence         0.33%     235.491us         3.32%       2.349ms       2.349ms       1.771ms         2.60%       2.349ms       2.349ms         128 b           0 b     264.00 Kb           0 b             1  \n",
      "               aten::group_norm         0.15%     103.815us         3.50%       2.479ms     495.865us      93.184us         0.14%       2.475ms     495.001us           0 b           0 b       3.31 Mb           0 b             5  \n",
      "        aten::native_group_norm         0.87%     612.766us         3.36%       2.376ms     475.102us       2.382ms         3.50%       2.382ms     476.364us           0 b           0 b       3.31 Mb      -6.34 Mb             5  \n",
      "               aten::index_put_         0.18%     125.802us         1.73%       1.224ms     407.930us     125.947us         0.19%       1.225ms     408.237us           0 b           0 b           0 b           0 b             3  \n",
      "         aten::_index_put_impl_         0.39%     277.486us         1.55%       1.098ms     365.996us     290.820us         0.43%       1.099ms     366.255us           0 b           0 b           0 b     -27.00 Kb             3  \n",
      "                     aten::sort         0.19%     133.292us         0.40%     285.951us     285.951us     171.805us         0.25%     285.375us     285.375us         256 b        -128 b           0 b           0 b             1  \n",
      "                    aten::index         1.40%     993.191us         4.31%       3.050ms     277.285us       1.216ms         1.79%       3.050ms     277.244us         128 b           0 b       2.03 Mb     -41.00 Kb            11  \n",
      "-------------------------------  ------------  ------------  ------------  ------------  ------------  ------------  ------------  ------------  ------------  ------------  ------------  ------------  ------------  ------------  \n",
      "Self CPU time total: 70.749ms\n",
      "CUDA time total: 68.025ms\n",
      "\n"
     ]
    }
   ],
   "source": [
    "\n",
    "with profile( use_cuda=True,profile_memory=True, record_shapes=True) as prof:\n",
    "    predictions=trainer.model.decoder(agg_feat)\n",
    "print(prof.key_averages().table(sort_by=\"cpu_time\", row_limit=10))\n",
    "# print(predictions['pred'].element_size() * predictions['pred'].nelement()/ 1024**2)\n",
    "# pred=predictions['pred'].to_sparse()\n",
    "# print(pred.element_size() * pred.nelement()/ 1024**2)\n",
    "\n",
    "# print((pred.indices().nelement() * pred.indices().element_size() + pred.values().nelement() * pred.values().element_size()) / 1024**2)"
   ]
  },
  {
   "cell_type": "code",
   "execution_count": 8,
   "metadata": {},
   "outputs": [],
   "source": [
    "from models.library.blocks import Att\n",
    "\n",
    "traj=predictions['traj'].squeeze(1)\n",
    "traj_mask=predictions['mask']\n",
    "lane_enc=encodings['context_encoding']['combined'] #32\n",
    "lane_mask=encodings['context_encoding']['combined_masks']\n",
    "lane_ctrs=data_test['map_representation']['lane_ctrs']\n",
    "query = agg_feat['query'] #48\n",
    "map_agg = Att(n_agt=48,n_ctx=32).cuda()"
   ]
  },
  {
   "cell_type": "code",
   "execution_count": 9,
   "metadata": {},
   "outputs": [],
   "source": [
    "\n",
    "agt_idcs=[]\n",
    "agt_ctrs=[]\n",
    "ctx_idcs=[]\n",
    "ctx_ctrs=[]\n",
    "agt_mask=[]\n",
    "for batch_id,mask in enumerate(traj_mask):\n",
    "    agt_idcs.append(torch.arange(traj.shape[1],device=traj.device).long())\n",
    "    agt_ctrs.append(traj[batch_id])\n",
    "    ctx_idcs.append(torch.arange(lane_enc.shape[1],device=lane_enc.device).long())\n",
    "    ctx_ctrs.append(lane_ctrs[batch_id])\n",
    "    agt_mask.append(traj_mask[batch_id])"
   ]
  },
  {
   "cell_type": "code",
   "execution_count": 14,
   "metadata": {},
   "outputs": [
    {
     "data": {
      "text/plain": [
       "torch.Size([1088, 48])"
      ]
     },
     "execution_count": 14,
     "metadata": {},
     "output_type": "execute_result"
    }
   ],
   "source": [
    "map_enc=map_agg.forward(agts=query.flatten(0,1), agt_idcs=agt_idcs, agt_ctrs=agt_ctrs, ctx=lane_enc.flatten(0,1), ctx_idcs=ctx_idcs, ctx_ctrs=ctx_ctrs, dist_th=20,agt_mask=agt_mask)\n"
   ]
  },
  {
   "cell_type": "code",
   "execution_count": 15,
   "metadata": {},
   "outputs": [
    {
     "data": {
      "text/plain": [
       "torch.Size([32, 34, 48])"
      ]
     },
     "execution_count": 15,
     "metadata": {},
     "output_type": "execute_result"
    }
   ],
   "source": [
    "map_enc=map_enc.view(query.shape)\n",
    "query=torch.cat((map_enc,traj),-1)"
   ]
  },
  {
   "cell_type": "code",
   "execution_count": null,
   "metadata": {},
   "outputs": [],
   "source": [
    "mask=agg_feat['mask'][:,:,0]"
   ]
  },
  {
   "cell_type": "code",
   "execution_count": 10,
   "metadata": {},
   "outputs": [],
   "source": [
    "yaw = predictions['yaw'].squeeze(-1)\n",
    "yaw_gt = gt_test['traj'][:,:,-1] if type(gt_test) == dict else gt_test[:,:,-1]\n",
    "\n",
    "# Useful params\n",
    "batch_size = yaw.shape[0]\n",
    "sequence_length = yaw.shape[1]\n",
    "\n",
    "# Masks for variable length ground truth trajectories\n",
    "masks = predictions['mask'] if type(predictions) == dict and 'mask' in predictions.keys() \\\n",
    "    else torch.zeros(batch_size, sequence_length).to(yaw.device)\n",
    "indices=torch.abs(yaw-yaw_gt)>(3.14159/2)\n",
    "multipliers=torch.abs(yaw-yaw_gt)//(3.14159/2)\n",
    "larger_inds=(yaw_gt>yaw)*indices\n",
    "smaller_inds=(yaw_gt<yaw)*indices\n",
    "yaw_gt[larger_inds]-=((3.14159/2)*multipliers[larger_inds])\n",
    "yaw_gt[smaller_inds]+=((3.14159/2)*multipliers[smaller_inds])\n",
    "\n",
    "errs=torch.sum(torch.abs(yaw-yaw_gt)*(1-masks),dim=1)/torch.sum((1-masks),dim=1)"
   ]
  },
  {
   "cell_type": "code",
   "execution_count": null,
   "metadata": {},
   "outputs": [],
   "source": [
    "((3.14159/2)*multipliers[larger_inds])"
   ]
  },
  {
   "cell_type": "code",
   "execution_count": 8,
   "metadata": {},
   "outputs": [],
   "source": [
    "self=trainer.model.decoder\n",
    "inputs=agg_feat\n",
    "if type(inputs) is torch.Tensor:\n",
    "    agg_encoding = inputs\n",
    "else:\n",
    "    agg_encoding = inputs['agg_encoding']\n",
    "    if 'under_sampled_mask' in inputs:\n",
    "        mask=inputs['under_sampled_mask']\n",
    "    else:\n",
    "        mask=None\n",
    "    \n",
    "if self.output_traj:\n",
    "    target_encodings = inputs['target_encodings']\n",
    "if 'traj_feature' in inputs:\n",
    "    target_encodings = inputs['traj_feature']\n",
    "predictions=self.decoding_net(agg_encoding)"
   ]
  },
  {
   "cell_type": "code",
   "execution_count": 9,
   "metadata": {},
   "outputs": [],
   "source": [
    "map_feature=agg_encoding.flatten(2).permute(2,0,1)\n",
    "# nodes_2D=get_index(predictions[:,-1].unsqueeze(1),mask,self.H,self.W)\n",
    "dense_pred=predictions[:,-1].unsqueeze(1)\n",
    "endpoints,confidences = self.endpoint_sampler(dense_pred)\n",
    "endpoints=endpoints.long()\n",
    "concat_feature=torch.empty([0,self.num_target,self.feature_dim],device=predictions.device)\n",
    "x_coord,y_coord=torch.meshgrid(torch.arange(self.map_extent[-1],self.map_extent[-2],-self.resolution)-self.resolution/2, ##### SHould be changed when image size changes\n",
    "                                torch.arange(self.map_extent[0],self.map_extent[1],self.resolution)+self.resolution/2)\n",
    "indices=torch.cat([y_coord.unsqueeze(-1),x_coord.unsqueeze(-1)],dim=-1).to(predictions.device)"
   ]
  },
  {
   "cell_type": "code",
   "execution_count": 12,
   "metadata": {},
   "outputs": [],
   "source": [
    "for batch_idx in range(len(dense_pred)):\n",
    "    diff = (indices[endpoints[batch_idx,:,0],endpoints[batch_idx,:,1]]).float()\n",
    "    feature=torch.cat([self.diff_encoder(diff),target_encodings[batch_idx].repeat(self.endpoint_sampler._n_targets,1)],dim=-1).unsqueeze(0)\n",
    "    concat_feature=torch.cat([concat_feature,feature],dim=0)"
   ]
  },
  {
   "cell_type": "code",
   "execution_count": 12,
   "metadata": {},
   "outputs": [
    {
     "name": "stdout",
     "output_type": "stream",
     "text": [
      "torch.Size([16, 59536])\n"
     ]
    }
   ],
   "source": [
    "print(len(agg_feat['node_connectivity']))\n",
    "print(agg_feat['under_sampled_mask'].shape)"
   ]
  },
  {
   "cell_type": "code",
   "execution_count": 8,
   "metadata": {},
   "outputs": [],
   "source": [
    "agg_encoding = agg_feat['agg_encoding']\n",
    "mask=agg_feat['under_sampled_mask']"
   ]
  },
  {
   "cell_type": "code",
   "execution_count": 10,
   "metadata": {},
   "outputs": [
    {
     "data": {
      "text/plain": [
       "dict_keys(['agg_encoding', 'under_sampled_mask', 'target_encodings', 'traj_feature', 'gt_traj'])"
      ]
     },
     "execution_count": 10,
     "metadata": {},
     "output_type": "execute_result"
    }
   ],
   "source": [
    "agg_feat.keys()"
   ]
  },
  {
   "cell_type": "code",
   "execution_count": 13,
   "metadata": {},
   "outputs": [
    {
     "data": {
      "text/plain": [
       "tensor([ 4.1723e-06,  2.8610e-06, -1.9073e-06, -3.3379e-06,  3.3379e-06,\n",
       "         0.0000e+00, -2.1458e-06,  5.2452e-06, -2.8610e-06,  1.4305e-06,\n",
       "         9.5367e-07,  2.3842e-06,  2.8610e-06, -9.5367e-07, -3.4571e-06,\n",
       "         1.6689e-06], device='cuda:0', grad_fn=<SumBackward1>)"
      ]
     },
     "execution_count": 13,
     "metadata": {},
     "output_type": "execute_result"
    }
   ],
   "source": [
    "agg_feat['target_encodings'].sum(-1)\n"
   ]
  },
  {
   "cell_type": "code",
   "execution_count": 11,
   "metadata": {},
   "outputs": [
    {
     "name": "stdout",
     "output_type": "stream",
     "text": [
      "ModuleList(\n",
      "  (0): Conv2d(32, 16, kernel_size=(1, 1), stride=(1, 1), bias=False)\n",
      "  (1): LeakyReLU(negative_slope=0.01)\n",
      "  (2): Conv2d(16, 12, kernel_size=(1, 1), stride=(1, 1), bias=False)\n",
      ")\n"
     ]
    }
   ],
   "source": [
    "self=trainer.model.decoder\n",
    "print(self.decoding_net)\n",
    "x=agg_encoding\n",
    "for i,layer in enumerate(self.decoding_net):\n",
    "    x=layer(x)\n",
    "predictions=self.sigmoid(x)\n"
   ]
  },
  {
   "cell_type": "code",
   "execution_count": 12,
   "metadata": {},
   "outputs": [],
   "source": [
    "focal=trainer.losses[0]\n",
    "traj_gt = gt_test['traj']\n",
    "mask_da=mask\n",
    "_,gs_map=focal.generate_gtmap(traj_gt,mask_da)"
   ]
  },
  {
   "cell_type": "code",
   "execution_count": null,
   "metadata": {},
   "outputs": [],
   "source": [
    "import matplotlib.pyplot as plt\n",
    "query_images=predictions[:,-1].detach().cpu()\n",
    "gt_image=torch.clamp(gs_map.sum(dim=1),max=1.0).detach().cpu()\n",
    "query_num=cfg['batch_size']\n",
    "fig, ax = plt.subplots(query_num, 2, figsize=(10, 40))\n",
    "fig.tight_layout()\n",
    "for i in range(query_num):\n",
    "    ax[i, 0].imshow(query_images[i])\n",
    "    ax[i, 0].set_title(i)\n",
    "    ax[i, 1].imshow(gt_image[i])"
   ]
  },
  {
   "cell_type": "code",
   "execution_count": 22,
   "metadata": {},
   "outputs": [
    {
     "data": {
      "text/plain": [
       "tensor(20327.2539, device='cuda:0', grad_fn=<DivBackward0>)"
      ]
     },
     "execution_count": 22,
     "metadata": {},
     "output_type": "execute_result"
    }
   ],
   "source": [
    "focal.compute({'pred': predictions,'mask': mask},gt_test)"
   ]
  },
  {
   "cell_type": "code",
   "execution_count": 10,
   "metadata": {},
   "outputs": [],
   "source": [
    "self = trainer.model.aggregator\n",
    "# mask=agg_feat['under_sampled_mask']\n",
    "# feature=agg_feat['node_connectivity']\n",
    "# init_pos=torch.zeros([self.H,self.W],device=feature[0].device)\n",
    "# init_pos[self.compensation[0],self.compensation[1]]=1\n",
    "### Goes to aggregator"
   ]
  },
  {
   "cell_type": "code",
   "execution_count": 10,
   "metadata": {},
   "outputs": [],
   "source": [
    "target_agent_enc = encodings['target_agent_encoding']\n",
    "context_enc = encodings['context_encoding']\n",
    "if context_enc['combined'] is not None:\n",
    "    combined_enc, map_mask = context_enc['combined'], context_enc['map_masks'].bool()\n",
    "else:\n",
    "    combined_enc, _ = self.get_combined_encodings(context_enc)\n",
    "\n",
    "augmented_target_agent_enc = target_agent_enc.unsqueeze(2).unsqueeze(3).repeat(1,1,combined_enc.shape[-2],combined_enc.shape[-1])\n",
    "concatenated_encodings=torch.cat([combined_enc,augmented_target_agent_enc],dim=1)\n",
    "context_encoding = self.dim_reduction_block(concatenated_encodings)##Fuse agent feat with map feat by compressing the dimension (actually is linear layer)\n",
    "augmented_encoding = self.transpose_conv(context_encoding)\n",
    "augmented_encoding = augmented_encoding + self.pos_enc(augmented_encoding)\n",
    "context_encoding = context_encoding.view(context_encoding.shape[0], context_encoding.shape[1], -1)## [Batch number, channel, H*W]\n",
    "context_encoding = context_encoding.permute(0, 2, 1)## [Batch number, H*W, channel]\n",
    "\n",
    "nodes_2D=self.sampler.sample_goals().repeat(context_encoding.shape[0],1,1).type(torch.float32)\n",
    "torch.cuda.empty_cache()\n",
    "query = self.query_emb(nodes_2D).permute(1,0,2)\n",
    "keys = self.key_emb(context_encoding).permute(1, 0, 2)\n",
    "vals = self.val_emb(context_encoding).permute(1, 0, 2)\n",
    "mask_map=(self.sampler.sample_mask(map_mask))\n",
    "if self.apply_mask:\n",
    "    \n",
    "    attn_mask=~mask_map.unsqueeze(-1).repeat(self.num_heads,1,context_encoding.shape[1])\n",
    "    attn_output, _ = self.mha(query, keys, vals, attn_mask=attn_mask)\n",
    "    attn_output[torch.isnan(attn_output)]=0\n",
    "else:\n",
    "    attn_output, _ = self.mha(query, keys, vals)\n",
    "torch.cuda.empty_cache()\n",
    "op = attn_output.permute(1,0,2)\n",
    "op = op.view(op.shape[0],self.sampler.H,self.sampler.W,-1)\n",
    "# op = torch.cat((target_agent_enc, op), dim=-1)\n",
    "if self.conv:\n",
    "    op=self.final_convs(op.permute(0,3,1,2))\n",
    "    op=op+self.pos_enc(op)\n",
    "torch.cuda.empty_cache()"
   ]
  },
  {
   "cell_type": "markdown",
   "metadata": {},
   "source": [
    "### Desired shape for fold function\n",
    "$$[B,H*W,conv\\_kernel^2]$$"
   ]
  },
  {
   "cell_type": "markdown",
   "metadata": {},
   "source": [
    "### TODO\n",
    "1. Get reduced feature with shape $[B,num\\_valid\\_nodes,conv\\_kernel^2,channel]$\n",
    "2. Applied MLP on reduced feature and get `connectivity` with shape $[B,num\\_valid\\_nodes,conv\\_kernel^2,1]$\n",
    "3. Recover the reduced `connectivity` to full connectivity with shape $[B,H*W,conv\\_kernel^2]$\n"
   ]
  },
  {
   "cell_type": "code",
   "execution_count": 11,
   "metadata": {},
   "outputs": [],
   "source": [
    "def get_unfolded_feature(feature,mask,augmented_encoding):\n",
    "        ## Input shape B,C,H,W\n",
    "    kernel=self.conv_kernel\n",
    "    # diff=self.get_diff().to(feature.device)\n",
    "    # diff_encoding=self.diff_encoder(diff.view(2,-1).permute(1,0))\n",
    "    torch.cuda.empty_cache()\n",
    "    unfold = nn.Unfold(kernel_size=(kernel, kernel), dilation=1, padding=kernel//2, stride=(1, 1))\n",
    "    unfolded=unfold(feature).permute(0,2,1)\n",
    "    unfolded=(unfolded.view(feature.shape[0],self.H,self.W,-1,self.conv_kernel**2)[:,:-(self.source_row-self.center_row)]).transpose(-1,-2)\n",
    "    # unfolded=torch.cat((unfolded,diff_encoding.repeat(unfolded.shape[0],unfolded.shape[1],unfolded.shape[2],1,1)),dim=-1)#.view(unfolded_feature.shape[0],unfolded_feature.shape[1],unfolded_feature.shape[2],-1)\n",
    "    unfolded=unfolded.view(unfolded.shape[0],unfolded.shape[1]*unfolded.shape[2],self.conv_kernel**2,unfolded.shape[-1])## B*Number of slided window,kernel_size**2, channel\n",
    "    # target_mask=mask.view(mask.shape[0],self.H,self.W)[:,:-(self.source_row-self.center_row)].view(mask.shape[0],-1)\n",
    "    # unfolded_feature=unfolded_feature.view(unfolded_feature.shape[0],unfolded_feature.shape[1],channel,kernel**2)\n",
    "    # current_node_feat=feature[:,:,(self.source_row-self.center_row):].view(feature.shape[0],channel,-1).permute(0,2,1)## B,Number of slided window, channel\n",
    "    source_mask=mask.view(mask.shape[0],self.H,self.W)[:,(self.source_row-self.center_row):].view(mask.shape[0],-1)\n",
    "    augmented_encoding=augmented_encoding.permute(0,2,3,1)[:,(self.source_row-self.center_row):]\n",
    "    augmented_encoding=augmented_encoding.view(augmented_encoding.shape[0],-1,augmented_encoding.shape[-1]).unsqueeze(-2)\n",
    "    # unfolded_feature=(unfolded_feature*mask.unsqueeze(-1)).to_sparse()\n",
    "    # current_node_feat=(current_node_feat*mask.unsqueeze(-1)).to_sparse()\n",
    "    summed_feat=torch.zeros([0,self.conv_kernel**2,augmented_encoding.shape[-1]],device=feature.device)\n",
    "    for idx,batch in enumerate(unfolded):\n",
    "        summed_feat=torch.cat((summed_feat,(batch+augmented_encoding[idx])[source_mask[idx]]),dim=0)\n",
    "    # source_mask=torch.cat((source_mask,torch.zeros([mask.shape[0],mask.shape[-1]-source_mask.shape[-1]],device=mask.device)),dim=-1)\n",
    "    # source_feat=(current_node_feat.unsqueeze(-2).repeat(1,1,self.conv_kernel**2,1)*source_mask).view(-1,channel).to_sparse()\n",
    "    # target_feat=(unfolded*source_mask).view(-1,unfolded.shape[-1]).to_sparse()\n",
    "    # torch.cuda.empty_cache()\n",
    "    # concat_feature=torch.cat((target_feat,source_feat),dim=-1)\n",
    "\n",
    "    return summed_feat,source_mask"
   ]
  },
  {
   "cell_type": "code",
   "execution_count": 65,
   "metadata": {},
   "outputs": [],
   "source": [
    "def fake_unfold(feature,mask,augmented_encoding):\n",
    "    points=torch.cat((self.compensation.unsqueeze(0),torch.Tensor([[186,113],[203,129]]).cuda()),dim=0).long()\n",
    "    ind0=points[:,0]-(self.source_row-self.center_row)\n",
    "    ind1=points[:,1]\n",
    "    channel=augmented_encoding.shape[1]\n",
    "    B=feature.shape[0]\n",
    "    torch.cuda.empty_cache()\n",
    "    unfolded=torch.zeros([B,self.H,self.W,self.conv_kernel**2,channel],device=feature.device)\n",
    "    unfolded[:,ind0,ind1]=1\n",
    "    unfolded=unfolded[:,:-(self.source_row-self.center_row)]\n",
    "    torch.cuda.empty_cache()\n",
    "    \n",
    "    unfolded=unfolded.view(unfolded.shape[0],unfolded.shape[1]*unfolded.shape[2],self.conv_kernel**2,unfolded.shape[-1])\n",
    "    source_mask=mask.view(mask.shape[0],self.H,self.W)[:,(self.source_row-self.center_row):].view(mask.shape[0],-1)\n",
    "    summed_feat=torch.zeros([0,self.conv_kernel**2,channel],device=feature.device)\n",
    "    for idx,batch in enumerate(unfolded):\n",
    "        summed_feat=torch.cat((summed_feat,batch[source_mask[idx]]),dim=0)\n",
    "    return summed_feat,source_mask"
   ]
  },
  {
   "cell_type": "code",
   "execution_count": 15,
   "metadata": {},
   "outputs": [],
   "source": [
    "torch.cuda.empty_cache()"
   ]
  },
  {
   "cell_type": "code",
   "execution_count": 13,
   "metadata": {},
   "outputs": [],
   "source": [
    "mask=mask_map.view(mask_map.shape[0],self.H,self.W).clone()\n",
    "mask[:,:(self.source_row-self.center_row)]=False\n",
    "mask=mask.view(mask_map.shape[0],-1)"
   ]
  },
  {
   "cell_type": "code",
   "execution_count": 14,
   "metadata": {},
   "outputs": [],
   "source": [
    "summed_feat,source_mask=get_unfolded_feature(op,mask,augmented_encoding)\n",
    "# summed_feat,source_mask=fake_unfold(op,mask,augmented_encoding)\n",
    "# connectivities=self.concat_feat(source_feat,target_feat,diff)\n",
    "torch.cuda.empty_cache()"
   ]
  },
  {
   "cell_type": "code",
   "execution_count": 15,
   "metadata": {},
   "outputs": [
    {
     "name": "stdout",
     "output_type": "stream",
     "text": [
      "torch.Size([50009, 361, 36])\n"
     ]
    },
    {
     "data": {
      "text/plain": [
       "Sequential(\n",
       "  (0): Linear(in_features=36, out_features=18, bias=True)\n",
       "  (1): LayerNorm()\n",
       "  (2): LeakyReLU(negative_slope=0.01)\n",
       "  (3): Linear(in_features=18, out_features=9, bias=True)\n",
       "  (4): LayerNorm()\n",
       "  (5): LeakyReLU(negative_slope=0.01)\n",
       "  (6): Linear(in_features=9, out_features=1, bias=True)\n",
       ")"
      ]
     },
     "execution_count": 15,
     "metadata": {},
     "output_type": "execute_result"
    }
   ],
   "source": [
    "print(summed_feat.shape)\n",
    "self.deocde_block"
   ]
  },
  {
   "cell_type": "code",
   "execution_count": 16,
   "metadata": {},
   "outputs": [],
   "source": [
    "connectivity=self.softmax(self.deocde_block(summed_feat).squeeze(-1))\n",
    "# connectivity=summed_feat[:,:,0].squeeze(-1)\n",
    "unfolded_base=torch.zeros(mask.shape[0],self.H*self.W,self.conv_kernel**2,device=op.device)\n",
    "indices=torch.nonzero(mask)\n",
    "ind0=indices[:,0]\n",
    "ind1=indices[:,1]\n",
    "unfolded_base[ind0,ind1]=connectivity\n",
    "torch.cuda.empty_cache()\n"
   ]
  },
  {
   "cell_type": "code",
   "execution_count": 17,
   "metadata": {},
   "outputs": [],
   "source": [
    "self=trainer.model.aggregator\n",
    "init_pos=torch.zeros([self.H,self.W],device=connectivity.device)\n",
    "init_pos[self.compensation[0],self.compensation[1]]=1\n",
    "init_states=init_pos.repeat(mask.shape[0],1,1).view(mask.shape[0],-1).unsqueeze(-1)\n",
    "prev_states=init_states.clone()\n",
    "fold=nn.Fold(output_size=(self.H, self.W), kernel_size=(self.conv_kernel, self.conv_kernel), padding=self.conv_kernel//2, dilation=1, stride=(1, 1))"
   ]
  },
  {
   "cell_type": "code",
   "execution_count": 18,
   "metadata": {},
   "outputs": [],
   "source": [
    "self=trainer.model.decoder\n",
    "predictions=torch.empty([init_states.shape[0],0,self.H,self.W],device=unfolded_base.device)\n",
    "for step in range(self.horizon):\n",
    "    unfolded_map=(prev_states*unfolded_base).transpose(-1,-2)\n",
    "    prob_map=torch.cat((fold(unfolded_map)[:,:,5:],torch.zeros([mask.shape[0],1,5,self.W],device=mask.device)),dim=2)\n",
    "    predictions=torch.cat((predictions,prob_map),dim=1)\n",
    "    # prev_map=torch.cat((prob_map[:,:,5:],torch.zeros([prob_map.shape[0],1,5,self.W],device=prob_map.device)),dim=2)\n",
    "    prev_states=prob_map.view(init_states.shape[0],self.H*self.W,1)"
   ]
  },
  {
   "cell_type": "code",
   "execution_count": 29,
   "metadata": {},
   "outputs": [],
   "source": [
    "\n",
    "pad_mask=((agg_feat['under_sampled_mask'].clone().view(mask.shape[0],self.H,self.W))[:,(self.source_row-self.center_row):]).view(mask.shape[0],-1)\n",
    "unfold_base=torch.zeros([1,self.conv_kernel**2,(self.source_row-self.center_row)*self.W],device=feature[0].device)\n",
    "unfold_feature=torch.zeros([0,self.conv_kernel**2,self.H*self.W],device=feature[0].device)\n",
    "for batch_id,batch in enumerate(pad_mask):\n",
    "    unfold_batch=unfold_base.clone()\n",
    "    valid_count=0\n",
    "    for node_id,node_validity in enumerate(batch):\n",
    "        if node_validity:\n",
    "            unfold_batch=torch.cat((unfold_batch,feature[batch_id][valid_count].view(1,-1,1)),dim=-1)\n",
    "            valid_count+=1\n",
    "        else:\n",
    "            unfold_batch=torch.cat((unfold_batch,torch.zeros([1,self.conv_kernel**2,1],device=feature[0].device)),dim=-1)\n",
    "    unfold_feature=torch.cat((unfold_feature,unfold_batch),dim=0)\n",
    "    "
   ]
  },
  {
   "cell_type": "code",
   "execution_count": 10,
   "metadata": {},
   "outputs": [],
   "source": [
    "def get_next(prev_states,feature,mask,indices):\n",
    "    # unfold_base=torch.zeros([1,self.conv_kernel**2,(self.source_row-self.center_row)*self.W],device=feature[0].device)\n",
    "    # unfold_feature=torch.zeros([0,self.conv_kernel**2,self.H*self.W],device=feature[0].device)\n",
    "    unfold_base=torch.zeros([len(feature),self.conv_kernel**2,self.H*self.W],device=feature[0].device)\n",
    "    for node_idx in indices:\n",
    "        ## Get valid count\n",
    "        if mask[node_idx[0],node_idx[1]]==True:\n",
    "            valid_count=mask[node_idx[0],:node_idx[1]+1].sum().long()\n",
    "            unfold_base[node_idx[0],:,node_idx[1]-self.W*(self.source_row-self.center_row)]=unfold_base[node_idx[0],:,node_idx[1]-self.W*(self.source_row-self.center_row)]+feature[node_idx[0]][valid_count-1]*prev_states[node_idx[0],node_idx[1]]\n",
    "    fold=nn.Fold(output_size=(self.H, self.W), kernel_size=(self.conv_kernel, self.conv_kernel), padding=self.conv_kernel//2, dilation=1, stride=(1, 1))\n",
    "    return fold(unfold_base)"
   ]
  },
  {
   "cell_type": "code",
   "execution_count": 11,
   "metadata": {},
   "outputs": [],
   "source": [
    "### Goes to decoder\n",
    "self.horizon=12\n",
    "predictions=torch.empty([len(feature),0,self.H,self.W],device=feature[0].device)\n",
    "prev_states=init_pos.repeat([len(feature),1,1])\n",
    "mask_filtered=mask.clone().view(mask.shape[0],self.H,self.W)\n",
    "mask_filtered[:,:(self.source_row-self.center_row)]=False\n",
    "for t in range(self.horizon):\n",
    "    # prev_states[prev_states<1e-5]=0\n",
    "    indices=torch.nonzero(prev_states.view(len(feature),-1))\n",
    "    next_states=get_next(prev_states.view(len(feature),-1),feature,mask_filtered.view(mask.shape[0],-1),indices)\n",
    "    # print(next_states.shape)\n",
    "    predictions=torch.cat((predictions,next_states),dim=1)\n",
    "    prev_states=next_states"
   ]
  },
  {
   "cell_type": "code",
   "execution_count": 12,
   "metadata": {},
   "outputs": [],
   "source": [
    "predictions=self.softmax(predictions.view(predictions.shape[0],predictions.shape[1],-1)).view(predictions.shape[0],predictions.shape[1],self.H,self.W)"
   ]
  },
  {
   "cell_type": "code",
   "execution_count": 26,
   "metadata": {},
   "outputs": [
    {
     "data": {
      "image/png": "[encoded data removed]",
      "text/plain": [
       "<Figure size 432x288 with 1 Axes>"
      ]
     },
     "metadata": {},
     "output_type": "display_data"
    }
   ],
   "source": [
    "plt.imshow(predictions[1,-1].squeeze(0).detach().cpu())\n",
    "plt.show()"
   ]
  },
  {
   "cell_type": "code",
   "execution_count": 25,
   "metadata": {},
   "outputs": [
    {
     "data": {
      "image/png": "[encoded data removed]",
      "text/plain": [
       "<Figure size 432x288 with 1 Axes>"
      ]
     },
     "metadata": {},
     "output_type": "display_data"
    }
   ],
   "source": [
    "plt.imshow(mask[1].view(244,244).detach().cpu())\n",
    "plt.show()"
   ]
  },
  {
   "cell_type": "code",
   "execution_count": 9,
   "metadata": {},
   "outputs": [],
   "source": [
    "\n",
    "self=trainer.model.decoder\n"
   ]
  },
  {
   "cell_type": "code",
   "execution_count": null,
   "metadata": {},
   "outputs": [],
   "source": [
    "# test_feat=op.view(op.shape[0],op.shape[1],-1).permute(0,2,1)\n",
    "torch.cuda.empty_cache()\n",
    "inputs=agg_feat\n"
   ]
  },
  {
   "cell_type": "code",
   "execution_count": 11,
   "metadata": {},
   "outputs": [],
   "source": [
    "if type(inputs) is torch.Tensor:\n",
    "    agg_encoding = inputs\n",
    "else:\n",
    "    agg_encoding = inputs['agg_encoding']\n",
    "    if 'under_sampled_mask' in inputs:\n",
    "        mask=inputs['under_sampled_mask'].to(agg_encoding.device)\n",
    "    else:\n",
    "        mask=None\n",
    "if self.output_traj:\n",
    "    target_encodings = inputs['target_encodings']\n",
    "context_encoding = agg_encoding + self.pos_enc(agg_encoding)"
   ]
  },
  {
   "cell_type": "code",
   "execution_count": 12,
   "metadata": {},
   "outputs": [],
   "source": [
    "torch.cuda.empty_cache()\n",
    "context_encoding = context_encoding.view(context_encoding.shape[0], context_encoding.shape[1], -1)\n",
    "feature = context_encoding.permute(0, 2, 1).unsqueeze(1).repeat(1,self.horizon,1,1)\n",
    "x=self.decoding_net(feature).view(feature.shape[0],self.horizon,self.H,self.W)\n",
    "torch.cuda.empty_cache()\n",
    "predictions=self.sigmoid(x)"
   ]
  },
  {
   "cell_type": "code",
   "execution_count": null,
   "metadata": {},
   "outputs": [],
   "source": [
    "inputs = agg_feat\n",
    "if type(inputs) is torch.Tensor:\n",
    "    agg_encoding = inputs\n",
    "else:\n",
    "    agg_encoding = inputs['agg_encoding']\n",
    "    if 'under_sampled_mask' in inputs:\n",
    "        mask=inputs['under_sampled_mask']\n",
    "    else:\n",
    "        mask=None\n",
    "if self.output_traj:\n",
    "    target_encodings = inputs['target_encodings']\n",
    "time_querys=torch.cat((self.querys_embedder(self.time_steps),self.time_steps),dim=-1).repeat(agg_encoding.shape[0],1,1).unsqueeze(2)"
   ]
  },
  {
   "cell_type": "code",
   "execution_count": 9,
   "metadata": {},
   "outputs": [
    {
     "data": {
      "text/plain": [
       "dict_keys(['pred', 'mask', 'traj', 'probs', 'endpoints'])"
      ]
     },
     "execution_count": 9,
     "metadata": {},
     "output_type": "execute_result"
    }
   ],
   "source": [
    "predictions.keys()"
   ]
  },
  {
   "cell_type": "code",
   "execution_count": 11,
   "metadata": {},
   "outputs": [
    {
     "data": {
      "text/plain": [
       "torch.Size([16, 1, 968, 968])"
      ]
     },
     "execution_count": 11,
     "metadata": {},
     "output_type": "execute_result"
    }
   ],
   "source": [
    "sum=predictions['pred'].flatten(1).mean(dim=-1)\n",
    "sum"
   ]
  },
  {
   "cell_type": "code",
   "execution_count": 10,
   "metadata": {},
   "outputs": [
    {
     "data": {
      "text/plain": [
       "torch.Size([16, 1, 242, 242])"
      ]
     },
     "execution_count": 10,
     "metadata": {},
     "output_type": "execute_result"
    }
   ],
   "source": [
    "predictions['pred'].shape"
   ]
  },
  {
   "cell_type": "code",
   "execution_count": 11,
   "metadata": {},
   "outputs": [
    {
     "name": "stderr",
     "output_type": "stream",
     "text": [
      "Clipping input data to the valid range for imshow with RGB data ([0..1] for floats or [0..255] for integers).\n",
      "Clipping input data to the valid range for imshow with RGB data ([0..1] for floats or [0..255] for integers).\n",
      "Clipping input data to the valid range for imshow with RGB data ([0..1] for floats or [0..255] for integers).\n",
      "Clipping input data to the valid range for imshow with RGB data ([0..1] for floats or [0..255] for integers).\n",
      "Clipping input data to the valid range for imshow with RGB data ([0..1] for floats or [0..255] for integers).\n",
      "Clipping input data to the valid range for imshow with RGB data ([0..1] for floats or [0..255] for integers).\n",
      "Clipping input data to the valid range for imshow with RGB data ([0..1] for floats or [0..255] for integers).\n",
      "Clipping input data to the valid range for imshow with RGB data ([0..1] for floats or [0..255] for integers).\n"
     ]
    },
    {
     "data": {
      "image/png": "[encoded data removed]",
      "text/plain": [
       "<Figure size 1152x2304 with 8 Axes>"
      ]
     },
     "metadata": {},
     "output_type": "display_data"
    }
   ],
   "source": [
    "from models.decoders.ram_decoder import get_index,get_dense\n",
    "self=trainer.model.aggregator\n",
    "def get_heatmap(predictions,mask):\n",
    "    if self.agg_type=='global':\n",
    "        nodes_2D=get_index(predictions['pred'],mask)\n",
    "        dense_pred=get_dense(predictions['pred'],nodes_2D,self.H,self.W).squeeze(1).clone().detach()\n",
    "    else:\n",
    "        dense_pred=predictions['pred'].clone().detach()\n",
    "    heatmap=torch.cat((dense_pred[:,-5].unsqueeze(1),dense_pred[:,-3].unsqueeze(1),dense_pred[:,-1].unsqueeze(1)),dim=1)\n",
    "    return heatmap.permute(0,2,3,1).cpu()\n",
    "def visualize_connectivity(point,connectivity,mask,predictions):\n",
    "    max_num=max(mask.sum(dim=1))\n",
    "    init_pos=torch.zeros([self.H,self.W]).to(connectivity.device)\n",
    "    init_pos[point[0],point[1]]=1\n",
    "    state=init_pos.view(-1)\n",
    "    fig, ax = plt.subplots(mask.shape[0], 2, figsize=(16, 8*mask.shape[0]))\n",
    "    fig.tight_layout()\n",
    "    if self.agg_type=='global':\n",
    "        graphs=torch.empty([0,1,max_num]).to(connectivity.device)\n",
    "        for i in range(mask.shape[0]):\n",
    "            print(mask.view(mask.shape[0],self.H,self.W)[i,point[0],point[1]])\n",
    "            reduced_state=((init_pos.view(-1))[mask[i]]).to_sparse()\n",
    "            aug_state=torch.cat((reduced_state, torch.sparse_coo_tensor(torch.empty([1,0]), [], [max_num - reduced_state.size(0),]).to(connectivity.device)), 0).unsqueeze(0)\n",
    "            reduced_graph=(aug_state.to_dense()@connectivity[i]).unsqueeze(1)\n",
    "            graphs=torch.cat((graphs,reduced_graph),dim=0)\n",
    "        nodes_2D=get_index(graphs,mask)\n",
    "        dense_pred=get_dense(graphs,nodes_2D,self.H,self.W).squeeze(1).clone().detach().unsqueeze(1)\n",
    "    else:\n",
    "        init_states=init_pos.repeat(mask.shape[0],1,1).view(mask.shape[0],-1).unsqueeze(-1)\n",
    "        fold=nn.Fold(output_size=(self.H, self.W), kernel_size=(self.conv_kernel, self.conv_kernel), padding=self.conv_kernel//2, dilation=1, stride=(1, 1))\n",
    "        unfolded_map=(init_states*connectivity).transpose(-1,-2)\n",
    "        dense_pred=torch.cat((fold(unfolded_map)[:,:,5:],torch.zeros([mask.shape[0],1,5,self.W],device=mask.device)),dim=2).clone().detach()\n",
    "    # mask_map=dense_pred.clone()\n",
    "    # mask_map[mask.view(dense_pred.shape)]=0.01\n",
    "    # dense_pred+=mask_map\n",
    "    # print(dense_pred.shape)\n",
    "    dense_pred=dense_pred.repeat(1,3,1,1)\n",
    "    dense_pred*=128\n",
    "    dense_pred[:,2][mask.view(mask.shape[0],self.H,self.W)]+=0.4\n",
    "    dense_pred[:,1:,point[0]-1:point[0]+1,point[1]-1:point[1]+1]=0\n",
    "    dense_pred[:,0,point[0]-1:point[0]+1,point[1]-1:point[1]+1]=255\n",
    "    \n",
    "    dense_pred=dense_pred.permute(0,2,3,1)\n",
    "    last_steps=get_heatmap(predictions,mask)*255\n",
    "    # last_steps[:,1:,point[0]-1:point[0]+1,point[1]-1:point[1]+1]=0\n",
    "    # last_steps[:,0,point[0]-1:point[0]+1,point[1]-1:point[1]+1]=600\n",
    "    # print(last_steps.shape)\n",
    "    # print(dense_pred)\n",
    "    for i in range(mask.shape[0]):\n",
    "        # print(dense_pred[i].shape)\n",
    "\n",
    "        ax[i, 0].imshow(dense_pred[i].cpu())\n",
    "        ax[i, 0].set_title('Connectivity')\n",
    "        ax[i, 1].imshow(last_steps[i])\n",
    "        ax[i, 1].set_title('Heatmap')\n",
    "\n",
    "    \n",
    "visualize_connectivity(self.compensation,agg_feat['node_connectivity'],agg_feat['under_sampled_mask'],predictions)"
   ]
  },
  {
   "cell_type": "code",
   "execution_count": 10,
   "metadata": {},
   "outputs": [],
   "source": [
    "inputs= agg_feat\n",
    "self=trainer.model.decoder\n",
    "attn_output_weights = inputs['node_connectivity']\n",
    "init_states=inputs['initial_states']\n",
    "\n",
    "if 'under_sampled_mask' in inputs:\n",
    "    mask=inputs['under_sampled_mask']\n",
    "else:\n",
    "    mask=None\n",
    "if self.output_traj:\n",
    "    target_encodings = inputs['target_encodings']\n",
    "    map_feature=inputs['feature'].permute(0,2,3,1)"
   ]
  },
  {
   "cell_type": "code",
   "execution_count": 12,
   "metadata": {},
   "outputs": [],
   "source": [
    "torch.cuda.empty_cache()\n",
    "predictions=torch.empty([init_states.shape[0],0,init_states.shape[-1]],device=attn_output_weights.device)\n",
    "prev_states=init_states.unsqueeze(1).to_dense()\n",
    "for step in range(self.horizon):\n",
    "    predictions=torch.cat((predictions,torch.bmm(prev_states,attn_output_weights)),dim=1)\n",
    "    prev_states=predictions[:,step].unsqueeze(1)"
   ]
  },
  {
   "cell_type": "code",
   "execution_count": 14,
   "metadata": {},
   "outputs": [],
   "source": [
    "from models.decoders.ram_decoder import get_dense,get_index\n",
    "nodes_2D=get_index(predictions[:,-1].unsqueeze(1),mask,self.H,self.W)\n",
    "dense_pred=get_dense(predictions[:,-1].unsqueeze(1),nodes_2D,self.H,self.W)"
   ]
  },
  {
   "cell_type": "code",
   "execution_count": null,
   "metadata": {},
   "outputs": [],
   "source": [
    "traj_idx=0\n",
    "idx=5\n",
    "import matplotlib.pyplot as plt\n",
    "gt_map=predictions['pred'][:,-1].detach()\n",
    "mask_map=gt_map.clone()\n",
    "mask_map[predictions['mask'].view(gt_map.shape)]=0.005\n",
    "gt_map+=mask_map\n",
    "plt.imshow(gt_map[idx].squeeze(0).cpu())\n",
    "plt.show()\n"
   ]
  },
  {
   "cell_type": "code",
   "execution_count": null,
   "metadata": {},
   "outputs": [],
   "source": [
    "# print(predictions['pred'].shape)\n",
    "normalized_pred=predictions['pred']/(torch.max(predictions['pred'].detach(),dim=-1,keepdim=True)[0])\n",
    "print(torch.max(predictions['pred'],dim=-1,keepdim=True)[0])\n",
    "print(torch.max(normalized_pred,dim=-1,keepdim=True)[0])"
   ]
  },
  {
   "cell_type": "code",
   "execution_count": 60,
   "metadata": {},
   "outputs": [],
   "source": [
    "focal=trainer.losses[0]\n",
    "focal.horizon=12"
   ]
  },
  {
   "cell_type": "code",
   "execution_count": null,
   "metadata": {},
   "outputs": [],
   "source": [
    "traj_idx=0\n",
    "idx=0\n",
    "import matplotlib.pyplot as plt\n",
    "from models.decoders.ram_decoder import get_index,get_dense\n",
    "gt_map=trainer.losses[0].generate_gtmap(predictions['traj'][:,traj_idx].view(predictions['traj'].shape[0],-1,predictions['traj'].shape[-1]).clone().detach(),predictions['mask'],visualize=True)\n",
    "gt_map=torch.clamp(torch.sum(gt_map,dim=1,keepdim=True),0.0,1.0)\n",
    "mask_map=gt_map.clone()\n",
    "mask_map[predictions['mask'].view(gt_map.shape)]=0.005\n",
    "gt_map+=mask_map\n",
    "gt_map=gt_map.repeat(1,3,1,1)\n",
    "gt_map*=127\n",
    "endpoints=predictions['endpoints']\n",
    "for batch in range(gt_map.shape[0]):\n",
    "    for i,point in enumerate(endpoints[batch]):\n",
    "        if i== traj_idx:\n",
    "            x,y=point\n",
    "            gt_map[batch,-1,max(0,x-2):min(x+3,trainer.losses[0].H),max(0,y-2):min(trainer.losses[0].W,y+3)]=255\n",
    "            gt_map[batch,:-1,max(0,x-2):min(x+3,trainer.losses[0].H),max(0,y-2):min(trainer.losses[0].W,y+3)]=0\n",
    "        else:\n",
    "            x,y=point\n",
    "            gt_map[batch,0,max(0,x-1):min(x+1,trainer.losses[0].H),max(0,y-1):min(trainer.losses[0].W,y+1)]=255\n",
    "            gt_map[batch,1:,max(0,x-1):min(x+3,trainer.losses[0].H),max(0,y-1):min(trainer.losses[0].W,y+1)]=0\n",
    "\n",
    "gt_map=gt_map.permute(0,2,3,1)\n",
    "# normalize_factor,_=torch.max(dense_pred.view(dense_pred.shape[0],-1),dim=-1)\n",
    "plt.imshow(gt_map[idx].cpu())\n",
    "plt.show()\n",
    "# plt.imshow(mask[idx])\n",
    "# plt.show()\n",
    "# gt_map.shape"
   ]
  },
  {
   "cell_type": "code",
   "execution_count": 17,
   "metadata": {},
   "outputs": [
    {
     "name": "stderr",
     "output_type": "stream",
     "text": [
      "Clipping input data to the valid range for imshow with RGB data ([0..1] for floats or [0..255] for integers).\n"
     ]
    },
    {
     "data": {
      "image/png": "[encoded data removed]",
      "text/plain": [
       "<Figure size 720x720 with 1 Axes>"
      ]
     },
     "metadata": {},
     "output_type": "display_data"
    }
   ],
   "source": [
    "idx=1\n",
    "fde_sampler=trainer.model.decoder.endpoint_sampler\n",
    "endpoints,_ = fde_sampler(predictions['pred'])\n",
    "endpoints=endpoints.long()\n",
    "mask_map=predictions['mask'].unsqueeze(1).clone().detach().float()\n",
    "prob=predictions['pred'][:,-1].clone().detach().unsqueeze(1)*255\n",
    "heatmap=torch.cat((prob,torch.zeros_like(prob),mask_map*10),dim=1)\n",
    "origin=torch.round(trainer.losses[0].compensation).int()\n",
    "heatmap[:,:,origin[0]-2:origin[0]+2,origin[1]-2:origin[1]+2]=20\n",
    "for point in endpoints[idx]:\n",
    "    heatmap[:,:,point[0]-1:point[0]+2,point[1]-1:point[1]+2]=60\n",
    "plt.figure(figsize = (10,10))\n",
    "plt.imshow(heatmap[idx].permute(1,2,0).cpu())\n",
    "plt.show()"
   ]
  },
  {
   "cell_type": "code",
   "execution_count": 24,
   "metadata": {},
   "outputs": [
    {
     "data": {
      "image/png": "[encoded data removed]",
      "text/plain": [
       "<Figure size 432x288 with 1 Axes>"
      ]
     },
     "metadata": {},
     "output_type": "display_data"
    }
   ],
   "source": [
    "idx=0\n",
    "# traj_idx=0\n",
    "import matplotlib.pyplot as plt\n",
    "from models.decoders.ram_decoder import get_index,get_dense\n",
    "gt_map=trainer.losses[0].generate_gtmap(data['ground_truth']['traj'],predictions['mask'],visualize=True)\n",
    "gt_map=torch.sum(gt_map,dim=1,keepdim=True)\n",
    "mask_map=torch.zeros_like(gt_map)\n",
    "mask_map[predictions['mask'].view(gt_map.shape)]=1\n",
    "gt_map+=mask_map\n",
    "# gt_map=gt_map.permute(0,2,3,1)\n",
    "# normalize_factor,_=torch.max(dense_pred.view(dense_pred.shape[0],-1),dim=-1)\n",
    "plt.imshow(gt_map[idx].squeeze(0).cpu())\n",
    "plt.show()"
   ]
  },
  {
   "cell_type": "code",
   "execution_count": 15,
   "metadata": {},
   "outputs": [
    {
     "data": {
      "text/plain": [
       "device(type='cuda', index=0)"
      ]
     },
     "execution_count": 15,
     "metadata": {},
     "output_type": "execute_result"
    }
   ],
   "source": [
    "self=trainer.model.decoder\n",
    "trajs=predictions['traj']\n",
    "heatmaps=predictions['pred']\n",
    "mask=agg_feat['under_sampled_mask']\n",
    "shape=[mask.shape[0],self.horizon,self.H,self.W]\n",
    "swapped=torch.zeros_like(trajs)\n",
    "swapped[:,:,:,0],swapped[:,:,:,1]=-trajs[:,:,:,1],trajs[:,:,:,0]\n",
    "coord=torch.round(swapped/self.resolution+self.compensation.to(swapped.device))\n",
    "coord=torch.clamp(coord,0,shape[-1]).long()\n",
    "coord.device\n"
   ]
  },
  {
   "cell_type": "code",
   "execution_count": 16,
   "metadata": {},
   "outputs": [
    {
     "data": {
      "text/plain": [
       "device(type='cuda', index=0)"
      ]
     },
     "execution_count": 16,
     "metadata": {},
     "output_type": "execute_result"
    }
   ],
   "source": [
    "horizon=coord.shape[-2]\n",
    "B=coord.shape[0]\n",
    "x_coord,y_coord=torch.meshgrid(torch.arange(B,device=coord.device), \n",
    "                            torch.arange(horizon,device=coord.device))\n",
    "indices_front=torch.cat([x_coord.unsqueeze(-1),y_coord.unsqueeze(-1)],dim=-1).long().unsqueeze(1).repeat(1,coord.shape[1],1,1)\n",
    "\n",
    "# indices=torch.cat((indices_front,coord),dim=-1)\n",
    "indices_front.device"
   ]
  },
  {
   "cell_type": "code",
   "execution_count": 14,
   "metadata": {},
   "outputs": [
    {
     "data": {
      "text/plain": [
       "device(type='cpu')"
      ]
     },
     "execution_count": 14,
     "metadata": {},
     "output_type": "execute_result"
    }
   ],
   "source": [
    "indices=torch.cat((indices_front,coord),dim=-1).long()\n",
    "indices.device"
   ]
  },
  {
   "cell_type": "code",
   "execution_count": 17,
   "metadata": {},
   "outputs": [
    {
     "data": {
      "text/plain": [
       "device(type='cuda', index=0)"
      ]
     },
     "execution_count": 17,
     "metadata": {},
     "output_type": "execute_result"
    }
   ],
   "source": [
    "from models.decoders.ram_decoder import get_dense,get_index\n",
    "nodes_2D=get_index(heatmaps,mask,self.H,self.W)\n",
    "dense_pred=get_dense(heatmaps,nodes_2D,self.H,self.W)\n",
    "# dense_pred.device\n",
    "dense_pred.device"
   ]
  },
  {
   "cell_type": "code",
   "execution_count": null,
   "metadata": {},
   "outputs": [],
   "source": [
    "ind0=indices.view(-1,4)[:,0]\n",
    "ind1=indices.view(-1,4)[:,1]\n",
    "ind2=indices.view(-1,4)[:,2]\n",
    "ind3=indices.view(-1,4)[:,3]\n",
    "ind1\n"
   ]
  },
  {
   "cell_type": "code",
   "execution_count": 31,
   "metadata": {},
   "outputs": [],
   "source": [
    "probs=dense_pred[ind0,ind1,ind2,ind3].view(B,coord.shape[1],horizon).sum(-1)"
   ]
  },
  {
   "cell_type": "code",
   "execution_count": 35,
   "metadata": {},
   "outputs": [
    {
     "data": {
      "text/plain": [
       "torch.return_types.sort(\n",
       "values=tensor([[1.0372, 0.8492, 0.7616, 0.6335, 0.6223, 0.4670, 0.4462, 0.3702, 0.3455,\n",
       "         0.3272, 0.3265, 0.3232, 0.2768, 0.2766, 0.2643, 0.2563, 0.2272, 0.2249,\n",
       "         0.2210, 0.2205],\n",
       "        [0.3282, 0.1116, 0.0635, 0.0494, 0.0465, 0.0298, 0.0283, 0.0281, 0.0262,\n",
       "         0.0219, 0.0206, 0.0192, 0.0190, 0.0183, 0.0181, 0.0170, 0.0163, 0.0162,\n",
       "         0.0159, 0.0148]], grad_fn=<SortBackward>),\n",
       "indices=tensor([[ 5,  4,  6,  2,  0, 12,  1, 10,  9, 13,  3, 16, 11,  7, 17,  8, 18, 19,\n",
       "         14, 15],\n",
       "        [ 2,  0,  1,  4, 15, 13,  9,  6,  3, 17,  7, 19,  5,  8, 10, 11, 12, 14,\n",
       "         18, 16]]))"
      ]
     },
     "execution_count": 35,
     "metadata": {},
     "output_type": "execute_result"
    }
   ],
   "source": [
    "probs.sort(descending=True)"
   ]
  },
  {
   "cell_type": "code",
   "execution_count": 10,
   "metadata": {},
   "outputs": [
    {
     "data": {
      "text/plain": [
       "torch.Size([32, 34, 1])"
      ]
     },
     "execution_count": 10,
     "metadata": {},
     "output_type": "execute_result"
    }
   ],
   "source": [
    "predictions['yaw'].shape"
   ]
  },
  {
   "cell_type": "code",
   "execution_count": 25,
   "metadata": {},
   "outputs": [
    {
     "data": {
      "text/plain": [
       "dict_keys(['hist', 'future', 'time_query', 'map_info'])"
      ]
     },
     "execution_count": 25,
     "metadata": {},
     "output_type": "execute_result"
    }
   ],
   "source": [
    "encodings['target_agent_encoding'].keys()"
   ]
  },
  {
   "cell_type": "code",
   "execution_count": 10,
   "metadata": {},
   "outputs": [
    {
     "name": "stdout",
     "output_type": "stream",
     "text": [
      "-----------------------------  ------------  ------------  ------------  ------------  ------------  ------------  ------------  ------------  ------------  ------------  ------------  ------------  ------------  ------------  \n",
      "                         Name    Self CPU %      Self CPU   CPU total %     CPU total  CPU time avg     Self CUDA   Self CUDA %    CUDA total  CUDA time avg       CPU Mem  Self CPU Mem      CUDA Mem  Self CUDA Mem    # of Calls  \n",
      "-----------------------------  ------------  ------------  ------------  ------------  ------------  ------------  ------------  ------------  ------------  ------------  ------------  ------------  ------------  ------------  \n",
      "                  aten::index         4.18%     528.681us        15.50%       1.962ms     326.959us     605.183us         5.01%       1.964ms     327.339us           0 b           0 b       3.00 Kb      -4.00 Kb             6  \n",
      "             aten::index_put_         1.24%     157.422us        15.37%       1.945ms     324.207us     157.696us         1.31%       1.945ms     324.096us           0 b           0 b           0 b           0 b             6  \n",
      "       aten::_index_put_impl_         3.53%     447.167us        14.12%       1.788ms     297.970us     456.704us         3.78%       1.787ms     297.813us           0 b           0 b           0 b      -4.00 Kb             6  \n",
      "                 aten::repeat         3.60%     455.091us        11.47%       1.452ms     242.064us     558.432us         4.62%       1.444ms     240.736us           0 b           0 b      15.00 Kb           0 b             6  \n",
      "                aten::nonzero        12.71%       1.609ms        17.18%       2.175ms     181.239us       1.883ms        15.59%       2.173ms     181.077us           0 b           0 b       8.00 Kb           0 b            12  \n",
      "                    aten::pow         4.07%     515.684us         7.45%     942.566us     157.094us     636.927us         5.27%     940.033us     156.672us           0 b           0 b      15.00 Kb           0 b             6  \n",
      "                    aten::min         1.80%     228.264us         2.42%     306.609us     102.203us     306.176us         2.53%     306.176us     102.059us           0 b           0 b       3.00 Kb           0 b             3  \n",
      "                     aten::gt         3.35%     423.641us         6.75%     854.855us      71.238us     495.613us         4.10%     847.869us      70.656us           0 b           0 b      10.00 Kb           0 b            12  \n",
      "                    aten::mul         3.56%     450.266us         6.32%     800.413us      66.701us     800.769us         6.63%     800.769us      66.731us           0 b           0 b      16.00 Kb           0 b            12  \n",
      "                   aten::rsub         4.95%     627.079us         5.89%     746.031us      62.169us     743.418us         6.15%     743.418us      61.951us           0 b           0 b      22.00 Kb           0 b            12  \n",
      "-----------------------------  ------------  ------------  ------------  ------------  ------------  ------------  ------------  ------------  ------------  ------------  ------------  ------------  ------------  ------------  \n",
      "Self CPU time total: 12.658ms\n",
      "CUDA time total: 12.079ms\n",
      "\n"
     ]
    }
   ],
   "source": [
    "\n",
    "with profile( profile_memory=True, record_shapes=True, use_cuda=True) as prof:\n",
    "   focal=trainer.losses[0]\n",
    "   # loss=focal.compute({'pred':predictions,'mask':mask_map},gt_test)\n",
    "   loss_val=focal.compute(predictions,gt_test)\n",
    "   for loss in trainer.losses[1:]:\n",
    "      loss_val+=loss.compute(predictions,gt_test)\n",
    "   # loss+=trainer.losses[2].compute(predictions,gt_test)\n",
    "print(prof.key_averages().table(sort_by=\"cuda_time\", row_limit=10))"
   ]
  },
  {
   "cell_type": "code",
   "execution_count": 14,
   "metadata": {},
   "outputs": [],
   "source": [
    "ade=trainer.losses[1]\n",
    "loss=ade.compute(predictions,gt_test)"
   ]
  },
  {
   "cell_type": "code",
   "execution_count": 20,
   "metadata": {},
   "outputs": [
    {
     "data": {
      "text/plain": [
       "tensor([0.0286, 0.1353, 0.4111, 0.8007, 1.0000, 0.8007, 0.4111, 0.1353, 0.0286])"
      ]
     },
     "execution_count": 20,
     "metadata": {},
     "output_type": "execute_result"
    }
   ],
   "source": [
    "from math import exp\n",
    "window_size=9\n",
    "gauss = torch.Tensor([exp(-(x - window_size//2)**2/float(2*1.5**2)) for x in range(window_size)])\n",
    "gauss"
   ]
  },
  {
   "cell_type": "code",
   "execution_count": 26,
   "metadata": {},
   "outputs": [
    {
     "data": {
      "text/plain": [
       "tensor(39.9779, device='cuda:0', grad_fn=<MeanBackward0>)"
      ]
     },
     "execution_count": 26,
     "metadata": {},
     "output_type": "execute_result"
    }
   ],
   "source": [
    "ade.compute(predictions,gt_test)"
   ]
  },
  {
   "cell_type": "code",
   "execution_count": 12,
   "metadata": {},
   "outputs": [],
   "source": [
    "torch.cuda.empty_cache()"
   ]
  },
  {
   "cell_type": "code",
   "execution_count": 11,
   "metadata": {},
   "outputs": [
    {
     "name": "stdout",
     "output_type": "stream",
     "text": [
      "--------------------------------------------  ------------  ------------  ------------  ------------  ------------  ------------  ------------  ------------  ------------  ------------  ------------  ------------  ------------  ------------  \n",
      "                                        Name    Self CPU %      Self CPU   CPU total %     CPU total  CPU time avg     Self CUDA   Self CUDA %    CUDA total  CUDA time avg       CPU Mem  Self CPU Mem      CUDA Mem  Self CUDA Mem    # of Calls  \n",
      "--------------------------------------------  ------------  ------------  ------------  ------------  ------------  ------------  ------------  ------------  ------------  ------------  ------------  ------------  ------------  ------------  \n",
      "                            CudnnRnnBackward         0.21%     425.351us         9.60%      19.503ms       2.786ms     428.016us         0.21%      19.503ms       2.786ms           0 b           0 b       1.54 Mb    -233.50 Kb             7  \n",
      "                   aten::_cudnn_rnn_backward         6.69%      13.590ms         9.39%      19.078ms       2.725ms      15.125ms         7.43%      19.075ms       2.725ms           0 b      -1.69 Kb       1.77 Mb     -23.41 Mb             7  \n",
      "                               IndexBackward         0.19%     380.256us        15.70%      31.896ms       2.658ms     314.369us         0.15%      28.922ms       2.410ms           0 b           0 b       2.08 Mb           0 b            12  \n",
      "                              RepeatBackward         0.35%     710.102us         2.09%       4.255ms       2.127ms     722.906us         0.35%       4.254ms       2.127ms           0 b           0 b       8.00 Kb    -128.00 Kb             2  \n",
      "                      aten::_index_put_impl_         6.23%      12.665ms        15.46%      31.413ms       2.244ms      10.645ms         5.23%      28.642ms       2.046ms           0 b           0 b           0 b      -2.26 Mb            14  \n",
      "                                 AbsBackward         0.06%     115.469us         2.21%       4.493ms       1.498ms     115.708us         0.06%       4.494ms       1.498ms           0 b           0 b       5.50 Kb      -5.50 Kb             3  \n",
      "                                   aten::sgn         2.05%       4.159ms         4.09%       8.320ms       1.387ms       4.217ms         2.07%       8.325ms       1.388ms           0 b           0 b      11.00 Kb           0 b             6  \n",
      "                  PackPaddedSequenceBackward         1.14%       2.321ms         5.36%      10.889ms       1.361ms       2.321ms         1.14%      10.888ms       1.361ms           0 b           0 b       2.54 Mb           0 b             8  \n",
      "        aten::_pack_padded_sequence_backward         0.82%       1.665ms         4.22%       8.569ms       1.071ms       3.180ms         1.56%       8.567ms       1.071ms           0 b           0 b       2.54 Mb           0 b             8  \n",
      "                            IndexPutBackward         0.05%      93.581us         1.09%       2.210ms     736.684us      97.285us         0.05%       2.210ms     736.597us           0 b           0 b      12.00 Kb      -2.50 Kb             3  \n",
      "--------------------------------------------  ------------  ------------  ------------  ------------  ------------  ------------  ------------  ------------  ------------  ------------  ------------  ------------  ------------  ------------  \n",
      "Self CPU time total: 203.193ms\n",
      "CUDA time total: 203.638ms\n",
      "\n"
     ]
    }
   ],
   "source": [
    "torch.cuda.empty_cache()\n",
    "with profile( profile_memory=True, record_shapes=True, use_cuda=True) as prof:\n",
    "   loss_val.backward()\n",
    "print(prof.key_averages().table(sort_by=\"cuda_time\", row_limit=10))"
   ]
  },
  {
   "cell_type": "code",
   "execution_count": 12,
   "metadata": {},
   "outputs": [],
   "source": [
    "total_norm=0\n",
    "for p in trainer.model.encoder.a_n_att.parameters():\n",
    "    try:\n",
    "        # print(p.shape)\n",
    "        param_norm = p.grad.data.norm(2)\n",
    "        if torch.isnan(param_norm):\n",
    "            print(p.grad.data.shape)\n",
    "    except:\n",
    "        print('param_not_used')\n",
    "        # raise NotImplementedError()\n",
    "    total_norm += param_norm.item() ** 2\n",
    "total_norm = total_norm ** (1. / 2)"
   ]
  },
  {
   "cell_type": "code",
   "execution_count": 33,
   "metadata": {},
   "outputs": [
    {
     "data": {
      "text/plain": [
       "tensor([3181, 4249, 4796, 3145], device='cuda:0')"
      ]
     },
     "execution_count": 33,
     "metadata": {},
     "output_type": "execute_result"
    }
   ],
   "source": [
    "predictions['mask'].sum(-1)\n"
   ]
  },
  {
   "cell_type": "code",
   "execution_count": 34,
   "metadata": {},
   "outputs": [],
   "source": [
    "inputs = agg_feat\n",
    "attn_output_weights = inputs['node_connectivity']\n",
    "init_states=inputs['initial_states']\n",
    "\n",
    "\n",
    "mask=inputs['under_sampled_mask']\n",
    "target_encodings = inputs['target_encodings']\n",
    "map_feature=inputs['feature'].permute(0,2,3,1)"
   ]
  },
  {
   "cell_type": "code",
   "execution_count": 35,
   "metadata": {},
   "outputs": [],
   "source": [
    "torch.cuda.empty_cache()\n",
    "predictions=torch.empty([init_states.shape[0],0,init_states.shape[-1]],device=attn_output_weights.device)\n",
    "prev_states=init_states.unsqueeze(1).to_dense()\n",
    "\n",
    "for step in range(12):\n",
    "    predictions=torch.cat((predictions,torch.bmm(prev_states,attn_output_weights)),dim=1)\n",
    "    prev_states=predictions[:,step].unsqueeze(1)\n",
    "\n",
    "torch.cuda.empty_cache()"
   ]
  },
  {
   "cell_type": "code",
   "execution_count": 36,
   "metadata": {},
   "outputs": [],
   "source": [
    "map_extent= [-61, 61, -22, 100]\n",
    "from models.decoders.ram_decoder import get_dense,get_index\n",
    "nodes_2D=get_index(predictions[:,-1].unsqueeze(1),mask)\n",
    "dense_pred=get_dense(predictions[:,-1].unsqueeze(1),nodes_2D,122,122)\n",
    "endpoints,confidences = trainer.model.decoder.endpoint_sampler(dense_pred)\n",
    "endpoints=endpoints.long()\n",
    "concat_feature=torch.empty([0,12,90],device=attn_output_weights.device)\n",
    "x_coord,y_coord=torch.meshgrid(torch.arange(map_extent[-1],map_extent[-2],-1), ##### SHould be changed when image size changes\n",
    "                                torch.arange(map_extent[0],map_extent[1],1))\n",
    "indices=torch.cat([x_coord.unsqueeze(-1),y_coord.unsqueeze(-1)],dim=-1).to(attn_output_weights.device)\n",
    "for batch_idx in range(len(dense_pred)):\n",
    "    map_feat = (map_feature[batch_idx])[endpoints[batch_idx,:,0],endpoints[batch_idx,:,1]]\n",
    "    diff = indices[endpoints[batch_idx,:,0],endpoints[batch_idx,:,1]].float()\n",
    "\n",
    "    feature=torch.cat([map_feat,trainer.model.decoder.diff_encoder(diff),target_encodings[batch_idx].repeat(trainer.model.decoder.endpoint_sampler._n_targets,1)],dim=-1).unsqueeze(0)\n",
    "    concat_feature=torch.cat([concat_feature,feature],dim=0)"
   ]
  },
  {
   "cell_type": "code",
   "execution_count": null,
   "metadata": {},
   "outputs": [],
   "source": [
    "print(torch.cuda.memory_summary(0))"
   ]
  },
  {
   "cell_type": "code",
   "execution_count": null,
   "metadata": {},
   "outputs": [],
   "source": [
    "pred=predictions['pred']\n",
    "mask=predictions['mask']\n",
    "traj_gt = gt_test['traj']"
   ]
  },
  {
   "cell_type": "code",
   "execution_count": null,
   "metadata": {},
   "outputs": [],
   "source": [
    "import torch.nn.functional as F\n",
    "with profile( profile_memory=True, record_shapes=True) as prof:\n",
    "    swapped=torch.zeros_like(traj_gt).to(pred.device)\n",
    "    swapped[:,:,0],swapped[:,:,1]=-traj_gt[:,:,1],traj_gt[:,:,0]\n",
    "    coord=torch.round(swapped/trainer.losses[0].resolution+trainer.losses[0].compensation).int()\n",
    "    coord=torch.clamp(coord,0,122)\n",
    "    gt_map=torch.zeros([6,12,122,122],device=pred.device)\n",
    "    for batch in range(6):\n",
    "        for t in range(12):\n",
    "            x,y=coord[batch,t]\n",
    "            gt_map[batch,t,x,y]=1##Only one ground truth in each heatmap layer\n",
    "    gs_map=F.conv2d(gt_map, trainer.losses[0].window, padding = trainer.losses[0].window_size//2, groups = trainer.losses[0].horizon)\n",
    "print(prof.key_averages().table(sort_by=\"self_cuda_memory_usage\", row_limit=10))"
   ]
  },
  {
   "cell_type": "code",
   "execution_count": null,
   "metadata": {},
   "outputs": [],
   "source": [
    "with profile( profile_memory=True, record_shapes=True) as prof:\n",
    "    loss_mask = (reduced_gts == 1).float()\n",
    "    pred_heatmap = torch.clamp(pred, min=1e-4)\n",
    "print(prof.key_averages().table(sort_by=\"self_cuda_memory_usage\", row_limit=10))"
   ]
  },
  {
   "cell_type": "code",
   "execution_count": null,
   "metadata": {},
   "outputs": [],
   "source": [
    "with profile( profile_memory=True, record_shapes=True) as prof:\n",
    "    loss=-torch.sum(\n",
    "                    torch.pow(pred_heatmap - reduced_maps, 2) * (\n",
    "                    loss_mask * torch.log(pred_heatmap)\n",
    "                    +\n",
    "                    (1-loss_mask) * (torch.pow(1 - reduced_maps, 4) * torch.log(1 - pred_heatmap))\n",
    "                )\n",
    "            )\n",
    "    loss.backward()\n",
    "print(prof.key_averages().table(sort_by=\"self_cuda_memory_usage\", row_limit=10))"
   ]
  },
  {
   "cell_type": "code",
   "execution_count": null,
   "metadata": {},
   "outputs": [],
   "source": [
    "torch.cuda.empty_cache()\n",
    "with profile( profile_memory=True, record_shapes=True) as prof:\n",
    "    trainer.optimizer.step()\n",
    "print(prof.key_averages().table(sort_by=\"self_cuda_memory_usage\", row_limit=10))\n"
   ]
  },
  {
   "cell_type": "code",
   "execution_count": null,
   "metadata": {},
   "outputs": [],
   "source": [
    "with profile( profile_memory=True, record_shapes=True) as prof:\n",
    "    gs_map=gs_map.view([6,12,-1])\n",
    "    gt_map=gt_map.view([6,12,-1])\n",
    "    max_num=max(mask.sum(dim=1))\n",
    "    reduced_maps=[]\n",
    "    reduced_gts=[]\n",
    "    for i,batch in enumerate(gs_map):\n",
    "        reduced_map=batch[mask[i].repeat(12,1)].view(12,-1)\n",
    "        reduced_gt=gt_map[i][mask[i].repeat(12,1)].view(12,-1)\n",
    "        aug_map=torch.cat((reduced_map, torch.zeros(12,max_num - reduced_map.size(1),device=pred.device)), -1)\n",
    "        aug_gt=torch.cat((reduced_gt, torch.zeros(12,max_num - reduced_map.size(1),device=pred.device)), -1)\n",
    "        reduced_maps.append(aug_map.unsqueeze(0))\n",
    "        reduced_gts.append(aug_gt.unsqueeze(0))\n",
    "    reduced_maps=torch.cat(reduced_maps,dim=0).to(pred.device)\n",
    "    reduced_gts=torch.cat(reduced_gts,dim=0).to(pred.device)\n",
    "print(prof.key_averages().table(sort_by=\"self_cuda_memory_usage\", row_limit=10))"
   ]
  },
  {
   "cell_type": "code",
   "execution_count": null,
   "metadata": {},
   "outputs": [],
   "source": [
    "reduced_gts.sum()"
   ]
  },
  {
   "cell_type": "code",
   "execution_count": null,
   "metadata": {},
   "outputs": [],
   "source": [
    "def get_index(pred,mask):\n",
    "    x_coord,y_coord=torch.meshgrid(torch.arange(0,122,1),\n",
    "                                torch.arange(0,122,1))\n",
    "    nodes_candidates=torch.cat((x_coord.unsqueeze(0),y_coord.unsqueeze(0)),dim=0).view(2,-1).T\n",
    "    nodes_2D=torch.zeros([mask.shape[0],pred.shape[-1],2])\n",
    "    for i in range(mask.shape[0]):\n",
    "        nodes_batch=nodes_candidates[mask[i]]\n",
    "        nodes_2D[i,:nodes_batch.shape[0]]=nodes_batch\n",
    "    return nodes_2D.int().permute(0,2,1).to(pred.device)\n",
    "nodes_2D=get_index(pred,mask)\n",
    "nodes_2D.shape"
   ]
  },
  {
   "cell_type": "code",
   "execution_count": null,
   "metadata": {},
   "outputs": [],
   "source": [
    "def get_dense(pred,nodes_2D,H,W):\n",
    "    dense_rep=torch.empty(0,pred.shape[1],H,W,device=pred.device)\n",
    "    for batch in range(pred.shape[0]):\n",
    "        batch_heatmap=torch.empty(0,H,W,device=pred.device)\n",
    "        for step in range(pred.shape[1]):\n",
    "            heatmap=torch.sparse_coo_tensor(nodes_2D[batch],pred[batch,step],(122,122))\n",
    "            batch_heatmap=torch.cat((batch_heatmap,heatmap.to_dense().unsqueeze(0)),dim=0)\n",
    "        dense_rep=torch.cat((dense_rep,batch_heatmap.unsqueeze(0)),dim=0)\n",
    "    return dense_rep\n",
    "dense_rep=get_dense(pred,nodes_2D,122,122)"
   ]
  },
  {
   "cell_type": "code",
   "execution_count": null,
   "metadata": {},
   "outputs": [],
   "source": [
    "predictions['probs']=predictions['prob']"
   ]
  },
  {
   "cell_type": "code",
   "execution_count": null,
   "metadata": {},
   "outputs": [],
   "source": [
    "\n",
    "\n",
    "with profile( profile_memory=True, record_shapes=True) as prof:\n",
    "\n",
    "# loss=pred.sum()\n",
    "    loss=focal.compute(predictions,gt_test)\n",
    "    loss+=ade.compute(predictions,gt_test)\n",
    "    loss.backward()\n",
    "print(prof.key_averages().table(sort_by=\"self_cuda_memory_usage\", row_limit=10))"
   ]
  },
  {
   "cell_type": "code",
   "execution_count": null,
   "metadata": {},
   "outputs": [],
   "source": [
    "trainer.model.aggregator"
   ]
  },
  {
   "cell_type": "code",
   "execution_count": null,
   "metadata": {},
   "outputs": [],
   "source": [
    "pred = predictions['pred']\n",
    "mask_da = predictions['mask'].view(-1,pred.shape[-2],pred.shape[-1]).unsqueeze(1)\n",
    "ground_truth = gt_test\n",
    "traj_gt = ground_truth['traj'] if type(ground_truth) == dict else ground_truth\n",
    "true_heatmap,gs_map = focal.generate_gtmap(traj_gt,pred.shape)\n",
    "gs_map=gs_map*mask_da\n",
    "mask = (true_heatmap == 1).float()\n",
    "pred_heatmap = torch.clamp(pred, min=1e-4)"
   ]
  },
  {
   "cell_type": "code",
   "execution_count": null,
   "metadata": {},
   "outputs": [],
   "source": [
    "loss= focal()"
   ]
  },
  {
   "cell_type": "code",
   "execution_count": null,
   "metadata": {},
   "outputs": [],
   "source": [
    "loss.backward()"
   ]
  },
  {
   "cell_type": "code",
   "execution_count": null,
   "metadata": {},
   "outputs": [],
   "source": [
    "pred = predictions['pred']\n",
    "mask = predictions['mask'].view(-1,pred.shape[-2],pred.shape[-1]).unsqueeze(1)\n",
    "non_drivable_area_mask=~mask"
   ]
  },
  {
   "cell_type": "code",
   "execution_count": null,
   "metadata": {},
   "outputs": [],
   "source": [
    "import matplotlib.pyplot as plt\n",
    "plt.imshow(non_drivable_area_mask[0,0].cpu())\n",
    "plt.show()\n",
    "plt.imshow(torch.zeros_like(non_drivable_area_mask[0,0].cpu()))\n",
    "plt.show()"
   ]
  },
  {
   "cell_type": "code",
   "execution_count": null,
   "metadata": {},
   "outputs": [],
   "source": [
    "from nuscenes.prediction import PredictHelper\n",
    "from nuscenes.prediction.input_representation.static_layers import StaticLayerRasterizer\n",
    "from nuscenes.nuscenes import NuScenes\n",
    "map_extent=[ -50, 50, -20, 80 ]\n",
    "img_size=[400,400]\n",
    "resolution = (map_extent[1] - map_extent[0]) /  img_size[1]\n",
    "nusc = NuScenes(version='v1.0-trainval', dataroot=\"/home/stanliu/data/mnt/nuScenes/\", verbose=True)\n",
    "helper=PredictHelper(nusc)\n",
    "map_rasterizer = StaticLayerRasterizer(helper,\n",
    "                                        resolution=resolution,\n",
    "                                        meters_ahead=map_extent[3],\n",
    "                                        meters_behind=-map_extent[2],\n",
    "                                        meters_left=-map_extent[0],\n",
    "                                        meters_right=map_extent[1])"
   ]
  },
  {
   "cell_type": "code",
   "execution_count": null,
   "metadata": {},
   "outputs": [],
   "source": [
    "import torch\n",
    "target_agent_representation = data_test['target_agent_representation']\n",
    "surrounding_agent_representation = data_test['surrounding_agent_representation']\n",
    "map_representation = data_test['map_representation'][0]\n",
    "mask= data_test['map_representation'][1].type(torch.bool)\n",
    "mask.shape"
   ]
  },
  {
   "cell_type": "code",
   "execution_count": null,
   "metadata": {},
   "outputs": [],
   "source": [
    "idx=10\n",
    "import matplotlib.pyplot as plt\n",
    "import numpy as np\n",
    "\n",
    "plt.imshow(np.array(mask[idx]))\n",
    "plt.show()\n",
    "plt.imshow(np.array(map_representation[idx]).transpose(1,2,0))"
   ]
  },
  {
   "cell_type": "code",
   "execution_count": null,
   "metadata": {},
   "outputs": [],
   "source": [
    "from models.encoders.raster_encoder import *\n",
    "encoder=RasterEncoder(cfg['encoder_args'])\n",
    "# encodings=encoder.forward(data_test)"
   ]
  },
  {
   "cell_type": "code",
   "execution_count": null,
   "metadata": {},
   "outputs": [],
   "source": [
    "encodings['context_encoding'][\"combined\"].shape"
   ]
  },
  {
   "cell_type": "code",
   "execution_count": null,
   "metadata": {},
   "outputs": [],
   "source": [
    "test_tensor=torch.randn([32,20,100,100])\n",
    "test_walker=LocalWalk(radius=0.2)\n",
    "test_walker.forward(test_tensor,test_tensor).shape"
   ]
  },
  {
   "cell_type": "code",
   "execution_count": null,
   "metadata": {},
   "outputs": [],
   "source": [
    "from models.library.RasterSampler import *\n",
    "sampler=Sampler(cfg['train_set_args'],1)"
   ]
  },
  {
   "cell_type": "code",
   "execution_count": null,
   "metadata": {},
   "outputs": [],
   "source": [
    "fake_mask=torch.randn([32,488,488]).ge(0)\n",
    "nodes_2D=sampler.sample_goals().repeat(32,1,1).type(torch.float32)\n",
    "mask_under=(sampler.sample_mask(mask))\n",
    "attn_mask=~mask_under.unsqueeze(-1).repeat(2,1,256)\n",
    "print(attn_mask.shape)\n",
    "print(mask.shape)\n",
    "print(nodes_2D.shape)\n"
   ]
  },
  {
   "cell_type": "code",
   "execution_count": null,
   "metadata": {},
   "outputs": [],
   "source": [
    "import matplotlib.pyplot as plt\n",
    "plt.imshow(np.array(mask[0]))\n",
    "plt.show()\n",
    "plt.imshow(np.array(~mask_under[0].view(122,122)))\n",
    "plt.show()"
   ]
  },
  {
   "cell_type": "code",
   "execution_count": 2,
   "metadata": {},
   "outputs": [],
   "source": [
    "with open(\"configs/preprocess_nuscenes_occ.yml\", 'r') as yaml_file:\n",
    "    cfg = yaml.safe_load(yaml_file)"
   ]
  },
  {
   "cell_type": "code",
   "execution_count": 3,
   "metadata": {},
   "outputs": [
    {
     "name": "stdout",
     "output_type": "stream",
     "text": [
      "======\n",
      "Loading NuScenes tables for version v1.0-mini...\n",
      "Loading nuScenes-lidarseg...\n",
      "32 category,\n",
      "8 attribute,\n",
      "4 visibility,\n",
      "911 instance,\n",
      "12 sensor,\n",
      "120 calibrated_sensor,\n",
      "31206 ego_pose,\n",
      "8 log,\n",
      "10 scene,\n",
      "404 sample,\n",
      "31206 sample_data,\n",
      "18538 sample_annotation,\n",
      "4 map,\n",
      "404 lidarseg,\n",
      "Done loading in 0.895 seconds.\n",
      "======\n",
      "Reverse indexing ...\n",
      "Done reverse indexing in 0.2 seconds.\n",
      "======\n"
     ]
    }
   ],
   "source": [
    "from datasets.nuScenes.nuScenes_graphs_occ import NuScenesGraphs_OCC\n",
    "from nuscenes.nuscenes import NuScenes\n",
    "nusc = NuScenes(version='v1.0-mini', dataroot=\"/home/stanliu/data/mnt/nuScenes/\", verbose=True)\n"
   ]
  },
  {
   "cell_type": "code",
   "execution_count": 4,
   "metadata": {},
   "outputs": [],
   "source": [
    "from datasets.nuScenes.prediction import PredictHelper_occ\n",
    "helper=PredictHelper_occ(nusc)\n",
    "graph_extractor=NuScenesGraphs_OCC('extract_data','preprocess_graph_mini_test',cfg['train_set_args'],helper)"
   ]
  },
  {
   "cell_type": "code",
   "execution_count": 54,
   "metadata": {},
   "outputs": [
    {
     "name": "stdout",
     "output_type": "stream",
     "text": [
      "6.0\n",
      "19.5\n"
     ]
    },
    {
     "data": {
      "image/png": "[encoded data removed]",
      "text/plain": [
       "<Figure size 432x288 with 1 Axes>"
      ]
     },
     "metadata": {},
     "output_type": "display_data"
    }
   ],
   "source": [
    "self=graph_extractor\n",
    "future_lengths=[]\n",
    "for idx,token in enumerate(self.token_list):\n",
    "    future_lengths.append(len(self.get_target_agent_future(idx))*0.5)\n",
    "plt.hist(future_lengths,bins=35)\n",
    "print(min(future_lengths))\n",
    "print(max(future_lengths))"
   ]
  },
  {
   "cell_type": "code",
   "execution_count": 6,
   "metadata": {},
   "outputs": [
    {
     "name": "stdout",
     "output_type": "stream",
     "text": [
      "1.5\n",
      "16.0\n"
     ]
    },
    {
     "data": {
      "image/png": "[encoded data removed]",
      "text/plain": [
       "<Figure size 432x288 with 1 Axes>"
      ]
     },
     "metadata": {},
     "output_type": "display_data"
    }
   ],
   "source": [
    "plt.hist(graph_extractor.time_lengths,bins=50)\n",
    "print(min(graph_extractor.time_lengths))\n",
    "print(max(graph_extractor.time_lengths))"
   ]
  },
  {
   "cell_type": "code",
   "execution_count": 1,
   "metadata": {},
   "outputs": [],
   "source": [
    "import numpy as np\n",
    "from pyquaternion import Quaternion\n",
    "from nuscenes.eval.common.utils import quaternion_yaw, angle_diff\n",
    "from nuscenes.prediction.input_representation.static_layers import correct_yaw\n",
    "def get_surrounding_agent_representation(self, idx: int, time: float):\n",
    "        \"\"\"\n",
    "        Extracts surrounding agent representation\n",
    "        :param idx: data index\n",
    "        :return: ndarrays with surrounding pedestrian and vehicle track histories and masks for non-existent agents\n",
    "        \"\"\"\n",
    "\n",
    "        # Get vehicles and pedestrian histories for current sample\n",
    "        \n",
    "        vehicles = self.get_agents_of_type(idx, 'vehicle', time)\n",
    "        pedestrians = self.get_agents_of_type(idx, 'human', time)\n",
    "\n",
    "        # Discard poses outside map extent\n",
    "        vehicles = self.discard_poses_outside_extent(vehicles)\n",
    "        pedestrians = self.discard_poses_outside_extent(pedestrians)\n",
    "        return vehicles,pedestrians\n",
    "        # While running the dataset class in 'compute_stats' mode:\n",
    "        if self.mode == 'compute_stats':\n",
    "            return len(vehicles), len(pedestrians)\n",
    "\n",
    "        # Convert to fixed size arrays for batching\n",
    "        if self.use_home:\n",
    "            vehicles = self.list_to_tensor(vehicles, self.max_vehicles, int(self.t_h * 2 + 1), 5,True)\n",
    "            pedestrians = self.list_to_tensor(pedestrians, self.max_pedestrians, int(self.t_h * 2 + 1), 5,True)\n",
    "\n",
    "            surrounding_agent_representation = {\n",
    "                'vehicles': vehicles,\n",
    "                'pedestrians': pedestrians\n",
    "            }\n",
    "        else:\n",
    "            vehicles, vehicle_masks = self.list_to_tensor(vehicles, self.max_vehicles, int(self.t_f * 2 + 1), 4,False)\n",
    "            pedestrians, pedestrian_masks = self.list_to_tensor(pedestrians, self.max_pedestrians, int(self.t_f * 2 + 1), 4,False)\n",
    "\n",
    "            surrounding_agent_representation = {\n",
    "                'vehicles': vehicles,\n",
    "                'vehicle_masks': vehicle_masks,\n",
    "                'pedestrians': pedestrians,\n",
    "                'pedestrian_masks': pedestrian_masks\n",
    "            }\n",
    "        if self.use_raster:\n",
    "            i_t, s_t = self.token_list[idx].split(\"_\")\n",
    "            img = self.agent_rasterizer.make_representation(i_t, s_t)\n",
    "            img = np.moveaxis(img, -1, 0)\n",
    "            img = img.astype(float) / 255\n",
    "            surrounding_agent_representation['image']=img\n",
    "\n",
    "        return surrounding_agent_representation"
   ]
  },
  {
   "cell_type": "code",
   "execution_count": 71,
   "metadata": {},
   "outputs": [],
   "source": [
    "    def get_target_agent_representation(self, idx: int, time: float) :\n",
    "        \"\"\"\n",
    "        Extracts target agent representation\n",
    "        :param idx: data index\n",
    "        :return hist: track history for target agent, shape: [t_h * 2, 5]\n",
    "        \"\"\"\n",
    "        i_t, s_t = self.token_list[idx].split(\"_\")\n",
    "\n",
    "        # x, y co-ordinates in agent's frame of reference\n",
    "        coords,global_yaw,time_past = self.helper.get_past_for_agent(i_t, s_t, seconds=self.t_h, in_agent_frame=False,add_yaw_and_time=True)\n",
    "        origin = self.get_target_agent_global_pose(idx)\n",
    "        past_hist=np.zeros([1,4])\n",
    "        for xy,r,t in zip(coords,global_yaw,time_past):\n",
    "            local_pose = self.global_to_local(origin, (xy[0], xy[1], quaternion_yaw(Quaternion(r))))\n",
    "            past_hist=np.concatenate((past_hist,np.asarray([local_pose.__add__((t,))])),0)\n",
    "        # Zero pad for track histories shorter than t_h\n",
    "        hist=[past_hist[::-1]]\n",
    "        \n",
    "        # Get future information\n",
    "        coords_fut,global_yaw_fut,time_fut = self.helper.get_future_for_agent(i_t, s_t, seconds=self.t_h+time, in_agent_frame=False,add_yaw_and_time=True)\n",
    "        sep_idx= np.searchsorted(time_fut, time-0.1)\n",
    "        future_rec=np.empty([0,4])\n",
    "        for xy,r,t in zip(coords_fut[sep_idx:],global_yaw_fut[sep_idx:],time_fut[sep_idx:]):\n",
    "            local_pose = self.global_to_local(origin, (xy[0], xy[1], quaternion_yaw(Quaternion(r))))\n",
    "            future_rec=np.concatenate((future_rec,np.asarray([local_pose.__add__((t,))])),0)\n",
    "        future=[future_rec[::-1]]\n",
    "        \n",
    "        gt_poses=np.empty([0,3])\n",
    "        time_query=[]\n",
    "        for xy,r,t in zip(coords_fut[:sep_idx],global_yaw_fut[:sep_idx],time_fut[:sep_idx]):\n",
    "            local_pose = np.asarray([self.global_to_local(origin, (xy[0], xy[1], quaternion_yaw(Quaternion(r))))])\n",
    "            gt_poses= np.concatenate((gt_poses,local_pose),0)\n",
    "            time_query.append([np.array([t,t/time])])\n",
    "        time_query=np.concatenate(time_query,axis=0)\n",
    "        hist, hist_masks = self.list_to_tensor(hist, 1, self.t_h * 2 + 1, 4,False)\n",
    "        future, future_masks = self.list_to_tensor(future, 1, self.t_h * 2 + 1, 4,False)\n",
    "        # gt_traj=np.flip(gt_coords,0)\n",
    "        history={'traj':np.squeeze(hist,0),'mask':np.squeeze(hist_masks,0)}\n",
    "        future={'traj':np.squeeze(future,0),'mask':np.squeeze(future_masks,0)}\n",
    "        target_representation={'history':history,'future':future,'time_query':time_query}\n",
    "        return target_representation,gt_poses"
   ]
  },
  {
   "cell_type": "code",
   "execution_count": 5,
   "metadata": {},
   "outputs": [],
   "source": [
    "data,ground_truth=graph_extractor.get_inputs(0)"
   ]
  },
  {
   "cell_type": "code",
   "execution_count": 10,
   "metadata": {},
   "outputs": [
    {
     "data": {
      "text/plain": [
       "dict_keys(['lane_node_feats', 'lane_node_masks', 's_next', 'edge_type', 'lane_ctrs'])"
      ]
     },
     "execution_count": 10,
     "metadata": {},
     "output_type": "execute_result"
    }
   ],
   "source": [
    "data['map_representation'].keys()"
   ]
  },
  {
   "cell_type": "code",
   "execution_count": 39,
   "metadata": {},
   "outputs": [],
   "source": [
    "idx=0\n",
    "i_t, s_t = graph_extractor.token_list[idx].split(\"_\")\n",
    "map_name = graph_extractor.helper.get_map_name_from_sample_token(s_t)\n",
    "map_api = graph_extractor.maps[map_name]\n",
    "\n",
    "# Get agent representation in global co-ordinates\n",
    "global_pose = graph_extractor.get_target_agent_global_pose(idx)\n",
    "\n",
    "# Get lanes around agent within map_extent\n",
    "lanes = graph_extractor.get_lanes_around_agent(global_pose, map_api)\n",
    "\n",
    "# Get relevant polygon layers from the map_api\n",
    "polygons = graph_extractor.get_polygons_around_agent(global_pose, map_api)\n",
    "\n",
    "# Get vectorized representation of lanes\n",
    "lane_node_feats, lane_ids = graph_extractor.get_lane_node_feats(global_pose, lanes, polygons)\n"
   ]
  },
  {
   "cell_type": "code",
   "execution_count": 43,
   "metadata": {},
   "outputs": [
    {
     "data": {
      "text/plain": [
       "95"
      ]
     },
     "execution_count": 43,
     "metadata": {},
     "output_type": "execute_result"
    }
   ],
   "source": [
    "len(lane_node_feats)"
   ]
  },
  {
   "cell_type": "code",
   "execution_count": 42,
   "metadata": {},
   "outputs": [],
   "source": [
    "lane_node_feats, lane_ids = graph_extractor.discard_poses_outside_extent(lane_node_feats, lane_ids)"
   ]
  },
  {
   "cell_type": "code",
   "execution_count": 30,
   "metadata": {},
   "outputs": [],
   "source": [
    "e_succ = graph_extractor.get_successor_edges(lane_ids, map_api)\n",
    "e_prox = graph_extractor.get_proximal_edges(lane_node_feats, e_succ)"
   ]
  },
  {
   "cell_type": "code",
   "execution_count": 50,
   "metadata": {},
   "outputs": [
    {
     "data": {
      "text/plain": [
       "(6, 6)"
      ]
     },
     "execution_count": 50,
     "metadata": {},
     "output_type": "execute_result"
    }
   ],
   "source": [
    "lane_node_feats = graph_extractor.add_boundary_flag(e_succ, lane_node_feats)\n",
    "lane_node_feats[0].shape"
   ]
  },
  {
   "cell_type": "code",
   "execution_count": 36,
   "metadata": {},
   "outputs": [],
   "source": [
    "\n",
    "num_nbrs = [len(e_succ[i]) + len(e_prox[i]) for i in range(len(e_succ))]\n",
    "max_nbrs = max(num_nbrs) if len(num_nbrs) > 0 else 0\n",
    "num_nodes = len(lane_node_feats)\n"
   ]
  },
  {
   "cell_type": "code",
   "execution_count": 37,
   "metadata": {},
   "outputs": [
    {
     "name": "stdout",
     "output_type": "stream",
     "text": [
      "num_nbrs [6, 1, 1, 5, 7, 6, 3, 2, 4, 3, 4, 2, 1, 2, 2, 5, 3, 5, 2, 3, 1, 4, 6, 4, 4, 2, 3, 5, 7, 4, 5, 3, 4, 6, 4, 4, 2, 3, 4, 4, 5, 8, 5, 3, 7, 4, 6, 5, 4, 2, 3, 5, 7, 6, 6, 2, 4, 5, 5, 3, 5, 7, 5, 3, 5, 4, 2, 3, 7, 5, 5, 4, 1, 4, 2, 5, 4, 6, 7, 5, 3, 5, 2, 2, 4, 5, 3, 6, 5, 4, 5, 9, 4, 6, 3]\n",
      "max_nbrs 9\n",
      "num_nodes 172\n"
     ]
    }
   ],
   "source": [
    "print('num_nbrs',(num_nbrs))\n",
    "print('max_nbrs',max_nbrs)\n",
    "print('num_nodes',num_nodes)"
   ]
  },
  {
   "cell_type": "code",
   "execution_count": null,
   "metadata": {},
   "outputs": [],
   "source": [
    "s_next, edge_type = graph_extractor.get_edge_lookup(e_succ, e_prox)"
   ]
  },
  {
   "cell_type": "code",
   "execution_count": null,
   "metadata": {},
   "outputs": [],
   "source": [
    "from numpy import linalg as LA\n",
    "lengths=[]\n",
    "segment_lengths=[]\n",
    "for idx in range(len(lane_node_feats)):\n",
    "    lengths.append(LA.norm(lane_node_feats[idx][1:,:2]-lane_node_feats[idx][:-1,:2],axis=1).sum())\n",
    "    segment_lengths.append(LA.norm(lane_node_feats[idx][1:,:2]-lane_node_feats[idx][:-1,:2],axis=1)[0])\n",
    "print(lengths)\n",
    "print(segment_lengths)"
   ]
  },
  {
   "cell_type": "code",
   "execution_count": 48,
   "metadata": {},
   "outputs": [
    {
     "data": {
      "text/plain": [
       "array([[-1.42395266e+00,  5.90538053e+01,  5.70842960e-02,\n",
       "         0.00000000e+00,  0.00000000e+00],\n",
       "       [-1.47032578e+00,  5.98723220e+01,  5.53921665e-02,\n",
       "         0.00000000e+00,  0.00000000e+00],\n",
       "       [-1.51451804e+00,  6.06909591e+01,  5.24686033e-02,\n",
       "         0.00000000e+00,  0.00000000e+00],\n",
       "       [-1.55631679e+00,  6.15097219e+01,  4.95450402e-02,\n",
       "         0.00000000e+00,  0.00000000e+00],\n",
       "       [-1.59572166e+00,  6.23286035e+01,  4.66214771e-02,\n",
       "         0.00000000e+00,  0.00000000e+00],\n",
       "       [-1.63273230e+00,  6.31475967e+01,  4.36979139e-02,\n",
       "         0.00000000e+00,  0.00000000e+00]])"
      ]
     },
     "execution_count": 48,
     "metadata": {},
     "output_type": "execute_result"
    }
   ],
   "source": [
    "lane_node_feats[0]"
   ]
  },
  {
   "cell_type": "code",
   "execution_count": 20,
   "metadata": {},
   "outputs": [
    {
     "data": {
      "text/plain": [
       "<matplotlib.collections.PathCollection at 0x7f600f38aad0>"
      ]
     },
     "execution_count": 20,
     "metadata": {},
     "output_type": "execute_result"
    },
    {
     "data": {
      "image/png": "[encoded data removed]",
      "text/plain": [
       "<Figure size 432x288 with 1 Axes>"
      ]
     },
     "metadata": {},
     "output_type": "display_data"
    }
   ],
   "source": [
    "import numpy as np\n",
    "batch=0\n",
    "prev_feat=np.empty([0,6])\n",
    "for idx in range(lane_node_feats.shape[1]):\n",
    "    feat=lane_node_feats[batch,idx].cpu()\n",
    "    prev_feat=np.r_[prev_feat,feat]\n",
    "\n",
    "import matplotlib.pyplot as plt\n",
    "x=prev_feat[:,0]\n",
    "y=prev_feat[:,1]\n",
    "plt.scatter(x,y,s=2)\n",
    "\n",
    "motion=np.array(concat[batch].cpu())\n",
    "\n",
    "x=motion[:,0]\n",
    "y=motion[:,1]\n",
    "plt.scatter(x,y,s=3,color='r')\n"
   ]
  },
  {
   "cell_type": "code",
   "execution_count": 14,
   "metadata": {},
   "outputs": [
    {
     "data": {
      "text/plain": [
       "(218, 20, 6)"
      ]
     },
     "execution_count": 14,
     "metadata": {},
     "output_type": "execute_result"
    }
   ],
   "source": [
    "data['map_representation']['lane_node_feats'].shape"
   ]
  },
  {
   "cell_type": "code",
   "execution_count": 32,
   "metadata": {},
   "outputs": [
    {
     "data": {
      "text/plain": [
       "<matplotlib.collections.PathCollection at 0x7f6008391dd0>"
      ]
     },
     "execution_count": 32,
     "metadata": {},
     "output_type": "execute_result"
    },
    {
     "data": {
      "image/png": "[encoded data removed]",
      "text/plain": [
       "<Figure size 432x288 with 1 Axes>"
      ]
     },
     "metadata": {},
     "output_type": "display_data"
    }
   ],
   "source": [
    "x,y=data_test['map_representation']['lane_node_feats'][batch,:,:,0].flatten(),data_test['map_representation']['lane_node_feats'][batch,:,:,1].flatten()\n",
    "plt.scatter(x.cpu(),y.cpu(),s=2,color='r')\n",
    "\n",
    "\n",
    "x,y=data_test['map_representation']['lane_ctrs'][batch,:,0],data_test['map_representation']['lane_ctrs'][batch,:,1]\n",
    "plt.scatter(x.cpu(),y.cpu(),s=3,color='g')"
   ]
  },
  {
   "cell_type": "code",
   "execution_count": 31,
   "metadata": {},
   "outputs": [
    {
     "data": {
      "text/plain": [
       "torch.Size([36, 296, 2])"
      ]
     },
     "execution_count": 31,
     "metadata": {},
     "output_type": "execute_result"
    }
   ],
   "source": [
    "data_test['map_representation']['lane_ctrs'].shape"
   ]
  },
  {
   "cell_type": "code",
   "execution_count": 15,
   "metadata": {},
   "outputs": [
    {
     "data": {
      "text/plain": [
       "tensor([[[  85.0252, -107.9808,    0.6942,   -2.0000],\n",
       "         [  80.0219, -102.3110,    0.6983,   -1.5002],\n",
       "         [  75.0120,  -96.6339,    0.7025,   -0.9997],\n",
       "         [  70.0941,  -90.8804,    0.7066,   -0.4993],\n",
       "         [  65.2459,  -84.9334,   -0.7939,    0.0000]],\n",
       "\n",
       "        [[  -6.5201,   -7.4377,   -1.2864,   -1.9486],\n",
       "         [  -5.1718,   -6.9618,   -1.2428,   -1.4487],\n",
       "         [  -3.9417,   -6.3271,   -1.1338,   -0.9489],\n",
       "         [  -2.9003,   -5.6441,   -1.0357,   -0.4993],\n",
       "         [  -1.8284,   -4.7707,    1.6753,    0.0000]],\n",
       "\n",
       "        [[  30.9018,  -21.8958,    1.8666,   -1.8989],\n",
       "         [  29.4595,  -22.3762,    1.8666,   -1.3990],\n",
       "         [  28.0172,  -22.8566,    1.8666,   -0.8991],\n",
       "         [  26.5746,  -23.3356,    1.8666,   -0.3992],\n",
       "         [  25.4232,  -23.7192,   -3.0866,    0.0000]],\n",
       "\n",
       "        [[ -25.7863,  -28.0576,   -0.7324,   -0.4999],\n",
       "         [ -23.0704,  -25.2717,    0.6801,    0.0000],\n",
       "         [   0.0000,    0.0000,    0.0000,    0.0000],\n",
       "         [   0.0000,    0.0000,    0.0000,    0.0000],\n",
       "         [   0.0000,    0.0000,    0.0000,    0.0000]]], device='cuda:0')"
      ]
     },
     "execution_count": 15,
     "metadata": {},
     "output_type": "execute_result"
    }
   ],
   "source": [
    "hist\n"
   ]
  },
  {
   "cell_type": "code",
   "execution_count": 16,
   "metadata": {},
   "outputs": [
    {
     "data": {
      "text/plain": [
       "tensor([[[-8.2116e+01,  1.0817e+02,  6.3683e-01,  1.6500e+01],\n",
       "         [-7.7983e+01,  1.0231e+02,  6.3683e-01,  1.6000e+01],\n",
       "         [-7.3736e+01,  9.6514e+01,  6.3683e-01,  1.5500e+01],\n",
       "         [-6.5246e+01,  8.4933e+01,  6.3683e-01,  1.4501e+01],\n",
       "         [ 0.0000e+00,  0.0000e+00,  0.0000e+00,  0.0000e+00]],\n",
       "\n",
       "        [[ 2.5305e+00,  1.2026e+01, -9.0900e-02,  4.5487e+00],\n",
       "         [ 2.3673e+00,  9.6022e+00, -1.1998e-01,  4.0489e+00],\n",
       "         [ 2.1331e+00,  7.1842e+00, -1.4906e-01,  3.5489e+00],\n",
       "         [ 1.8284e+00,  4.7707e+00, -1.7817e-01,  3.0485e+00],\n",
       "         [ 0.0000e+00,  0.0000e+00,  0.0000e+00,  0.0000e+00]],\n",
       "\n",
       "        [[-3.4701e+01,  3.5543e+01,  6.9020e-01,  1.3948e+01],\n",
       "         [-2.5423e+01,  2.3719e+01,  6.4660e-01,  1.2449e+01],\n",
       "         [ 0.0000e+00,  0.0000e+00,  0.0000e+00,  0.0000e+00],\n",
       "         [ 0.0000e+00,  0.0000e+00,  0.0000e+00,  0.0000e+00],\n",
       "         [ 0.0000e+00,  0.0000e+00,  0.0000e+00,  0.0000e+00]],\n",
       "\n",
       "        [[ 2.6807e+01,  2.8840e+01, -7.8479e-01,  1.1502e+01],\n",
       "         [ 2.5805e+01,  2.7883e+01, -7.8479e-01,  1.0951e+01],\n",
       "         [ 2.4894e+01,  2.7013e+01, -7.8479e-01,  1.0451e+01],\n",
       "         [ 2.3983e+01,  2.6142e+01, -7.8479e-01,  9.9516e+00],\n",
       "         [ 2.3070e+01,  2.5272e+01, -7.8479e-01,  9.4512e+00]]],\n",
       "       device='cuda:0')"
      ]
     },
     "execution_count": 16,
     "metadata": {},
     "output_type": "execute_result"
    }
   ],
   "source": [
    "future"
   ]
  }
 ],
 "metadata": {
  "kernelspec": {
   "display_name": "Python 3.7.13 ('pgp')",
   "language": "python",
   "name": "python3"
  },
  "language_info": {
   "codemirror_mode": {
    "name": "ipython",
    "version": 3
   },
   "file_extension": ".py",
   "mimetype": "text/x-python",
   "name": "python",
   "nbconvert_exporter": "python",
   "pygments_lexer": "ipython3",
   "version": "3.7.15"
  },
  "orig_nbformat": 4,
  "vscode": {
   "interpreter": {
    "hash": "593542b65644041049b318720dfeebe70f9074a000f082b969de259755a1a643"
   }
  }
 },
 "nbformat": 4,
 "nbformat_minor": 2
}
